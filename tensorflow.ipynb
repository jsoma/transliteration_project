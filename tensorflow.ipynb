{
 "cells": [
  {
   "cell_type": "code",
   "execution_count": 49,
   "metadata": {
    "colab": {},
    "colab_type": "code",
    "id": "ORy8sSAawbp-"
   },
   "outputs": [],
   "source": [
    "import tensorflow as tf\n",
    "\n",
    "import numpy as np\n",
    "import os\n",
    "import time"
   ]
  },
  {
   "cell_type": "code",
   "execution_count": 113,
   "metadata": {
    "colab": {},
    "colab_type": "code",
    "id": "f_CqDe3Z1VO_"
   },
   "outputs": [
    {
     "data": {
      "text/plain": [
       "{'ሀ': {'ha', 'he'},\n",
       " 'ሄ': {'he'},\n",
       " 'ህ': {'h', 'he', 'hi'},\n",
       " 'ሐ': {'ha', 'he'},\n",
       " 'ሔ': {'he'},\n",
       " 'ሕ': {'h', 'he', 'hi'},\n",
       " 'ኄ': {\"'he\", 'he'},\n",
       " 'ኅ': {\"'h\", 'he', 'hi'},\n",
       " 'ኼ': {'', 'he', 'hye', 'ke', 'khe', 'xe'},\n",
       " 'ⷔ': {'', 'he', 'xe'},\n",
       " 'ⷕ': {'', 'he', 'x'},\n",
       " 'ሃ': {'ha'},\n",
       " 'ሓ': {'ha'},\n",
       " 'ኀ': {\"'he\", 'ha'},\n",
       " 'ኃ': {\"'ha\", 'ha'},\n",
       " 'ኸ': {'', 'ha', 'ka', 'ke', 'kha', 'xa'},\n",
       " 'ኻ': {'', 'ha', 'ka', 'kha', 'xa'},\n",
       " 'ⷐ': {'', 'ha', 'xe'},\n",
       " 'ⷓ': {'', 'ha', 'xa'},\n",
       " 'ሁ': {'hu'},\n",
       " 'ሑ': {'hu'},\n",
       " 'ኁ': {\"'hu\", 'hu'},\n",
       " 'ኹ': {'', 'hu', 'khu', 'ku', 'xu'},\n",
       " 'ⷑ': {'', 'hu', 'xu'},\n",
       " 'ሂ': {'hi'},\n",
       " 'ሒ': {'hi'},\n",
       " 'ኂ': {\"'hi\", 'hi'},\n",
       " 'ኺ': {'', 'hi', 'khi', 'ki', 'xi'},\n",
       " 'ኽ': {'', 'hi', 'k', 'ke', 'khe'},\n",
       " 'ⷒ': {'', 'hi', 'xi'},\n",
       " 'ሆ': {'ho', 'hwo'},\n",
       " 'ሖ': {'ho', 'hwo'},\n",
       " 'ኆ': {\"'ho\", 'ho', 'hwo'},\n",
       " 'ኾ': {'', 'ho', 'hwo', 'kho', 'ko', 'xo'},\n",
       " 'ⷖ': {'', 'ho', 'xo'},\n",
       " 'ለ': {'la', 'le'},\n",
       " 'ሌ': {'le', 'lye'},\n",
       " 'ል': {'l', 'le', 'li'},\n",
       " 'ላ': {'la'},\n",
       " 'ሉ': {'lu'},\n",
       " 'ሊ': {'li'},\n",
       " 'ሎ': {'lo', 'lwo'},\n",
       " 'ሏ': {'', 'lwa'},\n",
       " 'ሗ': {'', 'hwa'},\n",
       " 'ᎀ': {'', 'mwa', 'mwe'},\n",
       " 'ᎁ': {'', 'mwi'},\n",
       " 'ሟ': {'', 'mwa'},\n",
       " 'ᎂ': {'', 'mwe'},\n",
       " 'ᎃ': {'', 'mw', 'mwe'},\n",
       " 'ሧ': {'', \"'swa\", 'swa'},\n",
       " 'ሯ': {'', 'rwa'},\n",
       " 'ሷ': {'', 'swa'},\n",
       " 'ሸ': {'', 'cha', 'sa', 'sha', 'xe'},\n",
       " 'ሹ': {'', 'chu', 'shu', 'su', 'xu'},\n",
       " 'ሺ': {'', 'chi', 'shi', 'si', 'xi'},\n",
       " 'ሻ': {'', 'cha', 'sa', 'sha', 'xa'},\n",
       " 'ሼ': {'', 'che', 'se', 'she', 'xe'},\n",
       " 'ሽ': {'', 'che', 'se', 'shi', 'si', 'x'},\n",
       " 'ሾ': {'', 'cho', 'sho', 'so', 'swo', 'xo'},\n",
       " 'ሿ': {'', 'shwa', 'swa', 'xwa'},\n",
       " 'ቇ': {''},\n",
       " 'ⷀ': {'', \"'qe\", 'qa'},\n",
       " 'ⷁ': {'', \"'qu\", 'qu'},\n",
       " 'ⷂ': {'', \"'qi\", 'qi'},\n",
       " 'ⷃ': {'', \"'qa\", 'qa'},\n",
       " 'ⷄ': {'', \"'qe\", 'qe'},\n",
       " 'ⷅ': {'', \"'q\", 'qe'},\n",
       " 'ⷆ': {'', \"'qo\", 'qo'},\n",
       " 'ቐ': {'', 'qa', 'qe'},\n",
       " 'ቑ': {'', 'qi', 'qu'},\n",
       " 'ቒ': {'', 'qa', 'qi'},\n",
       " 'ቓ': {'', 'qa'},\n",
       " 'ቔ': {'', 'qe'},\n",
       " 'ቕ': {'', 'q', 'qe', 'qo'},\n",
       " 'ቖ': {'', 'qo'},\n",
       " 'ቘ': {'', 'qwa', 'qwe'},\n",
       " 'ቚ': {'', 'qwi'},\n",
       " 'ቛ': {'', 'qwa'},\n",
       " 'ቜ': {'', 'qwe'},\n",
       " 'ቝ': {'', 'qw', 'qwe'},\n",
       " 'ᎄ': {'', 'bwa', 'bwe'},\n",
       " 'ᎅ': {'', 'bwi'},\n",
       " 'ቧ': {'', 'bwa'},\n",
       " 'ᎆ': {'', 'bwe'},\n",
       " 'ᎇ': {'', 'bw', 'bwe'},\n",
       " 'ቨ': {'', 'va', 've'},\n",
       " 'ቩ': {'', 'vu'},\n",
       " 'ቪ': {'', 'vi'},\n",
       " 'ቫ': {'', 'va'},\n",
       " 'ቬ': {'', 've'},\n",
       " 'ቭ': {'', 'v', 've', 'vi'},\n",
       " 'ቮ': {'', 'vo'},\n",
       " 'ቯ': {'', 'vwa'},\n",
       " 'ቷ': {'', 'twa'},\n",
       " 'ቸ': {'', 'ca', 'ce', 'cha', 'tcha'},\n",
       " 'ቹ': {'', 'chu', 'cu', 'tchu'},\n",
       " 'ቺ': {'', 'chi', 'ci', 'tchi'},\n",
       " 'ቻ': {'', 'ca', 'cha', 'tcha'},\n",
       " 'ቼ': {'', 'ce', 'che', 'tche'},\n",
       " 'ች': {'', 'c', 'ce', 'chi', 'ci', 'tche'},\n",
       " 'ቾ': {'', 'cho', 'co', 'cwo', 'tcho'},\n",
       " 'ቿ': {'', 'chwa', 'cwa'},\n",
       " 'ኗ': {'', 'nwa'},\n",
       " 'ኘ': {'', 'gna', 'na', 'ne'},\n",
       " 'ኙ': {'', 'gnu', 'nu'},\n",
       " 'ኚ': {'', 'gni', 'ni'},\n",
       " 'ኛ': {'', 'gna', 'na'},\n",
       " 'ኜ': {'', 'gne', 'ne'},\n",
       " 'ኝ': {'', 'gne', 'n', 'ne', 'ni'},\n",
       " 'ኞ': {'', 'gno', 'no', 'nwo'},\n",
       " 'ኟ': {'', 'nwa'},\n",
       " 'ኧ': {'', \"'wa\", 'a', 'a-', 'ea'},\n",
       " 'ኯ': {''},\n",
       " 'ⷈ': {'', \"'ke\", 'ka'},\n",
       " 'ⷉ': {'', \"'ku\", 'ku'},\n",
       " 'ⷊ': {'', \"'ki\", 'ki'},\n",
       " 'ⷋ': {'', \"'ka\", 'ka'},\n",
       " 'ⷌ': {'', \"'ke\", 'ke'},\n",
       " 'ⷍ': {'', \"'k\", 'ke'},\n",
       " 'ⷎ': {'', \"'ko\", 'ko'},\n",
       " 'ዀ': {'', 'kwa', 'kwe'},\n",
       " 'ዂ': {'', 'kwi'},\n",
       " 'ዃ': {'', 'hwa', 'kwa'},\n",
       " 'ዄ': {'', 'kwe'},\n",
       " 'ዅ': {'', 'kw', 'kwe'},\n",
       " 'ዟ': {'', 'zwa'},\n",
       " 'ዠ': {'', 'ja', 'za', 'ze', 'zha'},\n",
       " 'ዡ': {'', 'ju', 'zhu', 'zu'},\n",
       " 'ዢ': {'', 'ji', 'zhi', 'zi'},\n",
       " 'ዣ': {'', 'ja', 'za', 'zha'},\n",
       " 'ዤ': {'', 'je', 'ze', 'zhe'},\n",
       " 'ዥ': {'', 'je', 'z', 'ze', 'zhi', 'zi'},\n",
       " 'ዦ': {'', 'jo', 'zho', 'zo', 'zwo'},\n",
       " 'ዧ': {'', 'zhwa', 'zwa'},\n",
       " 'ዷ': {'', 'dwa'},\n",
       " 'ዸ': {'', 'da', 'de'},\n",
       " 'ዹ': {'', 'du'},\n",
       " 'ዺ': {'', 'di'},\n",
       " 'ዻ': {'', 'da'},\n",
       " 'ዼ': {'', 'de'},\n",
       " 'ዽ': {'', 'd', 'de'},\n",
       " 'ዾ': {'', 'do'},\n",
       " 'ዿ': {'', 'dwa'},\n",
       " 'ጀ': {'', 'dja', 'ga', 'ja', 'je'},\n",
       " 'ጁ': {'', 'dju', 'gu', 'ju'},\n",
       " 'ጂ': {'', 'dji', 'gi', 'ji'},\n",
       " 'ጃ': {'', 'dja', 'ga', 'ja'},\n",
       " 'ጄ': {'', 'dje', 'ge', 'je'},\n",
       " 'ጅ': {'', 'dje', 'ge', 'j', 'ji'},\n",
       " 'ጆ': {'', 'djo', 'go', 'gwo', 'jo'},\n",
       " 'ጇ': {'', 'gwa', 'jwa'},\n",
       " 'ⷘ': {'', \"'ge\", 'ga'},\n",
       " 'ⷙ': {'', \"'gu\", 'gu'},\n",
       " 'ⷚ': {'', \"'gi\", 'gi'},\n",
       " 'ⷛ': {'', \"'ga\", 'ga'},\n",
       " 'ⷜ': {'', \"'ge\", 'ge'},\n",
       " 'ⷝ': {'', \"'g\", 'ge'},\n",
       " 'ⷞ': {'', \"'go\", 'go'},\n",
       " 'ጘ': {'', 'ga', 'ge'},\n",
       " 'ጙ': {'', 'gu'},\n",
       " 'ጚ': {'', 'gi'},\n",
       " 'ጛ': {'', 'ga'},\n",
       " 'ጜ': {'', 'ge'},\n",
       " 'ጝ': {'', 'g', 'ge'},\n",
       " 'ጞ': {'', 'go'},\n",
       " 'ⶓ': {'', 'gwa', 'gwe'},\n",
       " 'ⶔ': {'', 'gwi'},\n",
       " 'ጟ': {'', 'gwa'},\n",
       " 'ⶕ': {'', 'gwe'},\n",
       " 'ⶖ': {'', 'gw', 'gwe'},\n",
       " 'ጧ': {'', 'twa'},\n",
       " 'ጨ': {'', 'ca', 'ce', 'cha', \"tch'a\"},\n",
       " 'ጩ': {'', 'chu', 'cu', \"tch'u\"},\n",
       " 'ጪ': {'', 'chi', 'ci', \"tch'i\"},\n",
       " 'ጫ': {'', 'ca', 'cha', \"tch'a\"},\n",
       " 'ጬ': {'', 'ce', 'che', \"tch'e\"},\n",
       " 'ጭ': {'', 'c', 'ce', 'chi', 'ci', \"tch'e\"},\n",
       " 'ጮ': {'', 'cho', 'co', 'cwo', \"tch'o\"},\n",
       " 'ጯ': {'', 'chwa', 'cwa'},\n",
       " 'ጷ': {'', 'pwa'},\n",
       " 'ጿ': {'', 'swa'},\n",
       " 'ᎈ': {'', 'fwa', 'fwe'},\n",
       " 'ᎉ': {'', 'fwi'},\n",
       " 'ፏ': {'', 'fwa'},\n",
       " 'ᎊ': {'', 'fwe'},\n",
       " 'ᎋ': {'', 'fw', 'fwe'},\n",
       " 'ᎌ': {'', 'pwa', 'pwe'},\n",
       " 'ᎍ': {'', 'pwi'},\n",
       " 'ፗ': {'', 'pwa'},\n",
       " 'ᎎ': {'', 'pwe'},\n",
       " 'ᎏ': {'', 'pw', 'pwe'},\n",
       " 'ፘ': {'', 'rya', '~ri'},\n",
       " 'ፙ': {'', 'mya', '~ma'},\n",
       " 'ፚ': {'', 'fya', '~fi'},\n",
       " 'ኈ': {'hua', 'hwa', 'hwe'},\n",
       " 'ኋ': {'hua', 'hwa'},\n",
       " 'መ': {'ma', 'me'},\n",
       " 'ሜ': {'me', 'mye'},\n",
       " 'ም': {'m', 'me', 'mi'},\n",
       " 'ማ': {'ma'},\n",
       " 'ሙ': {'mu'},\n",
       " 'ሚ': {'mi'},\n",
       " 'ሞ': {'mo', 'mwo'},\n",
       " 'ሠ': {\"'se\", 'sa'},\n",
       " 'ሤ': {\"'se\", 'se', 'sye'},\n",
       " 'ፀ': {\"'se\", 'ca', 'da', 'sa', 'tsa'},\n",
       " 'ፄ': {\"'se\", 'ce', 'de', 'se', 'sye', 'tse'},\n",
       " 'ሣ': {\"'sa\", 'sa'},\n",
       " 'ሰ': {'sa', 'se'},\n",
       " 'ሳ': {'sa'},\n",
       " 'ጸ': {'sa', 'se', 'tsa'},\n",
       " 'ጻ': {'sa', 'tsa'},\n",
       " 'ፃ': {\"'sa\", 'ca', 'da', 'sa', 'tsa'},\n",
       " 'ሡ': {\"'su\", 'su'},\n",
       " 'ሱ': {'su'},\n",
       " 'ጹ': {'su', 'tsu'},\n",
       " 'ፁ': {\"'su\", 'cu', 'du', 'su', 'tsu'},\n",
       " 'ሢ': {\"'si\", 'si'},\n",
       " 'ሥ': {\"'s\", 'se', 'si'},\n",
       " 'ሲ': {'si'},\n",
       " 'ስ': {'s', 'se', 'si'},\n",
       " 'ጺ': {'si', 'tsi'},\n",
       " 'ጽ': {'s', 'se', 'si'},\n",
       " 'ፂ': {\"'si\", 'ci', 'di', 'si', 'tsi'},\n",
       " 'ፅ': {\"'s\", 'ce', 'de', 'si'},\n",
       " 'ሴ': {'se', 'sye'},\n",
       " 'ጼ': {'se', 'sye', 'tse'},\n",
       " 'ሦ': {\"'so\", 'so', 'swo'},\n",
       " 'ሶ': {'so', 'swo'},\n",
       " 'ጾ': {'so', 'swo', 'tso'},\n",
       " 'ፆ': {\"'so\", 'co', 'do', 'so', 'swo', 'tso'},\n",
       " 'ረ': {'ra', 're'},\n",
       " 'ሬ': {'re', 'rye'},\n",
       " 'ር': {'r', 're', 'ri'},\n",
       " 'ራ': {'ra'},\n",
       " 'ሩ': {'ru'},\n",
       " 'ሪ': {'ri'},\n",
       " 'ሮ': {'ro', 'rwo'},\n",
       " 'ቀ': {'ka', 'qa', 'qe'},\n",
       " 'ቃ': {'ka', 'qa'},\n",
       " 'ከ': {'ka', 'ke'},\n",
       " 'ካ': {'ka'},\n",
       " 'ቄ': {'ke', 'qe', 'qye'},\n",
       " 'ቅ': {'ki', 'q', 'qe'},\n",
       " 'ቁ': {'ku', 'qu'},\n",
       " 'ኩ': {'ku'},\n",
       " 'ቂ': {'ki', 'qi'},\n",
       " 'ኪ': {'ki'},\n",
       " 'ክ': {'k', 'ke', 'ki'},\n",
       " 'ኬ': {'ke', 'kye'},\n",
       " 'ቆ': {'ko', 'qo', 'qwo'},\n",
       " 'ኮ': {'ko', 'kwo'},\n",
       " 'ቈ': {'kwa', 'kwe', 'qua', 'qwa', 'qwe'},\n",
       " 'ቋ': {'kwa', 'qua', 'qwa'},\n",
       " 'ቌ': {'kwe', 'que', 'qwe'},\n",
       " 'ኰ': {'kua', 'kwa', 'kwe'},\n",
       " 'ኴ': {'kue', 'kwe'},\n",
       " 'ኵ': {'kue', 'kw', 'kwe', 'kwi'},\n",
       " 'ቍ': {'kwi', 'que', 'qw', 'qwe'},\n",
       " 'ኳ': {'kua', 'kwa'},\n",
       " 'ቊ': {'kwi', 'qui', 'qwi'},\n",
       " 'ኲ': {'kui', 'kwi'},\n",
       " 'በ': {'ba', 'be'},\n",
       " 'ባ': {'ba'},\n",
       " 'ቤ': {'be', 'bye'},\n",
       " 'ብ': {'b', 'be', 'bi'},\n",
       " 'ቡ': {'bu'},\n",
       " 'ቢ': {'bi'},\n",
       " 'ቦ': {'bo', 'bwo'},\n",
       " 'ተ': {'ta', 'te'},\n",
       " 'ታ': {'ta'},\n",
       " 'ጠ': {'ta', 'te'},\n",
       " 'ጣ': {'ta'},\n",
       " 'ቴ': {'te', 'tye'},\n",
       " 'ት': {'t', 'te', 'ti'},\n",
       " 'ጤ': {'te', 'tye'},\n",
       " 'ጥ': {'t', 'te', 'ti'},\n",
       " 'ቱ': {'tu'},\n",
       " 'ጡ': {'tu'},\n",
       " 'ቲ': {'ti'},\n",
       " 'ጢ': {'ti'},\n",
       " 'ቶ': {'to', 'two'},\n",
       " 'ጦ': {'to', 'two'},\n",
       " 'ኌ': {'hue', 'hwe'},\n",
       " 'ኍ': {'hue', 'hw', 'hwe', 'hwi'},\n",
       " 'ኊ': {'hui', 'hwi'},\n",
       " 'ነ': {'na', 'ne'},\n",
       " 'ና': {'na', \"na'\"},\n",
       " 'ኔ': {'ne', 'nye'},\n",
       " 'ን': {'n', 'ne', 'ni'},\n",
       " 'ኑ': {'nu'},\n",
       " 'ኒ': {'ni'},\n",
       " 'ኖ': {'no', 'nwo'},\n",
       " 'አ': {\"'a\", '`a', 'a'},\n",
       " 'ኣ': {\"'a\", '`a', 'a'},\n",
       " 'ዐ': {\"'a\", \"'e\", '`a', 'a'},\n",
       " 'ዓ': {\"'a\", '`a', 'a'},\n",
       " 'ኡ': {\"'u\", '`u', 'u'},\n",
       " 'ዑ': {\"'u\", '`u', 'u'},\n",
       " 'ኢ': {\"'i\", '`i', 'i'},\n",
       " 'ዒ': {\"'i\", '`i', 'i'},\n",
       " 'ዕ': {\"'e\", \"'i\", '`e', 'i'},\n",
       " 'እ': {\"'e\", '`e', 'i'},\n",
       " 'ኤ': {\"'e\", '`e', 'e', 'ye'},\n",
       " 'ዔ': {\"'e\", '`e', 'e', 'ye'},\n",
       " 'የ': {'ja', 'ya', 'ye'},\n",
       " 'ዬ': {'je', 'ye'},\n",
       " 'ይ': {'je', 'y', 'ye', 'yi'},\n",
       " 'ኦ': {\"'o\", '`o', 'o', 'wo'},\n",
       " 'ዖ': {\"'o\", '`o', 'o', 'wo'},\n",
       " 'ዎ': {'wo'},\n",
       " 'ወ': {'wa', 'we'},\n",
       " 'ዋ': {'wa'},\n",
       " 'ዌ': {'we', 'wye'},\n",
       " 'ው': {'w', 'we', 'wi'},\n",
       " 'ዉ': {'wu'},\n",
       " 'ዊ': {'wi'},\n",
       " 'ዘ': {'za', 'ze'},\n",
       " 'ዛ': {'za'},\n",
       " 'ዜ': {'ze', 'zye'},\n",
       " 'ዝ': {'z', 'ze', 'zi'},\n",
       " 'ዙ': {'zu'},\n",
       " 'ዚ': {'zi'},\n",
       " 'ዞ': {'zo', 'zwo'},\n",
       " 'ያ': {'ja', 'ya'},\n",
       " 'ዩ': {'ju', 'yu'},\n",
       " 'ዪ': {'ji', 'yi'},\n",
       " 'ዮ': {'jo', 'yo'},\n",
       " 'ደ': {'da', 'de'},\n",
       " 'ዳ': {'da'},\n",
       " 'ዴ': {'de', 'dye'},\n",
       " 'ድ': {'d', 'de', 'di'},\n",
       " 'ዱ': {'du'},\n",
       " 'ዲ': {'di'},\n",
       " 'ዶ': {'do', 'dwo'},\n",
       " 'ገ': {'ga', 'ge'},\n",
       " 'ጋ': {'ga'},\n",
       " 'ጉ': {'gu'},\n",
       " 'ጊ': {'gi'},\n",
       " 'ግ': {'g', 'ge', 'gi'},\n",
       " 'ጌ': {'ge', 'gye'},\n",
       " 'ጎ': {'go', 'gwo'},\n",
       " 'ጐ': {'gua', 'gwa', 'gwe'},\n",
       " 'ጓ': {'gua', 'gwa'},\n",
       " 'ጔ': {'gue', 'gwe'},\n",
       " 'ጕ': {'gue', 'gw', 'gwe', 'gwi'},\n",
       " 'ጒ': {'gui', 'gwi'},\n",
       " 'ጰ': {'pa', 'pe'},\n",
       " 'ጳ': {'pa'},\n",
       " 'ፐ': {'pa', 'pe'},\n",
       " 'ፓ': {'pa'},\n",
       " 'ጴ': {'pe', 'pye'},\n",
       " 'ጵ': {'p', 'pe', 'pi'},\n",
       " 'ፔ': {'pe', 'pye'},\n",
       " 'ፕ': {'p', 'pe', 'pi'},\n",
       " 'ጱ': {'pu'},\n",
       " 'ፑ': {'pu'},\n",
       " 'ጲ': {'pi'},\n",
       " 'ፒ': {'pi'},\n",
       " 'ጶ': {'po', 'pwo'},\n",
       " 'ፖ': {'po', 'pwo'},\n",
       " 'ፈ': {'fa', 'fe'},\n",
       " 'ፋ': {'fa'},\n",
       " 'ፌ': {'fe', 'fye'},\n",
       " 'ፍ': {'f', 'fe', 'fi'},\n",
       " 'ፉ': {'fu'},\n",
       " 'ፊ': {'fi'},\n",
       " 'ፎ': {'fo', 'fwo'},\n",
       " '።': {'.'},\n",
       " '፡': {' '},\n",
       " '፣': {','},\n",
       " '፤': {';'},\n",
       " '፥': {':'},\n",
       " '፧': {'?'}}"
      ]
     },
     "execution_count": 113,
     "metadata": {},
     "output_type": "execute_result"
    }
   ],
   "source": [
    "import json\n",
    "\n",
    "with open('lat_eth.json') as f:\n",
    "    lat_eth = json.load(f)\n",
    "\n",
    "eth2lat = {}\n",
    "for lat in lat_eth.keys():\n",
    "    for eth in lat_eth[lat]:\n",
    "        if eth not in eth2lat.keys():\n",
    "            eth2lat[eth] = []\n",
    "        eth2lat[eth].append(lat)\n",
    "\n",
    "for key in eth2lat.keys():\n",
    "    eth2lat[key] = set(eth2lat[key])\n",
    "\n",
    "with open('char2idx.json') as f:\n",
    "    char2idx = json.load(f)\n",
    "\n",
    "with open('idx2char.json') as f:\n",
    "    idx2char = np.array(json.load(f))\n",
    "\n",
    "eth2lat"
   ]
  },
  {
   "cell_type": "code",
   "execution_count": 51,
   "metadata": {
    "colab": {
     "base_uri": "https://localhost:8080/",
     "height": 51
    },
    "colab_type": "code",
    "id": "6UNFupcc6LQn",
    "outputId": "62723844-b11d-4751-f2e0-7fdae3026d07"
   },
   "outputs": [],
   "source": [
    "def loss(labels, logits):\n",
    "  return tf.keras.losses.sparse_categorical_crossentropy(labels, logits, from_logits=True)"
   ]
  },
  {
   "cell_type": "code",
   "execution_count": 52,
   "metadata": {
    "colab": {},
    "colab_type": "code",
    "id": "KiRDx9Hg3IQJ"
   },
   "outputs": [],
   "source": [
    "model = tf.keras.models.load_model(\"char_model\", compile=False)\n",
    "model.compile(optimizer='adam', loss=loss)"
   ]
  },
  {
   "cell_type": "code",
   "execution_count": 57,
   "metadata": {},
   "outputs": [],
   "source": [
    "def get_breakdowns(segment):\n",
    "    options = []\n",
    "    max_len = min([len(segment), 4])\n",
    "    for i in range(1, max_len+1):\n",
    "        potential = segment[:i]\n",
    "        if potential in lat_eth.keys():\n",
    "            remainder = segment[i:]\n",
    "            if remainder == \"\":\n",
    "                options.append([potential])\n",
    "            else:\n",
    "                enders = get_breakdowns(remainder)\n",
    "                if enders == []:\n",
    "                    return []\n",
    "                else:\n",
    "                    options.extend([potential, *e] for e in enders)\n",
    "    return options"
   ]
  },
  {
   "cell_type": "code",
   "execution_count": 20,
   "metadata": {},
   "outputs": [
    {
     "data": {
      "text/plain": [
       "[['i', 'n', 'i', 'd', 'i', 'h', 'i'],\n",
       " ['i', 'n', 'i', 'd', 'i', 'hi'],\n",
       " ['i', 'n', 'i', 'di', 'h', 'i'],\n",
       " ['i', 'n', 'i', 'di', 'hi'],\n",
       " ['i', 'ni', 'd', 'i', 'h', 'i'],\n",
       " ['i', 'ni', 'd', 'i', 'hi'],\n",
       " ['i', 'ni', 'di', 'h', 'i'],\n",
       " ['i', 'ni', 'di', 'hi']]"
      ]
     },
     "execution_count": 20,
     "metadata": {},
     "output_type": "execute_result"
    }
   ],
   "source": [
    "breakdowns = get_breakdowns(\"inidihi\")\n",
    "breakdowns"
   ]
  },
  {
   "cell_type": "code",
   "execution_count": null,
   "metadata": {},
   "outputs": [],
   "source": []
  },
  {
   "cell_type": "markdown",
   "metadata": {},
   "source": [
    "# Softmax converts the predictions into probabilities\n",
    "\n",
    "Then we create a function where, given a string and a next_char, what is the probability of that being the next character"
   ]
  },
  {
   "cell_type": "code",
   "execution_count": 126,
   "metadata": {},
   "outputs": [
    {
     "data": {
      "text/plain": [
       "0.00088863523"
      ]
     },
     "execution_count": 126,
     "metadata": {},
     "output_type": "execute_result"
    }
   ],
   "source": [
    "# Convert predictions to probabilities\n",
    "\n",
    "cont_cached = {}\n",
    "\n",
    "def get_next_char_probs(start_string):\n",
    "    cache_key = start_string\n",
    "    if cache_key in cont_cached.keys():\n",
    "        pred_prob = cont_cached[cache_key]\n",
    "    else:\n",
    "        input_eval = [char2idx[s] for s in start_string]\n",
    "        input_eval = tf.expand_dims(input_eval, 0)\n",
    "        print(\"input_eval is\", input_eval)\n",
    "        # Ask model to evaluate what's next, given start_string\n",
    "        model.reset_states()\n",
    "        predictions = model(input_eval)\n",
    "        predictions = tf.squeeze(predictions, 0)\n",
    "        \n",
    "        # Convert scores to probabilities\n",
    "        pred_prob = tf.nn.softmax(predictions[0])\n",
    "\n",
    "        # Cache probabilities\n",
    "        cont_cached[cache_key] = pred_prob\n",
    "    return pred_prob\n",
    "\n",
    "def continuation_proba(start_string, next_char):\n",
    "    try:\n",
    "        # Index of target for when we pull it out of the scores\n",
    "        target_idx = char2idx[next_char]\n",
    "    except:\n",
    "        # If we've never seen that char before, get out of here!\n",
    "        return 0\n",
    "    \n",
    "    # Check the cache\n",
    "    cache_key = start_string\n",
    "    if cache_key in cont_cached.keys():\n",
    "        pred_prob = cont_cached[cache_key]\n",
    "    else:\n",
    "        # Convert characters into indices for tensorflow processing\n",
    "        try:\n",
    "            input_eval = [char2idx[s] for s in start_string]\n",
    "        except:\n",
    "            # We've never seen it!!! just exit!!\n",
    "            return 0\n",
    "\n",
    "        input_eval = tf.expand_dims(input_eval, 0)\n",
    "\n",
    "        # Ask model to evaluate what's next, given start_string\n",
    "        model.reset_states()\n",
    "        predictions = model(input_eval)\n",
    "        predictions = tf.squeeze(predictions, 0)\n",
    "        \n",
    "        # Convert scores to probabilities\n",
    "        pred_prob = tf.nn.softmax(predictions[0])\n",
    "\n",
    "        # Cache probabilities\n",
    "        cont_cached[cache_key] = pred_prob\n",
    "\n",
    "    \n",
    "    proba = pred_prob[target_idx].numpy()\n",
    "    return proba\n",
    "\n",
    "start_string = \"ኢንኢድኢህኢ\"\n",
    "next_char = \"ን\"\n",
    "\n",
    "continuation_proba(start_string, next_char)"
   ]
  },
  {
   "cell_type": "markdown",
   "metadata": {},
   "source": [
    "# Probability of each step multiplied out\n",
    "\n",
    "Current does not adjust for length"
   ]
  },
  {
   "cell_type": "code",
   "execution_count": 129,
   "metadata": {},
   "outputs": [
    {
     "name": "stdout",
     "output_type": "stream",
     "text": [
      "0.00014832262925360256\n",
      "9.077041126207062e-06\n",
      "CPU times: user 1.55 ms, sys: 36 µs, total: 1.58 ms\n",
      "Wall time: 1.6 ms\n"
     ]
    }
   ],
   "source": [
    "%%time\n",
    "\n",
    "cached = {}\n",
    "\n",
    "def text_proba(text):\n",
    "    # Check the cache\n",
    "    cache_key = text\n",
    "    if cache_key in cached.keys():\n",
    "        return cached[cache_key]\n",
    "\n",
    "    # Otherwise we'll calculate the probability\n",
    "    proba = 1\n",
    "    for i in range(1, len(text)):\n",
    "        base_str = text[:i]\n",
    "        next_char = text[i]\n",
    "        proba = proba * continuation_proba(base_str, next_char)\n",
    "    cached[cache_key] = proba\n",
    "    return proba\n",
    "\n",
    "print(text_proba(\"ጭምቅ\"))\n",
    "print(text_proba(\"ጭምኢ\"))"
   ]
  },
  {
   "cell_type": "code",
   "execution_count": 60,
   "metadata": {},
   "outputs": [
    {
     "data": {
      "application/vnd.jupyter.widget-view+json": {
       "model_id": "5495dc909d0e45588d0cf75132db22e6",
       "version_major": 2,
       "version_minor": 0
      },
      "text/plain": [
       "HBox(children=(IntProgress(value=0, max=2), HTML(value='')))"
      ]
     },
     "metadata": {},
     "output_type": "display_data"
    },
    {
     "data": {
      "text/plain": [
       "2"
      ]
     },
     "execution_count": 60,
     "metadata": {},
     "output_type": "execute_result"
    }
   ],
   "source": [
    "from tqdm import tqdm_notebook\n",
    "\n",
    "possible_eths = [\"ጭምቅ\", \"ጭምኢ\"]\n",
    "scores = []\n",
    "for possible in tqdm_notebook(possible_eths):  \n",
    "    scores.append(text_proba(possible))\n",
    "len(scores)"
   ]
  },
  {
   "cell_type": "code",
   "execution_count": 61,
   "metadata": {},
   "outputs": [
    {
     "data": {
      "text/plain": [
       "[('ጭምኢ', 9.077041126207062e-06), ('ጭምቅ', 0.00014832262925360256)]"
      ]
     },
     "execution_count": 61,
     "metadata": {},
     "output_type": "execute_result"
    }
   ],
   "source": [
    "scores = np.array(scores)\n",
    "possible_eths = np.array(possible_eths)\n",
    "top_5 = np.argsort(scores)[-5:]\n",
    "\n",
    "list(zip(possible_eths[top_5], scores[top_5]))"
   ]
  },
  {
   "cell_type": "code",
   "execution_count": 62,
   "metadata": {},
   "outputs": [
    {
     "data": {
      "text/plain": [
       "8"
      ]
     },
     "execution_count": 62,
     "metadata": {},
     "output_type": "execute_result"
    }
   ],
   "source": [
    "breakdowns = get_breakdowns(\"inidihi\")\n",
    "len(breakdowns)"
   ]
  },
  {
   "cell_type": "code",
   "execution_count": null,
   "metadata": {},
   "outputs": [],
   "source": []
  },
  {
   "cell_type": "code",
   "execution_count": null,
   "metadata": {},
   "outputs": [],
   "source": []
  },
  {
   "cell_type": "code",
   "execution_count": null,
   "metadata": {},
   "outputs": [],
   "source": []
  },
  {
   "cell_type": "code",
   "execution_count": null,
   "metadata": {},
   "outputs": [],
   "source": []
  },
  {
   "cell_type": "code",
   "execution_count": 77,
   "metadata": {},
   "outputs": [
    {
     "data": {
      "application/vnd.jupyter.widget-view+json": {
       "model_id": "2f27e92e0dd04a689d69a37844577ec6",
       "version_major": 2,
       "version_minor": 0
      },
      "text/plain": [
       "HBox(children=(IntProgress(value=0, max=16), HTML(value='')))"
      ]
     },
     "metadata": {},
     "output_type": "display_data"
    },
    {
     "name": "stdout",
     "output_type": "stream",
     "text": [
      "CPU times: user 8.36 s, sys: 89.8 ms, total: 8.45 s\n",
      "Wall time: 8.28 s\n"
     ]
    },
    {
     "data": {
      "text/plain": [
       "[('ጥበብን', 3.280546537670618e-07),\n",
       " ('ጥብብን', 1.6089952151951464e-07),\n",
       " ('ጥበብኚ', 1.5551292882675773e-07),\n",
       " ('ጥበብኝ', 7.773054829150377e-08),\n",
       " ('ጥበብኒ', 7.654066773465777e-08),\n",
       " ('ትበብእን', 9.345996652290154e-10),\n",
       " ('ትእበብን', 9.345995679616942e-10),\n",
       " ('ትበብንእ', 9.34598883008878e-10),\n",
       " ('ጥዕበብን', 7.604349570773747e-10),\n",
       " ('ጥበብንዕ', 7.604344154347199e-10)]"
      ]
     },
     "execution_count": 77,
     "metadata": {},
     "output_type": "execute_result"
    }
   ],
   "source": [
    "%%time\n",
    "import itertools\n",
    "MAX_SEQ_LENGTH = 5\n",
    "\n",
    "def predict(sequence, base=None):\n",
    "    # print(\"Base of\", base)\n",
    "    if len(sequence) > MAX_SEQ_LENGTH:\n",
    "        starters = predict(sequence[:MAX_SEQ_LENGTH], base)\n",
    "        overall_results = []\n",
    "        for r in starters:\n",
    "            if base:\n",
    "                text = base + r[0]\n",
    "            else:\n",
    "                text = r[0]\n",
    "            results = predict(sequence[MAX_SEQ_LENGTH:], text)\n",
    "            overall_results.extend(results)\n",
    "        return sorted(overall_results,\n",
    "                      key=lambda result: result[1],\n",
    "                      reverse=True)[:5]\n",
    "    else:\n",
    "        expanded = itertools.product(*sequence[:MAX_SEQ_LENGTH])\n",
    "        amharic_options = [''.join(chars) for chars in expanded]\n",
    "        if base:\n",
    "            amharic_options = [base + text for text in amharic_options]\n",
    "        scores = []\n",
    "        for possible in amharic_options:\n",
    "            scores.append(text_proba(''.join(possible)))\n",
    "        \n",
    "        top_5 = np.argsort(scores)[-5:][::-1]\n",
    "        amharic_options = np.array(amharic_options)\n",
    "        scores = np.array(scores)\n",
    "        \n",
    "        return list(zip(amharic_options[top_5], scores[top_5]))\n",
    "\n",
    "def breakdown_and_predict(text):\n",
    "    top_fives = []\n",
    "    for segmentation in tqdm_notebook(get_breakdowns(text), position=0):\n",
    "        options = [lat_eth[segment] for segment in segmentation]\n",
    "        top_five = predict(options)\n",
    "        top_fives.extend(top_five)\n",
    "\n",
    "    # We'll return the top 10 top fives\n",
    "    return sorted(top_fives,\n",
    "              key=lambda result: result[1],\n",
    "              reverse=True)[:10]\n",
    "\n",
    "# ጥበብን\n",
    "breakdown_and_predict(\"tibebini\")"
   ]
  },
  {
   "cell_type": "code",
   "execution_count": 39,
   "metadata": {},
   "outputs": [
    {
     "data": {
      "text/plain": [
       "['t', 'i', 'b', 'e', 'b', 'i', 'n', 'i']"
      ]
     },
     "execution_count": 39,
     "metadata": {},
     "output_type": "execute_result"
    }
   ],
   "source": [
    "sequence = get_breakdowns(\"tibebini\")[0]\n",
    "sequence"
   ]
  },
  {
   "cell_type": "code",
   "execution_count": 40,
   "metadata": {},
   "outputs": [
    {
     "data": {
      "text/plain": [
       "[['ት', 'ጥ'],\n",
       " ['ኢ', 'እ', 'ዒ', 'ዕ'],\n",
       " ['ብ'],\n",
       " ['ኤ', 'ዔ'],\n",
       " ['ብ'],\n",
       " ['ኢ', 'እ', 'ዒ', 'ዕ'],\n",
       " ['ን', 'ኝ'],\n",
       " ['ኢ', 'እ', 'ዒ', 'ዕ']]"
      ]
     },
     "execution_count": 40,
     "metadata": {},
     "output_type": "execute_result"
    }
   ],
   "source": [
    "[lat_eth[segment] for segment in sequence]"
   ]
  },
  {
   "cell_type": "code",
   "execution_count": 48,
   "metadata": {},
   "outputs": [
    {
     "data": {
      "text/plain": [
       "[['ይ'],\n",
       " ['አ', 'ኣ', 'ኧ', 'ዐ', 'ዓ'],\n",
       " ['ም'],\n",
       " ['ኢ', 'እ', 'ዒ', 'ዕ'],\n",
       " ['ጅ'],\n",
       " ['አ', 'ኣ', 'ኧ', 'ዐ', 'ዓ'],\n",
       " ['ድ', 'ዽ'],\n",
       " ['አ', 'ኣ', 'ኧ', 'ዐ', 'ዓ'],\n",
       " ['ር'],\n",
       " ['ግ', 'ጝ'],\n",
       " ['ኡ', 'ዑ'],\n",
       " ['አ', 'ኣ', 'ኧ', 'ዐ', 'ዓ'],\n",
       " ['ት', 'ጥ'],\n",
       " ['ክ', 'ኽ'],\n",
       " ['ህ', 'ሕ'],\n",
       " ['አ', 'ኣ', 'ኧ', 'ዐ', 'ዓ'],\n",
       " ['ው'],\n",
       " ['ኢ', 'እ', 'ዒ', 'ዕ'],\n",
       " ['ን', 'ኝ'],\n",
       " ['ኢ', 'እ', 'ዒ', 'ዕ']]"
      ]
     },
     "execution_count": 48,
     "metadata": {},
     "output_type": "execute_result"
    }
   ],
   "source": [
    "sequences = get_breakdowns(\"yamijadarguatkhawini\")\n",
    "[lat_eth[segment] for segment in sequences[0]]"
   ]
  },
  {
   "cell_type": "code",
   "execution_count": null,
   "metadata": {},
   "outputs": [],
   "source": []
  },
  {
   "cell_type": "code",
   "execution_count": 51,
   "metadata": {},
   "outputs": [
    {
     "data": {
      "application/vnd.jupyter.widget-view+json": {
       "model_id": "5c2f9819878144169e6f29853c8c337b",
       "version_major": 2,
       "version_minor": 0
      },
      "text/plain": [
       "HBox(children=(IntProgress(value=0, max=12), HTML(value='')))"
      ]
     },
     "metadata": {},
     "output_type": "display_data"
    },
    {
     "data": {
      "application/vnd.jupyter.widget-view+json": {
       "model_id": "",
       "version_major": 2,
       "version_minor": 0
      },
      "text/plain": [
       "HBox(children=(IntProgress(value=0, max=40), HTML(value='')))"
      ]
     },
     "metadata": {},
     "output_type": "display_data"
    },
    {
     "data": {
      "application/vnd.jupyter.widget-view+json": {
       "model_id": "",
       "version_major": 2,
       "version_minor": 0
      },
      "text/plain": [
       "HBox(children=(IntProgress(value=0, max=5), HTML(value='')))"
      ]
     },
     "metadata": {},
     "output_type": "display_data"
    },
    {
     "data": {
      "application/vnd.jupyter.widget-view+json": {
       "model_id": "",
       "version_major": 2,
       "version_minor": 0
      },
      "text/plain": [
       "HBox(children=(IntProgress(value=0, max=4), HTML(value='')))"
      ]
     },
     "metadata": {},
     "output_type": "display_data"
    },
    {
     "data": {
      "application/vnd.jupyter.widget-view+json": {
       "model_id": "",
       "version_major": 2,
       "version_minor": 0
      },
      "text/plain": [
       "HBox(children=(IntProgress(value=0, max=4), HTML(value='')))"
      ]
     },
     "metadata": {},
     "output_type": "display_data"
    },
    {
     "data": {
      "application/vnd.jupyter.widget-view+json": {
       "model_id": "",
       "version_major": 2,
       "version_minor": 0
      },
      "text/plain": [
       "HBox(children=(IntProgress(value=0, max=4), HTML(value='')))"
      ]
     },
     "metadata": {},
     "output_type": "display_data"
    },
    {
     "data": {
      "application/vnd.jupyter.widget-view+json": {
       "model_id": "",
       "version_major": 2,
       "version_minor": 0
      },
      "text/plain": [
       "HBox(children=(IntProgress(value=0, max=4), HTML(value='')))"
      ]
     },
     "metadata": {},
     "output_type": "display_data"
    },
    {
     "data": {
      "application/vnd.jupyter.widget-view+json": {
       "model_id": "",
       "version_major": 2,
       "version_minor": 0
      },
      "text/plain": [
       "HBox(children=(IntProgress(value=0, max=4), HTML(value='')))"
      ]
     },
     "metadata": {},
     "output_type": "display_data"
    },
    {
     "data": {
      "application/vnd.jupyter.widget-view+json": {
       "model_id": "",
       "version_major": 2,
       "version_minor": 0
      },
      "text/plain": [
       "HBox(children=(IntProgress(value=0, max=40), HTML(value='')))"
      ]
     },
     "metadata": {},
     "output_type": "display_data"
    },
    {
     "data": {
      "application/vnd.jupyter.widget-view+json": {
       "model_id": "",
       "version_major": 2,
       "version_minor": 0
      },
      "text/plain": [
       "HBox(children=(IntProgress(value=0, max=5), HTML(value='')))"
      ]
     },
     "metadata": {},
     "output_type": "display_data"
    },
    {
     "data": {
      "application/vnd.jupyter.widget-view+json": {
       "model_id": "",
       "version_major": 2,
       "version_minor": 0
      },
      "text/plain": [
       "HBox(children=(IntProgress(value=0, max=2), HTML(value='')))"
      ]
     },
     "metadata": {},
     "output_type": "display_data"
    },
    {
     "data": {
      "application/vnd.jupyter.widget-view+json": {
       "model_id": "",
       "version_major": 2,
       "version_minor": 0
      },
      "text/plain": [
       "HBox(children=(IntProgress(value=0, max=2), HTML(value='')))"
      ]
     },
     "metadata": {},
     "output_type": "display_data"
    },
    {
     "data": {
      "application/vnd.jupyter.widget-view+json": {
       "model_id": "",
       "version_major": 2,
       "version_minor": 0
      },
      "text/plain": [
       "HBox(children=(IntProgress(value=0, max=2), HTML(value='')))"
      ]
     },
     "metadata": {},
     "output_type": "display_data"
    },
    {
     "data": {
      "application/vnd.jupyter.widget-view+json": {
       "model_id": "",
       "version_major": 2,
       "version_minor": 0
      },
      "text/plain": [
       "HBox(children=(IntProgress(value=0, max=2), HTML(value='')))"
      ]
     },
     "metadata": {},
     "output_type": "display_data"
    },
    {
     "data": {
      "application/vnd.jupyter.widget-view+json": {
       "model_id": "",
       "version_major": 2,
       "version_minor": 0
      },
      "text/plain": [
       "HBox(children=(IntProgress(value=0, max=2), HTML(value='')))"
      ]
     },
     "metadata": {},
     "output_type": "display_data"
    },
    {
     "data": {
      "application/vnd.jupyter.widget-view+json": {
       "model_id": "",
       "version_major": 2,
       "version_minor": 0
      },
      "text/plain": [
       "HBox(children=(IntProgress(value=0, max=60), HTML(value='')))"
      ]
     },
     "metadata": {},
     "output_type": "display_data"
    },
    {
     "data": {
      "application/vnd.jupyter.widget-view+json": {
       "model_id": "",
       "version_major": 2,
       "version_minor": 0
      },
      "text/plain": [
       "HBox(children=(IntProgress(value=0, max=5), HTML(value='')))"
      ]
     },
     "metadata": {},
     "output_type": "display_data"
    },
    {
     "data": {
      "application/vnd.jupyter.widget-view+json": {
       "model_id": "",
       "version_major": 2,
       "version_minor": 0
      },
      "text/plain": [
       "HBox(children=(IntProgress(value=0, max=4), HTML(value='')))"
      ]
     },
     "metadata": {},
     "output_type": "display_data"
    },
    {
     "data": {
      "application/vnd.jupyter.widget-view+json": {
       "model_id": "",
       "version_major": 2,
       "version_minor": 0
      },
      "text/plain": [
       "HBox(children=(IntProgress(value=0, max=4), HTML(value='')))"
      ]
     },
     "metadata": {},
     "output_type": "display_data"
    },
    {
     "data": {
      "application/vnd.jupyter.widget-view+json": {
       "model_id": "",
       "version_major": 2,
       "version_minor": 0
      },
      "text/plain": [
       "HBox(children=(IntProgress(value=0, max=4), HTML(value='')))"
      ]
     },
     "metadata": {},
     "output_type": "display_data"
    },
    {
     "data": {
      "application/vnd.jupyter.widget-view+json": {
       "model_id": "",
       "version_major": 2,
       "version_minor": 0
      },
      "text/plain": [
       "HBox(children=(IntProgress(value=0, max=4), HTML(value='')))"
      ]
     },
     "metadata": {},
     "output_type": "display_data"
    },
    {
     "data": {
      "application/vnd.jupyter.widget-view+json": {
       "model_id": "",
       "version_major": 2,
       "version_minor": 0
      },
      "text/plain": [
       "HBox(children=(IntProgress(value=0, max=4), HTML(value='')))"
      ]
     },
     "metadata": {},
     "output_type": "display_data"
    },
    {
     "data": {
      "application/vnd.jupyter.widget-view+json": {
       "model_id": "",
       "version_major": 2,
       "version_minor": 0
      },
      "text/plain": [
       "HBox(children=(IntProgress(value=0, max=120), HTML(value='')))"
      ]
     },
     "metadata": {},
     "output_type": "display_data"
    },
    {
     "data": {
      "application/vnd.jupyter.widget-view+json": {
       "model_id": "",
       "version_major": 2,
       "version_minor": 0
      },
      "text/plain": [
       "HBox(children=(IntProgress(value=0, max=4), HTML(value='')))"
      ]
     },
     "metadata": {},
     "output_type": "display_data"
    },
    {
     "data": {
      "application/vnd.jupyter.widget-view+json": {
       "model_id": "",
       "version_major": 2,
       "version_minor": 0
      },
      "text/plain": [
       "HBox(children=(IntProgress(value=0, max=4), HTML(value='')))"
      ]
     },
     "metadata": {},
     "output_type": "display_data"
    },
    {
     "data": {
      "application/vnd.jupyter.widget-view+json": {
       "model_id": "",
       "version_major": 2,
       "version_minor": 0
      },
      "text/plain": [
       "HBox(children=(IntProgress(value=0, max=4), HTML(value='')))"
      ]
     },
     "metadata": {},
     "output_type": "display_data"
    },
    {
     "data": {
      "application/vnd.jupyter.widget-view+json": {
       "model_id": "",
       "version_major": 2,
       "version_minor": 0
      },
      "text/plain": [
       "HBox(children=(IntProgress(value=0, max=4), HTML(value='')))"
      ]
     },
     "metadata": {},
     "output_type": "display_data"
    },
    {
     "data": {
      "application/vnd.jupyter.widget-view+json": {
       "model_id": "",
       "version_major": 2,
       "version_minor": 0
      },
      "text/plain": [
       "HBox(children=(IntProgress(value=0, max=4), HTML(value='')))"
      ]
     },
     "metadata": {},
     "output_type": "display_data"
    },
    {
     "data": {
      "application/vnd.jupyter.widget-view+json": {
       "model_id": "",
       "version_major": 2,
       "version_minor": 0
      },
      "text/plain": [
       "HBox(children=(IntProgress(value=0, max=4), HTML(value='')))"
      ]
     },
     "metadata": {},
     "output_type": "display_data"
    },
    {
     "data": {
      "application/vnd.jupyter.widget-view+json": {
       "model_id": "",
       "version_major": 2,
       "version_minor": 0
      },
      "text/plain": [
       "HBox(children=(IntProgress(value=0, max=8), HTML(value='')))"
      ]
     },
     "metadata": {},
     "output_type": "display_data"
    },
    {
     "data": {
      "application/vnd.jupyter.widget-view+json": {
       "model_id": "",
       "version_major": 2,
       "version_minor": 0
      },
      "text/plain": [
       "HBox(children=(IntProgress(value=0, max=24), HTML(value='')))"
      ]
     },
     "metadata": {},
     "output_type": "display_data"
    },
    {
     "data": {
      "application/vnd.jupyter.widget-view+json": {
       "model_id": "",
       "version_major": 2,
       "version_minor": 0
      },
      "text/plain": [
       "HBox(children=(IntProgress(value=0, max=12), HTML(value='')))"
      ]
     },
     "metadata": {},
     "output_type": "display_data"
    },
    {
     "data": {
      "application/vnd.jupyter.widget-view+json": {
       "model_id": "",
       "version_major": 2,
       "version_minor": 0
      },
      "text/plain": [
       "HBox(children=(IntProgress(value=0, max=90), HTML(value='')))"
      ]
     },
     "metadata": {},
     "output_type": "display_data"
    },
    {
     "data": {
      "application/vnd.jupyter.widget-view+json": {
       "model_id": "",
       "version_major": 2,
       "version_minor": 0
      },
      "text/plain": [
       "HBox(children=(IntProgress(value=0, max=5), HTML(value='')))"
      ]
     },
     "metadata": {},
     "output_type": "display_data"
    },
    {
     "data": {
      "application/vnd.jupyter.widget-view+json": {
       "model_id": "",
       "version_major": 2,
       "version_minor": 0
      },
      "text/plain": [
       "HBox(children=(IntProgress(value=0, max=4), HTML(value='')))"
      ]
     },
     "metadata": {},
     "output_type": "display_data"
    },
    {
     "data": {
      "application/vnd.jupyter.widget-view+json": {
       "model_id": "",
       "version_major": 2,
       "version_minor": 0
      },
      "text/plain": [
       "HBox(children=(IntProgress(value=0, max=4), HTML(value='')))"
      ]
     },
     "metadata": {},
     "output_type": "display_data"
    },
    {
     "data": {
      "application/vnd.jupyter.widget-view+json": {
       "model_id": "",
       "version_major": 2,
       "version_minor": 0
      },
      "text/plain": [
       "HBox(children=(IntProgress(value=0, max=4), HTML(value='')))"
      ]
     },
     "metadata": {},
     "output_type": "display_data"
    },
    {
     "data": {
      "application/vnd.jupyter.widget-view+json": {
       "model_id": "",
       "version_major": 2,
       "version_minor": 0
      },
      "text/plain": [
       "HBox(children=(IntProgress(value=0, max=4), HTML(value='')))"
      ]
     },
     "metadata": {},
     "output_type": "display_data"
    },
    {
     "data": {
      "application/vnd.jupyter.widget-view+json": {
       "model_id": "",
       "version_major": 2,
       "version_minor": 0
      },
      "text/plain": [
       "HBox(children=(IntProgress(value=0, max=4), HTML(value='')))"
      ]
     },
     "metadata": {},
     "output_type": "display_data"
    },
    {
     "data": {
      "application/vnd.jupyter.widget-view+json": {
       "model_id": "",
       "version_major": 2,
       "version_minor": 0
      },
      "text/plain": [
       "HBox(children=(IntProgress(value=0, max=180), HTML(value='')))"
      ]
     },
     "metadata": {},
     "output_type": "display_data"
    },
    {
     "data": {
      "application/vnd.jupyter.widget-view+json": {
       "model_id": "",
       "version_major": 2,
       "version_minor": 0
      },
      "text/plain": [
       "HBox(children=(IntProgress(value=0, max=540), HTML(value='')))"
      ]
     },
     "metadata": {},
     "output_type": "display_data"
    },
    {
     "data": {
      "application/vnd.jupyter.widget-view+json": {
       "model_id": "",
       "version_major": 2,
       "version_minor": 0
      },
      "text/plain": [
       "HBox(children=(IntProgress(value=0, max=270), HTML(value='')))"
      ]
     },
     "metadata": {},
     "output_type": "display_data"
    },
    {
     "data": {
      "text/plain": [
       "[('ክዓልም', 7.803842710079035e-07),\n",
       " ('ኬዓልሚ', 5.179787820593345e-07),\n",
       " ('ኬዓሌሚ', 5.123903266222173e-07),\n",
       " ('ኬአልሚ', 4.105589789794878e-07),\n",
       " ('ኬአሌሚ', 4.0612947213904664e-07),\n",
       " ('ክኧልም', 1.5400259140580158e-07),\n",
       " ('ኽኧለም', 1.357493189736178e-07),\n",
       " ('ክኧሌም', 6.683262448934249e-08),\n",
       " ('ክኧለም', 5.813822283047255e-08),\n",
       " ('ኽኧልም', 4.41697032535445e-08)]"
      ]
     },
     "execution_count": 51,
     "metadata": {},
     "output_type": "execute_result"
    }
   ],
   "source": [
    "breakdown_and_predict(\"kealemi\")"
   ]
  },
  {
   "cell_type": "code",
   "execution_count": null,
   "metadata": {},
   "outputs": [],
   "source": []
  }
 ],
 "metadata": {
  "accelerator": "GPU",
  "colab": {
   "name": "02-OpenNMT training by full sentences.ipynb",
   "provenance": [],
   "toc_visible": true
  },
  "kernelspec": {
   "display_name": "Python 3",
   "language": "python",
   "name": "python3"
  },
  "language_info": {
   "codemirror_mode": {
    "name": "ipython",
    "version": 3
   },
   "file_extension": ".py",
   "mimetype": "text/x-python",
   "name": "python",
   "nbconvert_exporter": "python",
   "pygments_lexer": "ipython3",
   "version": "3.6.8"
  },
  "toc": {
   "base_numbering": 1,
   "nav_menu": {},
   "number_sections": true,
   "sideBar": true,
   "skip_h1_title": false,
   "title_cell": "Table of Contents",
   "title_sidebar": "Contents",
   "toc_cell": false,
   "toc_position": {},
   "toc_section_display": true,
   "toc_window_display": false
  }
 },
 "nbformat": 4,
 "nbformat_minor": 1
}
