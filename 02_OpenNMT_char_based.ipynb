{
  "nbformat": 4,
  "nbformat_minor": 0,
  "metadata": {
    "accelerator": "GPU",
    "colab": {
      "name": "02 - OpenNMT - char-based.ipynb",
      "provenance": [],
      "collapsed_sections": [],
      "toc_visible": true
    },
    "kernelspec": {
      "display_name": "Python 3",
      "language": "python",
      "name": "python3"
    },
    "language_info": {
      "codemirror_mode": {
        "name": "ipython",
        "version": 3
      },
      "file_extension": ".py",
      "mimetype": "text/x-python",
      "name": "python",
      "nbconvert_exporter": "python",
      "pygments_lexer": "ipython3",
      "version": "3.6.8"
    },
    "toc": {
      "base_numbering": 1,
      "nav_menu": {},
      "number_sections": true,
      "sideBar": true,
      "skip_h1_title": false,
      "title_cell": "Table of Contents",
      "title_sidebar": "Contents",
      "toc_cell": false,
      "toc_position": {},
      "toc_section_display": true,
      "toc_window_display": false
    }
  },
  "cells": [
    {
      "cell_type": "markdown",
      "metadata": {
        "id": "_j27NAQLilgd",
        "colab_type": "text"
      },
      "source": [
        "# Creating test and train datasets"
      ]
    },
    {
      "cell_type": "code",
      "metadata": {
        "id": "UlzmLwVPiv18",
        "colab_type": "code",
        "colab": {
          "base_uri": "https://localhost:8080/",
          "height": 68
        },
        "outputId": "adfd40b2-62f8-4824-a4ec-d854fc0d660e"
      },
      "source": [
        "!unzip Archive.zip"
      ],
      "execution_count": 1,
      "outputs": [
        {
          "output_type": "stream",
          "text": [
            "Archive:  Archive.zip\n",
            "  inflating: original.txt            \n",
            "  inflating: transliterated.txt      \n"
          ],
          "name": "stdout"
        }
      ]
    },
    {
      "cell_type": "code",
      "metadata": {
        "colab_type": "code",
        "id": "8ZrK5seWGcJ0",
        "outputId": "90be797d-1ad9-49eb-8781-dc55721b9002",
        "colab": {
          "base_uri": "https://localhost:8080/",
          "height": 204
        }
      },
      "source": [
        "import pandas as pd\n",
        "import re\n",
        "\n",
        "original = open(\"original.txt\").read()\n",
        "transliterated = open(\"transliterated.txt\").read()\n",
        "\n",
        "words = pd.DataFrame({\n",
        "    'orig': re.split(r'\\s+', original),\n",
        "    'trans': re.split(r'\\s+', transliterated)\n",
        "})\n",
        "words.head()"
      ],
      "execution_count": 2,
      "outputs": [
        {
          "output_type": "execute_result",
          "data": {
            "text/html": [
              "<div>\n",
              "<style scoped>\n",
              "    .dataframe tbody tr th:only-of-type {\n",
              "        vertical-align: middle;\n",
              "    }\n",
              "\n",
              "    .dataframe tbody tr th {\n",
              "        vertical-align: top;\n",
              "    }\n",
              "\n",
              "    .dataframe thead th {\n",
              "        text-align: right;\n",
              "    }\n",
              "</style>\n",
              "<table border=\"1\" class=\"dataframe\">\n",
              "  <thead>\n",
              "    <tr style=\"text-align: right;\">\n",
              "      <th></th>\n",
              "      <th>orig</th>\n",
              "      <th>trans</th>\n",
              "    </tr>\n",
              "  </thead>\n",
              "  <tbody>\n",
              "    <tr>\n",
              "      <th>0</th>\n",
              "      <td>ቀዝቃዛ</td>\n",
              "      <td>kazeqaza</td>\n",
              "    </tr>\n",
              "    <tr>\n",
              "      <th>1</th>\n",
              "      <td>ውኃ</td>\n",
              "      <td>weha</td>\n",
              "    </tr>\n",
              "    <tr>\n",
              "      <th>2</th>\n",
              "      <td>የዛለችን</td>\n",
              "      <td>yazalatchene</td>\n",
              "    </tr>\n",
              "    <tr>\n",
              "      <th>3</th>\n",
              "      <td>ነፍስ</td>\n",
              "      <td>nefsi</td>\n",
              "    </tr>\n",
              "    <tr>\n",
              "      <th>4</th>\n",
              "      <td>እንደሚያረካ</td>\n",
              "      <td>inidamiyaraka</td>\n",
              "    </tr>\n",
              "  </tbody>\n",
              "</table>\n",
              "</div>"
            ],
            "text/plain": [
              "      orig          trans\n",
              "0     ቀዝቃዛ       kazeqaza\n",
              "1       ውኃ           weha\n",
              "2    የዛለችን   yazalatchene\n",
              "3      ነፍስ          nefsi\n",
              "4  እንደሚያረካ  inidamiyaraka"
            ]
          },
          "metadata": {
            "tags": []
          },
          "execution_count": 2
        }
      ]
    },
    {
      "cell_type": "code",
      "metadata": {
        "id": "x6sUbhu3ilgm",
        "colab_type": "code",
        "colab": {}
      },
      "source": [
        "words.orig = words.orig.str.join(' ')\n",
        "words.trans = words.trans.str.join(' ')"
      ],
      "execution_count": 0,
      "outputs": []
    },
    {
      "cell_type": "code",
      "metadata": {
        "id": "SqjZngkYilgq",
        "colab_type": "code",
        "colab": {
          "base_uri": "https://localhost:8080/",
          "height": 359
        },
        "outputId": "1e5b69bd-0301-4671-87bc-7019d38e24c4"
      },
      "source": [
        "words.head(10)"
      ],
      "execution_count": 4,
      "outputs": [
        {
          "output_type": "execute_result",
          "data": {
            "text/html": [
              "<div>\n",
              "<style scoped>\n",
              "    .dataframe tbody tr th:only-of-type {\n",
              "        vertical-align: middle;\n",
              "    }\n",
              "\n",
              "    .dataframe tbody tr th {\n",
              "        vertical-align: top;\n",
              "    }\n",
              "\n",
              "    .dataframe thead th {\n",
              "        text-align: right;\n",
              "    }\n",
              "</style>\n",
              "<table border=\"1\" class=\"dataframe\">\n",
              "  <thead>\n",
              "    <tr style=\"text-align: right;\">\n",
              "      <th></th>\n",
              "      <th>orig</th>\n",
              "      <th>trans</th>\n",
              "    </tr>\n",
              "  </thead>\n",
              "  <tbody>\n",
              "    <tr>\n",
              "      <th>0</th>\n",
              "      <td>ቀ ዝ ቃ ዛ</td>\n",
              "      <td>k a z e q a z a</td>\n",
              "    </tr>\n",
              "    <tr>\n",
              "      <th>1</th>\n",
              "      <td>ው ኃ</td>\n",
              "      <td>w e h a</td>\n",
              "    </tr>\n",
              "    <tr>\n",
              "      <th>2</th>\n",
              "      <td>የ ዛ ለ ች ን</td>\n",
              "      <td>y a z a l a t c h e n e</td>\n",
              "    </tr>\n",
              "    <tr>\n",
              "      <th>3</th>\n",
              "      <td>ነ ፍ ስ</td>\n",
              "      <td>n e f s i</td>\n",
              "    </tr>\n",
              "    <tr>\n",
              "      <th>4</th>\n",
              "      <td>እ ን ደ ሚ ያ ረ ካ</td>\n",
              "      <td>i n i d a m i y a r a k a</td>\n",
              "    </tr>\n",
              "    <tr>\n",
              "      <th>5</th>\n",
              "      <td>ሁ ሉ ከ ሩ ቅ</td>\n",
              "      <td>h u l u k e r u q e</td>\n",
              "    </tr>\n",
              "    <tr>\n",
              "      <th>6</th>\n",
              "      <td>አ ገ ር</td>\n",
              "      <td>a g a r</td>\n",
              "    </tr>\n",
              "    <tr>\n",
              "      <th>7</th>\n",
              "      <td>የ መ ጣ</td>\n",
              "      <td>j a m e t a</td>\n",
              "    </tr>\n",
              "    <tr>\n",
              "      <th>8</th>\n",
              "      <td>መ ል ካ ም</td>\n",
              "      <td>m e l e k a m</td>\n",
              "    </tr>\n",
              "    <tr>\n",
              "      <th>9</th>\n",
              "      <td>ወ ሬ ም</td>\n",
              "      <td>w e r e m</td>\n",
              "    </tr>\n",
              "  </tbody>\n",
              "</table>\n",
              "</div>"
            ],
            "text/plain": [
              "            orig                      trans\n",
              "0        ቀ ዝ ቃ ዛ            k a z e q a z a\n",
              "1            ው ኃ                    w e h a\n",
              "2      የ ዛ ለ ች ን    y a z a l a t c h e n e\n",
              "3          ነ ፍ ስ                  n e f s i\n",
              "4  እ ን ደ ሚ ያ ረ ካ  i n i d a m i y a r a k a\n",
              "5      ሁ ሉ ከ ሩ ቅ        h u l u k e r u q e\n",
              "6          አ ገ ር                    a g a r\n",
              "7          የ መ ጣ                j a m e t a\n",
              "8        መ ል ካ ም              m e l e k a m\n",
              "9          ወ ሬ ም                  w e r e m"
            ]
          },
          "metadata": {
            "tags": []
          },
          "execution_count": 4
        }
      ]
    },
    {
      "cell_type": "code",
      "metadata": {
        "colab_type": "code",
        "id": "eviPJFoCGcJ6",
        "outputId": "cfd0c942-9dab-462b-b8d5-4dc6afeb2a74",
        "colab": {
          "base_uri": "https://localhost:8080/",
          "height": 51
        }
      },
      "source": [
        "from sklearn.model_selection import train_test_split\n",
        "\n",
        "train, test = train_test_split(words, test_size=5000)\n",
        "\n",
        "print(\"Training on\", train.shape)\n",
        "print(\"Testing on\", test.shape)\n",
        "\n",
        "!mkdir -p data\n",
        "\n",
        "# Save as training\n",
        "# Can't use .to_csv because of quotins\n",
        "with open('data/src-train.txt', 'w') as f:\n",
        "    f.write('\\n'.join(train.trans))\n",
        "with open('data/tgt-train.txt', 'w') as f:\n",
        "    f.write('\\n'.join(train.orig))\n",
        "\n",
        "with open('data/src-val.txt', 'w') as f:\n",
        "    f.write('\\n'.join(test.trans))\n",
        "with open('data/tgt-val.txt', 'w') as f:\n",
        "    f.write('\\n'.join(test.orig))"
      ],
      "execution_count": 9,
      "outputs": [
        {
          "output_type": "stream",
          "text": [
            "Training on (1530622, 2)\n",
            "Testing on (5000, 2)\n"
          ],
          "name": "stdout"
        }
      ]
    },
    {
      "cell_type": "code",
      "metadata": {
        "id": "M4AFtbrgj2v2",
        "colab_type": "code",
        "colab": {
          "base_uri": "https://localhost:8080/",
          "height": 102
        },
        "outputId": "0c4d8f03-d393-4bb4-ed2d-0b2df8c3df37"
      },
      "source": [
        "!head -n 5 data/tgt-val.txt"
      ],
      "execution_count": 11,
      "outputs": [
        {
          "output_type": "stream",
          "text": [
            "ሕ ዝ ቡ\n",
            "ዓ ለ ም\n",
            "ይ ህ ን\n",
            "እ ን ድ ን ጠ ላ\n",
            "እ ን ደ ሚ ያ ሳ ድ ር\n"
          ],
          "name": "stdout"
        }
      ]
    },
    {
      "cell_type": "code",
      "metadata": {
        "colab_type": "code",
        "id": "SQVlDeyoGcJ-",
        "outputId": "663d64f3-7ed0-4474-ada5-b3d0e59cb3e8",
        "colab": {
          "base_uri": "https://localhost:8080/",
          "height": 204
        }
      },
      "source": [
        "train.head()"
      ],
      "execution_count": 10,
      "outputs": [
        {
          "output_type": "execute_result",
          "data": {
            "text/html": [
              "<div>\n",
              "<style scoped>\n",
              "    .dataframe tbody tr th:only-of-type {\n",
              "        vertical-align: middle;\n",
              "    }\n",
              "\n",
              "    .dataframe tbody tr th {\n",
              "        vertical-align: top;\n",
              "    }\n",
              "\n",
              "    .dataframe thead th {\n",
              "        text-align: right;\n",
              "    }\n",
              "</style>\n",
              "<table border=\"1\" class=\"dataframe\">\n",
              "  <thead>\n",
              "    <tr style=\"text-align: right;\">\n",
              "      <th></th>\n",
              "      <th>orig</th>\n",
              "      <th>trans</th>\n",
              "    </tr>\n",
              "  </thead>\n",
              "  <tbody>\n",
              "    <tr>\n",
              "      <th>918459</th>\n",
              "      <td>ወ ይ ም</td>\n",
              "      <td>w a y e m</td>\n",
              "    </tr>\n",
              "    <tr>\n",
              "      <th>184976</th>\n",
              "      <td>ጋ ር</td>\n",
              "      <td>g a r i</td>\n",
              "    </tr>\n",
              "    <tr>\n",
              "      <th>900012</th>\n",
              "      <td>ሰ ፊ</td>\n",
              "      <td>s e f i</td>\n",
              "    </tr>\n",
              "    <tr>\n",
              "      <th>1109537</th>\n",
              "      <td>ጋ ዜ ጣ</td>\n",
              "      <td>g a z y e t a</td>\n",
              "    </tr>\n",
              "    <tr>\n",
              "      <th>1527337</th>\n",
              "      <td>አ ን ደ በ ታ ች ን ን</td>\n",
              "      <td>' a n i d e b a t a t c h e n n e</td>\n",
              "    </tr>\n",
              "  </tbody>\n",
              "</table>\n",
              "</div>"
            ],
            "text/plain": [
              "                    orig                              trans\n",
              "918459             ወ ይ ም                          w a y e m\n",
              "184976               ጋ ር                            g a r i\n",
              "900012               ሰ ፊ                            s e f i\n",
              "1109537            ጋ ዜ ጣ                      g a z y e t a\n",
              "1527337  አ ን ደ በ ታ ች ን ን  ' a n i d e b a t a t c h e n n e"
            ]
          },
          "metadata": {
            "tags": []
          },
          "execution_count": 10
        }
      ]
    },
    {
      "cell_type": "markdown",
      "metadata": {
        "colab_type": "text",
        "id": "vddS6dk1GcKP"
      },
      "source": [
        "# Data setup\n",
        "\n",
        "Following quickstart instructions from https://github.com/OpenNMT/OpenNMT-py#quickstart."
      ]
    },
    {
      "cell_type": "markdown",
      "metadata": {
        "colab_type": "text",
        "id": "bNr6kIaNGcKQ"
      },
      "source": [
        "## Training\n",
        "\n",
        "I'm just using the terminal commands because the Python bindings were just Too Much Work."
      ]
    },
    {
      "cell_type": "code",
      "metadata": {
        "colab_type": "code",
        "id": "cd9tQuMjGcKR",
        "outputId": "e6bf2a87-38de-4a90-a5a5-44eefa6e77e3",
        "colab": {
          "base_uri": "https://localhost:8080/",
          "height": 1000
        }
      },
      "source": [
        "!pip install OpenNMT-py"
      ],
      "execution_count": 12,
      "outputs": [
        {
          "output_type": "stream",
          "text": [
            "Collecting OpenNMT-py\n",
            "\u001b[?25l  Downloading https://files.pythonhosted.org/packages/7e/c7/b3d9bf9a6a681b10c00aa897650f79d4e7ad8a80317c5cddb6a3ef43540c/OpenNMT_py-1.1.1-py3-none-any.whl (189kB)\n",
            "\u001b[K     |████████████████████████████████| 194kB 2.6MB/s \n",
            "\u001b[?25hCollecting tqdm~=4.30.0\n",
            "\u001b[?25l  Downloading https://files.pythonhosted.org/packages/76/4c/103a4d3415dafc1ddfe6a6624333971756e2d3dd8c6dc0f520152855f040/tqdm-4.30.0-py2.py3-none-any.whl (47kB)\n",
            "\u001b[K     |████████████████████████████████| 51kB 5.0MB/s \n",
            "\u001b[?25hCollecting configargparse\n",
            "\u001b[?25l  Downloading https://files.pythonhosted.org/packages/bb/79/3045743bb26ca2e44a1d317c37395462bfed82dbbd38e69a3280b63696ce/ConfigArgParse-1.2.3.tar.gz (42kB)\n",
            "\u001b[K     |████████████████████████████████| 51kB 5.4MB/s \n",
            "\u001b[?25hRequirement already satisfied: flask in /usr/local/lib/python3.6/dist-packages (from OpenNMT-py) (1.1.2)\n",
            "Requirement already satisfied: future in /usr/local/lib/python3.6/dist-packages (from OpenNMT-py) (0.16.0)\n",
            "Requirement already satisfied: tensorboard>=1.14 in /usr/local/lib/python3.6/dist-packages (from OpenNMT-py) (2.2.1)\n",
            "Collecting pyonmttok==1.*; platform_system == \"Linux\"\n",
            "\u001b[?25l  Downloading https://files.pythonhosted.org/packages/08/20/3c57198ffe690b580fbf23d33d5000eb411862e60e4bb6853b61dc989187/pyonmttok-1.18.3-cp36-cp36m-manylinux1_x86_64.whl (2.2MB)\n",
            "\u001b[K     |████████████████████████████████| 2.2MB 7.2MB/s \n",
            "\u001b[?25hCollecting torchtext==0.4.0\n",
            "\u001b[?25l  Downloading https://files.pythonhosted.org/packages/43/94/929d6bd236a4fb5c435982a7eb9730b78dcd8659acf328fd2ef9de85f483/torchtext-0.4.0-py3-none-any.whl (53kB)\n",
            "\u001b[K     |████████████████████████████████| 61kB 7.9MB/s \n",
            "\u001b[?25hRequirement already satisfied: six in /usr/local/lib/python3.6/dist-packages (from OpenNMT-py) (1.12.0)\n",
            "Requirement already satisfied: pyyaml in /usr/local/lib/python3.6/dist-packages (from OpenNMT-py) (3.13)\n",
            "Requirement already satisfied: torch>=1.4.0 in /usr/local/lib/python3.6/dist-packages (from OpenNMT-py) (1.5.0+cu101)\n",
            "Collecting waitress\n",
            "\u001b[?25l  Downloading https://files.pythonhosted.org/packages/a8/ca/ede3ed29723ca944f6e77bd1d7b38c271dd801c7d6a11ab6037597e4fd5b/waitress-1.4.3-py2.py3-none-any.whl (148kB)\n",
            "\u001b[K     |████████████████████████████████| 153kB 21.0MB/s \n",
            "\u001b[?25hRequirement already satisfied: itsdangerous>=0.24 in /usr/local/lib/python3.6/dist-packages (from flask->OpenNMT-py) (1.1.0)\n",
            "Requirement already satisfied: Werkzeug>=0.15 in /usr/local/lib/python3.6/dist-packages (from flask->OpenNMT-py) (1.0.1)\n",
            "Requirement already satisfied: Jinja2>=2.10.1 in /usr/local/lib/python3.6/dist-packages (from flask->OpenNMT-py) (2.11.2)\n",
            "Requirement already satisfied: click>=5.1 in /usr/local/lib/python3.6/dist-packages (from flask->OpenNMT-py) (7.1.2)\n",
            "Requirement already satisfied: tensorboard-plugin-wit>=1.6.0 in /usr/local/lib/python3.6/dist-packages (from tensorboard>=1.14->OpenNMT-py) (1.6.0.post3)\n",
            "Requirement already satisfied: wheel>=0.26; python_version >= \"3\" in /usr/local/lib/python3.6/dist-packages (from tensorboard>=1.14->OpenNMT-py) (0.34.2)\n",
            "Requirement already satisfied: google-auth<2,>=1.6.3 in /usr/local/lib/python3.6/dist-packages (from tensorboard>=1.14->OpenNMT-py) (1.7.2)\n",
            "Requirement already satisfied: google-auth-oauthlib<0.5,>=0.4.1 in /usr/local/lib/python3.6/dist-packages (from tensorboard>=1.14->OpenNMT-py) (0.4.1)\n",
            "Requirement already satisfied: absl-py>=0.4 in /usr/local/lib/python3.6/dist-packages (from tensorboard>=1.14->OpenNMT-py) (0.9.0)\n",
            "Requirement already satisfied: setuptools>=41.0.0 in /usr/local/lib/python3.6/dist-packages (from tensorboard>=1.14->OpenNMT-py) (46.1.3)\n",
            "Requirement already satisfied: protobuf>=3.6.0 in /usr/local/lib/python3.6/dist-packages (from tensorboard>=1.14->OpenNMT-py) (3.10.0)\n",
            "Requirement already satisfied: requests<3,>=2.21.0 in /usr/local/lib/python3.6/dist-packages (from tensorboard>=1.14->OpenNMT-py) (2.23.0)\n",
            "Requirement already satisfied: markdown>=2.6.8 in /usr/local/lib/python3.6/dist-packages (from tensorboard>=1.14->OpenNMT-py) (3.2.1)\n",
            "Requirement already satisfied: grpcio>=1.24.3 in /usr/local/lib/python3.6/dist-packages (from tensorboard>=1.14->OpenNMT-py) (1.28.1)\n",
            "Requirement already satisfied: numpy>=1.12.0 in /usr/local/lib/python3.6/dist-packages (from tensorboard>=1.14->OpenNMT-py) (1.18.3)\n",
            "Requirement already satisfied: MarkupSafe>=0.23 in /usr/local/lib/python3.6/dist-packages (from Jinja2>=2.10.1->flask->OpenNMT-py) (1.1.1)\n",
            "Requirement already satisfied: cachetools<3.2,>=2.0.0 in /usr/local/lib/python3.6/dist-packages (from google-auth<2,>=1.6.3->tensorboard>=1.14->OpenNMT-py) (3.1.1)\n",
            "Requirement already satisfied: rsa<4.1,>=3.1.4 in /usr/local/lib/python3.6/dist-packages (from google-auth<2,>=1.6.3->tensorboard>=1.14->OpenNMT-py) (4.0)\n",
            "Requirement already satisfied: pyasn1-modules>=0.2.1 in /usr/local/lib/python3.6/dist-packages (from google-auth<2,>=1.6.3->tensorboard>=1.14->OpenNMT-py) (0.2.8)\n",
            "Requirement already satisfied: requests-oauthlib>=0.7.0 in /usr/local/lib/python3.6/dist-packages (from google-auth-oauthlib<0.5,>=0.4.1->tensorboard>=1.14->OpenNMT-py) (1.3.0)\n",
            "Requirement already satisfied: urllib3!=1.25.0,!=1.25.1,<1.26,>=1.21.1 in /usr/local/lib/python3.6/dist-packages (from requests<3,>=2.21.0->tensorboard>=1.14->OpenNMT-py) (1.24.3)\n",
            "Requirement already satisfied: certifi>=2017.4.17 in /usr/local/lib/python3.6/dist-packages (from requests<3,>=2.21.0->tensorboard>=1.14->OpenNMT-py) (2020.4.5.1)\n",
            "Requirement already satisfied: idna<3,>=2.5 in /usr/local/lib/python3.6/dist-packages (from requests<3,>=2.21.0->tensorboard>=1.14->OpenNMT-py) (2.9)\n",
            "Requirement already satisfied: chardet<4,>=3.0.2 in /usr/local/lib/python3.6/dist-packages (from requests<3,>=2.21.0->tensorboard>=1.14->OpenNMT-py) (3.0.4)\n",
            "Requirement already satisfied: pyasn1>=0.1.3 in /usr/local/lib/python3.6/dist-packages (from rsa<4.1,>=3.1.4->google-auth<2,>=1.6.3->tensorboard>=1.14->OpenNMT-py) (0.4.8)\n",
            "Requirement already satisfied: oauthlib>=3.0.0 in /usr/local/lib/python3.6/dist-packages (from requests-oauthlib>=0.7.0->google-auth-oauthlib<0.5,>=0.4.1->tensorboard>=1.14->OpenNMT-py) (3.1.0)\n",
            "Building wheels for collected packages: configargparse\n",
            "  Building wheel for configargparse (setup.py) ... \u001b[?25l\u001b[?25hdone\n",
            "  Created wheel for configargparse: filename=ConfigArgParse-1.2.3-cp36-none-any.whl size=19328 sha256=edd2ce82a272002c2cd6303089a0d432389728d873bf907ddce047f18a6fd466\n",
            "  Stored in directory: /root/.cache/pip/wheels/bd/d6/53/034032da9498bda2385cd50a51a289e88090b5da2d592b1fdf\n",
            "Successfully built configargparse\n",
            "\u001b[31mERROR: spacy 2.2.4 has requirement tqdm<5.0.0,>=4.38.0, but you'll have tqdm 4.30.0 which is incompatible.\u001b[0m\n",
            "Installing collected packages: tqdm, configargparse, pyonmttok, torchtext, waitress, OpenNMT-py\n",
            "  Found existing installation: tqdm 4.38.0\n",
            "    Uninstalling tqdm-4.38.0:\n",
            "      Successfully uninstalled tqdm-4.38.0\n",
            "  Found existing installation: torchtext 0.3.1\n",
            "    Uninstalling torchtext-0.3.1:\n",
            "      Successfully uninstalled torchtext-0.3.1\n",
            "Successfully installed OpenNMT-py-1.1.1 configargparse-1.2.3 pyonmttok-1.18.3 torchtext-0.4.0 tqdm-4.30.0 waitress-1.4.3\n"
          ],
          "name": "stdout"
        },
        {
          "output_type": "display_data",
          "data": {
            "application/vnd.colab-display-data+json": {
              "pip_warning": {
                "packages": [
                  "tqdm"
                ]
              }
            }
          },
          "metadata": {
            "tags": []
          }
        }
      ]
    },
    {
      "cell_type": "markdown",
      "metadata": {
        "colab_type": "text",
        "id": "xhRO3mvhGcKV"
      },
      "source": [
        "## Preprocess"
      ]
    },
    {
      "cell_type": "code",
      "metadata": {
        "colab_type": "code",
        "id": "8mgNJrB8GcKW",
        "outputId": "2a83a112-7b0b-4d9b-9766-16b99de977be",
        "colab": {
          "base_uri": "https://localhost:8080/",
          "height": 255
        }
      },
      "source": [
        "!onmt_preprocess \\\n",
        "    -train_src data/src-train.txt \\\n",
        "    -train_tgt data/tgt-train.txt \\\n",
        "    -valid_src data/src-val.txt \\\n",
        "    -valid_tgt data/tgt-val.txt \\\n",
        "    -save_data data/demo \\\n",
        "    -overwrite"
      ],
      "execution_count": 13,
      "outputs": [
        {
          "output_type": "stream",
          "text": [
            "[2020-05-08 04:34:11,153 INFO] Extracting features...\n",
            "[2020-05-08 04:34:11,154 INFO]  * number of source features: 0.\n",
            "[2020-05-08 04:34:11,154 INFO]  * number of target features: 0.\n",
            "[2020-05-08 04:34:11,154 INFO] Building `Fields` object...\n",
            "[2020-05-08 04:34:11,154 INFO] Building & saving training data...\n",
            "[2020-05-08 04:34:12,292 INFO] Building shard 0.\n",
            "[2020-05-08 04:34:45,961 INFO]  * saving 0th train data shard to data/demo.train.0.pt.\n",
            "[2020-05-08 04:35:05,473 INFO] Building shard 1.\n",
            "[2020-05-08 04:35:23,014 INFO]  * saving 1th train data shard to data/demo.train.1.pt.\n",
            "[2020-05-08 04:35:33,078 INFO]  * tgt vocab size: 426.\n",
            "[2020-05-08 04:35:33,078 INFO]  * src vocab size: 65.\n",
            "[2020-05-08 04:35:33,115 INFO] Building & saving validation data...\n",
            "[2020-05-08 04:35:33,141 INFO] Building shard 0.\n",
            "[2020-05-08 04:35:33,218 INFO]  * saving 0th valid data shard to data/demo.valid.0.pt.\n"
          ],
          "name": "stdout"
        }
      ]
    },
    {
      "cell_type": "markdown",
      "metadata": {
        "colab_type": "text",
        "id": "l8iBgYnFGcKb"
      },
      "source": [
        "## Train"
      ]
    },
    {
      "cell_type": "code",
      "metadata": {
        "colab_type": "code",
        "id": "g1fZV5euGcKc",
        "outputId": "778e7b29-688d-479d-ad68-bbdeebadddd5",
        "colab": {
          "base_uri": "https://localhost:8080/",
          "height": 982
        }
      },
      "source": [
        "# Change to false to get GPU power on Colab\n",
        "if False:\n",
        "    !onmt_train \\\n",
        "        -data data/demo \\\n",
        "        -save_model demo-model \\\n",
        "        --valid_steps 50 \\\n",
        "        --train_steps 2 \\\n",
        "        --early_stopping 5\n",
        "else:\n",
        "    !CUDA_VISIBLE_DEVICES=0 \\\n",
        "        onmt_train \\\n",
        "        -world_size 1 \\\n",
        "        -gpu_ranks 0 \\\n",
        "        -data data/demo \\\n",
        "        -save_model demo-model \\\n",
        "        --valid_steps 3000 \\\n",
        "        --train_steps 50000 \\\n",
        "        --early_stopping 3"
      ],
      "execution_count": 0,
      "outputs": [
        {
          "output_type": "stream",
          "text": [
            "[2020-05-08 04:57:25,932 INFO]  * src vocab size = 65\n",
            "[2020-05-08 04:57:25,932 INFO]  * tgt vocab size = 426\n",
            "[2020-05-08 04:57:25,932 INFO] Building model...\n",
            "[2020-05-08 04:57:29,101 INFO] NMTModel(\n",
            "  (encoder): RNNEncoder(\n",
            "    (embeddings): Embeddings(\n",
            "      (make_embedding): Sequential(\n",
            "        (emb_luts): Elementwise(\n",
            "          (0): Embedding(65, 500, padding_idx=1)\n",
            "        )\n",
            "      )\n",
            "    )\n",
            "    (rnn): LSTM(500, 500, num_layers=2, dropout=0.3)\n",
            "  )\n",
            "  (decoder): InputFeedRNNDecoder(\n",
            "    (embeddings): Embeddings(\n",
            "      (make_embedding): Sequential(\n",
            "        (emb_luts): Elementwise(\n",
            "          (0): Embedding(426, 500, padding_idx=1)\n",
            "        )\n",
            "      )\n",
            "    )\n",
            "    (dropout): Dropout(p=0.3, inplace=False)\n",
            "    (rnn): StackedLSTM(\n",
            "      (dropout): Dropout(p=0.3, inplace=False)\n",
            "      (layers): ModuleList(\n",
            "        (0): LSTMCell(1000, 500)\n",
            "        (1): LSTMCell(500, 500)\n",
            "      )\n",
            "    )\n",
            "    (attn): GlobalAttention(\n",
            "      (linear_in): Linear(in_features=500, out_features=500, bias=False)\n",
            "      (linear_out): Linear(in_features=1000, out_features=500, bias=False)\n",
            "    )\n",
            "  )\n",
            "  (generator): Sequential(\n",
            "    (0): Linear(in_features=500, out_features=426, bias=True)\n",
            "    (1): Cast()\n",
            "    (2): LogSoftmax()\n",
            "  )\n",
            ")\n",
            "[2020-05-08 04:57:29,102 INFO] encoder: 4040500\n",
            "[2020-05-08 04:57:29,102 INFO] decoder: 6184426\n",
            "[2020-05-08 04:57:29,102 INFO] * number of parameters: 10224926\n",
            "[2020-05-08 04:57:29,103 INFO] Starting training on GPU: [0]\n",
            "[2020-05-08 04:57:29,103 INFO] Start training loop and validate every 3000 steps...\n",
            "[2020-05-08 04:57:29,104 INFO] Loading dataset from data/demo.train.0.pt\n",
            "[2020-05-08 04:57:36,520 INFO] number of examples: 999979\n",
            "[2020-05-08 04:57:41,000 INFO] Step 50/50000; acc:  10.82; ppl: 2606.23; xent: 7.87; lr: 1.00000; 2050/1338 tok/s;     12 sec\n",
            "[2020-05-08 04:57:42,294 INFO] Step 100/50000; acc:  11.89; ppl: 756.42; xent: 6.63; lr: 1.00000; 21187/13620 tok/s;     13 sec\n",
            "[2020-05-08 04:57:43,446 INFO] Step 150/50000; acc:  17.45; ppl: 133.79; xent: 4.90; lr: 1.00000; 22332/14388 tok/s;     14 sec\n",
            "[2020-05-08 04:57:44,689 INFO] Step 200/50000; acc:  21.38; ppl: 84.21; xent: 4.43; lr: 1.00000; 19111/12569 tok/s;     16 sec\n",
            "[2020-05-08 04:57:45,962 INFO] Step 250/50000; acc:  22.70; ppl: 61.27; xent: 4.12; lr: 1.00000; 19714/12796 tok/s;     17 sec\n",
            "[2020-05-08 04:57:47,054 INFO] Step 300/50000; acc:  27.01; ppl: 42.31; xent: 3.74; lr: 1.00000; 22269/14475 tok/s;     18 sec\n"
          ],
          "name": "stdout"
        }
      ]
    },
    {
      "cell_type": "markdown",
      "metadata": {
        "colab_type": "text",
        "id": "PmHgnfcwGcKg"
      },
      "source": [
        "# Testing it out\n",
        "\n",
        "Testing the text below, you can see the \"answer\" on Google translate [right here](https://translate.google.com/#view=home&op=translate&sl=am&tl=en&text=%E1%8A%A5%E1%8A%94%E1%88%9D%E1%8D%A5%20%E1%8B%88%E1%8A%95%E1%8B%B5%E1%88%9E%E1%89%BD%20%E1%88%86%E1%8B%AD%E1%8D%A5%20%E1%8B%A8%E1%88%A5%E1%8C%8B%20%E1%8A%A5%E1%8A%95%E1%8B%B0%20%E1%88%98%E1%88%86%E1%8A%93%E1%89%BD%E1%88%81%E1%8D%A5%0A%E1%89%A0%E1%8A%AD%E1%88%AD%E1%88%B5%E1%89%B6%E1%88%B5%E1%88%9D%20%E1%88%95%E1%8D%83%E1%8A%93%E1%89%B5%20%E1%8A%A5%E1%8A%95%E1%8B%B0%20%E1%88%98%E1%88%86%E1%8A%93%E1%89%BD%E1%88%81%20%E1%8A%A5%E1%8A%95%E1%8C%82%0A%E1%88%98%E1%8A%95%E1%8D%88%E1%88%B3%E1%8B%8D%E1%8B%AB%E1%8A%95%20%E1%8A%A5%E1%8A%95%E1%8B%B0%20%E1%88%98%E1%88%86%E1%8A%93%E1%89%BD%E1%88%81%20%E1%88%8D%E1%8A%93%E1%8C%88%E1%88%AB%E1%89%BD%E1%88%81%0A%E1%8A%A0%E1%88%8D%E1%89%BB%E1%88%8D%E1%88%81%E1%88%9D%E1%8D%A2)."
      ]
    },
    {
      "cell_type": "code",
      "metadata": {
        "colab_type": "code",
        "id": "UvvFipU_1CEq",
        "outputId": "adea9f46-6817-4b03-8184-d2df83ed4ec9",
        "colab": {
          "base_uri": "https://localhost:8080/",
          "height": 34
        }
      },
      "source": [
        "!head -n 1 original.txt"
      ],
      "execution_count": 18,
      "outputs": [
        {
          "output_type": "stream",
          "text": [
            "ቀዝቃዛ ውኃ የዛለችን ነፍስ እንደሚያረካ ሁሉከሩቅ አገር የመጣ መልካም ወሬም እንዲሁ ነው።\n"
          ],
          "name": "stdout"
        }
      ]
    },
    {
      "cell_type": "code",
      "metadata": {
        "colab_type": "code",
        "id": "0gWSsH8R1FbT",
        "outputId": "ed2d83de-b24d-489e-f401-4268acaf4669",
        "colab": {
          "base_uri": "https://localhost:8080/",
          "height": 34
        }
      },
      "source": [
        "!head -n 1 transliterated.txt"
      ],
      "execution_count": 19,
      "outputs": [
        {
          "output_type": "stream",
          "text": [
            "kazeqaza weha yazalatchene nefsi inidamiyaraka hulukeruqe agar jameta melekam werem inedihu new.\n"
          ],
          "name": "stdout"
        }
      ]
    },
    {
      "cell_type": "code",
      "metadata": {
        "id": "LBlLlNWXnDGG",
        "colab_type": "code",
        "colab": {}
      },
      "source": [
        "import subprocess\n",
        "\n",
        "# Pull the first 10 originals and transliterateds\n",
        "originals = subprocess.run(\"head -n 1000 original.txt\",\n",
        "                            shell=True,\n",
        "                            stdout=subprocess.PIPE).stdout.decode(\"utf-8\").strip()\n",
        "transliterated = subprocess.run(\"head -n 1000 transliterated.txt\",\n",
        "                            shell=True,\n",
        "                            stdout=subprocess.PIPE).stdout.decode(\"utf-8\").strip()"
      ],
      "execution_count": 0,
      "outputs": []
    },
    {
      "cell_type": "code",
      "metadata": {
        "colab_type": "code",
        "id": "6wYh0Zi5GcKh",
        "colab": {}
      },
      "source": [
        "import re\n",
        "\n",
        "orig_test = [' '.join(word) for word in re.split('\\s+', originals)]\n",
        "trans_test = [' '.join(word) for word in re.split('\\s+', transliterated)]\n",
        "with open(\"data/test.txt\", 'w') as f:\n",
        "    f.write('\\n'.join(trans_test))"
      ],
      "execution_count": 0,
      "outputs": []
    },
    {
      "cell_type": "code",
      "metadata": {
        "id": "CVpJmHhJilhk",
        "colab_type": "code",
        "colab": {
          "base_uri": "https://localhost:8080/",
          "height": 51
        },
        "outputId": "4731b511-0e03-45fc-c7de-19129bfb4df1"
      },
      "source": [
        "print(len(trans_test), trans_test[:5])\n",
        "print(len(orig_test), orig_test[:5])"
      ],
      "execution_count": 61,
      "outputs": [
        {
          "output_type": "stream",
          "text": [
            "15417 ['k a z e q a z a', 'w e h a', 'y a z a l a t c h e n e', 'n e f s i', 'i n i d a m i y a r a k a']\n",
            "15417 ['ቀ ዝ ቃ ዛ', 'ው ኃ', 'የ ዛ ለ ች ን', 'ነ ፍ ስ', 'እ ን ደ ሚ ያ ረ ካ']\n"
          ],
          "name": "stdout"
        }
      ]
    },
    {
      "cell_type": "markdown",
      "metadata": {
        "colab_type": "text",
        "id": "kL7FyKlBGcKk"
      },
      "source": [
        "**You'll need to change the model name in `onmt_translate` below.** It's probably the most recently changed model file, so at the top of this list: "
      ]
    },
    {
      "cell_type": "code",
      "metadata": {
        "colab_type": "code",
        "id": "EkD1GQUeGcKk",
        "outputId": "38bdd51b-d340-4a99-8286-091248a73628",
        "colab": {
          "base_uri": "https://localhost:8080/",
          "height": 34
        }
      },
      "source": [
        "model_name = subprocess.run(\"ls -t *model* | head -n 1\",\n",
        "                            shell=True,\n",
        "                            stdout=subprocess.PIPE).stdout.decode(\"utf-8\").strip()\n",
        "print(\"Using model\", model_name)"
      ],
      "execution_count": 62,
      "outputs": [
        {
          "output_type": "stream",
          "text": [
            "Using model demo-model_step_10000.pt\n"
          ],
          "name": "stdout"
        }
      ]
    },
    {
      "cell_type": "code",
      "metadata": {
        "colab_type": "code",
        "id": "FFRDPiz6GcKn",
        "outputId": "3d74aa65-77b6-421c-e3ba-2fef6b95cd29",
        "colab": {
          "base_uri": "https://localhost:8080/",
          "height": 122
        }
      },
      "source": [
        "!onmt_translate \\\n",
        "    -model {model_name} \\\n",
        "    -src data/test.txt \\\n",
        "    -output data/pred.txt -replace_unk\n"
      ],
      "execution_count": 63,
      "outputs": [
        {
          "output_type": "stream",
          "text": [
            "[2020-05-08 04:54:09,626 INFO] Translating shard 0.\n",
            "/pytorch/aten/src/ATen/native/BinaryOps.cpp:66: UserWarning: Integer division of tensors using div or / is deprecated, and in a future release div will perform true division as in Python 3. Use true_divide or floor_divide (// in Python) instead.\n",
            "PRED AVG SCORE: -0.0619, PRED PPL: 1.0638\n",
            "[2020-05-08 04:55:40,394 INFO] Translating shard 1.\n",
            "PRED AVG SCORE: -0.0630, PRED PPL: 1.0650\n"
          ],
          "name": "stdout"
        }
      ]
    },
    {
      "cell_type": "code",
      "metadata": {
        "colab_type": "code",
        "id": "2Aw_FJI7GcKu",
        "outputId": "d490dec1-c442-4595-a2a8-0931d4a96adc",
        "colab": {
          "base_uri": "https://localhost:8080/",
          "height": 470
        }
      },
      "source": [
        "results = open(\"data/pred.txt\").read().splitlines()\n",
        "test_results = pd.DataFrame({\n",
        "    'result': results,\n",
        "    'original': orig_test,\n",
        "    'transliterated': trans_test\n",
        "})\n",
        "print((test_results.result == test_results.original).value_counts(normalize=True))\n",
        "test_results"
      ],
      "execution_count": 65,
      "outputs": [
        {
          "output_type": "stream",
          "text": [
            "True     0.824869\n",
            "False    0.175131\n",
            "dtype: float64\n"
          ],
          "name": "stdout"
        },
        {
          "output_type": "execute_result",
          "data": {
            "text/html": [
              "<div>\n",
              "<style scoped>\n",
              "    .dataframe tbody tr th:only-of-type {\n",
              "        vertical-align: middle;\n",
              "    }\n",
              "\n",
              "    .dataframe tbody tr th {\n",
              "        vertical-align: top;\n",
              "    }\n",
              "\n",
              "    .dataframe thead th {\n",
              "        text-align: right;\n",
              "    }\n",
              "</style>\n",
              "<table border=\"1\" class=\"dataframe\">\n",
              "  <thead>\n",
              "    <tr style=\"text-align: right;\">\n",
              "      <th></th>\n",
              "      <th>result</th>\n",
              "      <th>original</th>\n",
              "      <th>transliterated</th>\n",
              "    </tr>\n",
              "  </thead>\n",
              "  <tbody>\n",
              "    <tr>\n",
              "      <th>0</th>\n",
              "      <td>ካ ዘ ቀ ዘ</td>\n",
              "      <td>ቀ ዝ ቃ ዛ</td>\n",
              "      <td>k a z e q a z a</td>\n",
              "    </tr>\n",
              "    <tr>\n",
              "      <th>1</th>\n",
              "      <td>ው ኃ</td>\n",
              "      <td>ው ኃ</td>\n",
              "      <td>w e h a</td>\n",
              "    </tr>\n",
              "    <tr>\n",
              "      <th>2</th>\n",
              "      <td>የ ዘ ላ ች ን</td>\n",
              "      <td>የ ዛ ለ ች ን</td>\n",
              "      <td>y a z a l a t c h e n e</td>\n",
              "    </tr>\n",
              "    <tr>\n",
              "      <th>3</th>\n",
              "      <td>ነ ፍ ስ</td>\n",
              "      <td>ነ ፍ ስ</td>\n",
              "      <td>n e f s i</td>\n",
              "    </tr>\n",
              "    <tr>\n",
              "      <th>4</th>\n",
              "      <td>እ ን ደ ሚ ያ ረ ካ</td>\n",
              "      <td>እ ን ደ ሚ ያ ረ ካ</td>\n",
              "      <td>i n i d a m i y a r a k a</td>\n",
              "    </tr>\n",
              "    <tr>\n",
              "      <th>...</th>\n",
              "      <td>...</td>\n",
              "      <td>...</td>\n",
              "      <td>...</td>\n",
              "    </tr>\n",
              "    <tr>\n",
              "      <th>15412</th>\n",
              "      <td>ወ ገ ና ው ነ ት</td>\n",
              "      <td>ወ ገ ና ዊ ነ ት</td>\n",
              "      <td>w e g e n a ' w i n a t</td>\n",
              "    </tr>\n",
              "    <tr>\n",
              "      <th>15413</th>\n",
              "      <td>እ ን ደ ሚ ያ ጠ ቀ ው</td>\n",
              "      <td>እ ን ደ ሚ ያ ጠ ቃ ው</td>\n",
              "      <td>` e n e d a m i j a t e q a w e</td>\n",
              "    </tr>\n",
              "    <tr>\n",
              "      <th>15414</th>\n",
              "      <td>እ ን ደ ሚ ጠ ቁ ም</td>\n",
              "      <td>እ ን ደ ሚ ጠ ቁ ም</td>\n",
              "      <td>i n i d a m i t a k u m</td>\n",
              "    </tr>\n",
              "    <tr>\n",
              "      <th>15415</th>\n",
              "      <td>ም ን ጮ ቹ</td>\n",
              "      <td>ም ን ጮ ቹ</td>\n",
              "      <td>m e n e c h o t c h u</td>\n",
              "    </tr>\n",
              "    <tr>\n",
              "      <th>15416</th>\n",
              "      <td>አ ስ ረ ድ ተ ዋ ል ።</td>\n",
              "      <td>አ ስ ረ ድ ተ ዋ ል ።</td>\n",
              "      <td>' a s e r e d e t e w a l e .</td>\n",
              "    </tr>\n",
              "  </tbody>\n",
              "</table>\n",
              "<p>15417 rows × 3 columns</p>\n",
              "</div>"
            ],
            "text/plain": [
              "                result         original                   transliterated\n",
              "0              ካ ዘ ቀ ዘ          ቀ ዝ ቃ ዛ                  k a z e q a z a\n",
              "1                  ው ኃ              ው ኃ                          w e h a\n",
              "2            የ ዘ ላ ች ን        የ ዛ ለ ች ን          y a z a l a t c h e n e\n",
              "3                ነ ፍ ስ            ነ ፍ ስ                        n e f s i\n",
              "4        እ ን ደ ሚ ያ ረ ካ    እ ን ደ ሚ ያ ረ ካ        i n i d a m i y a r a k a\n",
              "...                ...              ...                              ...\n",
              "15412      ወ ገ ና ው ነ ት      ወ ገ ና ዊ ነ ት          w e g e n a ' w i n a t\n",
              "15413  እ ን ደ ሚ ያ ጠ ቀ ው  እ ን ደ ሚ ያ ጠ ቃ ው  ` e n e d a m i j a t e q a w e\n",
              "15414    እ ን ደ ሚ ጠ ቁ ም    እ ን ደ ሚ ጠ ቁ ም          i n i d a m i t a k u m\n",
              "15415          ም ን ጮ ቹ          ም ን ጮ ቹ            m e n e c h o t c h u\n",
              "15416  አ ስ ረ ድ ተ ዋ ል ።  አ ስ ረ ድ ተ ዋ ል ።    ' a s e r e d e t e w a l e .\n",
              "\n",
              "[15417 rows x 3 columns]"
            ]
          },
          "metadata": {
            "tags": []
          },
          "execution_count": 65
        }
      ]
    },
    {
      "cell_type": "code",
      "metadata": {
        "colab_type": "code",
        "id": "Uf0XpcnoGcKx",
        "colab": {}
      },
      "source": [
        ""
      ],
      "execution_count": 0,
      "outputs": []
    }
  ]
}