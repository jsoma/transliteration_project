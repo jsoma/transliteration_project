{
 "cells": [
  {
   "cell_type": "markdown",
   "metadata": {},
   "source": [
    "# Google transliterations\n",
    "\n",
    "Data is a bit of [the Bible](http://bible.geezexperience.com/amharic/list.php?book=46&chapter=2) pasted into Google Translate and cutting and pasting the transliteration from below.\n",
    "\n",
    "I'm not sure what transliteration scheme they use, but it is not SABER."
   ]
  },
  {
   "cell_type": "code",
   "execution_count": 34,
   "metadata": {},
   "outputs": [],
   "source": [
    "# If you want to pull down a page of text...\n",
    "# import requests\n",
    "# from bs4 import BeautifulSoup\n",
    "\n",
    "# response = requests.get(\"http://bible.geezexperience.com/amharic/list.php?book=43&chapter=4\")\n",
    "# doc = BeautifulSoup(response.text)\n",
    "# lines = [line.text.strip() for line in doc.select('dd > span.geez')]\n",
    "# print('\\n'.join(lines))"
   ]
  },
  {
   "cell_type": "code",
   "execution_count": 36,
   "metadata": {},
   "outputs": [
    {
     "data": {
      "text/plain": [
       "['በእግዚአብሔር ፈቃድ የኢየሱስ ክርስቶስ ሐዋርያ ሊሆን የተጠራ ጳውሎስ ወንድሙም ሶስቴንስ፥  \\n',\n",
       " 'በቆሮንቶስ ላለች ለእግዚአብሔር ቤተ ክርስቲያን፥ በክርስቶስ ኢየሱስ ለተቀደሱት፥ የእነርሱና የእኛ ጌታ የሆነውን የጌታችንን የኢየሱስ ክርስቶስን ስም በየስፍራው ከሚጠሩት ሁሉ ጋር ቅዱሳን ለመሆን ለተጠሩት፤  \\n',\n",
       " 'ከእግዚአብሔር ከአባታችን ከጌታም ከኢየሱስ ክርስቶስ ጸጋና ሰላም ለእናንተ ይሁን።  \\n',\n",
       " 'በክርስቶስ ኢየሱስ ስላመናችሁ በተሰጣችሁ በእግዚአብሔር ጸጋ ምክንያት ሁልጊዜ ስለ እናንተ አምላክን አመሰግናለሁ፤ \\n',\n",
       " 'ለክርስቶስ መመስከሬ በእናንተ ዘንድ እንደ ጸና፥ በነገር ሁሉ በቃልም ሁሉ በእውቀትም ሁሉ በእርሱ ባለ ጠጎች እንድትሆኑ ተደርጋችኋልና።  \\n']"
      ]
     },
     "execution_count": 36,
     "metadata": {},
     "output_type": "execute_result"
    }
   ],
   "source": [
    "original = open(\"raw/bible-original.txt\").readlines()\n",
    "original[:5]"
   ]
  },
  {
   "cell_type": "code",
   "execution_count": 37,
   "metadata": {},
   "outputs": [
    {
     "data": {
      "text/plain": [
       "['be’igizī’ābiḥēri fek’adi ye’īyesusi kirisitosi ḥāwariya līhoni yetet’era p’awilosi wenidimumi sositēnisi፥  \\n',\n",
       " 'bek’oronitosi lalechi le’igizī’ābiḥēri bēte kirisitīyani፥ bekirisitosi īyesusi letek’edesuti፥ ye’inerisuna ye’inya gēta yehonewini yegētachinini ye’īyesusi kirisitosini simi beyesifirawi kemīt’eruti hulu gari k’idusani lemehoni letet’eruti፤  \\n',\n",
       " 'ke’igizī’ābiḥēri ke’ābatachini kegētami ke’īyesusi kirisitosi ts’egana selami le’inanite yihuni።  \\n',\n",
       " 'bekirisitosi īyesusi silamenachihu beteset’achihu be’igizī’ābiḥēri ts’ega mikiniyati huligīzē sile inanite āmilakini āmeseginalehu፤ \\n',\n",
       " 'lekirisitosi memesikerē be’inanite zenidi inide ts’ena፥ benegeri hulu bek’alimi hulu be’iwik’etimi hulu be’irisu bale t’egochi iniditihonu tederigachiḫwalina።  \\n']"
      ]
     },
     "execution_count": 37,
     "metadata": {},
     "output_type": "execute_result"
    }
   ],
   "source": [
    "transliterated = open(\"raw/google-transliterated.txt\").readlines()\n",
    "transliterated[:5]"
   ]
  },
  {
   "cell_type": "markdown",
   "metadata": {},
   "source": [
    "How many rows do we have?"
   ]
  },
  {
   "cell_type": "code",
   "execution_count": 38,
   "metadata": {},
   "outputs": [
    {
     "name": "stdout",
     "output_type": "stream",
     "text": [
      "191\n",
      "191\n"
     ]
    }
   ],
   "source": [
    "print(len(original))\n",
    "print(len(transliterated))"
   ]
  },
  {
   "cell_type": "code",
   "execution_count": 39,
   "metadata": {},
   "outputs": [],
   "source": [
    "import pandas as pd"
   ]
  },
  {
   "cell_type": "code",
   "execution_count": 40,
   "metadata": {},
   "outputs": [
    {
     "data": {
      "text/html": [
       "<div>\n",
       "<style scoped>\n",
       "    .dataframe tbody tr th:only-of-type {\n",
       "        vertical-align: middle;\n",
       "    }\n",
       "\n",
       "    .dataframe tbody tr th {\n",
       "        vertical-align: top;\n",
       "    }\n",
       "\n",
       "    .dataframe thead th {\n",
       "        text-align: right;\n",
       "    }\n",
       "</style>\n",
       "<table border=\"1\" class=\"dataframe\">\n",
       "  <thead>\n",
       "    <tr style=\"text-align: right;\">\n",
       "      <th></th>\n",
       "      <th>orig</th>\n",
       "      <th>trans</th>\n",
       "    </tr>\n",
       "  </thead>\n",
       "  <tbody>\n",
       "    <tr>\n",
       "      <th>0</th>\n",
       "      <td>በእግዚአብሔር ፈቃድ የኢየሱስ ክርስቶስ ሐዋርያ ሊሆን የተጠራ ጳውሎስ ወን...</td>\n",
       "      <td>be’igizī’ābiḥēri fek’adi ye’īyesusi kirisitos...</td>\n",
       "    </tr>\n",
       "    <tr>\n",
       "      <th>1</th>\n",
       "      <td>በቆሮንቶስ ላለች ለእግዚአብሔር ቤተ ክርስቲያን፥ በክርስቶስ ኢየሱስ ለተቀ...</td>\n",
       "      <td>bek’oronitosi lalechi le’igizī’ābiḥēri bēte k...</td>\n",
       "    </tr>\n",
       "    <tr>\n",
       "      <th>2</th>\n",
       "      <td>ከእግዚአብሔር ከአባታችን ከጌታም ከኢየሱስ ክርስቶስ ጸጋና ሰላም ለእናንተ...</td>\n",
       "      <td>ke’igizī’ābiḥēri ke’ābatachini kegētami ke’īy...</td>\n",
       "    </tr>\n",
       "    <tr>\n",
       "      <th>3</th>\n",
       "      <td>በክርስቶስ ኢየሱስ ስላመናችሁ በተሰጣችሁ በእግዚአብሔር ጸጋ ምክንያት ሁል...</td>\n",
       "      <td>bekirisitosi īyesusi silamenachihu beteset’ach...</td>\n",
       "    </tr>\n",
       "    <tr>\n",
       "      <th>4</th>\n",
       "      <td>ለክርስቶስ መመስከሬ በእናንተ ዘንድ እንደ ጸና፥ በነገር ሁሉ በቃልም ሁሉ...</td>\n",
       "      <td>lekirisitosi memesikerē be’inanite zenidi inid...</td>\n",
       "    </tr>\n",
       "  </tbody>\n",
       "</table>\n",
       "</div>"
      ],
      "text/plain": [
       "                                                orig  \\\n",
       "0  በእግዚአብሔር ፈቃድ የኢየሱስ ክርስቶስ ሐዋርያ ሊሆን የተጠራ ጳውሎስ ወን...   \n",
       "1  በቆሮንቶስ ላለች ለእግዚአብሔር ቤተ ክርስቲያን፥ በክርስቶስ ኢየሱስ ለተቀ...   \n",
       "2  ከእግዚአብሔር ከአባታችን ከጌታም ከኢየሱስ ክርስቶስ ጸጋና ሰላም ለእናንተ...   \n",
       "3  በክርስቶስ ኢየሱስ ስላመናችሁ በተሰጣችሁ በእግዚአብሔር ጸጋ ምክንያት ሁል...   \n",
       "4  ለክርስቶስ መመስከሬ በእናንተ ዘንድ እንደ ጸና፥ በነገር ሁሉ በቃልም ሁሉ...   \n",
       "\n",
       "                                               trans  \n",
       "0  be’igizī’ābiḥēri fek’adi ye’īyesusi kirisitos...  \n",
       "1  bek’oronitosi lalechi le’igizī’ābiḥēri bēte k...  \n",
       "2  ke’igizī’ābiḥēri ke’ābatachini kegētami ke’īy...  \n",
       "3  bekirisitosi īyesusi silamenachihu beteset’ach...  \n",
       "4  lekirisitosi memesikerē be’inanite zenidi inid...  "
      ]
     },
     "execution_count": 40,
     "metadata": {},
     "output_type": "execute_result"
    }
   ],
   "source": [
    "sentences = pd.DataFrame({\n",
    "    'orig': original,\n",
    "    'trans': transliterated\n",
    "})\n",
    "sentences.head()"
   ]
  },
  {
   "cell_type": "markdown",
   "metadata": {},
   "source": [
    "# Vert files\n",
    "\n",
    "These were transliterated using **SABER**, which is different than what was done with the Google transliterations!"
   ]
  },
  {
   "cell_type": "code",
   "execution_count": 41,
   "metadata": {},
   "outputs": [
    {
     "data": {
      "text/html": [
       "<div>\n",
       "<style scoped>\n",
       "    .dataframe tbody tr th:only-of-type {\n",
       "        vertical-align: middle;\n",
       "    }\n",
       "\n",
       "    .dataframe tbody tr th {\n",
       "        vertical-align: top;\n",
       "    }\n",
       "\n",
       "    .dataframe thead th {\n",
       "        text-align: right;\n",
       "    }\n",
       "</style>\n",
       "<table border=\"1\" class=\"dataframe\">\n",
       "  <thead>\n",
       "    <tr style=\"text-align: right;\">\n",
       "      <th></th>\n",
       "      <th>orig</th>\n",
       "      <th>pos</th>\n",
       "      <th>trans</th>\n",
       "    </tr>\n",
       "  </thead>\n",
       "  <tbody>\n",
       "    <tr>\n",
       "      <th>0</th>\n",
       "      <td>&lt;doc id=\"mes01a1.htm\"&gt;</td>\n",
       "      <td>None</td>\n",
       "      <td>None</td>\n",
       "    </tr>\n",
       "    <tr>\n",
       "      <th>1</th>\n",
       "      <td>&lt;title&gt;</td>\n",
       "      <td>None</td>\n",
       "      <td>None</td>\n",
       "    </tr>\n",
       "    <tr>\n",
       "      <th>2</th>\n",
       "      <td>ልዩ</td>\n",
       "      <td>ADJ</td>\n",
       "      <td>lyu</td>\n",
       "    </tr>\n",
       "    <tr>\n",
       "      <th>3</th>\n",
       "      <td>ዞኑ</td>\n",
       "      <td>N</td>\n",
       "      <td>zonu</td>\n",
       "    </tr>\n",
       "    <tr>\n",
       "      <th>4</th>\n",
       "      <td>ያስገነባቸው</td>\n",
       "      <td>VREL</td>\n",
       "      <td>yasgenebacew</td>\n",
       "    </tr>\n",
       "  </tbody>\n",
       "</table>\n",
       "</div>"
      ],
      "text/plain": [
       "                     orig   pos         trans\n",
       "0  <doc id=\"mes01a1.htm\">  None          None\n",
       "1                 <title>  None          None\n",
       "2                      ልዩ   ADJ           lyu\n",
       "3                      ዞኑ     N          zonu\n",
       "4                 ያስገነባቸው  VREL  yasgenebacew"
      ]
     },
     "execution_count": 41,
     "metadata": {},
     "output_type": "execute_result"
    }
   ],
   "source": [
    "lines = open(\"raw/wic.vert\", errors='ignore').readlines()\n",
    "vert = pd.DataFrame(\n",
    "    [line.strip().split(\"\\t\") for line in lines],\n",
    "    columns=['orig', 'pos', 'trans']\n",
    ")\n",
    "vert.head()"
   ]
  },
  {
   "cell_type": "code",
   "execution_count": 42,
   "metadata": {},
   "outputs": [
    {
     "name": "stdout",
     "output_type": "stream",
     "text": [
      "(204821, 3)\n",
      "(200514, 2)\n"
     ]
    },
    {
     "data": {
      "text/html": [
       "<div>\n",
       "<style scoped>\n",
       "    .dataframe tbody tr th:only-of-type {\n",
       "        vertical-align: middle;\n",
       "    }\n",
       "\n",
       "    .dataframe tbody tr th {\n",
       "        vertical-align: top;\n",
       "    }\n",
       "\n",
       "    .dataframe thead th {\n",
       "        text-align: right;\n",
       "    }\n",
       "</style>\n",
       "<table border=\"1\" class=\"dataframe\">\n",
       "  <thead>\n",
       "    <tr style=\"text-align: right;\">\n",
       "      <th></th>\n",
       "      <th>orig</th>\n",
       "      <th>trans</th>\n",
       "    </tr>\n",
       "  </thead>\n",
       "  <tbody>\n",
       "    <tr>\n",
       "      <th>2</th>\n",
       "      <td>ልዩ</td>\n",
       "      <td>lyu</td>\n",
       "    </tr>\n",
       "    <tr>\n",
       "      <th>3</th>\n",
       "      <td>ዞኑ</td>\n",
       "      <td>zonu</td>\n",
       "    </tr>\n",
       "    <tr>\n",
       "      <th>4</th>\n",
       "      <td>ያስገነባቸው</td>\n",
       "      <td>yasgenebacew</td>\n",
       "    </tr>\n",
       "    <tr>\n",
       "      <th>5</th>\n",
       "      <td>ፕሮጀክቶች</td>\n",
       "      <td>projektoc</td>\n",
       "    </tr>\n",
       "    <tr>\n",
       "      <th>6</th>\n",
       "      <td>50ሺ</td>\n",
       "      <td>50xi</td>\n",
       "    </tr>\n",
       "  </tbody>\n",
       "</table>\n",
       "</div>"
      ],
      "text/plain": [
       "      orig         trans\n",
       "2       ልዩ           lyu\n",
       "3       ዞኑ          zonu\n",
       "4  ያስገነባቸው  yasgenebacew\n",
       "5   ፕሮጀክቶች     projektoc\n",
       "6      50ሺ          50xi"
      ]
     },
     "execution_count": 42,
     "metadata": {},
     "output_type": "execute_result"
    }
   ],
   "source": [
    "print(vert.shape)\n",
    "vert = vert.dropna()\n",
    "vert = vert.drop(columns=['pos'])\n",
    "print(vert.shape)\n",
    "vert.head()"
   ]
  },
  {
   "cell_type": "markdown",
   "metadata": {},
   "source": [
    "# Mixing them together\n",
    "\n",
    "Not a good idea since there are *so* many more things in the vert files. Y'know since SABER is automated we can probably just ignore the vert files and find a Pythonic way to convert from Ethiopic script to SABER?"
   ]
  },
  {
   "cell_type": "code",
   "execution_count": 45,
   "metadata": {},
   "outputs": [],
   "source": [
    "# df = pd.concat([vert, sentences], sort=False)[['orig', 'trans']]\n",
    "# df"
   ]
  },
  {
   "cell_type": "markdown",
   "metadata": {},
   "source": [
    "# Saving for OpenNMT v2\n",
    "\n",
    "The first time I split with spaces and it was all very strange. That code was this:\n",
    "\n",
    "```python\n",
    "df['trans_spaced'] = df.trans.str.join(' ')\n",
    "df['orig_spaced'] = df.orig.str.join(' ')\n",
    "```\n",
    "\n",
    "But, yeah, not using it!"
   ]
  },
  {
   "cell_type": "code",
   "execution_count": 53,
   "metadata": {
    "scrolled": true
   },
   "outputs": [
    {
     "name": "stdout",
     "output_type": "stream",
     "text": [
      "Training on (152, 2)\n",
      "Testing on (39, 2)\n"
     ]
    }
   ],
   "source": [
    "from sklearn.model_selection import train_test_split\n",
    "\n",
    "train, test = train_test_split(sentences, test_size=0.2)\n",
    "\n",
    "print(\"Training on\", train.shape)\n",
    "print(\"Testing on\", test.shape)"
   ]
  },
  {
   "cell_type": "code",
   "execution_count": 54,
   "metadata": {},
   "outputs": [],
   "source": [
    "!mkdir -p data"
   ]
  },
  {
   "cell_type": "markdown",
   "metadata": {},
   "source": [
    "> The data consists of parallel source (src) and target (tgt) data containing one sentence per line with tokens separated by a space:\n",
    "> \n",
    "> * `src-train.txt`\n",
    "> * `tgt-train.txt`\n",
    "> * `src-val.txt`\n",
    "> * `tgt-val.txt`\n",
    "> \n",
    "> Validation files are required and used to evaluate the convergence of the training. It usually contains no more than 5000 sentences.\n"
   ]
  },
  {
   "cell_type": "code",
   "execution_count": 55,
   "metadata": {},
   "outputs": [],
   "source": [
    "# Save as training\n",
    "train.trans.to_csv(\"data/src-train.txt\", header=False, index=False)\n",
    "train.orig.to_csv(\"data/tgt-train.txt\", header=False, index=False)\n",
    "\n",
    "# Save as testing\n",
    "test.trans.to_csv(\"data/src-val.txt\", header=False, index=False)\n",
    "test.orig.to_csv(\"data/tgt-val.txt\", header=False, index=False)"
   ]
  },
  {
   "cell_type": "code",
   "execution_count": null,
   "metadata": {},
   "outputs": [],
   "source": []
  }
 ],
 "metadata": {
  "kernelspec": {
   "display_name": "Python 3",
   "language": "python",
   "name": "python3"
  },
  "language_info": {
   "codemirror_mode": {
    "name": "ipython",
    "version": 3
   },
   "file_extension": ".py",
   "mimetype": "text/x-python",
   "name": "python",
   "nbconvert_exporter": "python",
   "pygments_lexer": "ipython3",
   "version": "3.6.8"
  },
  "toc": {
   "base_numbering": 1,
   "nav_menu": {},
   "number_sections": true,
   "sideBar": true,
   "skip_h1_title": false,
   "title_cell": "Table of Contents",
   "title_sidebar": "Contents",
   "toc_cell": false,
   "toc_position": {},
   "toc_section_display": true,
   "toc_window_display": false
  }
 },
 "nbformat": 4,
 "nbformat_minor": 2
}
