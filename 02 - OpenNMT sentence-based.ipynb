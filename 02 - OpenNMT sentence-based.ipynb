{
  "nbformat": 4,
  "nbformat_minor": 0,
  "metadata": {
    "accelerator": "GPU",
    "colab": {
      "name": "02 - OpenNMT - sentence-based.ipynb",
      "provenance": [],
      "collapsed_sections": [],
      "toc_visible": true
    },
    "kernelspec": {
      "display_name": "Python 3",
      "language": "python",
      "name": "python3"
    },
    "language_info": {
      "codemirror_mode": {
        "name": "ipython",
        "version": 3
      },
      "file_extension": ".py",
      "mimetype": "text/x-python",
      "name": "python",
      "nbconvert_exporter": "python",
      "pygments_lexer": "ipython3",
      "version": "3.6.8"
    },
    "toc": {
      "base_numbering": 1,
      "nav_menu": {},
      "number_sections": true,
      "sideBar": true,
      "skip_h1_title": false,
      "title_cell": "Table of Contents",
      "title_sidebar": "Contents",
      "toc_cell": false,
      "toc_position": {},
      "toc_section_display": true,
      "toc_window_display": false
    }
  },
  "cells": [
    {
      "cell_type": "markdown",
      "metadata": {
        "id": "_j27NAQLilgd",
        "colab_type": "text"
      },
      "source": [
        "# Creating test and train datasets"
      ]
    },
    {
      "cell_type": "code",
      "metadata": {
        "id": "UlzmLwVPiv18",
        "colab_type": "code",
        "colab": {
          "base_uri": "https://localhost:8080/",
          "height": 68
        },
        "outputId": "adfd40b2-62f8-4824-a4ec-d854fc0d660e"
      },
      "source": [
        "!unzip Archive.zip"
      ],
      "execution_count": 1,
      "outputs": [
        {
          "output_type": "stream",
          "text": [
            "Archive:  Archive.zip\n",
            "  inflating: original.txt            \n",
            "  inflating: transliterated.txt      \n"
          ],
          "name": "stdout"
        }
      ]
    },
    {
      "cell_type": "code",
      "metadata": {
        "colab_type": "code",
        "id": "8ZrK5seWGcJ0",
        "outputId": "5275c4ce-c774-4c5c-90c8-df6d4eb758f3",
        "colab": {
          "base_uri": "https://localhost:8080/",
          "height": 204
        }
      },
      "source": [
        "import pandas as pd\n",
        "import re\n",
        "\n",
        "original = open(\"original.txt\").read()\n",
        "transliterated = open(\"transliterated.txt\").read()\n",
        "\n",
        "words = pd.DataFrame({\n",
        "    'orig': re.split(r'\\n', original),\n",
        "    'trans': re.split(r'\\n', transliterated)\n",
        "})\n",
        "words.head()"
      ],
      "execution_count": 188,
      "outputs": [
        {
          "output_type": "execute_result",
          "data": {
            "text/html": [
              "<div>\n",
              "<style scoped>\n",
              "    .dataframe tbody tr th:only-of-type {\n",
              "        vertical-align: middle;\n",
              "    }\n",
              "\n",
              "    .dataframe tbody tr th {\n",
              "        vertical-align: top;\n",
              "    }\n",
              "\n",
              "    .dataframe thead th {\n",
              "        text-align: right;\n",
              "    }\n",
              "</style>\n",
              "<table border=\"1\" class=\"dataframe\">\n",
              "  <thead>\n",
              "    <tr style=\"text-align: right;\">\n",
              "      <th></th>\n",
              "      <th>orig</th>\n",
              "      <th>trans</th>\n",
              "    </tr>\n",
              "  </thead>\n",
              "  <tbody>\n",
              "    <tr>\n",
              "      <th>0</th>\n",
              "      <td>ቀዝቃዛ ውኃ የዛለችን ነፍስ እንደሚያረካ ሁሉከሩቅ አገር የመጣ መልካም ወ...</td>\n",
              "      <td>kazeqaza weha yazalatchene nefsi inidamiyaraka...</td>\n",
              "    </tr>\n",
              "    <tr>\n",
              "      <th>1</th>\n",
              "      <td>በመልካም ሁኔታ የሚያስተዳድሩ በተለይ ደግሞ በመናገርና በማስተማር ተግተው...</td>\n",
              "      <td>bemalkam huneta jamiyasitadaderu batelaye dagi...</td>\n",
              "    </tr>\n",
              "    <tr>\n",
              "      <th>2</th>\n",
              "      <td>መጽሐፍ ቅዱስ በመጨረሻዎቹ ቀናት ክፋት በከፍተኛ ሁኔታ እንደሚባባስ ይነግ...</td>\n",
              "      <td>mashefe qduse bemeceraxawotchu qana'te kefat b...</td>\n",
              "    </tr>\n",
              "    <tr>\n",
              "      <th>3</th>\n",
              "      <td>የአክሱም ሐውልት ሁለተኛው ክፋይ አክሱም ገባ</td>\n",
              "      <td>ye'akesum hawlte huletanaw kfaye akisume geba</td>\n",
              "    </tr>\n",
              "    <tr>\n",
              "      <th>4</th>\n",
              "      <td>የሴም ወንዶች ልጆች ኤላም፣ አሹር፣ አርፋክስድ፣ ሉድ እና አራም ነበሩ።</td>\n",
              "      <td>yasyeme wanidwoce lgoce 'elam, `ashure, `arifa...</td>\n",
              "    </tr>\n",
              "  </tbody>\n",
              "</table>\n",
              "</div>"
            ],
            "text/plain": [
              "                                                orig                                              trans\n",
              "0  ቀዝቃዛ ውኃ የዛለችን ነፍስ እንደሚያረካ ሁሉከሩቅ አገር የመጣ መልካም ወ...  kazeqaza weha yazalatchene nefsi inidamiyaraka...\n",
              "1  በመልካም ሁኔታ የሚያስተዳድሩ በተለይ ደግሞ በመናገርና በማስተማር ተግተው...  bemalkam huneta jamiyasitadaderu batelaye dagi...\n",
              "2  መጽሐፍ ቅዱስ በመጨረሻዎቹ ቀናት ክፋት በከፍተኛ ሁኔታ እንደሚባባስ ይነግ...  mashefe qduse bemeceraxawotchu qana'te kefat b...\n",
              "3                       የአክሱም ሐውልት ሁለተኛው ክፋይ አክሱም ገባ      ye'akesum hawlte huletanaw kfaye akisume geba\n",
              "4      የሴም ወንዶች ልጆች ኤላም፣ አሹር፣ አርፋክስድ፣ ሉድ እና አራም ነበሩ።  yasyeme wanidwoce lgoce 'elam, `ashure, `arifa..."
            ]
          },
          "metadata": {
            "tags": []
          },
          "execution_count": 188
        }
      ]
    },
    {
      "cell_type": "code",
      "metadata": {
        "id": "x6sUbhu3ilgm",
        "colab_type": "code",
        "colab": {}
      },
      "source": [
        "words.orig = words.orig.str.join(' ')\n",
        "words.trans = words.trans.str.join(' ')"
      ],
      "execution_count": 0,
      "outputs": []
    },
    {
      "cell_type": "code",
      "metadata": {
        "id": "SqjZngkYilgq",
        "colab_type": "code",
        "colab": {
          "base_uri": "https://localhost:8080/",
          "height": 359
        },
        "outputId": "f2fb6186-358d-4e87-d096-73208915e3b5"
      },
      "source": [
        "words.head(10)"
      ],
      "execution_count": 190,
      "outputs": [
        {
          "output_type": "execute_result",
          "data": {
            "text/html": [
              "<div>\n",
              "<style scoped>\n",
              "    .dataframe tbody tr th:only-of-type {\n",
              "        vertical-align: middle;\n",
              "    }\n",
              "\n",
              "    .dataframe tbody tr th {\n",
              "        vertical-align: top;\n",
              "    }\n",
              "\n",
              "    .dataframe thead th {\n",
              "        text-align: right;\n",
              "    }\n",
              "</style>\n",
              "<table border=\"1\" class=\"dataframe\">\n",
              "  <thead>\n",
              "    <tr style=\"text-align: right;\">\n",
              "      <th></th>\n",
              "      <th>orig</th>\n",
              "      <th>trans</th>\n",
              "    </tr>\n",
              "  </thead>\n",
              "  <tbody>\n",
              "    <tr>\n",
              "      <th>0</th>\n",
              "      <td>ቀ ዝ ቃ ዛ   ው ኃ   የ ዛ ለ ች ን   ነ ፍ ስ   እ ን ደ ሚ ያ ...</td>\n",
              "      <td>k a z e q a z a   w e h a   y a z a l a t c h ...</td>\n",
              "    </tr>\n",
              "    <tr>\n",
              "      <th>1</th>\n",
              "      <td>በ መ ል ካ ም   ሁ ኔ ታ   የ ሚ ያ ስ ተ ዳ ድ ሩ   በ ተ ለ ይ ...</td>\n",
              "      <td>b e m a l k a m   h u n e t a   j a m i y a s ...</td>\n",
              "    </tr>\n",
              "    <tr>\n",
              "      <th>2</th>\n",
              "      <td>መ ጽ ሐ ፍ   ቅ ዱ ስ   በ መ ጨ ረ ሻ ዎ ቹ   ቀ ና ት   ክ ፋ ...</td>\n",
              "      <td>m a s h e f e   q d u s e   b e m e c e r a x ...</td>\n",
              "    </tr>\n",
              "    <tr>\n",
              "      <th>3</th>\n",
              "      <td>የ አ ክ ሱ ም   ሐ ው ል ት   ሁ ለ ተ ኛ ው   ክ ፋ ይ   አ ክ ...</td>\n",
              "      <td>y e ' a k e s u m   h a w l t e   h u l e t a ...</td>\n",
              "    </tr>\n",
              "    <tr>\n",
              "      <th>4</th>\n",
              "      <td>የ ሴ ም   ወ ን ዶ ች   ል ጆ ች   ኤ ላ ም ፣   አ ሹ ር ፣   ...</td>\n",
              "      <td>y a s y e m e   w a n i d w o c e   l g o c e ...</td>\n",
              "    </tr>\n",
              "    <tr>\n",
              "      <th>5</th>\n",
              "      <td>ለ ሚ መ ረ ም ሩ ኝ   የ ማ ቀ ር በ ው   የ መ ከ ላ ከ ያ   መ ...</td>\n",
              "      <td>l a m i m a r e m e r u n   y a m a q e r e b ...</td>\n",
              "    </tr>\n",
              "    <tr>\n",
              "      <th>6</th>\n",
              "      <td>ያ ለ ነ ቀ ፋ   የ ሚ መ ላ ለ ስ ፣ ት ክ ክ ል   የ ሆ ነ ው ን ...</td>\n",
              "      <td>y a l a n a q e f a   y a m i m a l a l e s , ...</td>\n",
              "    </tr>\n",
              "    <tr>\n",
              "      <th>7</th>\n",
              "      <td>ገ ና   ሳ ይ ጣ ሩ   እ መ ል ስ ላ ቸ ዋ ለ ሁ ፤ እ የ ተ ና ገ ...</td>\n",
              "      <td>g e n a   s a y i t a r u   i m a l i s e l a ...</td>\n",
              "    </tr>\n",
              "    <tr>\n",
              "      <th>8</th>\n",
              "      <td>በ ዚ ህ   ጊ ዜ   ደ ቀ   መ ዛ ሙ ር ቱ   “ ጌ ታ   ሆ ይ ፣ ...</td>\n",
              "      <td>b a z i h   g i z e   d a q e   m e z a m u r ...</td>\n",
              "    </tr>\n",
              "    <tr>\n",
              "      <th>9</th>\n",
              "      <td>ል ብ ህ   በ አ ም ላ ክ   ፊ ት   ቀ ና   ስ ላ ል ሆ ነ   በ ...</td>\n",
              "      <td>l i b i h e   b e a m i l a k i   f i t e   k ...</td>\n",
              "    </tr>\n",
              "  </tbody>\n",
              "</table>\n",
              "</div>"
            ],
            "text/plain": [
              "                                                orig                                              trans\n",
              "0  ቀ ዝ ቃ ዛ   ው ኃ   የ ዛ ለ ች ን   ነ ፍ ስ   እ ን ደ ሚ ያ ...  k a z e q a z a   w e h a   y a z a l a t c h ...\n",
              "1  በ መ ል ካ ም   ሁ ኔ ታ   የ ሚ ያ ስ ተ ዳ ድ ሩ   በ ተ ለ ይ ...  b e m a l k a m   h u n e t a   j a m i y a s ...\n",
              "2  መ ጽ ሐ ፍ   ቅ ዱ ስ   በ መ ጨ ረ ሻ ዎ ቹ   ቀ ና ት   ክ ፋ ...  m a s h e f e   q d u s e   b e m e c e r a x ...\n",
              "3  የ አ ክ ሱ ም   ሐ ው ል ት   ሁ ለ ተ ኛ ው   ክ ፋ ይ   አ ክ ...  y e ' a k e s u m   h a w l t e   h u l e t a ...\n",
              "4  የ ሴ ም   ወ ን ዶ ች   ል ጆ ች   ኤ ላ ም ፣   አ ሹ ር ፣   ...  y a s y e m e   w a n i d w o c e   l g o c e ...\n",
              "5  ለ ሚ መ ረ ም ሩ ኝ   የ ማ ቀ ር በ ው   የ መ ከ ላ ከ ያ   መ ...  l a m i m a r e m e r u n   y a m a q e r e b ...\n",
              "6  ያ ለ ነ ቀ ፋ   የ ሚ መ ላ ለ ስ ፣ ት ክ ክ ል   የ ሆ ነ ው ን ...  y a l a n a q e f a   y a m i m a l a l e s , ...\n",
              "7  ገ ና   ሳ ይ ጣ ሩ   እ መ ል ስ ላ ቸ ዋ ለ ሁ ፤ እ የ ተ ና ገ ...  g e n a   s a y i t a r u   i m a l i s e l a ...\n",
              "8  በ ዚ ህ   ጊ ዜ   ደ ቀ   መ ዛ ሙ ር ቱ   “ ጌ ታ   ሆ ይ ፣ ...  b a z i h   g i z e   d a q e   m e z a m u r ...\n",
              "9  ል ብ ህ   በ አ ም ላ ክ   ፊ ት   ቀ ና   ስ ላ ል ሆ ነ   በ ...  l i b i h e   b e a m i l a k i   f i t e   k ..."
            ]
          },
          "metadata": {
            "tags": []
          },
          "execution_count": 190
        }
      ]
    },
    {
      "cell_type": "code",
      "metadata": {
        "colab_type": "code",
        "id": "eviPJFoCGcJ6",
        "outputId": "e7955f53-9060-49ad-d5ba-d4ed2211a356",
        "colab": {
          "base_uri": "https://localhost:8080/",
          "height": 51
        }
      },
      "source": [
        "from sklearn.model_selection import train_test_split\n",
        "\n",
        "train, test = train_test_split(words, test_size=5000)\n",
        "\n",
        "print(\"Training on\", train.shape)\n",
        "print(\"Testing on\", test.shape)\n",
        "\n",
        "!mkdir -p data\n",
        "\n",
        "# Save as training\n",
        "# Can't use .to_csv because of quotins\n",
        "with open('data/src-train.txt', 'w') as f:\n",
        "    f.write('\\n'.join(train.trans))\n",
        "with open('data/tgt-train.txt', 'w') as f:\n",
        "    f.write('\\n'.join(train.orig))\n",
        "\n",
        "with open('data/src-val.txt', 'w') as f:\n",
        "    f.write('\\n'.join(test.trans))\n",
        "with open('data/tgt-val.txt', 'w') as f:\n",
        "    f.write('\\n'.join(test.orig))"
      ],
      "execution_count": 191,
      "outputs": [
        {
          "output_type": "stream",
          "text": [
            "Training on (92280, 2)\n",
            "Testing on (5000, 2)\n"
          ],
          "name": "stdout"
        }
      ]
    },
    {
      "cell_type": "code",
      "metadata": {
        "id": "M4AFtbrgj2v2",
        "colab_type": "code",
        "colab": {
          "base_uri": "https://localhost:8080/",
          "height": 122
        },
        "outputId": "d3d9b21e-ee35-4aac-9de7-8f2c1695de3a"
      },
      "source": [
        "!head -n 5 data/tgt-val.txt"
      ],
      "execution_count": 192,
      "outputs": [
        {
          "output_type": "stream",
          "text": [
            "በ ተ ለ ያ ዩ   መ ን ገ ዶ ች   ሊ ሰ ጥ   ይ ች ላ ል ።\n",
            "ሊ ተ ገ በ ሩ   የ ታ ቀ ዱ   ፕ ሮ ጀ ክ ቶ ች ን   አ ዋ ጭ ነ ት   ይ መ ረ ም ራ ል ፤ አ ስ ተ ያ የ ት   ያ ቀ ር ብ ባ ቸ ዋ ል ፤   ለ ቦ ር ዱ   እ ና   ለ ሚ ኒ ስ ቴ ሩ   የ ው ሳ ኔ   ሃ ሳ ብ   ያ ቀ ር ባ ል ፤\n",
            "ሆ ኖ ም   ይ ሖ ዋ   ሳ ሙ ኤ ል ን   እ ን ዲ ህ   አ ለ ው ፦   “ እ ኔ   ስ ላ ል ተ ቀ በ ል ኩ ት   መ ል ኩ ን ና   የ ቁ መ ቱ ን   ር ዝ ማ ኔ   አ ት ይ ።   አ ም ላ ክ   የ ሚ ያ የ ው   ሰ ው   በ ሚ ያ ይ በ ት   መ ን ገ ድ   አ ይ ደ ለ ም ፤   ም ክ ን ያ ቱ ም   ሰ ው   የ ሚ ያ የ ው   ው ጫ ዊ   ገ ጽ ታ ን   ነ ው ፤   ይ ሖ ዋ   ግ ን   የ ሚ ያ የ ው   ል ብ ን   ነ ው ። ”\n",
            "በ ላ ባ ዎ ቹ   ይ ከ ል ል ሃ ል ፤ በ ክ ን ፎ ቹ ም   ሥ ር   መ ጠ ጊ ያ   ታ ገ ኛ ለ ህ ።   ታ ማ ኝ ነ ቱ   ት ል ቅ   ጋ ሻ ና   መ ከ ላ ከ ያ   ቅ ጥ ር   ይ ሆ ን ል ሃ ል ።\n",
            "ጥ ሩ   ስ ም   ከ ጥ ሩ   ዘ ይ ት ፣   የ ሞ ት ም   ቀ ን   ከ ል ደ ት   ቀ ን   ይ ሻ ላ ል ።\n"
          ],
          "name": "stdout"
        }
      ]
    },
    {
      "cell_type": "code",
      "metadata": {
        "colab_type": "code",
        "id": "SQVlDeyoGcJ-",
        "outputId": "f0383d3d-e8dc-4146-8b3f-1431e3155c34",
        "colab": {
          "base_uri": "https://localhost:8080/",
          "height": 204
        }
      },
      "source": [
        "train.head()"
      ],
      "execution_count": 193,
      "outputs": [
        {
          "output_type": "execute_result",
          "data": {
            "text/html": [
              "<div>\n",
              "<style scoped>\n",
              "    .dataframe tbody tr th:only-of-type {\n",
              "        vertical-align: middle;\n",
              "    }\n",
              "\n",
              "    .dataframe tbody tr th {\n",
              "        vertical-align: top;\n",
              "    }\n",
              "\n",
              "    .dataframe thead th {\n",
              "        text-align: right;\n",
              "    }\n",
              "</style>\n",
              "<table border=\"1\" class=\"dataframe\">\n",
              "  <thead>\n",
              "    <tr style=\"text-align: right;\">\n",
              "      <th></th>\n",
              "      <th>orig</th>\n",
              "      <th>trans</th>\n",
              "    </tr>\n",
              "  </thead>\n",
              "  <tbody>\n",
              "    <tr>\n",
              "      <th>67722</th>\n",
              "      <td>ኢ የ ሱ ስ ፣   አ ም ላ ክ ን   ስ ለ   መ ው ደ ድ   ሲ ና ገ ...</td>\n",
              "      <td>` i y a s u s i ,   a m e l a k e n i   s i l ...</td>\n",
              "    </tr>\n",
              "    <tr>\n",
              "      <th>89263</th>\n",
              "      <td>ይ ሖ ዋ   ሆ ይ ፣   ከ አ ማ ል ክ ት   መ ካ ከ ል   እ ን ደ ...</td>\n",
              "      <td>j e h w o w a   h o y ,   k a ` a m a l k t   ...</td>\n",
              "    </tr>\n",
              "    <tr>\n",
              "      <th>82307</th>\n",
              "      <td>ከ ዚ ያ ም   የ ማ ረ ኳ ቸ ው ን   ሰ ዎ ች ና   የ ዘ ረ ፉ ት ...</td>\n",
              "      <td>k e z i y a m e   y a m a r e k w a t c h a w ...</td>\n",
              "    </tr>\n",
              "    <tr>\n",
              "      <th>24079</th>\n",
              "      <td>ቃ ሉ ን   በ ማ ወ ድ ሰ ው   አ ም ላ ክ ፣ አ ዎ ፣   በ አ ም ...</td>\n",
              "      <td>q a l u n i   b e m a w a d s a w   ` a m l a ...</td>\n",
              "    </tr>\n",
              "    <tr>\n",
              "      <th>13791</th>\n",
              "      <td>ለ መ ግ ዛ ት   በ ሚ ጐ ር ፈ ው   ጥ ያ ቄ ና   በ አ ጸ ፋ ዊ ...</td>\n",
              "      <td>l e m e g i z a t i   b e m i g w e r e f e w ...</td>\n",
              "    </tr>\n",
              "  </tbody>\n",
              "</table>\n",
              "</div>"
            ],
            "text/plain": [
              "                                                    orig                                              trans\n",
              "67722  ኢ የ ሱ ስ ፣   አ ም ላ ክ ን   ስ ለ   መ ው ደ ድ   ሲ ና ገ ...  ` i y a s u s i ,   a m e l a k e n i   s i l ...\n",
              "89263  ይ ሖ ዋ   ሆ ይ ፣   ከ አ ማ ል ክ ት   መ ካ ከ ል   እ ን ደ ...  j e h w o w a   h o y ,   k a ` a m a l k t   ...\n",
              "82307  ከ ዚ ያ ም   የ ማ ረ ኳ ቸ ው ን   ሰ ዎ ች ና   የ ዘ ረ ፉ ት ...  k e z i y a m e   y a m a r e k w a t c h a w ...\n",
              "24079  ቃ ሉ ን   በ ማ ወ ድ ሰ ው   አ ም ላ ክ ፣ አ ዎ ፣   በ አ ም ...  q a l u n i   b e m a w a d s a w   ` a m l a ...\n",
              "13791  ለ መ ግ ዛ ት   በ ሚ ጐ ር ፈ ው   ጥ ያ ቄ ና   በ አ ጸ ፋ ዊ ...  l e m e g i z a t i   b e m i g w e r e f e w ..."
            ]
          },
          "metadata": {
            "tags": []
          },
          "execution_count": 193
        }
      ]
    },
    {
      "cell_type": "markdown",
      "metadata": {
        "colab_type": "text",
        "id": "vddS6dk1GcKP"
      },
      "source": [
        "# Data setup\n",
        "\n",
        "Following quickstart instructions from https://github.com/OpenNMT/OpenNMT-py#quickstart."
      ]
    },
    {
      "cell_type": "markdown",
      "metadata": {
        "colab_type": "text",
        "id": "bNr6kIaNGcKQ"
      },
      "source": [
        "## Training\n",
        "\n",
        "I'm just using the terminal commands because the Python bindings were just Too Much Work."
      ]
    },
    {
      "cell_type": "code",
      "metadata": {
        "colab_type": "code",
        "id": "cd9tQuMjGcKR",
        "colab": {}
      },
      "source": [
        "#!pip install OpenNMT-py"
      ],
      "execution_count": 0,
      "outputs": []
    },
    {
      "cell_type": "markdown",
      "metadata": {
        "colab_type": "text",
        "id": "xhRO3mvhGcKV"
      },
      "source": [
        "## Preprocess"
      ]
    },
    {
      "cell_type": "code",
      "metadata": {
        "colab_type": "code",
        "id": "8mgNJrB8GcKW",
        "outputId": "28e9c8d0-499b-416d-fcc7-f6c314363918",
        "colab": {
          "base_uri": "https://localhost:8080/",
          "height": 309
        }
      },
      "source": [
        "!onmt_preprocess \\\n",
        "    -train_src data/src-train.txt \\\n",
        "    -train_tgt data/tgt-train.txt \\\n",
        "    -valid_src data/src-val.txt \\\n",
        "    -valid_tgt data/tgt-val.txt \\\n",
        "    -save_data data/demo \\\n",
        "    -overwrite"
      ],
      "execution_count": 195,
      "outputs": [
        {
          "output_type": "stream",
          "text": [
            "[2020-05-08 05:41:13,765 INFO] Extracting features...\n",
            "[2020-05-08 05:41:13,766 INFO]  * number of source features: 0.\n",
            "[2020-05-08 05:41:13,766 INFO]  * number of target features: 0.\n",
            "[2020-05-08 05:41:13,766 INFO] Building `Fields` object...\n",
            "[2020-05-08 05:41:13,766 INFO] Building & saving training data...\n",
            "[2020-05-08 05:41:13,766 WARNING] Shards for corpus train already exist, will be overwritten because `-overwrite` option is set.\n",
            "[2020-05-08 05:41:13,774 WARNING] Overwrite shards for corpus None\n",
            "[2020-05-08 05:41:14,229 INFO] Building shard 0.\n",
            "[2020-05-08 05:41:18,253 INFO]  * saving 0th train data shard to data/demo.train.0.pt.\n",
            "[2020-05-08 05:41:18,737 INFO]  * tgt vocab size: 328.\n",
            "[2020-05-08 05:41:18,737 INFO]  * src vocab size: 58.\n",
            "[2020-05-08 05:41:18,740 INFO] Building & saving validation data...\n",
            "[2020-05-08 05:41:18,741 WARNING] Shards for corpus valid already exist, will be overwritten because `-overwrite` option is set.\n",
            "[2020-05-08 05:41:18,747 WARNING] Overwrite shards for corpus None\n",
            "[2020-05-08 05:41:18,787 INFO] Building shard 0.\n",
            "[2020-05-08 05:41:18,946 INFO]  * saving 0th valid data shard to data/demo.valid.0.pt.\n"
          ],
          "name": "stdout"
        }
      ]
    },
    {
      "cell_type": "markdown",
      "metadata": {
        "colab_type": "text",
        "id": "l8iBgYnFGcKb"
      },
      "source": [
        "## Train"
      ]
    },
    {
      "cell_type": "code",
      "metadata": {
        "colab_type": "code",
        "id": "g1fZV5euGcKc",
        "outputId": "9522e8f1-fc39-40bf-f837-4279a20f396a",
        "colab": {
          "base_uri": "https://localhost:8080/",
          "height": 1000
        }
      },
      "source": [
        "# Change to false to get GPU power on Colab\n",
        "if False:\n",
        "    !onmt_train \\\n",
        "        -data data/demo \\\n",
        "        -save_model demo-model \\\n",
        "        --valid_steps 50 \\\n",
        "        --train_steps 2 \\\n",
        "        --early_stopping 5\n",
        "else:\n",
        "    !CUDA_VISIBLE_DEVICES=0 \\\n",
        "        onmt_train \\\n",
        "        -encoder_type brnn \\\n",
        "        -world_size 1 \\\n",
        "        -gpu_ranks 0 \\\n",
        "        -data data/demo \\\n",
        "        -save_model demo-model \\\n",
        "        --valid_steps 1000 \\\n",
        "        --train_steps 10000 \\\n",
        "        --early_stopping 3"
      ],
      "execution_count": 200,
      "outputs": [
        {
          "output_type": "stream",
          "text": [
            "[2020-05-08 05:50:16,834 INFO]  * src vocab size = 58\n",
            "[2020-05-08 05:50:16,834 INFO]  * tgt vocab size = 328\n",
            "[2020-05-08 05:50:16,834 INFO] Building model...\n",
            "[2020-05-08 05:50:20,047 INFO] NMTModel(\n",
            "  (encoder): RNNEncoder(\n",
            "    (embeddings): Embeddings(\n",
            "      (make_embedding): Sequential(\n",
            "        (emb_luts): Elementwise(\n",
            "          (0): Embedding(58, 500, padding_idx=1)\n",
            "        )\n",
            "      )\n",
            "    )\n",
            "    (rnn): LSTM(500, 250, num_layers=2, dropout=0.3, bidirectional=True)\n",
            "  )\n",
            "  (decoder): InputFeedRNNDecoder(\n",
            "    (embeddings): Embeddings(\n",
            "      (make_embedding): Sequential(\n",
            "        (emb_luts): Elementwise(\n",
            "          (0): Embedding(328, 500, padding_idx=1)\n",
            "        )\n",
            "      )\n",
            "    )\n",
            "    (dropout): Dropout(p=0.3, inplace=False)\n",
            "    (rnn): StackedLSTM(\n",
            "      (dropout): Dropout(p=0.3, inplace=False)\n",
            "      (layers): ModuleList(\n",
            "        (0): LSTMCell(1000, 500)\n",
            "        (1): LSTMCell(500, 500)\n",
            "      )\n",
            "    )\n",
            "    (attn): GlobalAttention(\n",
            "      (linear_in): Linear(in_features=500, out_features=500, bias=False)\n",
            "      (linear_out): Linear(in_features=1000, out_features=500, bias=False)\n",
            "    )\n",
            "  )\n",
            "  (generator): Sequential(\n",
            "    (0): Linear(in_features=500, out_features=328, bias=True)\n",
            "    (1): Cast()\n",
            "    (2): LogSoftmax()\n",
            "  )\n",
            ")\n",
            "[2020-05-08 05:50:20,047 INFO] encoder: 3037000\n",
            "[2020-05-08 05:50:20,047 INFO] decoder: 6086328\n",
            "[2020-05-08 05:50:20,047 INFO] * number of parameters: 9123328\n",
            "[2020-05-08 05:50:20,048 INFO] Starting training on GPU: [0]\n",
            "[2020-05-08 05:50:20,049 INFO] Start training loop and validate every 1000 steps...\n",
            "[2020-05-08 05:50:20,049 INFO] Loading dataset from data/demo.train.0.pt\n",
            "[2020-05-08 05:50:20,108 INFO] number of examples: 7847\n",
            "[2020-05-08 05:50:24,348 INFO] Step 50/10000; acc:   3.37; ppl: 684.93; xent: 6.53; lr: 1.00000; 25095/14462 tok/s;      4 sec\n",
            "[2020-05-08 05:50:28,293 INFO] Step 100/10000; acc:   4.06; ppl: 432.39; xent: 6.07; lr: 1.00000; 27041/15468 tok/s;      8 sec\n",
            "[2020-05-08 05:50:30,203 INFO] Loading dataset from data/demo.train.1.pt\n",
            "[2020-05-08 05:50:34,196 INFO] number of examples: 530603\n",
            "[2020-05-08 05:50:37,261 INFO] Step 150/10000; acc:   6.30; ppl: 215.42; xent: 5.37; lr: 1.00000; 7361/4283 tok/s;     17 sec\n",
            "[2020-05-08 05:50:38,530 INFO] Step 200/10000; acc:  15.65; ppl: 83.74; xent: 4.43; lr: 1.00000; 20941/13777 tok/s;     18 sec\n",
            "[2020-05-08 05:50:39,892 INFO] Step 250/10000; acc:  22.48; ppl: 49.22; xent: 3.90; lr: 1.00000; 18840/12524 tok/s;     20 sec\n",
            "[2020-05-08 05:50:41,057 INFO] Step 300/10000; acc:  30.42; ppl: 26.92; xent: 3.29; lr: 1.00000; 21092/14006 tok/s;     21 sec\n",
            "[2020-05-08 05:50:42,362 INFO] Step 350/10000; acc:  34.08; ppl: 19.13; xent: 2.95; lr: 1.00000; 19321/12517 tok/s;     22 sec\n",
            "[2020-05-08 05:50:43,641 INFO] Step 400/10000; acc:  38.31; ppl: 14.37; xent: 2.67; lr: 1.00000; 19822/12921 tok/s;     24 sec\n",
            "[2020-05-08 05:50:44,998 INFO] Step 450/10000; acc:  45.11; ppl:  9.09; xent: 2.21; lr: 1.00000; 19101/12451 tok/s;     25 sec\n",
            "[2020-05-08 05:50:46,192 INFO] Step 500/10000; acc:  54.79; ppl:  5.85; xent: 1.77; lr: 1.00000; 20266/13564 tok/s;     26 sec\n",
            "[2020-05-08 05:50:47,426 INFO] Step 550/10000; acc:  64.37; ppl:  3.94; xent: 1.37; lr: 1.00000; 20076/13073 tok/s;     27 sec\n",
            "[2020-05-08 05:50:48,633 INFO] Step 600/10000; acc:  69.36; ppl:  3.12; xent: 1.14; lr: 1.00000; 20675/13518 tok/s;     29 sec\n",
            "[2020-05-08 05:50:50,067 INFO] Step 650/10000; acc:  67.55; ppl:  3.72; xent: 1.31; lr: 1.00000; 18268/12011 tok/s;     30 sec\n",
            "[2020-05-08 05:50:51,357 INFO] Step 700/10000; acc:  74.12; ppl:  2.64; xent: 0.97; lr: 1.00000; 20662/13279 tok/s;     31 sec\n",
            "[2020-05-08 05:50:52,763 INFO] Step 750/10000; acc:  73.86; ppl:  2.70; xent: 0.99; lr: 1.00000; 19393/12655 tok/s;     33 sec\n",
            "[2020-05-08 05:50:54,027 INFO] Step 800/10000; acc:  76.92; ppl:  2.27; xent: 0.82; lr: 1.00000; 22125/14379 tok/s;     34 sec\n",
            "[2020-05-08 05:50:55,211 INFO] Step 850/10000; acc:  82.01; ppl:  1.80; xent: 0.59; lr: 1.00000; 20056/13461 tok/s;     35 sec\n",
            "[2020-05-08 05:50:56,572 INFO] Step 900/10000; acc:  78.47; ppl:  2.34; xent: 0.85; lr: 1.00000; 20062/12983 tok/s;     37 sec\n",
            "[2020-05-08 05:50:57,842 INFO] Step 950/10000; acc:  81.77; ppl:  1.85; xent: 0.62; lr: 1.00000; 20816/13054 tok/s;     38 sec\n",
            "[2020-05-08 05:50:59,033 INFO] Step 1000/10000; acc:  81.82; ppl:  1.85; xent: 0.62; lr: 1.00000; 21233/13600 tok/s;     39 sec\n",
            "[2020-05-08 05:50:59,033 INFO] Loading dataset from data/demo.valid.0.pt\n",
            "[2020-05-08 05:50:59,150 INFO] number of examples: 5000\n",
            "[2020-05-08 05:51:34,096 INFO] Validation perplexity: 213.195\n",
            "[2020-05-08 05:51:34,096 INFO] Validation accuracy: 10.0308\n",
            "[2020-05-08 05:51:34,096 INFO] Model is improving ppl: inf --> 213.195.\n",
            "[2020-05-08 05:51:34,097 INFO] Model is improving acc: -inf --> 10.0308.\n",
            "[2020-05-08 05:51:35,330 INFO] Step 1050/10000; acc:  83.68; ppl:  1.71; xent: 0.54; lr: 1.00000; 700/470 tok/s;     75 sec\n",
            "[2020-05-08 05:51:36,731 INFO] Step 1100/10000; acc:  83.41; ppl:  1.78; xent: 0.58; lr: 1.00000; 18277/11888 tok/s;     77 sec\n",
            "[2020-05-08 05:51:37,943 INFO] Step 1150/10000; acc:  84.33; ppl:  1.66; xent: 0.51; lr: 1.00000; 19576/12880 tok/s;     78 sec\n",
            "[2020-05-08 05:51:39,234 INFO] Step 1200/10000; acc:  83.35; ppl:  1.79; xent: 0.58; lr: 1.00000; 18928/12644 tok/s;     79 sec\n",
            "[2020-05-08 05:51:40,433 INFO] Step 1250/10000; acc:  85.88; ppl:  1.59; xent: 0.46; lr: 1.00000; 19755/13463 tok/s;     80 sec\n",
            "[2020-05-08 05:51:41,700 INFO] Step 1300/10000; acc:  85.57; ppl:  1.59; xent: 0.46; lr: 1.00000; 20772/13343 tok/s;     82 sec\n",
            "[2020-05-08 05:51:42,919 INFO] Step 1350/10000; acc:  85.82; ppl:  1.60; xent: 0.47; lr: 1.00000; 20793/13492 tok/s;     83 sec\n",
            "[2020-05-08 05:51:44,140 INFO] Step 1400/10000; acc:  86.50; ppl:  1.52; xent: 0.42; lr: 1.00000; 21761/13684 tok/s;     84 sec\n",
            "[2020-05-08 05:51:45,344 INFO] Step 1450/10000; acc:  87.61; ppl:  1.50; xent: 0.40; lr: 1.00000; 20096/13273 tok/s;     85 sec\n",
            "[2020-05-08 05:51:46,495 INFO] Step 1500/10000; acc:  89.14; ppl:  1.42; xent: 0.35; lr: 1.00000; 20505/13392 tok/s;     86 sec\n",
            "[2020-05-08 05:51:47,939 INFO] Step 1550/10000; acc:  85.43; ppl:  1.65; xent: 0.50; lr: 1.00000; 20410/12875 tok/s;     88 sec\n",
            "[2020-05-08 05:51:49,249 INFO] Step 1600/10000; acc:  87.07; ppl:  1.50; xent: 0.41; lr: 1.00000; 20378/13368 tok/s;     89 sec\n",
            "[2020-05-08 05:51:50,439 INFO] Step 1650/10000; acc:  88.80; ppl:  1.43; xent: 0.35; lr: 1.00000; 19473/13072 tok/s;     90 sec\n",
            "[2020-05-08 05:51:51,681 INFO] Step 1700/10000; acc:  88.54; ppl:  1.43; xent: 0.36; lr: 1.00000; 20356/13144 tok/s;     92 sec\n",
            "[2020-05-08 05:51:52,943 INFO] Step 1750/10000; acc:  88.86; ppl:  1.40; xent: 0.34; lr: 1.00000; 19484/13148 tok/s;     93 sec\n",
            "[2020-05-08 05:51:54,149 INFO] Step 1800/10000; acc:  89.25; ppl:  1.39; xent: 0.33; lr: 1.00000; 20213/13460 tok/s;     94 sec\n",
            "[2020-05-08 05:51:55,369 INFO] Step 1850/10000; acc:  88.91; ppl:  1.43; xent: 0.36; lr: 1.00000; 20944/13805 tok/s;     95 sec\n",
            "[2020-05-08 05:51:56,631 INFO] Step 1900/10000; acc:  90.10; ppl:  1.35; xent: 0.30; lr: 1.00000; 20032/13236 tok/s;     97 sec\n",
            "[2020-05-08 05:51:57,873 INFO] Step 1950/10000; acc:  89.19; ppl:  1.41; xent: 0.34; lr: 1.00000; 20151/13091 tok/s;     98 sec\n",
            "[2020-05-08 05:51:59,236 INFO] Step 2000/10000; acc:  89.03; ppl:  1.39; xent: 0.33; lr: 1.00000; 20843/13238 tok/s;     99 sec\n",
            "[2020-05-08 05:51:59,237 INFO] Loading dataset from data/demo.valid.0.pt\n",
            "[2020-05-08 05:51:59,332 INFO] number of examples: 5000\n",
            "[2020-05-08 05:52:34,303 INFO] Validation perplexity: 70.3251\n",
            "[2020-05-08 05:52:34,303 INFO] Validation accuracy: 19.0667\n",
            "[2020-05-08 05:52:34,303 INFO] Model is improving ppl: 213.195 --> 70.3251.\n",
            "[2020-05-08 05:52:34,303 INFO] Model is improving acc: 10.0308 --> 19.0667.\n",
            "[2020-05-08 05:52:35,626 INFO] Step 2050/10000; acc:  90.58; ppl:  1.34; xent: 0.29; lr: 1.00000; 670/441 tok/s;    136 sec\n",
            "[2020-05-08 05:52:37,104 INFO] Step 2100/10000; acc:  89.92; ppl:  1.36; xent: 0.31; lr: 1.00000; 19010/12166 tok/s;    137 sec\n",
            "[2020-05-08 05:52:38,336 INFO] Step 2150/10000; acc:  89.75; ppl:  1.39; xent: 0.33; lr: 1.00000; 20609/13898 tok/s;    138 sec\n",
            "[2020-05-08 05:52:39,660 INFO] Step 2200/10000; acc:  90.70; ppl:  1.34; xent: 0.29; lr: 1.00000; 18563/12375 tok/s;    140 sec\n",
            "[2020-05-08 05:52:40,872 INFO] Step 2250/10000; acc:  90.25; ppl:  1.37; xent: 0.32; lr: 1.00000; 20328/13622 tok/s;    141 sec\n",
            "[2020-05-08 05:52:42,155 INFO] Step 2300/10000; acc:  89.20; ppl:  1.41; xent: 0.34; lr: 1.00000; 20850/13713 tok/s;    142 sec\n",
            "[2020-05-08 05:52:43,347 INFO] Step 2350/10000; acc:  89.71; ppl:  1.39; xent: 0.33; lr: 1.00000; 20308/13539 tok/s;    143 sec\n",
            "[2020-05-08 05:52:44,665 INFO] Step 2400/10000; acc:  90.25; ppl:  1.35; xent: 0.30; lr: 1.00000; 21562/13872 tok/s;    145 sec\n",
            "[2020-05-08 05:52:45,862 INFO] Step 2450/10000; acc:  90.63; ppl:  1.35; xent: 0.30; lr: 1.00000; 20864/13428 tok/s;    146 sec\n",
            "[2020-05-08 05:52:47,144 INFO] Step 2500/10000; acc:  90.35; ppl:  1.34; xent: 0.29; lr: 1.00000; 21319/13730 tok/s;    147 sec\n",
            "[2020-05-08 05:52:48,330 INFO] Step 2550/10000; acc:  90.97; ppl:  1.32; xent: 0.27; lr: 1.00000; 21089/13721 tok/s;    148 sec\n",
            "[2020-05-08 05:52:49,676 INFO] Step 2600/10000; acc:  89.71; ppl:  1.40; xent: 0.34; lr: 1.00000; 23041/13984 tok/s;    150 sec\n",
            "[2020-05-08 05:52:50,839 INFO] Step 2650/10000; acc:  91.10; ppl:  1.31; xent: 0.27; lr: 1.00000; 20434/13494 tok/s;    151 sec\n",
            "[2020-05-08 05:52:52,078 INFO] Step 2700/10000; acc:  91.37; ppl:  1.31; xent: 0.27; lr: 1.00000; 20445/13231 tok/s;    152 sec\n",
            "[2020-05-08 05:52:53,310 INFO] Step 2750/10000; acc:  90.56; ppl:  1.37; xent: 0.31; lr: 1.00000; 21106/13568 tok/s;    153 sec\n",
            "[2020-05-08 05:52:54,535 INFO] Step 2800/10000; acc:  90.82; ppl:  1.32; xent: 0.28; lr: 1.00000; 20222/13482 tok/s;    154 sec\n",
            "[2020-05-08 05:52:55,766 INFO] Step 2850/10000; acc:  89.24; ppl:  1.56; xent: 0.44; lr: 1.00000; 19553/13332 tok/s;    156 sec\n",
            "[2020-05-08 05:52:57,022 INFO] Step 2900/10000; acc:  91.99; ppl:  1.27; xent: 0.24; lr: 1.00000; 21646/14108 tok/s;    157 sec\n",
            "[2020-05-08 05:52:58,193 INFO] Step 2950/10000; acc:  91.77; ppl:  1.28; xent: 0.25; lr: 1.00000; 21267/14017 tok/s;    158 sec\n",
            "[2020-05-08 05:52:59,410 INFO] Step 3000/10000; acc:  92.01; ppl:  1.27; xent: 0.24; lr: 1.00000; 21196/13570 tok/s;    159 sec\n",
            "[2020-05-08 05:52:59,411 INFO] Loading dataset from data/demo.valid.0.pt\n",
            "[2020-05-08 05:52:59,501 INFO] number of examples: 5000\n",
            "[2020-05-08 05:53:34,714 INFO] Validation perplexity: 69.3024\n",
            "[2020-05-08 05:53:34,714 INFO] Validation accuracy: 19.7263\n",
            "[2020-05-08 05:53:34,714 INFO] Model is improving ppl: 70.3251 --> 69.3024.\n",
            "[2020-05-08 05:53:34,714 INFO] Model is improving acc: 19.0667 --> 19.7263.\n",
            "[2020-05-08 05:53:36,021 INFO] Step 3050/10000; acc:  89.76; ppl:  1.50; xent: 0.41; lr: 1.00000; 741/489 tok/s;    196 sec\n",
            "[2020-05-08 05:53:37,257 INFO] Step 3100/10000; acc:  92.02; ppl:  1.30; xent: 0.26; lr: 1.00000; 20104/13277 tok/s;    197 sec\n",
            "[2020-05-08 05:53:38,654 INFO] Step 3150/10000; acc:  92.13; ppl:  1.27; xent: 0.24; lr: 1.00000; 18012/11595 tok/s;    199 sec\n",
            "[2020-05-08 05:53:39,987 INFO] Step 3200/10000; acc:  91.00; ppl:  1.32; xent: 0.27; lr: 1.00000; 21551/13637 tok/s;    200 sec\n",
            "[2020-05-08 05:53:41,188 INFO] Step 3250/10000; acc:  92.34; ppl:  1.26; xent: 0.23; lr: 1.00000; 20304/13323 tok/s;    201 sec\n",
            "[2020-05-08 05:53:42,375 INFO] Step 3300/10000; acc:  92.12; ppl:  1.29; xent: 0.26; lr: 1.00000; 20609/13230 tok/s;    202 sec\n",
            "[2020-05-08 05:53:43,554 INFO] Step 3350/10000; acc:  92.54; ppl:  1.26; xent: 0.23; lr: 1.00000; 21541/13728 tok/s;    204 sec\n",
            "[2020-05-08 05:53:44,945 INFO] Step 3400/10000; acc:  92.18; ppl:  1.28; xent: 0.24; lr: 1.00000; 17994/11794 tok/s;    205 sec\n",
            "[2020-05-08 05:53:46,569 INFO] Step 3450/10000; acc:  92.09; ppl:  1.28; xent: 0.24; lr: 1.00000; 17071/11079 tok/s;    207 sec\n",
            "[2020-05-08 05:53:47,872 INFO] Step 3500/10000; acc:  91.39; ppl:  1.35; xent: 0.30; lr: 1.00000; 20117/13187 tok/s;    208 sec\n",
            "[2020-05-08 05:53:49,260 INFO] Step 3550/10000; acc:  91.50; ppl:  1.31; xent: 0.27; lr: 1.00000; 19470/12576 tok/s;    209 sec\n",
            "[2020-05-08 05:53:50,461 INFO] Step 3600/10000; acc:  92.84; ppl:  1.24; xent: 0.22; lr: 1.00000; 19885/13168 tok/s;    210 sec\n",
            "[2020-05-08 05:53:51,716 INFO] Step 3650/10000; acc:  92.08; ppl:  1.27; xent: 0.24; lr: 1.00000; 20897/13965 tok/s;    212 sec\n",
            "[2020-05-08 05:53:52,926 INFO] Step 3700/10000; acc:  92.91; ppl:  1.25; xent: 0.22; lr: 1.00000; 22071/14238 tok/s;    213 sec\n",
            "[2020-05-08 05:53:54,199 INFO] Step 3750/10000; acc:  92.57; ppl:  1.26; xent: 0.23; lr: 1.00000; 21719/14027 tok/s;    214 sec\n",
            "[2020-05-08 05:53:55,444 INFO] Step 3800/10000; acc:  92.85; ppl:  1.24; xent: 0.22; lr: 1.00000; 20920/13673 tok/s;    215 sec\n",
            "[2020-05-08 05:53:56,725 INFO] Step 3850/10000; acc:  91.86; ppl:  1.28; xent: 0.25; lr: 1.00000; 21349/13643 tok/s;    217 sec\n",
            "[2020-05-08 05:53:57,941 INFO] Step 3900/10000; acc:  92.76; ppl:  1.26; xent: 0.23; lr: 1.00000; 20103/13208 tok/s;    218 sec\n",
            "[2020-05-08 05:53:59,114 INFO] Step 3950/10000; acc:  93.10; ppl:  1.24; xent: 0.21; lr: 1.00000; 21830/13698 tok/s;    219 sec\n",
            "[2020-05-08 05:54:00,332 INFO] Step 4000/10000; acc:  92.93; ppl:  1.24; xent: 0.22; lr: 1.00000; 21132/13772 tok/s;    220 sec\n",
            "[2020-05-08 05:54:00,332 INFO] Loading dataset from data/demo.valid.0.pt\n",
            "[2020-05-08 05:54:00,423 INFO] number of examples: 5000\n",
            "[2020-05-08 05:54:35,627 INFO] Validation perplexity: 68.5798\n",
            "[2020-05-08 05:54:35,627 INFO] Validation accuracy: 21.4571\n",
            "[2020-05-08 05:54:35,627 INFO] Model is improving ppl: 69.3024 --> 68.5798.\n",
            "[2020-05-08 05:54:35,627 INFO] Model is improving acc: 19.7263 --> 21.4571.\n",
            "[2020-05-08 05:54:36,922 INFO] Step 4050/10000; acc:  92.19; ppl:  1.29; xent: 0.26; lr: 1.00000; 742/479 tok/s;    257 sec\n",
            "[2020-05-08 05:54:38,173 INFO] Step 4100/10000; acc:  92.84; ppl:  1.26; xent: 0.23; lr: 1.00000; 21024/13526 tok/s;    258 sec\n",
            "[2020-05-08 05:54:39,526 INFO] Step 4150/10000; acc:  92.57; ppl:  1.27; xent: 0.24; lr: 1.00000; 19061/12276 tok/s;    259 sec\n",
            "[2020-05-08 05:54:40,988 INFO] Step 4200/10000; acc:  92.38; ppl:  1.26; xent: 0.23; lr: 1.00000; 19316/12133 tok/s;    261 sec\n",
            "[2020-05-08 05:54:42,283 INFO] Step 4250/10000; acc:  93.24; ppl:  1.24; xent: 0.21; lr: 1.00000; 20011/13192 tok/s;    262 sec\n",
            "[2020-05-08 05:54:43,612 INFO] Step 4300/10000; acc:  92.37; ppl:  1.27; xent: 0.24; lr: 1.00000; 19470/12964 tok/s;    264 sec\n",
            "[2020-05-08 05:54:44,929 INFO] Step 4350/10000; acc:  93.29; ppl:  1.23; xent: 0.21; lr: 1.00000; 19191/12486 tok/s;    265 sec\n",
            "[2020-05-08 05:54:46,156 INFO] Step 4400/10000; acc:  93.38; ppl:  1.23; xent: 0.20; lr: 1.00000; 21181/13773 tok/s;    266 sec\n",
            "[2020-05-08 05:54:47,385 INFO] Step 4450/10000; acc:  92.35; ppl:  1.27; xent: 0.24; lr: 1.00000; 20927/13328 tok/s;    267 sec\n",
            "[2020-05-08 05:54:48,731 INFO] Step 4500/10000; acc:  92.92; ppl:  1.24; xent: 0.22; lr: 1.00000; 19402/12524 tok/s;    269 sec\n",
            "[2020-05-08 05:54:50,147 INFO] Step 4550/10000; acc:  92.89; ppl:  1.26; xent: 0.23; lr: 1.00000; 19769/12563 tok/s;    270 sec\n",
            "[2020-05-08 05:54:51,409 INFO] Step 4600/10000; acc:  92.22; ppl:  1.29; xent: 0.25; lr: 1.00000; 20605/13159 tok/s;    271 sec\n",
            "[2020-05-08 05:54:52,660 INFO] Step 4650/10000; acc:  93.54; ppl:  1.22; xent: 0.20; lr: 1.00000; 21374/13908 tok/s;    273 sec\n",
            "[2020-05-08 05:54:53,979 INFO] Step 4700/10000; acc:  93.60; ppl:  1.22; xent: 0.20; lr: 1.00000; 18356/12092 tok/s;    274 sec\n",
            "[2020-05-08 05:54:55,284 INFO] Step 4750/10000; acc:  93.73; ppl:  1.21; xent: 0.19; lr: 1.00000; 19216/12320 tok/s;    275 sec\n",
            "[2020-05-08 05:54:56,506 INFO] Step 4800/10000; acc:  94.07; ppl:  1.20; xent: 0.18; lr: 1.00000; 20230/12893 tok/s;    276 sec\n",
            "[2020-05-08 05:54:57,685 INFO] Step 4850/10000; acc:  93.86; ppl:  1.20; xent: 0.18; lr: 1.00000; 21004/13514 tok/s;    278 sec\n",
            "[2020-05-08 05:54:58,996 INFO] Step 4900/10000; acc:  93.01; ppl:  1.25; xent: 0.23; lr: 1.00000; 21336/13950 tok/s;    279 sec\n",
            "[2020-05-08 05:55:00,227 INFO] Step 4950/10000; acc:  93.41; ppl:  1.23; xent: 0.21; lr: 1.00000; 20803/13490 tok/s;    280 sec\n",
            "[2020-05-08 05:55:01,628 INFO] Step 5000/10000; acc:  93.06; ppl:  1.23; xent: 0.21; lr: 1.00000; 18866/12059 tok/s;    282 sec\n",
            "[2020-05-08 05:55:01,629 INFO] Loading dataset from data/demo.valid.0.pt\n",
            "[2020-05-08 05:55:01,723 INFO] number of examples: 5000\n",
            "[2020-05-08 05:55:36,448 INFO] Validation perplexity: 39.3787\n",
            "[2020-05-08 05:55:36,448 INFO] Validation accuracy: 29.6968\n",
            "[2020-05-08 05:55:36,448 INFO] Model is improving ppl: 68.5798 --> 39.3787.\n",
            "[2020-05-08 05:55:36,448 INFO] Model is improving acc: 21.4571 --> 29.6968.\n",
            "[2020-05-08 05:55:36,451 INFO] Saving checkpoint demo-model_step_5000.pt\n",
            "[2020-05-08 05:55:37,787 INFO] Step 5050/10000; acc:  92.88; ppl:  1.24; xent: 0.22; lr: 1.00000; 765/486 tok/s;    318 sec\n",
            "[2020-05-08 05:55:39,084 INFO] Step 5100/10000; acc:  93.63; ppl:  1.21; xent: 0.19; lr: 1.00000; 21082/13652 tok/s;    319 sec\n",
            "[2020-05-08 05:55:40,359 INFO] Step 5150/10000; acc:  93.76; ppl:  1.22; xent: 0.20; lr: 1.00000; 20883/13409 tok/s;    320 sec\n",
            "[2020-05-08 05:55:41,651 INFO] Step 5200/10000; acc:  93.53; ppl:  1.21; xent: 0.19; lr: 1.00000; 20753/13489 tok/s;    322 sec\n",
            "[2020-05-08 05:55:42,914 INFO] Step 5250/10000; acc:  93.20; ppl:  1.23; xent: 0.21; lr: 1.00000; 21141/13536 tok/s;    323 sec\n",
            "[2020-05-08 05:55:44,200 INFO] Step 5300/10000; acc:  93.38; ppl:  1.22; xent: 0.20; lr: 1.00000; 20462/13293 tok/s;    324 sec\n",
            "[2020-05-08 05:55:45,617 INFO] Step 5350/10000; acc:  94.40; ppl:  1.19; xent: 0.18; lr: 1.00000; 17025/11335 tok/s;    326 sec\n",
            "[2020-05-08 05:55:47,010 INFO] Step 5400/10000; acc:  93.62; ppl:  1.22; xent: 0.20; lr: 1.00000; 18610/12131 tok/s;    327 sec\n",
            "[2020-05-08 05:55:48,266 INFO] Step 5450/10000; acc:  93.68; ppl:  1.21; xent: 0.19; lr: 1.00000; 22026/13919 tok/s;    328 sec\n",
            "[2020-05-08 05:55:49,435 INFO] Step 5500/10000; acc:  94.94; ppl:  1.17; xent: 0.16; lr: 1.00000; 19755/13356 tok/s;    329 sec\n",
            "[2020-05-08 05:55:50,679 INFO] Step 5550/10000; acc:  92.96; ppl:  1.29; xent: 0.25; lr: 1.00000; 19798/13250 tok/s;    331 sec\n",
            "[2020-05-08 05:55:52,022 INFO] Step 5600/10000; acc:  94.13; ppl:  1.21; xent: 0.19; lr: 1.00000; 18633/12326 tok/s;    332 sec\n",
            "[2020-05-08 05:55:53,249 INFO] Step 5650/10000; acc:  94.34; ppl:  1.21; xent: 0.19; lr: 1.00000; 19731/13049 tok/s;    333 sec\n",
            "[2020-05-08 05:55:54,660 INFO] Step 5700/10000; acc:  94.00; ppl:  1.19; xent: 0.18; lr: 1.00000; 18411/11929 tok/s;    335 sec\n",
            "[2020-05-08 05:55:56,039 INFO] Step 5750/10000; acc:  94.13; ppl:  1.20; xent: 0.19; lr: 1.00000; 17880/11657 tok/s;    336 sec\n",
            "[2020-05-08 05:55:57,178 INFO] Step 5800/10000; acc:  94.28; ppl:  1.19; xent: 0.17; lr: 1.00000; 20108/13480 tok/s;    337 sec\n",
            "[2020-05-08 05:55:58,398 INFO] Step 5850/10000; acc:  94.31; ppl:  1.19; xent: 0.18; lr: 1.00000; 21101/13997 tok/s;    338 sec\n",
            "[2020-05-08 05:55:59,596 INFO] Step 5900/10000; acc:  94.81; ppl:  1.17; xent: 0.16; lr: 1.00000; 19560/13201 tok/s;    340 sec\n",
            "[2020-05-08 05:56:00,911 INFO] Step 5950/10000; acc:  93.97; ppl:  1.21; xent: 0.19; lr: 1.00000; 20100/13402 tok/s;    341 sec\n",
            "[2020-05-08 05:56:02,145 INFO] Step 6000/10000; acc:  94.04; ppl:  1.20; xent: 0.18; lr: 1.00000; 20381/13484 tok/s;    342 sec\n",
            "[2020-05-08 05:56:02,146 INFO] Loading dataset from data/demo.valid.0.pt\n",
            "[2020-05-08 05:56:02,234 INFO] number of examples: 5000\n",
            "[2020-05-08 05:56:37,367 INFO] Validation perplexity: 90.2818\n",
            "[2020-05-08 05:56:37,367 INFO] Validation accuracy: 25.7441\n",
            "[2020-05-08 05:56:37,367 INFO] Decreasing patience: 2/3\n",
            "[2020-05-08 05:56:38,599 INFO] Step 6050/10000; acc:  92.43; ppl:  1.43; xent: 0.36; lr: 1.00000; 708/460 tok/s;    379 sec\n",
            "[2020-05-08 05:56:39,764 INFO] Step 6100/10000; acc:  94.52; ppl:  1.19; xent: 0.17; lr: 1.00000; 21814/14121 tok/s;    380 sec\n",
            "[2020-05-08 05:56:41,044 INFO] Step 6150/10000; acc:  93.24; ppl:  1.26; xent: 0.23; lr: 1.00000; 19802/13022 tok/s;    381 sec\n",
            "[2020-05-08 05:56:42,451 INFO] Step 6200/10000; acc:  94.22; ppl:  1.21; xent: 0.19; lr: 1.00000; 19082/12370 tok/s;    382 sec\n",
            "[2020-05-08 05:56:43,877 INFO] Step 6250/10000; acc:  93.13; ppl:  1.24; xent: 0.22; lr: 1.00000; 19935/12576 tok/s;    384 sec\n",
            "[2020-05-08 05:56:45,109 INFO] Step 6300/10000; acc:  92.48; ppl:  1.33; xent: 0.29; lr: 1.00000; 20956/13572 tok/s;    385 sec\n",
            "[2020-05-08 05:56:46,231 INFO] Step 6350/10000; acc:  94.84; ppl:  1.17; xent: 0.16; lr: 1.00000; 20769/13414 tok/s;    386 sec\n",
            "[2020-05-08 05:56:47,406 INFO] Step 6400/10000; acc:  94.51; ppl:  1.18; xent: 0.17; lr: 1.00000; 20971/13835 tok/s;    387 sec\n",
            "[2020-05-08 05:56:48,671 INFO] Step 6450/10000; acc:  94.68; ppl:  1.18; xent: 0.17; lr: 1.00000; 20653/13410 tok/s;    389 sec\n",
            "[2020-05-08 05:56:50,012 INFO] Step 6500/10000; acc:  92.48; ppl:  1.31; xent: 0.27; lr: 1.00000; 19281/12530 tok/s;    390 sec\n",
            "[2020-05-08 05:56:51,276 INFO] Step 6550/10000; acc:  92.60; ppl:  1.30; xent: 0.26; lr: 1.00000; 20837/13383 tok/s;    391 sec\n",
            "[2020-05-08 05:56:52,517 INFO] Step 6600/10000; acc:  94.25; ppl:  1.19; xent: 0.17; lr: 1.00000; 20834/13562 tok/s;    392 sec\n",
            "[2020-05-08 05:56:53,749 INFO] Step 6650/10000; acc:  94.63; ppl:  1.17; xent: 0.16; lr: 1.00000; 20627/13422 tok/s;    394 sec\n",
            "[2020-05-08 05:56:54,982 INFO] Step 6700/10000; acc:  94.23; ppl:  1.20; xent: 0.18; lr: 1.00000; 20815/13911 tok/s;    395 sec\n",
            "[2020-05-08 05:56:56,206 INFO] Step 6750/10000; acc:  94.33; ppl:  1.19; xent: 0.18; lr: 1.00000; 21285/14016 tok/s;    396 sec\n",
            "[2020-05-08 05:56:57,423 INFO] Step 6800/10000; acc:  94.09; ppl:  1.21; xent: 0.19; lr: 1.00000; 21423/14002 tok/s;    397 sec\n",
            "[2020-05-08 05:56:58,686 INFO] Step 6850/10000; acc:  94.68; ppl:  1.18; xent: 0.17; lr: 1.00000; 20324/13077 tok/s;    399 sec\n",
            "[2020-05-08 05:57:00,079 INFO] Step 6900/10000; acc:  93.68; ppl:  1.21; xent: 0.19; lr: 1.00000; 21687/13488 tok/s;    400 sec\n",
            "[2020-05-08 05:57:01,352 INFO] Step 6950/10000; acc:  94.88; ppl:  1.17; xent: 0.16; lr: 1.00000; 18797/12213 tok/s;    401 sec\n",
            "[2020-05-08 05:57:02,632 INFO] Step 7000/10000; acc:  94.04; ppl:  1.22; xent: 0.20; lr: 1.00000; 21009/13260 tok/s;    403 sec\n",
            "[2020-05-08 05:57:02,632 INFO] Loading dataset from data/demo.valid.0.pt\n",
            "[2020-05-08 05:57:02,726 INFO] number of examples: 5000\n",
            "[2020-05-08 05:57:37,350 INFO] Validation perplexity: 59.4397\n",
            "[2020-05-08 05:57:37,350 INFO] Validation accuracy: 26.578\n",
            "[2020-05-08 05:57:37,350 INFO] Decreasing patience: 1/3\n",
            "[2020-05-08 05:57:38,494 INFO] Step 7050/10000; acc:  94.85; ppl:  1.18; xent: 0.17; lr: 1.00000; 641/433 tok/s;    438 sec\n",
            "[2020-05-08 05:57:39,693 INFO] Step 7100/10000; acc:  94.23; ppl:  1.19; xent: 0.18; lr: 1.00000; 21090/13935 tok/s;    440 sec\n",
            "[2020-05-08 05:57:40,849 INFO] Step 7150/10000; acc:  94.96; ppl:  1.17; xent: 0.16; lr: 1.00000; 21862/14114 tok/s;    441 sec\n",
            "[2020-05-08 05:57:42,071 INFO] Step 7200/10000; acc:  94.95; ppl:  1.17; xent: 0.16; lr: 1.00000; 20535/13410 tok/s;    442 sec\n",
            "[2020-05-08 05:57:43,232 INFO] Step 7250/10000; acc:  95.16; ppl:  1.16; xent: 0.15; lr: 1.00000; 21464/14089 tok/s;    443 sec\n",
            "[2020-05-08 05:57:44,587 INFO] Step 7300/10000; acc:  94.67; ppl:  1.18; xent: 0.17; lr: 1.00000; 19982/12802 tok/s;    445 sec\n",
            "[2020-05-08 05:57:45,852 INFO] Step 7350/10000; acc:  94.67; ppl:  1.17; xent: 0.16; lr: 1.00000; 19420/12643 tok/s;    446 sec\n",
            "[2020-05-08 05:57:47,049 INFO] Step 7400/10000; acc:  94.53; ppl:  1.19; xent: 0.17; lr: 1.00000; 22413/14390 tok/s;    447 sec\n",
            "[2020-05-08 05:57:48,178 INFO] Step 7450/10000; acc:  94.97; ppl:  1.17; xent: 0.16; lr: 1.00000; 21377/14062 tok/s;    448 sec\n",
            "[2020-05-08 05:57:49,398 INFO] Step 7500/10000; acc:  91.59; ppl:  1.48; xent: 0.39; lr: 1.00000; 21557/14194 tok/s;    449 sec\n",
            "[2020-05-08 05:57:50,546 INFO] Step 7550/10000; acc:  95.00; ppl:  1.17; xent: 0.15; lr: 1.00000; 20475/13804 tok/s;    450 sec\n",
            "[2020-05-08 05:57:51,706 INFO] Step 7600/10000; acc:  94.18; ppl:  1.21; xent: 0.19; lr: 1.00000; 21179/13802 tok/s;    452 sec\n",
            "[2020-05-08 05:57:52,921 INFO] Step 7650/10000; acc:  94.46; ppl:  1.19; xent: 0.17; lr: 1.00000; 22558/14283 tok/s;    453 sec\n",
            "[2020-05-08 05:57:54,196 INFO] Step 7700/10000; acc:  93.43; ppl:  1.23; xent: 0.21; lr: 1.00000; 21726/13943 tok/s;    454 sec\n",
            "[2020-05-08 05:57:55,492 INFO] Step 7750/10000; acc:  94.76; ppl:  1.18; xent: 0.17; lr: 1.00000; 21285/13447 tok/s;    455 sec\n",
            "[2020-05-08 05:57:56,905 INFO] Step 7800/10000; acc:  94.43; ppl:  1.19; xent: 0.18; lr: 1.00000; 19339/12455 tok/s;    457 sec\n",
            "[2020-05-08 05:57:58,125 INFO] Step 7850/10000; acc:  94.43; ppl:  1.20; xent: 0.18; lr: 1.00000; 21831/14050 tok/s;    458 sec\n",
            "[2020-05-08 05:57:59,295 INFO] Step 7900/10000; acc:  94.54; ppl:  1.18; xent: 0.16; lr: 1.00000; 21816/14052 tok/s;    459 sec\n",
            "[2020-05-08 05:58:00,630 INFO] Step 7950/10000; acc:  94.48; ppl:  1.20; xent: 0.18; lr: 1.00000; 22351/14258 tok/s;    461 sec\n",
            "[2020-05-08 05:58:01,780 INFO] Step 8000/10000; acc:  95.14; ppl:  1.17; xent: 0.16; lr: 1.00000; 21610/14203 tok/s;    462 sec\n",
            "[2020-05-08 05:58:01,780 INFO] Loading dataset from data/demo.valid.0.pt\n",
            "[2020-05-08 05:58:01,877 INFO] number of examples: 5000\n",
            "[2020-05-08 05:58:36,352 INFO] Validation perplexity: 50.8381\n",
            "[2020-05-08 05:58:36,352 INFO] Validation accuracy: 26.8006\n",
            "[2020-05-08 05:58:36,352 INFO] Decreasing patience: 0/3\n",
            "[2020-05-08 05:58:36,352 INFO] Training finished after not improving. Early Stop!\n",
            "[2020-05-08 05:58:36,352 INFO] Best model found at step 5000\n",
            "[2020-05-08 05:58:36,401 INFO] Saving checkpoint demo-model_step_8000.pt\n"
          ],
          "name": "stdout"
        }
      ]
    },
    {
      "cell_type": "code",
      "metadata": {
        "id": "LBlLlNWXnDGG",
        "colab_type": "code",
        "colab": {}
      },
      "source": [
        "import subprocess\n",
        "\n",
        "# Pull the first 10 originals and transliterateds\n",
        "originals = subprocess.run(\"head -n 500 original.txt\",\n",
        "                            shell=True,\n",
        "                            stdout=subprocess.PIPE).stdout.decode(\"utf-8\").strip()\n",
        "transliterated = subprocess.run(\"head -n 500 transliterated.txt\",\n",
        "                            shell=True,\n",
        "                            stdout=subprocess.PIPE).stdout.decode(\"utf-8\").strip()\n",
        "\n",
        "# You can also use other stuff\n",
        "originals = open(\"sera_am.txt\").read()\n",
        "transliterated = open(\"sera_rom.txt\").read()"
      ],
      "execution_count": 0,
      "outputs": []
    },
    {
      "cell_type": "code",
      "metadata": {
        "id": "u2IUHqEKxMGj",
        "colab_type": "code",
        "colab": {
          "base_uri": "https://localhost:8080/",
          "height": 34
        },
        "outputId": "9856f0aa-4e10-4544-a7e2-d40bb687e004"
      },
      "source": [
        "!pip install unidecode"
      ],
      "execution_count": 202,
      "outputs": [
        {
          "output_type": "stream",
          "text": [
            "Requirement already satisfied: unidecode in /usr/local/lib/python3.6/dist-packages (1.1.1)\n"
          ],
          "name": "stdout"
        }
      ]
    },
    {
      "cell_type": "code",
      "metadata": {
        "id": "gZi_t8FLqMjV",
        "colab_type": "code",
        "colab": {}
      },
      "source": [
        "import unidecode\n",
        "\n",
        "def clean(lat_word):\n",
        "  return unidecode.unidecode(lat_word).lower()\n",
        "\n",
        "def add_spaces(word):\n",
        "  return ' '.join(word)\n",
        "\n",
        "orig_test = [add_spaces(sent).strip() for sent in originals.splitlines()]\n",
        "trans_test = [add_spaces(clean(sent)).strip() for sent in transliterated.splitlines()]\n",
        "orig_test = [sent for sent in orig_test if sent]\n",
        "trans_test = [sent for sent in trans_test if sent]\n",
        "if(len(orig_test) != len(trans_test)):\n",
        "  print(\"Unequal lines, won't be able to compare!!\")"
      ],
      "execution_count": 0,
      "outputs": []
    },
    {
      "cell_type": "code",
      "metadata": {
        "colab_type": "code",
        "id": "6wYh0Zi5GcKh",
        "colab": {}
      },
      "source": [
        "# import re\n",
        "\n",
        "# orig_test = [' '.join(word) for word in re.split('\\s+', originals)]\n",
        "# trans_test = [' '.join(word) for word in re.split('\\s+', transliterated)]\n",
        "with open(\"data/test.txt\", 'w') as f:\n",
        "    f.write('\\n'.join(trans_test))"
      ],
      "execution_count": 0,
      "outputs": []
    },
    {
      "cell_type": "code",
      "metadata": {
        "id": "CvY_F7AnukLR",
        "colab_type": "code",
        "colab": {
          "base_uri": "https://localhost:8080/",
          "height": 187
        },
        "outputId": "83ebef14-8588-40ad-aeef-7b7397f33796"
      },
      "source": [
        "!head -n 10 data/test.txt"
      ],
      "execution_count": 228,
      "outputs": [
        {
          "output_type": "stream",
          "text": [
            "y e z e m e m e n i   l i t a k ' e n a\n",
            "l i t i f a l e m i   k e d e m e n a\n",
            "t e l i k o   a l e h i   y e m i y a b e r a\n",
            "m e f i c h a w i   k ' u l i f u   h u l e m i   s i r a\n",
            "s i r a   s i r a\n",
            "l i f a   l i f a\n",
            "t ' i r e h i   g i r e h i   b i l a   ( b i l a )\n",
            "s i r a   s i r a\n",
            "l i f a   l i f a\n",
            "t ' i r e h i   g i r e h i   b i l a   ( b i l a )\n"
          ],
          "name": "stdout"
        }
      ]
    },
    {
      "cell_type": "code",
      "metadata": {
        "id": "CVpJmHhJilhk",
        "colab_type": "code",
        "colab": {
          "base_uri": "https://localhost:8080/",
          "height": 71
        },
        "outputId": "5544c9d6-7c1c-4e40-db63-65e5de5eef92"
      },
      "source": [
        "print(len(trans_test), trans_test[:5])\n",
        "print(len(orig_test), orig_test[:5])"
      ],
      "execution_count": 229,
      "outputs": [
        {
          "output_type": "stream",
          "text": [
            "116 [\"y e z e m e m e n i   l i t a k ' e n a\", 'l i t i f a l e m i   k e d e m e n a', 't e l i k o   a l e h i   y e m i y a b e r a', \"m e f i c h a w i   k ' u l i f u   h u l e m i   s i r a\", 's i r a   s i r a']\n",
            "116 ['የ ዘ መ መ ን   ል ታ ቀ ና', 'ል ት ፋ ለ ም   ከ ደ መ ና', 'ተ ል ኮ   አ ለ ህ   የ ሚ ያ በ ራ', 'መ ፍ ቻ ው   ቁ ል ፉ   ሁ ሌ ም   ስ ራ', 'ስ ራ   ስ ራ']\n"
          ],
          "name": "stdout"
        }
      ]
    },
    {
      "cell_type": "markdown",
      "metadata": {
        "colab_type": "text",
        "id": "kL7FyKlBGcKk"
      },
      "source": [
        "**You'll need to change the model name in `onmt_translate` below.** It's probably the most recently changed model file, so at the top of this list: "
      ]
    },
    {
      "cell_type": "code",
      "metadata": {
        "colab_type": "code",
        "id": "EkD1GQUeGcKk",
        "outputId": "3ae6e94c-285f-48ce-d130-c3351c61fff5",
        "colab": {
          "base_uri": "https://localhost:8080/",
          "height": 34
        }
      },
      "source": [
        "model_name = subprocess.run(\"ls -t *model* | head -n 1\",\n",
        "                            shell=True,\n",
        "                            stdout=subprocess.PIPE).stdout.decode(\"utf-8\").strip()\n",
        "print(\"Using model\", model_name)"
      ],
      "execution_count": 230,
      "outputs": [
        {
          "output_type": "stream",
          "text": [
            "Using model demo-model_step_8000.pt\n"
          ],
          "name": "stdout"
        }
      ]
    },
    {
      "cell_type": "code",
      "metadata": {
        "colab_type": "code",
        "id": "FFRDPiz6GcKn",
        "outputId": "2a79b738-c9c7-4c07-a901-328b0aefc152",
        "colab": {
          "base_uri": "https://localhost:8080/",
          "height": 88
        }
      },
      "source": [
        "!onmt_translate \\\n",
        "    -model {model_name} \\\n",
        "    -src data/test.txt \\\n",
        "    -output data/pred.txt -replace_unk\n"
      ],
      "execution_count": 231,
      "outputs": [
        {
          "output_type": "stream",
          "text": [
            "[2020-05-08 06:03:39,034 INFO] Translating shard 0.\n",
            "/pytorch/aten/src/ATen/native/BinaryOps.cpp:66: UserWarning: Integer division of tensors using div or / is deprecated, and in a future release div will perform true division as in Python 3. Use true_divide or floor_divide (// in Python) instead.\n",
            "PRED AVG SCORE: -0.2735, PRED PPL: 1.3146\n"
          ],
          "name": "stdout"
        }
      ]
    },
    {
      "cell_type": "code",
      "metadata": {
        "colab_type": "code",
        "id": "2Aw_FJI7GcKu",
        "outputId": "6db811a3-5ecd-4036-a54e-c927146ab128",
        "colab": {
          "base_uri": "https://localhost:8080/",
          "height": 453
        }
      },
      "source": [
        "results = open(\"data/pred.txt\").read().splitlines()\n",
        "test_results = pd.DataFrame({\n",
        "    'result': results,\n",
        "    'original': orig_test,\n",
        "    'transliterated': trans_test\n",
        "})\n",
        "print((test_results.result == test_results.original).value_counts(normalize=True))\n",
        "test_results"
      ],
      "execution_count": 232,
      "outputs": [
        {
          "output_type": "stream",
          "text": [
            "False    1.0\n",
            "dtype: float64\n"
          ],
          "name": "stdout"
        },
        {
          "output_type": "execute_result",
          "data": {
            "text/html": [
              "<div>\n",
              "<style scoped>\n",
              "    .dataframe tbody tr th:only-of-type {\n",
              "        vertical-align: middle;\n",
              "    }\n",
              "\n",
              "    .dataframe tbody tr th {\n",
              "        vertical-align: top;\n",
              "    }\n",
              "\n",
              "    .dataframe thead th {\n",
              "        text-align: right;\n",
              "    }\n",
              "</style>\n",
              "<table border=\"1\" class=\"dataframe\">\n",
              "  <thead>\n",
              "    <tr style=\"text-align: right;\">\n",
              "      <th></th>\n",
              "      <th>result</th>\n",
              "      <th>original</th>\n",
              "      <th>transliterated</th>\n",
              "    </tr>\n",
              "  </thead>\n",
              "  <tbody>\n",
              "    <tr>\n",
              "      <th>0</th>\n",
              "      <td>የ ዝ መ ም ኒ ሊ ታ ክ ና</td>\n",
              "      <td>የ ዘ መ መ ን   ል ታ ቀ ና</td>\n",
              "      <td>y e z e m e m e n i   l i t a k ' e n a</td>\n",
              "    </tr>\n",
              "    <tr>\n",
              "      <th>1</th>\n",
              "      <td>ል ት ፈ ል ም ክ ም ና</td>\n",
              "      <td>ል ት ፋ ለ ም   ከ ደ መ ና</td>\n",
              "      <td>l i t i f a l e m i   k e d e m e n a</td>\n",
              "    </tr>\n",
              "    <tr>\n",
              "      <th>2</th>\n",
              "      <td>ት ሊ ያ ለ ሂ የ ሚ ያ በ ረ</td>\n",
              "      <td>ተ ል ኮ   አ ለ ህ   የ ሚ ያ በ ራ</td>\n",
              "      <td>t e l i k o   a l e h i   y e m i y a b e r a</td>\n",
              "    </tr>\n",
              "    <tr>\n",
              "      <th>3</th>\n",
              "      <td>ለ ም ፍ ቸ ው ) ዑ ል ም ሥ ራ</td>\n",
              "      <td>መ ፍ ቻ ው   ቁ ል ፉ   ሁ ሌ ም   ስ ራ</td>\n",
              "      <td>m e f i c h a w i   k ' u l i f u   h u l e m ...</td>\n",
              "    </tr>\n",
              "    <tr>\n",
              "      <th>4</th>\n",
              "      <td>ሲ ራ ስ ራ</td>\n",
              "      <td>ስ ራ   ስ ራ</td>\n",
              "      <td>s i r a   s i r a</td>\n",
              "    </tr>\n",
              "    <tr>\n",
              "      <th>...</th>\n",
              "      <td>...</td>\n",
              "      <td>...</td>\n",
              "      <td>...</td>\n",
              "    </tr>\n",
              "    <tr>\n",
              "      <th>111</th>\n",
              "      <td>ት ዕ ር ኅ ብ ላ )</td>\n",
              "      <td>ጥ ረ ህ   ግ ረ ህ   ብ ላ   ( ብ ላ )</td>\n",
              "      <td>t ' i r e h i   g i r e h i   b i l a   ( b i ...</td>\n",
              "    </tr>\n",
              "    <tr>\n",
              "      <th>112</th>\n",
              "      <td>ሲ ራ ስ ራ</td>\n",
              "      <td>ስ ራ   ስ ራ</td>\n",
              "      <td>s i r a   s i r a</td>\n",
              "    </tr>\n",
              "    <tr>\n",
              "      <th>113</th>\n",
              "      <td>ሊ ፈ ል ፋ</td>\n",
              "      <td>ል ፋ   ል ፋ</td>\n",
              "      <td>l i f a   l i f a</td>\n",
              "    </tr>\n",
              "    <tr>\n",
              "      <th>114</th>\n",
              "      <td>ት ዕ ር ኅ ብ ላ )</td>\n",
              "      <td>ጥ ረ ህ   ግ ረ ህ   ብ ላ   ( ብ ላ )</td>\n",
              "      <td>t ' i r e h i   g i r e h i   b i l a   ( b i ...</td>\n",
              "    </tr>\n",
              "    <tr>\n",
              "      <th>115</th>\n",
              "      <td>ስ ራ ስ ራ ስ ራ</td>\n",
              "      <td>ስ ራ   ስ ራ   ስ ራ   ስ ራ   ስ ራ</td>\n",
              "      <td>s i r a   s i r a   s i r a   s i r a   s i r a</td>\n",
              "    </tr>\n",
              "  </tbody>\n",
              "</table>\n",
              "<p>116 rows × 3 columns</p>\n",
              "</div>"
            ],
            "text/plain": [
              "                    result  ...                                     transliterated\n",
              "0        የ ዝ መ ም ኒ ሊ ታ ክ ና  ...            y e z e m e m e n i   l i t a k ' e n a\n",
              "1          ል ት ፈ ል ም ክ ም ና  ...              l i t i f a l e m i   k e d e m e n a\n",
              "2      ት ሊ ያ ለ ሂ የ ሚ ያ በ ረ  ...      t e l i k o   a l e h i   y e m i y a b e r a\n",
              "3    ለ ም ፍ ቸ ው ) ዑ ል ም ሥ ራ  ...  m e f i c h a w i   k ' u l i f u   h u l e m ...\n",
              "4                  ሲ ራ ስ ራ  ...                                  s i r a   s i r a\n",
              "..                     ...  ...                                                ...\n",
              "111          ት ዕ ር ኅ ብ ላ )  ...  t ' i r e h i   g i r e h i   b i l a   ( b i ...\n",
              "112                ሲ ራ ስ ራ  ...                                  s i r a   s i r a\n",
              "113                ሊ ፈ ል ፋ  ...                                  l i f a   l i f a\n",
              "114          ት ዕ ር ኅ ብ ላ )  ...  t ' i r e h i   g i r e h i   b i l a   ( b i ...\n",
              "115            ስ ራ ስ ራ ስ ራ  ...    s i r a   s i r a   s i r a   s i r a   s i r a\n",
              "\n",
              "[116 rows x 3 columns]"
            ]
          },
          "metadata": {
            "tags": []
          },
          "execution_count": 232
        }
      ]
    },
    {
      "cell_type": "code",
      "metadata": {
        "colab_type": "code",
        "id": "Uf0XpcnoGcKx",
        "colab": {}
      },
      "source": [
        ""
      ],
      "execution_count": 0,
      "outputs": []
    }
  ]
}