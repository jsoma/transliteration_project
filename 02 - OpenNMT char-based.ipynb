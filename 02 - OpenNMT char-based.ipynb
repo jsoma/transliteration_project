{
  "nbformat": 4,
  "nbformat_minor": 0,
  "metadata": {
    "accelerator": "GPU",
    "colab": {
      "name": "02 - OpenNMT - char-based.ipynb",
      "provenance": [],
      "collapsed_sections": [],
      "toc_visible": true
    },
    "kernelspec": {
      "display_name": "Python 3",
      "language": "python",
      "name": "python3"
    },
    "language_info": {
      "codemirror_mode": {
        "name": "ipython",
        "version": 3
      },
      "file_extension": ".py",
      "mimetype": "text/x-python",
      "name": "python",
      "nbconvert_exporter": "python",
      "pygments_lexer": "ipython3",
      "version": "3.6.8"
    },
    "toc": {
      "base_numbering": 1,
      "nav_menu": {},
      "number_sections": true,
      "sideBar": true,
      "skip_h1_title": false,
      "title_cell": "Table of Contents",
      "title_sidebar": "Contents",
      "toc_cell": false,
      "toc_position": {},
      "toc_section_display": true,
      "toc_window_display": false
    }
  },
  "cells": [
    {
      "cell_type": "markdown",
      "metadata": {
        "id": "_j27NAQLilgd",
        "colab_type": "text"
      },
      "source": [
        "# Creating test and train datasets"
      ]
    },
    {
      "cell_type": "code",
      "metadata": {
        "id": "UlzmLwVPiv18",
        "colab_type": "code",
        "colab": {
          "base_uri": "https://localhost:8080/",
          "height": 68
        },
        "outputId": "adfd40b2-62f8-4824-a4ec-d854fc0d660e"
      },
      "source": [
        "!unzip Archive.zip"
      ],
      "execution_count": 1,
      "outputs": [
        {
          "output_type": "stream",
          "text": [
            "Archive:  Archive.zip\n",
            "  inflating: original.txt            \n",
            "  inflating: transliterated.txt      \n"
          ],
          "name": "stdout"
        }
      ]
    },
    {
      "cell_type": "code",
      "metadata": {
        "colab_type": "code",
        "id": "8ZrK5seWGcJ0",
        "outputId": "90be797d-1ad9-49eb-8781-dc55721b9002",
        "colab": {
          "base_uri": "https://localhost:8080/",
          "height": 204
        }
      },
      "source": [
        "import pandas as pd\n",
        "import re\n",
        "\n",
        "original = open(\"original.txt\").read()\n",
        "transliterated = open(\"transliterated.txt\").read()\n",
        "\n",
        "words = pd.DataFrame({\n",
        "    'orig': re.split(r'\\s+', original),\n",
        "    'trans': re.split(r'\\s+', transliterated)\n",
        "})\n",
        "words.head()"
      ],
      "execution_count": 2,
      "outputs": [
        {
          "output_type": "execute_result",
          "data": {
            "text/html": [
              "<div>\n",
              "<style scoped>\n",
              "    .dataframe tbody tr th:only-of-type {\n",
              "        vertical-align: middle;\n",
              "    }\n",
              "\n",
              "    .dataframe tbody tr th {\n",
              "        vertical-align: top;\n",
              "    }\n",
              "\n",
              "    .dataframe thead th {\n",
              "        text-align: right;\n",
              "    }\n",
              "</style>\n",
              "<table border=\"1\" class=\"dataframe\">\n",
              "  <thead>\n",
              "    <tr style=\"text-align: right;\">\n",
              "      <th></th>\n",
              "      <th>orig</th>\n",
              "      <th>trans</th>\n",
              "    </tr>\n",
              "  </thead>\n",
              "  <tbody>\n",
              "    <tr>\n",
              "      <th>0</th>\n",
              "      <td>ቀዝቃዛ</td>\n",
              "      <td>kazeqaza</td>\n",
              "    </tr>\n",
              "    <tr>\n",
              "      <th>1</th>\n",
              "      <td>ውኃ</td>\n",
              "      <td>weha</td>\n",
              "    </tr>\n",
              "    <tr>\n",
              "      <th>2</th>\n",
              "      <td>የዛለችን</td>\n",
              "      <td>yazalatchene</td>\n",
              "    </tr>\n",
              "    <tr>\n",
              "      <th>3</th>\n",
              "      <td>ነፍስ</td>\n",
              "      <td>nefsi</td>\n",
              "    </tr>\n",
              "    <tr>\n",
              "      <th>4</th>\n",
              "      <td>እንደሚያረካ</td>\n",
              "      <td>inidamiyaraka</td>\n",
              "    </tr>\n",
              "  </tbody>\n",
              "</table>\n",
              "</div>"
            ],
            "text/plain": [
              "      orig          trans\n",
              "0     ቀዝቃዛ       kazeqaza\n",
              "1       ውኃ           weha\n",
              "2    የዛለችን   yazalatchene\n",
              "3      ነፍስ          nefsi\n",
              "4  እንደሚያረካ  inidamiyaraka"
            ]
          },
          "metadata": {
            "tags": []
          },
          "execution_count": 2
        }
      ]
    },
    {
      "cell_type": "code",
      "metadata": {
        "id": "x6sUbhu3ilgm",
        "colab_type": "code",
        "colab": {}
      },
      "source": [
        "words.orig = words.orig.str.join(' ')\n",
        "words.trans = words.trans.str.join(' ')"
      ],
      "execution_count": 0,
      "outputs": []
    },
    {
      "cell_type": "code",
      "metadata": {
        "id": "SqjZngkYilgq",
        "colab_type": "code",
        "colab": {
          "base_uri": "https://localhost:8080/",
          "height": 359
        },
        "outputId": "1e5b69bd-0301-4671-87bc-7019d38e24c4"
      },
      "source": [
        "words.head(10)"
      ],
      "execution_count": 4,
      "outputs": [
        {
          "output_type": "execute_result",
          "data": {
            "text/html": [
              "<div>\n",
              "<style scoped>\n",
              "    .dataframe tbody tr th:only-of-type {\n",
              "        vertical-align: middle;\n",
              "    }\n",
              "\n",
              "    .dataframe tbody tr th {\n",
              "        vertical-align: top;\n",
              "    }\n",
              "\n",
              "    .dataframe thead th {\n",
              "        text-align: right;\n",
              "    }\n",
              "</style>\n",
              "<table border=\"1\" class=\"dataframe\">\n",
              "  <thead>\n",
              "    <tr style=\"text-align: right;\">\n",
              "      <th></th>\n",
              "      <th>orig</th>\n",
              "      <th>trans</th>\n",
              "    </tr>\n",
              "  </thead>\n",
              "  <tbody>\n",
              "    <tr>\n",
              "      <th>0</th>\n",
              "      <td>ቀ ዝ ቃ ዛ</td>\n",
              "      <td>k a z e q a z a</td>\n",
              "    </tr>\n",
              "    <tr>\n",
              "      <th>1</th>\n",
              "      <td>ው ኃ</td>\n",
              "      <td>w e h a</td>\n",
              "    </tr>\n",
              "    <tr>\n",
              "      <th>2</th>\n",
              "      <td>የ ዛ ለ ች ን</td>\n",
              "      <td>y a z a l a t c h e n e</td>\n",
              "    </tr>\n",
              "    <tr>\n",
              "      <th>3</th>\n",
              "      <td>ነ ፍ ስ</td>\n",
              "      <td>n e f s i</td>\n",
              "    </tr>\n",
              "    <tr>\n",
              "      <th>4</th>\n",
              "      <td>እ ን ደ ሚ ያ ረ ካ</td>\n",
              "      <td>i n i d a m i y a r a k a</td>\n",
              "    </tr>\n",
              "    <tr>\n",
              "      <th>5</th>\n",
              "      <td>ሁ ሉ ከ ሩ ቅ</td>\n",
              "      <td>h u l u k e r u q e</td>\n",
              "    </tr>\n",
              "    <tr>\n",
              "      <th>6</th>\n",
              "      <td>አ ገ ር</td>\n",
              "      <td>a g a r</td>\n",
              "    </tr>\n",
              "    <tr>\n",
              "      <th>7</th>\n",
              "      <td>የ መ ጣ</td>\n",
              "      <td>j a m e t a</td>\n",
              "    </tr>\n",
              "    <tr>\n",
              "      <th>8</th>\n",
              "      <td>መ ል ካ ም</td>\n",
              "      <td>m e l e k a m</td>\n",
              "    </tr>\n",
              "    <tr>\n",
              "      <th>9</th>\n",
              "      <td>ወ ሬ ም</td>\n",
              "      <td>w e r e m</td>\n",
              "    </tr>\n",
              "  </tbody>\n",
              "</table>\n",
              "</div>"
            ],
            "text/plain": [
              "            orig                      trans\n",
              "0        ቀ ዝ ቃ ዛ            k a z e q a z a\n",
              "1            ው ኃ                    w e h a\n",
              "2      የ ዛ ለ ች ን    y a z a l a t c h e n e\n",
              "3          ነ ፍ ስ                  n e f s i\n",
              "4  እ ን ደ ሚ ያ ረ ካ  i n i d a m i y a r a k a\n",
              "5      ሁ ሉ ከ ሩ ቅ        h u l u k e r u q e\n",
              "6          አ ገ ር                    a g a r\n",
              "7          የ መ ጣ                j a m e t a\n",
              "8        መ ል ካ ም              m e l e k a m\n",
              "9          ወ ሬ ም                  w e r e m"
            ]
          },
          "metadata": {
            "tags": []
          },
          "execution_count": 4
        }
      ]
    },
    {
      "cell_type": "code",
      "metadata": {
        "colab_type": "code",
        "id": "eviPJFoCGcJ6",
        "outputId": "cfd0c942-9dab-462b-b8d5-4dc6afeb2a74",
        "colab": {
          "base_uri": "https://localhost:8080/",
          "height": 51
        }
      },
      "source": [
        "from sklearn.model_selection import train_test_split\n",
        "\n",
        "train, test = train_test_split(words, test_size=5000)\n",
        "\n",
        "print(\"Training on\", train.shape)\n",
        "print(\"Testing on\", test.shape)\n",
        "\n",
        "!mkdir -p data\n",
        "\n",
        "# Save as training\n",
        "# Can't use .to_csv because of quotins\n",
        "with open('data/src-train.txt', 'w') as f:\n",
        "    f.write('\\n'.join(train.trans))\n",
        "with open('data/tgt-train.txt', 'w') as f:\n",
        "    f.write('\\n'.join(train.orig))\n",
        "\n",
        "with open('data/src-val.txt', 'w') as f:\n",
        "    f.write('\\n'.join(test.trans))\n",
        "with open('data/tgt-val.txt', 'w') as f:\n",
        "    f.write('\\n'.join(test.orig))"
      ],
      "execution_count": 9,
      "outputs": [
        {
          "output_type": "stream",
          "text": [
            "Training on (1530622, 2)\n",
            "Testing on (5000, 2)\n"
          ],
          "name": "stdout"
        }
      ]
    },
    {
      "cell_type": "code",
      "metadata": {
        "id": "M4AFtbrgj2v2",
        "colab_type": "code",
        "colab": {
          "base_uri": "https://localhost:8080/",
          "height": 102
        },
        "outputId": "0c4d8f03-d393-4bb4-ed2d-0b2df8c3df37"
      },
      "source": [
        "!head -n 5 data/tgt-val.txt"
      ],
      "execution_count": 11,
      "outputs": [
        {
          "output_type": "stream",
          "text": [
            "ሕ ዝ ቡ\n",
            "ዓ ለ ም\n",
            "ይ ህ ን\n",
            "እ ን ድ ን ጠ ላ\n",
            "እ ን ደ ሚ ያ ሳ ድ ር\n"
          ],
          "name": "stdout"
        }
      ]
    },
    {
      "cell_type": "code",
      "metadata": {
        "colab_type": "code",
        "id": "SQVlDeyoGcJ-",
        "outputId": "663d64f3-7ed0-4474-ada5-b3d0e59cb3e8",
        "colab": {
          "base_uri": "https://localhost:8080/",
          "height": 204
        }
      },
      "source": [
        "train.head()"
      ],
      "execution_count": 10,
      "outputs": [
        {
          "output_type": "execute_result",
          "data": {
            "text/html": [
              "<div>\n",
              "<style scoped>\n",
              "    .dataframe tbody tr th:only-of-type {\n",
              "        vertical-align: middle;\n",
              "    }\n",
              "\n",
              "    .dataframe tbody tr th {\n",
              "        vertical-align: top;\n",
              "    }\n",
              "\n",
              "    .dataframe thead th {\n",
              "        text-align: right;\n",
              "    }\n",
              "</style>\n",
              "<table border=\"1\" class=\"dataframe\">\n",
              "  <thead>\n",
              "    <tr style=\"text-align: right;\">\n",
              "      <th></th>\n",
              "      <th>orig</th>\n",
              "      <th>trans</th>\n",
              "    </tr>\n",
              "  </thead>\n",
              "  <tbody>\n",
              "    <tr>\n",
              "      <th>918459</th>\n",
              "      <td>ወ ይ ም</td>\n",
              "      <td>w a y e m</td>\n",
              "    </tr>\n",
              "    <tr>\n",
              "      <th>184976</th>\n",
              "      <td>ጋ ር</td>\n",
              "      <td>g a r i</td>\n",
              "    </tr>\n",
              "    <tr>\n",
              "      <th>900012</th>\n",
              "      <td>ሰ ፊ</td>\n",
              "      <td>s e f i</td>\n",
              "    </tr>\n",
              "    <tr>\n",
              "      <th>1109537</th>\n",
              "      <td>ጋ ዜ ጣ</td>\n",
              "      <td>g a z y e t a</td>\n",
              "    </tr>\n",
              "    <tr>\n",
              "      <th>1527337</th>\n",
              "      <td>አ ን ደ በ ታ ች ን ን</td>\n",
              "      <td>' a n i d e b a t a t c h e n n e</td>\n",
              "    </tr>\n",
              "  </tbody>\n",
              "</table>\n",
              "</div>"
            ],
            "text/plain": [
              "                    orig                              trans\n",
              "918459             ወ ይ ም                          w a y e m\n",
              "184976               ጋ ር                            g a r i\n",
              "900012               ሰ ፊ                            s e f i\n",
              "1109537            ጋ ዜ ጣ                      g a z y e t a\n",
              "1527337  አ ን ደ በ ታ ች ን ን  ' a n i d e b a t a t c h e n n e"
            ]
          },
          "metadata": {
            "tags": []
          },
          "execution_count": 10
        }
      ]
    },
    {
      "cell_type": "markdown",
      "metadata": {
        "colab_type": "text",
        "id": "vddS6dk1GcKP"
      },
      "source": [
        "# Data setup\n",
        "\n",
        "Following quickstart instructions from https://github.com/OpenNMT/OpenNMT-py#quickstart."
      ]
    },
    {
      "cell_type": "markdown",
      "metadata": {
        "colab_type": "text",
        "id": "bNr6kIaNGcKQ"
      },
      "source": [
        "## Training\n",
        "\n",
        "I'm just using the terminal commands because the Python bindings were just Too Much Work."
      ]
    },
    {
      "cell_type": "code",
      "metadata": {
        "colab_type": "code",
        "id": "cd9tQuMjGcKR",
        "outputId": "e6bf2a87-38de-4a90-a5a5-44eefa6e77e3",
        "colab": {
          "base_uri": "https://localhost:8080/",
          "height": 1000
        }
      },
      "source": [
        "!pip install OpenNMT-py"
      ],
      "execution_count": 12,
      "outputs": [
        {
          "output_type": "stream",
          "text": [
            "Collecting OpenNMT-py\n",
            "\u001b[?25l  Downloading https://files.pythonhosted.org/packages/7e/c7/b3d9bf9a6a681b10c00aa897650f79d4e7ad8a80317c5cddb6a3ef43540c/OpenNMT_py-1.1.1-py3-none-any.whl (189kB)\n",
            "\u001b[K     |████████████████████████████████| 194kB 2.6MB/s \n",
            "\u001b[?25hCollecting tqdm~=4.30.0\n",
            "\u001b[?25l  Downloading https://files.pythonhosted.org/packages/76/4c/103a4d3415dafc1ddfe6a6624333971756e2d3dd8c6dc0f520152855f040/tqdm-4.30.0-py2.py3-none-any.whl (47kB)\n",
            "\u001b[K     |████████████████████████████████| 51kB 5.0MB/s \n",
            "\u001b[?25hCollecting configargparse\n",
            "\u001b[?25l  Downloading https://files.pythonhosted.org/packages/bb/79/3045743bb26ca2e44a1d317c37395462bfed82dbbd38e69a3280b63696ce/ConfigArgParse-1.2.3.tar.gz (42kB)\n",
            "\u001b[K     |████████████████████████████████| 51kB 5.4MB/s \n",
            "\u001b[?25hRequirement already satisfied: flask in /usr/local/lib/python3.6/dist-packages (from OpenNMT-py) (1.1.2)\n",
            "Requirement already satisfied: future in /usr/local/lib/python3.6/dist-packages (from OpenNMT-py) (0.16.0)\n",
            "Requirement already satisfied: tensorboard>=1.14 in /usr/local/lib/python3.6/dist-packages (from OpenNMT-py) (2.2.1)\n",
            "Collecting pyonmttok==1.*; platform_system == \"Linux\"\n",
            "\u001b[?25l  Downloading https://files.pythonhosted.org/packages/08/20/3c57198ffe690b580fbf23d33d5000eb411862e60e4bb6853b61dc989187/pyonmttok-1.18.3-cp36-cp36m-manylinux1_x86_64.whl (2.2MB)\n",
            "\u001b[K     |████████████████████████████████| 2.2MB 7.2MB/s \n",
            "\u001b[?25hCollecting torchtext==0.4.0\n",
            "\u001b[?25l  Downloading https://files.pythonhosted.org/packages/43/94/929d6bd236a4fb5c435982a7eb9730b78dcd8659acf328fd2ef9de85f483/torchtext-0.4.0-py3-none-any.whl (53kB)\n",
            "\u001b[K     |████████████████████████████████| 61kB 7.9MB/s \n",
            "\u001b[?25hRequirement already satisfied: six in /usr/local/lib/python3.6/dist-packages (from OpenNMT-py) (1.12.0)\n",
            "Requirement already satisfied: pyyaml in /usr/local/lib/python3.6/dist-packages (from OpenNMT-py) (3.13)\n",
            "Requirement already satisfied: torch>=1.4.0 in /usr/local/lib/python3.6/dist-packages (from OpenNMT-py) (1.5.0+cu101)\n",
            "Collecting waitress\n",
            "\u001b[?25l  Downloading https://files.pythonhosted.org/packages/a8/ca/ede3ed29723ca944f6e77bd1d7b38c271dd801c7d6a11ab6037597e4fd5b/waitress-1.4.3-py2.py3-none-any.whl (148kB)\n",
            "\u001b[K     |████████████████████████████████| 153kB 21.0MB/s \n",
            "\u001b[?25hRequirement already satisfied: itsdangerous>=0.24 in /usr/local/lib/python3.6/dist-packages (from flask->OpenNMT-py) (1.1.0)\n",
            "Requirement already satisfied: Werkzeug>=0.15 in /usr/local/lib/python3.6/dist-packages (from flask->OpenNMT-py) (1.0.1)\n",
            "Requirement already satisfied: Jinja2>=2.10.1 in /usr/local/lib/python3.6/dist-packages (from flask->OpenNMT-py) (2.11.2)\n",
            "Requirement already satisfied: click>=5.1 in /usr/local/lib/python3.6/dist-packages (from flask->OpenNMT-py) (7.1.2)\n",
            "Requirement already satisfied: tensorboard-plugin-wit>=1.6.0 in /usr/local/lib/python3.6/dist-packages (from tensorboard>=1.14->OpenNMT-py) (1.6.0.post3)\n",
            "Requirement already satisfied: wheel>=0.26; python_version >= \"3\" in /usr/local/lib/python3.6/dist-packages (from tensorboard>=1.14->OpenNMT-py) (0.34.2)\n",
            "Requirement already satisfied: google-auth<2,>=1.6.3 in /usr/local/lib/python3.6/dist-packages (from tensorboard>=1.14->OpenNMT-py) (1.7.2)\n",
            "Requirement already satisfied: google-auth-oauthlib<0.5,>=0.4.1 in /usr/local/lib/python3.6/dist-packages (from tensorboard>=1.14->OpenNMT-py) (0.4.1)\n",
            "Requirement already satisfied: absl-py>=0.4 in /usr/local/lib/python3.6/dist-packages (from tensorboard>=1.14->OpenNMT-py) (0.9.0)\n",
            "Requirement already satisfied: setuptools>=41.0.0 in /usr/local/lib/python3.6/dist-packages (from tensorboard>=1.14->OpenNMT-py) (46.1.3)\n",
            "Requirement already satisfied: protobuf>=3.6.0 in /usr/local/lib/python3.6/dist-packages (from tensorboard>=1.14->OpenNMT-py) (3.10.0)\n",
            "Requirement already satisfied: requests<3,>=2.21.0 in /usr/local/lib/python3.6/dist-packages (from tensorboard>=1.14->OpenNMT-py) (2.23.0)\n",
            "Requirement already satisfied: markdown>=2.6.8 in /usr/local/lib/python3.6/dist-packages (from tensorboard>=1.14->OpenNMT-py) (3.2.1)\n",
            "Requirement already satisfied: grpcio>=1.24.3 in /usr/local/lib/python3.6/dist-packages (from tensorboard>=1.14->OpenNMT-py) (1.28.1)\n",
            "Requirement already satisfied: numpy>=1.12.0 in /usr/local/lib/python3.6/dist-packages (from tensorboard>=1.14->OpenNMT-py) (1.18.3)\n",
            "Requirement already satisfied: MarkupSafe>=0.23 in /usr/local/lib/python3.6/dist-packages (from Jinja2>=2.10.1->flask->OpenNMT-py) (1.1.1)\n",
            "Requirement already satisfied: cachetools<3.2,>=2.0.0 in /usr/local/lib/python3.6/dist-packages (from google-auth<2,>=1.6.3->tensorboard>=1.14->OpenNMT-py) (3.1.1)\n",
            "Requirement already satisfied: rsa<4.1,>=3.1.4 in /usr/local/lib/python3.6/dist-packages (from google-auth<2,>=1.6.3->tensorboard>=1.14->OpenNMT-py) (4.0)\n",
            "Requirement already satisfied: pyasn1-modules>=0.2.1 in /usr/local/lib/python3.6/dist-packages (from google-auth<2,>=1.6.3->tensorboard>=1.14->OpenNMT-py) (0.2.8)\n",
            "Requirement already satisfied: requests-oauthlib>=0.7.0 in /usr/local/lib/python3.6/dist-packages (from google-auth-oauthlib<0.5,>=0.4.1->tensorboard>=1.14->OpenNMT-py) (1.3.0)\n",
            "Requirement already satisfied: urllib3!=1.25.0,!=1.25.1,<1.26,>=1.21.1 in /usr/local/lib/python3.6/dist-packages (from requests<3,>=2.21.0->tensorboard>=1.14->OpenNMT-py) (1.24.3)\n",
            "Requirement already satisfied: certifi>=2017.4.17 in /usr/local/lib/python3.6/dist-packages (from requests<3,>=2.21.0->tensorboard>=1.14->OpenNMT-py) (2020.4.5.1)\n",
            "Requirement already satisfied: idna<3,>=2.5 in /usr/local/lib/python3.6/dist-packages (from requests<3,>=2.21.0->tensorboard>=1.14->OpenNMT-py) (2.9)\n",
            "Requirement already satisfied: chardet<4,>=3.0.2 in /usr/local/lib/python3.6/dist-packages (from requests<3,>=2.21.0->tensorboard>=1.14->OpenNMT-py) (3.0.4)\n",
            "Requirement already satisfied: pyasn1>=0.1.3 in /usr/local/lib/python3.6/dist-packages (from rsa<4.1,>=3.1.4->google-auth<2,>=1.6.3->tensorboard>=1.14->OpenNMT-py) (0.4.8)\n",
            "Requirement already satisfied: oauthlib>=3.0.0 in /usr/local/lib/python3.6/dist-packages (from requests-oauthlib>=0.7.0->google-auth-oauthlib<0.5,>=0.4.1->tensorboard>=1.14->OpenNMT-py) (3.1.0)\n",
            "Building wheels for collected packages: configargparse\n",
            "  Building wheel for configargparse (setup.py) ... \u001b[?25l\u001b[?25hdone\n",
            "  Created wheel for configargparse: filename=ConfigArgParse-1.2.3-cp36-none-any.whl size=19328 sha256=edd2ce82a272002c2cd6303089a0d432389728d873bf907ddce047f18a6fd466\n",
            "  Stored in directory: /root/.cache/pip/wheels/bd/d6/53/034032da9498bda2385cd50a51a289e88090b5da2d592b1fdf\n",
            "Successfully built configargparse\n",
            "\u001b[31mERROR: spacy 2.2.4 has requirement tqdm<5.0.0,>=4.38.0, but you'll have tqdm 4.30.0 which is incompatible.\u001b[0m\n",
            "Installing collected packages: tqdm, configargparse, pyonmttok, torchtext, waitress, OpenNMT-py\n",
            "  Found existing installation: tqdm 4.38.0\n",
            "    Uninstalling tqdm-4.38.0:\n",
            "      Successfully uninstalled tqdm-4.38.0\n",
            "  Found existing installation: torchtext 0.3.1\n",
            "    Uninstalling torchtext-0.3.1:\n",
            "      Successfully uninstalled torchtext-0.3.1\n",
            "Successfully installed OpenNMT-py-1.1.1 configargparse-1.2.3 pyonmttok-1.18.3 torchtext-0.4.0 tqdm-4.30.0 waitress-1.4.3\n"
          ],
          "name": "stdout"
        },
        {
          "output_type": "display_data",
          "data": {
            "application/vnd.colab-display-data+json": {
              "pip_warning": {
                "packages": [
                  "tqdm"
                ]
              }
            }
          },
          "metadata": {
            "tags": []
          }
        }
      ]
    },
    {
      "cell_type": "markdown",
      "metadata": {
        "colab_type": "text",
        "id": "xhRO3mvhGcKV"
      },
      "source": [
        "## Preprocess"
      ]
    },
    {
      "cell_type": "code",
      "metadata": {
        "colab_type": "code",
        "id": "8mgNJrB8GcKW",
        "outputId": "2a83a112-7b0b-4d9b-9766-16b99de977be",
        "colab": {
          "base_uri": "https://localhost:8080/",
          "height": 255
        }
      },
      "source": [
        "!onmt_preprocess \\\n",
        "    -train_src data/src-train.txt \\\n",
        "    -train_tgt data/tgt-train.txt \\\n",
        "    -valid_src data/src-val.txt \\\n",
        "    -valid_tgt data/tgt-val.txt \\\n",
        "    -save_data data/demo \\\n",
        "    -overwrite"
      ],
      "execution_count": 13,
      "outputs": [
        {
          "output_type": "stream",
          "text": [
            "[2020-05-08 04:34:11,153 INFO] Extracting features...\n",
            "[2020-05-08 04:34:11,154 INFO]  * number of source features: 0.\n",
            "[2020-05-08 04:34:11,154 INFO]  * number of target features: 0.\n",
            "[2020-05-08 04:34:11,154 INFO] Building `Fields` object...\n",
            "[2020-05-08 04:34:11,154 INFO] Building & saving training data...\n",
            "[2020-05-08 04:34:12,292 INFO] Building shard 0.\n",
            "[2020-05-08 04:34:45,961 INFO]  * saving 0th train data shard to data/demo.train.0.pt.\n",
            "[2020-05-08 04:35:05,473 INFO] Building shard 1.\n",
            "[2020-05-08 04:35:23,014 INFO]  * saving 1th train data shard to data/demo.train.1.pt.\n",
            "[2020-05-08 04:35:33,078 INFO]  * tgt vocab size: 426.\n",
            "[2020-05-08 04:35:33,078 INFO]  * src vocab size: 65.\n",
            "[2020-05-08 04:35:33,115 INFO] Building & saving validation data...\n",
            "[2020-05-08 04:35:33,141 INFO] Building shard 0.\n",
            "[2020-05-08 04:35:33,218 INFO]  * saving 0th valid data shard to data/demo.valid.0.pt.\n"
          ],
          "name": "stdout"
        }
      ]
    },
    {
      "cell_type": "markdown",
      "metadata": {
        "colab_type": "text",
        "id": "l8iBgYnFGcKb"
      },
      "source": [
        "## Train"
      ]
    },
    {
      "cell_type": "code",
      "metadata": {
        "colab_type": "code",
        "id": "g1fZV5euGcKc",
        "outputId": "778e7b29-688d-479d-ad68-bbdeebadddd5",
        "colab": {
          "base_uri": "https://localhost:8080/",
          "height": 1000
        }
      },
      "source": [
        "# Change to false to get GPU power on Colab\n",
        "if False:\n",
        "    !onmt_train \\\n",
        "        -data data/demo \\\n",
        "        -save_model demo-model \\\n",
        "        --valid_steps 50 \\\n",
        "        --train_steps 2 \\\n",
        "        --early_stopping 5\n",
        "else:\n",
        "    !CUDA_VISIBLE_DEVICES=0 \\\n",
        "        onmt_train \\\n",
        "        -world_size 1 \\\n",
        "        -gpu_ranks 0 \\\n",
        "        -data data/demo \\\n",
        "        -save_model demo-model \\\n",
        "        --valid_steps 3000 \\\n",
        "        --train_steps 50000 \\\n",
        "        --early_stopping 3"
      ],
      "execution_count": 66,
      "outputs": [
        {
          "output_type": "stream",
          "text": [
            "[2020-05-08 04:57:25,932 INFO]  * src vocab size = 65\n",
            "[2020-05-08 04:57:25,932 INFO]  * tgt vocab size = 426\n",
            "[2020-05-08 04:57:25,932 INFO] Building model...\n",
            "[2020-05-08 04:57:29,101 INFO] NMTModel(\n",
            "  (encoder): RNNEncoder(\n",
            "    (embeddings): Embeddings(\n",
            "      (make_embedding): Sequential(\n",
            "        (emb_luts): Elementwise(\n",
            "          (0): Embedding(65, 500, padding_idx=1)\n",
            "        )\n",
            "      )\n",
            "    )\n",
            "    (rnn): LSTM(500, 500, num_layers=2, dropout=0.3)\n",
            "  )\n",
            "  (decoder): InputFeedRNNDecoder(\n",
            "    (embeddings): Embeddings(\n",
            "      (make_embedding): Sequential(\n",
            "        (emb_luts): Elementwise(\n",
            "          (0): Embedding(426, 500, padding_idx=1)\n",
            "        )\n",
            "      )\n",
            "    )\n",
            "    (dropout): Dropout(p=0.3, inplace=False)\n",
            "    (rnn): StackedLSTM(\n",
            "      (dropout): Dropout(p=0.3, inplace=False)\n",
            "      (layers): ModuleList(\n",
            "        (0): LSTMCell(1000, 500)\n",
            "        (1): LSTMCell(500, 500)\n",
            "      )\n",
            "    )\n",
            "    (attn): GlobalAttention(\n",
            "      (linear_in): Linear(in_features=500, out_features=500, bias=False)\n",
            "      (linear_out): Linear(in_features=1000, out_features=500, bias=False)\n",
            "    )\n",
            "  )\n",
            "  (generator): Sequential(\n",
            "    (0): Linear(in_features=500, out_features=426, bias=True)\n",
            "    (1): Cast()\n",
            "    (2): LogSoftmax()\n",
            "  )\n",
            ")\n",
            "[2020-05-08 04:57:29,102 INFO] encoder: 4040500\n",
            "[2020-05-08 04:57:29,102 INFO] decoder: 6184426\n",
            "[2020-05-08 04:57:29,102 INFO] * number of parameters: 10224926\n",
            "[2020-05-08 04:57:29,103 INFO] Starting training on GPU: [0]\n",
            "[2020-05-08 04:57:29,103 INFO] Start training loop and validate every 3000 steps...\n",
            "[2020-05-08 04:57:29,104 INFO] Loading dataset from data/demo.train.0.pt\n",
            "[2020-05-08 04:57:36,520 INFO] number of examples: 999979\n",
            "[2020-05-08 04:57:41,000 INFO] Step 50/50000; acc:  10.82; ppl: 2606.23; xent: 7.87; lr: 1.00000; 2050/1338 tok/s;     12 sec\n",
            "[2020-05-08 04:57:42,294 INFO] Step 100/50000; acc:  11.89; ppl: 756.42; xent: 6.63; lr: 1.00000; 21187/13620 tok/s;     13 sec\n",
            "[2020-05-08 04:57:43,446 INFO] Step 150/50000; acc:  17.45; ppl: 133.79; xent: 4.90; lr: 1.00000; 22332/14388 tok/s;     14 sec\n",
            "[2020-05-08 04:57:44,689 INFO] Step 200/50000; acc:  21.38; ppl: 84.21; xent: 4.43; lr: 1.00000; 19111/12569 tok/s;     16 sec\n",
            "[2020-05-08 04:57:45,962 INFO] Step 250/50000; acc:  22.70; ppl: 61.27; xent: 4.12; lr: 1.00000; 19714/12796 tok/s;     17 sec\n",
            "[2020-05-08 04:57:47,054 INFO] Step 300/50000; acc:  27.01; ppl: 42.31; xent: 3.74; lr: 1.00000; 22269/14475 tok/s;     18 sec\n",
            "[2020-05-08 04:57:48,253 INFO] Step 350/50000; acc:  27.18; ppl: 37.63; xent: 3.63; lr: 1.00000; 22588/14632 tok/s;     19 sec\n",
            "[2020-05-08 04:57:49,322 INFO] Step 400/50000; acc:  33.80; ppl: 24.10; xent: 3.18; lr: 1.00000; 22563/14843 tok/s;     20 sec\n",
            "[2020-05-08 04:57:50,634 INFO] Step 450/50000; acc:  33.89; ppl: 21.29; xent: 3.06; lr: 1.00000; 19585/13069 tok/s;     22 sec\n",
            "[2020-05-08 04:57:51,938 INFO] Step 500/50000; acc:  33.17; ppl: 24.82; xent: 3.21; lr: 1.00000; 22433/14061 tok/s;     23 sec\n",
            "[2020-05-08 04:57:53,163 INFO] Step 550/50000; acc:  40.59; ppl: 12.79; xent: 2.55; lr: 1.00000; 22342/14526 tok/s;     24 sec\n",
            "[2020-05-08 04:57:54,413 INFO] Step 600/50000; acc:  48.27; ppl:  8.06; xent: 2.09; lr: 1.00000; 20585/13201 tok/s;     25 sec\n",
            "[2020-05-08 04:57:55,597 INFO] Step 650/50000; acc:  53.91; ppl:  6.01; xent: 1.79; lr: 1.00000; 22607/14278 tok/s;     26 sec\n",
            "[2020-05-08 04:57:56,858 INFO] Step 700/50000; acc:  60.48; ppl:  4.71; xent: 1.55; lr: 1.00000; 20340/13263 tok/s;     28 sec\n",
            "[2020-05-08 04:57:58,071 INFO] Step 750/50000; acc:  61.95; ppl:  4.12; xent: 1.42; lr: 1.00000; 22857/14567 tok/s;     29 sec\n",
            "[2020-05-08 04:57:59,211 INFO] Step 800/50000; acc:  70.61; ppl:  2.74; xent: 1.01; lr: 1.00000; 22175/14765 tok/s;     30 sec\n",
            "[2020-05-08 04:58:00,503 INFO] Step 850/50000; acc:  68.78; ppl:  3.04; xent: 1.11; lr: 1.00000; 20616/13479 tok/s;     31 sec\n",
            "[2020-05-08 04:58:01,760 INFO] Step 900/50000; acc:  73.44; ppl:  2.61; xent: 0.96; lr: 1.00000; 22058/14311 tok/s;     33 sec\n",
            "[2020-05-08 04:58:03,055 INFO] Step 950/50000; acc:  74.34; ppl:  2.46; xent: 0.90; lr: 1.00000; 19571/12899 tok/s;     34 sec\n",
            "[2020-05-08 04:58:04,191 INFO] Step 1000/50000; acc:  80.15; ppl:  1.88; xent: 0.63; lr: 1.00000; 20059/13692 tok/s;     35 sec\n",
            "[2020-05-08 04:58:05,385 INFO] Step 1050/50000; acc:  80.72; ppl:  1.84; xent: 0.61; lr: 1.00000; 21595/14146 tok/s;     36 sec\n",
            "[2020-05-08 04:58:06,644 INFO] Step 1100/50000; acc:  77.32; ppl:  2.10; xent: 0.74; lr: 1.00000; 22323/14065 tok/s;     38 sec\n",
            "[2020-05-08 04:58:07,745 INFO] Step 1150/50000; acc:  82.09; ppl:  1.75; xent: 0.56; lr: 1.00000; 23033/14774 tok/s;     39 sec\n",
            "[2020-05-08 04:58:08,956 INFO] Step 1200/50000; acc:  82.97; ppl:  1.70; xent: 0.53; lr: 1.00000; 20564/13427 tok/s;     40 sec\n",
            "[2020-05-08 04:58:10,098 INFO] Step 1250/50000; acc:  78.65; ppl:  2.07; xent: 0.73; lr: 1.00000; 22303/14779 tok/s;     41 sec\n",
            "[2020-05-08 04:58:11,183 INFO] Step 1300/50000; acc:  83.11; ppl:  1.85; xent: 0.62; lr: 1.00000; 21411/14441 tok/s;     42 sec\n",
            "[2020-05-08 04:58:12,323 INFO] Step 1350/50000; acc:  84.49; ppl:  1.61; xent: 0.48; lr: 1.00000; 22740/14715 tok/s;     43 sec\n",
            "[2020-05-08 04:58:13,688 INFO] Step 1400/50000; acc:  82.89; ppl:  1.67; xent: 0.51; lr: 1.00000; 19037/12253 tok/s;     45 sec\n",
            "[2020-05-08 04:58:14,844 INFO] Step 1450/50000; acc:  83.55; ppl:  1.66; xent: 0.51; lr: 1.00000; 22705/14463 tok/s;     46 sec\n",
            "[2020-05-08 04:58:15,940 INFO] Step 1500/50000; acc:  85.69; ppl:  1.55; xent: 0.44; lr: 1.00000; 21713/14533 tok/s;     47 sec\n",
            "[2020-05-08 04:58:17,119 INFO] Step 1550/50000; acc:  83.10; ppl:  1.77; xent: 0.57; lr: 1.00000; 20961/13890 tok/s;     48 sec\n",
            "[2020-05-08 04:58:18,348 INFO] Step 1600/50000; acc:  85.93; ppl:  1.51; xent: 0.41; lr: 1.00000; 21200/13856 tok/s;     49 sec\n",
            "[2020-05-08 04:58:19,594 INFO] Step 1650/50000; acc:  83.26; ppl:  1.68; xent: 0.52; lr: 1.00000; 23729/14680 tok/s;     50 sec\n",
            "[2020-05-08 04:58:20,739 INFO] Step 1700/50000; acc:  85.92; ppl:  1.51; xent: 0.41; lr: 1.00000; 22298/14698 tok/s;     52 sec\n",
            "[2020-05-08 04:58:21,912 INFO] Step 1750/50000; acc:  87.46; ppl:  1.47; xent: 0.38; lr: 1.00000; 21627/14222 tok/s;     53 sec\n",
            "[2020-05-08 04:58:23,050 INFO] Step 1800/50000; acc:  86.71; ppl:  1.49; xent: 0.40; lr: 1.00000; 22148/14616 tok/s;     54 sec\n",
            "[2020-05-08 04:58:24,224 INFO] Step 1850/50000; acc:  85.30; ppl:  1.60; xent: 0.47; lr: 1.00000; 22789/14502 tok/s;     55 sec\n",
            "[2020-05-08 04:58:25,392 INFO] Step 1900/50000; acc:  86.00; ppl:  1.52; xent: 0.42; lr: 1.00000; 22966/14963 tok/s;     56 sec\n",
            "[2020-05-08 04:58:26,553 INFO] Step 1950/50000; acc:  87.26; ppl:  1.46; xent: 0.38; lr: 1.00000; 23003/14894 tok/s;     57 sec\n",
            "[2020-05-08 04:58:27,744 INFO] Step 2000/50000; acc:  87.53; ppl:  1.45; xent: 0.37; lr: 1.00000; 21388/13811 tok/s;     59 sec\n",
            "[2020-05-08 04:58:28,932 INFO] Step 2050/50000; acc:  87.29; ppl:  1.46; xent: 0.38; lr: 1.00000; 22521/14729 tok/s;     60 sec\n",
            "[2020-05-08 04:58:30,206 INFO] Step 2100/50000; acc:  88.77; ppl:  1.38; xent: 0.33; lr: 1.00000; 19897/12762 tok/s;     61 sec\n",
            "[2020-05-08 04:58:31,432 INFO] Step 2150/50000; acc:  87.88; ppl:  1.55; xent: 0.44; lr: 1.00000; 20412/13611 tok/s;     62 sec\n",
            "[2020-05-08 04:58:32,608 INFO] Step 2200/50000; acc:  88.37; ppl:  1.44; xent: 0.36; lr: 1.00000; 22221/14657 tok/s;     64 sec\n",
            "[2020-05-08 04:58:33,766 INFO] Step 2250/50000; acc:  88.15; ppl:  1.44; xent: 0.37; lr: 1.00000; 21379/13811 tok/s;     65 sec\n",
            "[2020-05-08 04:58:34,968 INFO] Step 2300/50000; acc:  87.11; ppl:  1.54; xent: 0.43; lr: 1.00000; 22740/14907 tok/s;     66 sec\n",
            "[2020-05-08 04:58:36,075 INFO] Step 2350/50000; acc:  89.56; ppl:  1.37; xent: 0.31; lr: 1.00000; 21694/14289 tok/s;     67 sec\n",
            "[2020-05-08 04:58:37,231 INFO] Step 2400/50000; acc:  85.89; ppl:  1.63; xent: 0.49; lr: 1.00000; 21986/14426 tok/s;     68 sec\n",
            "[2020-05-08 04:58:38,345 INFO] Step 2450/50000; acc:  86.96; ppl:  1.60; xent: 0.47; lr: 1.00000; 21944/14591 tok/s;     69 sec\n",
            "[2020-05-08 04:58:39,435 INFO] Step 2500/50000; acc:  88.19; ppl:  1.45; xent: 0.37; lr: 1.00000; 22727/14758 tok/s;     70 sec\n",
            "[2020-05-08 04:58:40,649 INFO] Step 2550/50000; acc:  88.89; ppl:  1.38; xent: 0.32; lr: 1.00000; 22306/14607 tok/s;     72 sec\n",
            "[2020-05-08 04:58:41,756 INFO] Step 2600/50000; acc:  89.63; ppl:  1.36; xent: 0.31; lr: 1.00000; 22025/14395 tok/s;     73 sec\n",
            "[2020-05-08 04:58:42,930 INFO] Step 2650/50000; acc:  89.65; ppl:  1.36; xent: 0.31; lr: 1.00000; 22406/14501 tok/s;     74 sec\n",
            "[2020-05-08 04:58:44,114 INFO] Step 2700/50000; acc:  90.39; ppl:  1.34; xent: 0.29; lr: 1.00000; 21739/14114 tok/s;     75 sec\n",
            "[2020-05-08 04:58:45,455 INFO] Step 2750/50000; acc:  87.66; ppl:  1.53; xent: 0.43; lr: 1.00000; 20730/13371 tok/s;     76 sec\n",
            "[2020-05-08 04:58:46,553 INFO] Step 2800/50000; acc:  90.54; ppl:  1.33; xent: 0.29; lr: 1.00000; 21346/14348 tok/s;     77 sec\n",
            "[2020-05-08 04:58:47,823 INFO] Step 2850/50000; acc:  89.62; ppl:  1.36; xent: 0.30; lr: 1.00000; 20048/13248 tok/s;     79 sec\n",
            "[2020-05-08 04:58:49,085 INFO] Step 2900/50000; acc:  90.47; ppl:  1.33; xent: 0.28; lr: 1.00000; 18461/12178 tok/s;     80 sec\n",
            "[2020-05-08 04:58:50,275 INFO] Step 2950/50000; acc:  89.72; ppl:  1.36; xent: 0.31; lr: 1.00000; 22919/14673 tok/s;     81 sec\n",
            "[2020-05-08 04:58:51,429 INFO] Step 3000/50000; acc:  89.60; ppl:  1.38; xent: 0.32; lr: 1.00000; 22358/14757 tok/s;     82 sec\n",
            "[2020-05-08 04:58:51,429 INFO] Loading dataset from data/demo.valid.0.pt\n",
            "[2020-05-08 04:58:51,471 INFO] number of examples: 5000\n",
            "[2020-05-08 04:58:53,720 INFO] Validation perplexity: 1.30495\n",
            "[2020-05-08 04:58:53,720 INFO] Validation accuracy: 91.1812\n",
            "[2020-05-08 04:58:53,721 INFO] Model is improving ppl: inf --> 1.30495.\n",
            "[2020-05-08 04:58:53,721 INFO] Model is improving acc: -inf --> 91.1812.\n",
            "[2020-05-08 04:58:54,971 INFO] Step 3050/50000; acc:  87.01; ppl:  1.56; xent: 0.45; lr: 1.00000; 8096/5121 tok/s;     86 sec\n",
            "[2020-05-08 04:58:56,211 INFO] Step 3100/50000; acc:  89.41; ppl:  1.38; xent: 0.32; lr: 1.00000; 21061/13680 tok/s;     87 sec\n",
            "[2020-05-08 04:58:57,423 INFO] Step 3150/50000; acc:  90.07; ppl:  1.35; xent: 0.30; lr: 1.00000; 21346/14055 tok/s;     88 sec\n",
            "[2020-05-08 04:58:58,501 INFO] Step 3200/50000; acc:  91.06; ppl:  1.32; xent: 0.28; lr: 1.00000; 21911/14470 tok/s;     89 sec\n",
            "[2020-05-08 04:58:59,616 INFO] Step 3250/50000; acc:  91.13; ppl:  1.30; xent: 0.26; lr: 1.00000; 21690/14402 tok/s;     91 sec\n",
            "[2020-05-08 04:59:00,693 INFO] Step 3300/50000; acc:  91.65; ppl:  1.28; xent: 0.24; lr: 1.00000; 21648/14392 tok/s;     92 sec\n",
            "[2020-05-08 04:59:01,831 INFO] Step 3350/50000; acc:  90.95; ppl:  1.30; xent: 0.26; lr: 1.00000; 21478/14000 tok/s;     93 sec\n",
            "[2020-05-08 04:59:02,876 INFO] Step 3400/50000; acc:  91.54; ppl:  1.28; xent: 0.25; lr: 1.00000; 23097/14826 tok/s;     94 sec\n",
            "[2020-05-08 04:59:03,997 INFO] Step 3450/50000; acc:  90.77; ppl:  1.30; xent: 0.27; lr: 1.00000; 22268/14408 tok/s;     95 sec\n",
            "[2020-05-08 04:59:05,188 INFO] Step 3500/50000; acc:  90.70; ppl:  1.31; xent: 0.27; lr: 1.00000; 22629/14459 tok/s;     96 sec\n",
            "[2020-05-08 04:59:06,587 INFO] Step 3550/50000; acc:  90.06; ppl:  1.34; xent: 0.29; lr: 1.00000; 20813/13211 tok/s;     97 sec\n",
            "[2020-05-08 04:59:07,789 INFO] Step 3600/50000; acc:  91.12; ppl:  1.30; xent: 0.26; lr: 1.00000; 21103/13908 tok/s;     99 sec\n",
            "[2020-05-08 04:59:09,018 INFO] Step 3650/50000; acc:  90.70; ppl:  1.32; xent: 0.28; lr: 1.00000; 22511/14757 tok/s;    100 sec\n",
            "[2020-05-08 04:59:10,199 INFO] Step 3700/50000; acc:  90.44; ppl:  1.32; xent: 0.28; lr: 1.00000; 23019/14624 tok/s;    101 sec\n",
            "[2020-05-08 04:59:11,398 INFO] Step 3750/50000; acc:  91.31; ppl:  1.31; xent: 0.27; lr: 1.00000; 20530/13386 tok/s;    102 sec\n",
            "[2020-05-08 04:59:12,637 INFO] Step 3800/50000; acc:  90.58; ppl:  1.38; xent: 0.32; lr: 1.00000; 21242/13733 tok/s;    104 sec\n",
            "[2020-05-08 04:59:13,794 INFO] Step 3850/50000; acc:  90.66; ppl:  1.33; xent: 0.28; lr: 1.00000; 21901/14392 tok/s;    105 sec\n",
            "[2020-05-08 04:59:14,878 INFO] Step 3900/50000; acc:  91.70; ppl:  1.33; xent: 0.28; lr: 1.00000; 21013/14261 tok/s;    106 sec\n",
            "[2020-05-08 04:59:16,206 INFO] Step 3950/50000; acc:  90.05; ppl:  1.37; xent: 0.31; lr: 1.00000; 21648/13838 tok/s;    107 sec\n",
            "[2020-05-08 04:59:17,448 INFO] Step 4000/50000; acc:  90.78; ppl:  1.33; xent: 0.29; lr: 1.00000; 20622/13375 tok/s;    108 sec\n",
            "[2020-05-08 04:59:18,557 INFO] Step 4050/50000; acc:  91.04; ppl:  1.32; xent: 0.27; lr: 1.00000; 22930/14730 tok/s;    109 sec\n",
            "[2020-05-08 04:59:19,859 INFO] Step 4100/50000; acc:  90.61; ppl:  1.34; xent: 0.29; lr: 1.00000; 21179/13430 tok/s;    111 sec\n",
            "[2020-05-08 04:59:21,160 INFO] Step 4150/50000; acc:  91.82; ppl:  1.31; xent: 0.27; lr: 1.00000; 19492/13068 tok/s;    112 sec\n",
            "[2020-05-08 04:59:22,565 INFO] Step 4200/50000; acc:  88.35; ppl:  1.55; xent: 0.44; lr: 1.00000; 20456/12905 tok/s;    113 sec\n",
            "[2020-05-08 04:59:23,736 INFO] Step 4250/50000; acc:  91.50; ppl:  1.30; xent: 0.26; lr: 1.00000; 22022/14372 tok/s;    115 sec\n",
            "[2020-05-08 04:59:24,907 INFO] Step 4300/50000; acc:  91.26; ppl:  1.30; xent: 0.26; lr: 1.00000; 22306/14871 tok/s;    116 sec\n",
            "[2020-05-08 04:59:26,123 INFO] Step 4350/50000; acc:  91.79; ppl:  1.27; xent: 0.24; lr: 1.00000; 22321/14583 tok/s;    117 sec\n",
            "[2020-05-08 04:59:27,346 INFO] Step 4400/50000; acc:  91.95; ppl:  1.26; xent: 0.24; lr: 1.00000; 21568/13881 tok/s;    118 sec\n",
            "[2020-05-08 04:59:28,497 INFO] Step 4450/50000; acc:  92.13; ppl:  1.26; xent: 0.23; lr: 1.00000; 22581/14628 tok/s;    119 sec\n",
            "[2020-05-08 04:59:29,714 INFO] Step 4500/50000; acc:  93.00; ppl:  1.23; xent: 0.21; lr: 1.00000; 20775/13465 tok/s;    121 sec\n",
            "[2020-05-08 04:59:30,974 INFO] Step 4550/50000; acc:  91.59; ppl:  1.29; xent: 0.26; lr: 1.00000; 21031/13296 tok/s;    122 sec\n",
            "[2020-05-08 04:59:32,079 INFO] Step 4600/50000; acc:  92.05; ppl:  1.25; xent: 0.23; lr: 1.00000; 23108/14884 tok/s;    123 sec\n",
            "[2020-05-08 04:59:33,200 INFO] Step 4650/50000; acc:  92.07; ppl:  1.26; xent: 0.23; lr: 1.00000; 22388/14612 tok/s;    124 sec\n",
            "[2020-05-08 04:59:34,454 INFO] Step 4700/50000; acc:  91.76; ppl:  1.28; xent: 0.25; lr: 1.00000; 22471/14096 tok/s;    125 sec\n",
            "[2020-05-08 04:59:35,539 INFO] Step 4750/50000; acc:  93.00; ppl:  1.24; xent: 0.21; lr: 1.00000; 21812/14384 tok/s;    126 sec\n",
            "[2020-05-08 04:59:36,648 INFO] Step 4800/50000; acc:  92.59; ppl:  1.25; xent: 0.22; lr: 1.00000; 22292/14755 tok/s;    128 sec\n",
            "[2020-05-08 04:59:37,785 INFO] Step 4850/50000; acc:  92.28; ppl:  1.25; xent: 0.23; lr: 1.00000; 22350/14694 tok/s;    129 sec\n",
            "[2020-05-08 04:59:39,107 INFO] Step 4900/50000; acc:  92.00; ppl:  1.29; xent: 0.26; lr: 1.00000; 20186/13070 tok/s;    130 sec\n",
            "[2020-05-08 04:59:40,354 INFO] Step 4950/50000; acc:  92.16; ppl:  1.27; xent: 0.24; lr: 1.00000; 20492/13661 tok/s;    131 sec\n",
            "[2020-05-08 04:59:41,513 INFO] Step 5000/50000; acc:  91.92; ppl:  1.30; xent: 0.26; lr: 1.00000; 20933/13998 tok/s;    132 sec\n",
            "[2020-05-08 04:59:41,516 INFO] Saving checkpoint demo-model_step_5000.pt\n",
            "[2020-05-08 04:59:42,663 INFO] Step 5050/50000; acc:  93.37; ppl:  1.22; xent: 0.20; lr: 1.00000; 20249/13296 tok/s;    134 sec\n",
            "[2020-05-08 04:59:43,846 INFO] Step 5100/50000; acc:  92.89; ppl:  1.24; xent: 0.21; lr: 1.00000; 21545/13899 tok/s;    135 sec\n",
            "[2020-05-08 04:59:45,059 INFO] Step 5150/50000; acc:  91.70; ppl:  1.34; xent: 0.29; lr: 1.00000; 23259/14943 tok/s;    136 sec\n",
            "[2020-05-08 04:59:46,215 INFO] Step 5200/50000; acc:  93.50; ppl:  1.22; xent: 0.20; lr: 1.00000; 20108/13405 tok/s;    137 sec\n",
            "[2020-05-08 04:59:47,440 INFO] Step 5250/50000; acc:  92.88; ppl:  1.24; xent: 0.21; lr: 1.00000; 21151/13761 tok/s;    138 sec\n",
            "[2020-05-08 04:59:48,670 INFO] Step 5300/50000; acc:  92.95; ppl:  1.23; xent: 0.21; lr: 1.00000; 20308/13434 tok/s;    140 sec\n",
            "[2020-05-08 04:59:50,029 INFO] Step 5350/50000; acc:  91.27; ppl:  1.31; xent: 0.27; lr: 1.00000; 21384/13523 tok/s;    141 sec\n",
            "[2020-05-08 04:59:51,213 INFO] Step 5400/50000; acc:  93.13; ppl:  1.23; xent: 0.21; lr: 1.00000; 22178/14605 tok/s;    142 sec\n",
            "[2020-05-08 04:59:52,368 INFO] Step 5450/50000; acc:  92.89; ppl:  1.24; xent: 0.22; lr: 1.00000; 23434/14793 tok/s;    143 sec\n",
            "[2020-05-08 04:59:53,485 INFO] Step 5500/50000; acc:  93.71; ppl:  1.21; xent: 0.19; lr: 1.00000; 21544/14611 tok/s;    144 sec\n",
            "[2020-05-08 04:59:54,595 INFO] Step 5550/50000; acc:  93.02; ppl:  1.23; xent: 0.21; lr: 1.00000; 23535/15004 tok/s;    145 sec\n",
            "[2020-05-08 04:59:55,920 INFO] Step 5600/50000; acc:  93.44; ppl:  1.22; xent: 0.20; lr: 1.00000; 20536/12853 tok/s;    147 sec\n",
            "[2020-05-08 04:59:57,231 INFO] Step 5650/50000; acc:  92.07; ppl:  1.27; xent: 0.24; lr: 1.00000; 20068/13164 tok/s;    148 sec\n",
            "[2020-05-08 04:59:58,399 INFO] Step 5700/50000; acc:  92.68; ppl:  1.25; xent: 0.22; lr: 1.00000; 22621/14509 tok/s;    149 sec\n",
            "[2020-05-08 04:59:59,604 INFO] Step 5750/50000; acc:  92.04; ppl:  1.32; xent: 0.28; lr: 1.00000; 22653/15033 tok/s;    150 sec\n",
            "[2020-05-08 05:00:00,721 INFO] Step 5800/50000; acc:  93.17; ppl:  1.24; xent: 0.21; lr: 1.00000; 21494/13770 tok/s;    152 sec\n",
            "[2020-05-08 05:00:01,954 INFO] Step 5850/50000; acc:  93.08; ppl:  1.23; xent: 0.21; lr: 1.00000; 19884/13494 tok/s;    153 sec\n",
            "[2020-05-08 05:00:03,428 INFO] Step 5900/50000; acc:  93.20; ppl:  1.22; xent: 0.20; lr: 1.00000; 20008/12673 tok/s;    154 sec\n",
            "[2020-05-08 05:00:04,573 INFO] Step 5950/50000; acc:  93.26; ppl:  1.23; xent: 0.20; lr: 1.00000; 20925/13652 tok/s;    155 sec\n",
            "[2020-05-08 05:00:05,718 INFO] Step 6000/50000; acc:  93.44; ppl:  1.22; xent: 0.20; lr: 1.00000; 21355/14311 tok/s;    157 sec\n",
            "[2020-05-08 05:00:05,718 INFO] Loading dataset from data/demo.valid.0.pt\n",
            "[2020-05-08 05:00:05,737 INFO] number of examples: 5000\n",
            "[2020-05-08 05:00:08,112 INFO] Validation perplexity: 1.18429\n",
            "[2020-05-08 05:00:08,112 INFO] Validation accuracy: 94.4094\n",
            "[2020-05-08 05:00:08,112 INFO] Model is improving ppl: 1.30495 --> 1.18429.\n",
            "[2020-05-08 05:00:08,112 INFO] Model is improving acc: 91.1812 --> 94.4094.\n",
            "[2020-05-08 05:00:09,438 INFO] Step 6050/50000; acc:  93.35; ppl:  1.23; xent: 0.21; lr: 1.00000; 7105/4559 tok/s;    160 sec\n",
            "[2020-05-08 05:00:10,654 INFO] Step 6100/50000; acc:  93.40; ppl:  1.22; xent: 0.20; lr: 1.00000; 21588/13914 tok/s;    162 sec\n",
            "[2020-05-08 05:00:11,898 INFO] Step 6150/50000; acc:  93.17; ppl:  1.24; xent: 0.21; lr: 1.00000; 21822/14272 tok/s;    163 sec\n",
            "[2020-05-08 05:00:13,090 INFO] Step 6200/50000; acc:  93.63; ppl:  1.21; xent: 0.19; lr: 1.00000; 21430/14022 tok/s;    164 sec\n",
            "[2020-05-08 05:00:14,261 INFO] Step 6250/50000; acc:  94.00; ppl:  1.20; xent: 0.18; lr: 1.00000; 20819/13606 tok/s;    165 sec\n",
            "[2020-05-08 05:00:15,487 INFO] Step 6300/50000; acc:  93.37; ppl:  1.22; xent: 0.20; lr: 1.00000; 21626/14053 tok/s;    166 sec\n",
            "[2020-05-08 05:00:16,572 INFO] Step 6350/50000; acc:  93.98; ppl:  1.21; xent: 0.19; lr: 1.00000; 21296/14246 tok/s;    167 sec\n",
            "[2020-05-08 05:00:17,724 INFO] Step 6400/50000; acc:  94.21; ppl:  1.20; xent: 0.18; lr: 1.00000; 21173/13848 tok/s;    169 sec\n",
            "[2020-05-08 05:00:19,001 INFO] Step 6450/50000; acc:  94.31; ppl:  1.20; xent: 0.18; lr: 1.00000; 18531/12209 tok/s;    170 sec\n",
            "[2020-05-08 05:00:20,277 INFO] Step 6500/50000; acc:  94.09; ppl:  1.19; xent: 0.18; lr: 1.00000; 19674/12919 tok/s;    171 sec\n",
            "[2020-05-08 05:00:21,474 INFO] Step 6550/50000; acc:  93.01; ppl:  1.26; xent: 0.23; lr: 1.00000; 21762/14169 tok/s;    172 sec\n",
            "[2020-05-08 05:00:22,642 INFO] Step 6600/50000; acc:  92.40; ppl:  1.31; xent: 0.27; lr: 1.00000; 21748/14157 tok/s;    174 sec\n",
            "[2020-05-08 05:00:23,947 INFO] Step 6650/50000; acc:  93.66; ppl:  1.21; xent: 0.19; lr: 1.00000; 20114/13063 tok/s;    175 sec\n",
            "[2020-05-08 05:00:25,156 INFO] Step 6700/50000; acc:  92.50; ppl:  1.30; xent: 0.26; lr: 1.00000; 21996/14472 tok/s;    176 sec\n",
            "[2020-05-08 05:00:26,277 INFO] Step 6750/50000; acc:  93.48; ppl:  1.21; xent: 0.19; lr: 1.00000; 22516/14458 tok/s;    177 sec\n",
            "[2020-05-08 05:00:27,386 INFO] Step 6800/50000; acc:  93.71; ppl:  1.21; xent: 0.19; lr: 1.00000; 22103/14774 tok/s;    178 sec\n",
            "[2020-05-08 05:00:28,634 INFO] Step 6850/50000; acc:  94.62; ppl:  1.17; xent: 0.16; lr: 1.00000; 19025/12564 tok/s;    180 sec\n",
            "[2020-05-08 05:00:29,818 INFO] Step 6900/50000; acc:  93.44; ppl:  1.21; xent: 0.19; lr: 1.00000; 22493/14328 tok/s;    181 sec\n",
            "[2020-05-08 05:00:30,995 INFO] Step 6950/50000; acc:  94.30; ppl:  1.19; xent: 0.17; lr: 1.00000; 21530/13864 tok/s;    182 sec\n",
            "[2020-05-08 05:00:32,312 INFO] Step 7000/50000; acc:  93.95; ppl:  1.21; xent: 0.19; lr: 1.00000; 19832/12846 tok/s;    183 sec\n",
            "[2020-05-08 05:00:33,453 INFO] Step 7050/50000; acc:  93.99; ppl:  1.20; xent: 0.18; lr: 1.00000; 23392/15202 tok/s;    184 sec\n",
            "[2020-05-08 05:00:34,620 INFO] Step 7100/50000; acc:  94.44; ppl:  1.18; xent: 0.17; lr: 1.00000; 22775/14653 tok/s;    186 sec\n",
            "[2020-05-08 05:00:35,847 INFO] Step 7150/50000; acc:  92.79; ppl:  1.28; xent: 0.24; lr: 1.00000; 21967/14251 tok/s;    187 sec\n",
            "[2020-05-08 05:00:37,155 INFO] Step 7200/50000; acc:  93.71; ppl:  1.20; xent: 0.19; lr: 1.00000; 22319/14439 tok/s;    188 sec\n",
            "[2020-05-08 05:00:38,368 INFO] Step 7250/50000; acc:  94.18; ppl:  1.19; xent: 0.18; lr: 1.00000; 19998/13297 tok/s;    189 sec\n",
            "[2020-05-08 05:00:39,523 INFO] Step 7300/50000; acc:  94.45; ppl:  1.18; xent: 0.16; lr: 1.00000; 22678/14291 tok/s;    190 sec\n",
            "[2020-05-08 05:00:40,695 INFO] Step 7350/50000; acc:  93.94; ppl:  1.20; xent: 0.19; lr: 1.00000; 22387/14088 tok/s;    192 sec\n",
            "[2020-05-08 05:00:41,894 INFO] Step 7400/50000; acc:  94.24; ppl:  1.19; xent: 0.18; lr: 1.00000; 20935/13728 tok/s;    193 sec\n",
            "[2020-05-08 05:00:43,277 INFO] Step 7450/50000; acc:  93.59; ppl:  1.22; xent: 0.20; lr: 1.00000; 19848/12862 tok/s;    194 sec\n",
            "[2020-05-08 05:00:44,602 INFO] Step 7500/50000; acc:  93.95; ppl:  1.20; xent: 0.18; lr: 1.00000; 20106/12856 tok/s;    195 sec\n",
            "[2020-05-08 05:00:45,863 INFO] Step 7550/50000; acc:  94.25; ppl:  1.19; xent: 0.18; lr: 1.00000; 21675/13755 tok/s;    197 sec\n",
            "[2020-05-08 05:00:47,247 INFO] Step 7600/50000; acc:  93.39; ppl:  1.22; xent: 0.20; lr: 1.00000; 20396/12950 tok/s;    198 sec\n",
            "[2020-05-08 05:00:48,432 INFO] Step 7650/50000; acc:  93.59; ppl:  1.23; xent: 0.21; lr: 1.00000; 22365/14633 tok/s;    199 sec\n",
            "[2020-05-08 05:00:49,638 INFO] Step 7700/50000; acc:  94.52; ppl:  1.18; xent: 0.17; lr: 1.00000; 20600/13645 tok/s;    201 sec\n",
            "[2020-05-08 05:00:50,719 INFO] Step 7750/50000; acc:  94.18; ppl:  1.19; xent: 0.18; lr: 1.00000; 21961/14680 tok/s;    202 sec\n",
            "[2020-05-08 05:00:51,889 INFO] Step 7800/50000; acc:  92.99; ppl:  1.24; xent: 0.22; lr: 1.00000; 22274/14582 tok/s;    203 sec\n",
            "[2020-05-08 05:00:53,187 INFO] Step 7850/50000; acc:  94.26; ppl:  1.19; xent: 0.17; lr: 1.00000; 19712/13059 tok/s;    204 sec\n",
            "[2020-05-08 05:00:54,359 INFO] Step 7900/50000; acc:  94.01; ppl:  1.19; xent: 0.17; lr: 1.00000; 22519/14703 tok/s;    205 sec\n",
            "[2020-05-08 05:00:55,681 INFO] Step 7950/50000; acc:  93.18; ppl:  1.29; xent: 0.26; lr: 1.00000; 19188/12693 tok/s;    207 sec\n",
            "[2020-05-08 05:00:56,878 INFO] Step 8000/50000; acc:  93.67; ppl:  1.22; xent: 0.20; lr: 1.00000; 22085/14224 tok/s;    208 sec\n",
            "[2020-05-08 05:00:58,010 INFO] Step 8050/50000; acc:  93.53; ppl:  1.21; xent: 0.19; lr: 1.00000; 22124/14507 tok/s;    209 sec\n",
            "[2020-05-08 05:00:59,269 INFO] Step 8100/50000; acc:  93.31; ppl:  1.22; xent: 0.20; lr: 1.00000; 23028/14547 tok/s;    210 sec\n",
            "[2020-05-08 05:01:00,460 INFO] Step 8150/50000; acc:  93.68; ppl:  1.21; xent: 0.19; lr: 1.00000; 22885/14696 tok/s;    211 sec\n",
            "[2020-05-08 05:01:03,122 INFO] Step 8200/50000; acc:  94.65; ppl:  1.17; xent: 0.16; lr: 1.00000; 9500/6157 tok/s;    214 sec\n",
            "[2020-05-08 05:01:04,333 INFO] Step 8250/50000; acc:  94.00; ppl:  1.20; xent: 0.18; lr: 1.00000; 23681/14748 tok/s;    215 sec\n",
            "[2020-05-08 05:01:05,480 INFO] Step 8300/50000; acc:  94.27; ppl:  1.19; xent: 0.17; lr: 1.00000; 22884/14493 tok/s;    216 sec\n",
            "[2020-05-08 05:01:06,647 INFO] Step 8350/50000; acc:  95.00; ppl:  1.17; xent: 0.16; lr: 1.00000; 19358/12857 tok/s;    218 sec\n",
            "[2020-05-08 05:01:07,809 INFO] Step 8400/50000; acc:  94.18; ppl:  1.20; xent: 0.18; lr: 1.00000; 22538/14603 tok/s;    219 sec\n",
            "[2020-05-08 05:01:08,904 INFO] Step 8450/50000; acc:  94.95; ppl:  1.16; xent: 0.15; lr: 1.00000; 21324/14197 tok/s;    220 sec\n",
            "[2020-05-08 05:01:10,113 INFO] Step 8500/50000; acc:  93.89; ppl:  1.22; xent: 0.20; lr: 1.00000; 22193/14422 tok/s;    221 sec\n",
            "[2020-05-08 05:01:11,462 INFO] Step 8550/50000; acc:  94.04; ppl:  1.19; xent: 0.18; lr: 1.00000; 20823/13186 tok/s;    222 sec\n",
            "[2020-05-08 05:01:12,696 INFO] Step 8600/50000; acc:  94.67; ppl:  1.18; xent: 0.16; lr: 1.00000; 22211/14187 tok/s;    224 sec\n",
            "[2020-05-08 05:01:13,939 INFO] Step 8650/50000; acc:  93.96; ppl:  1.20; xent: 0.18; lr: 1.00000; 22345/14262 tok/s;    225 sec\n",
            "[2020-05-08 05:01:15,192 INFO] Step 8700/50000; acc:  93.74; ppl:  1.21; xent: 0.19; lr: 1.00000; 23275/14978 tok/s;    226 sec\n",
            "[2020-05-08 05:01:16,346 INFO] Step 8750/50000; acc:  93.64; ppl:  1.24; xent: 0.21; lr: 1.00000; 22467/14756 tok/s;    227 sec\n",
            "[2020-05-08 05:01:17,517 INFO] Step 8800/50000; acc:  94.44; ppl:  1.18; xent: 0.17; lr: 1.00000; 23022/14655 tok/s;    228 sec\n",
            "[2020-05-08 05:01:18,686 INFO] Step 8850/50000; acc:  94.37; ppl:  1.20; xent: 0.18; lr: 1.00000; 22881/14451 tok/s;    230 sec\n",
            "[2020-05-08 05:01:19,926 INFO] Step 8900/50000; acc:  93.91; ppl:  1.20; xent: 0.19; lr: 1.00000; 24001/14979 tok/s;    231 sec\n",
            "[2020-05-08 05:01:21,103 INFO] Step 8950/50000; acc:  91.29; ppl:  1.40; xent: 0.34; lr: 1.00000; 22840/14751 tok/s;    232 sec\n",
            "[2020-05-08 05:01:22,340 INFO] Step 9000/50000; acc:  93.58; ppl:  1.24; xent: 0.22; lr: 1.00000; 20208/13249 tok/s;    233 sec\n",
            "[2020-05-08 05:01:22,340 INFO] Loading dataset from data/demo.valid.0.pt\n",
            "[2020-05-08 05:01:22,364 INFO] number of examples: 5000\n",
            "[2020-05-08 05:01:24,703 INFO] Validation perplexity: 1.16354\n",
            "[2020-05-08 05:01:24,704 INFO] Validation accuracy: 95.0285\n",
            "[2020-05-08 05:01:24,704 INFO] Model is improving ppl: 1.18429 --> 1.16354.\n",
            "[2020-05-08 05:01:24,704 INFO] Model is improving acc: 94.4094 --> 95.0285.\n",
            "[2020-05-08 05:01:25,880 INFO] Step 9050/50000; acc:  94.72; ppl:  1.17; xent: 0.16; lr: 1.00000; 7195/4646 tok/s;    237 sec\n",
            "[2020-05-08 05:01:27,056 INFO] Step 9100/50000; acc:  94.60; ppl:  1.18; xent: 0.17; lr: 1.00000; 22522/14525 tok/s;    238 sec\n",
            "[2020-05-08 05:01:28,220 INFO] Step 9150/50000; acc:  94.22; ppl:  1.19; xent: 0.17; lr: 1.00000; 22886/14689 tok/s;    239 sec\n",
            "[2020-05-08 05:01:29,296 INFO] Step 9200/50000; acc:  94.91; ppl:  1.17; xent: 0.16; lr: 1.00000; 22306/14395 tok/s;    240 sec\n",
            "[2020-05-08 05:01:30,500 INFO] Step 9250/50000; acc:  94.35; ppl:  1.22; xent: 0.20; lr: 1.00000; 18409/12670 tok/s;    241 sec\n",
            "[2020-05-08 05:01:31,729 INFO] Step 9300/50000; acc:  95.01; ppl:  1.16; xent: 0.15; lr: 1.00000; 19545/13370 tok/s;    243 sec\n",
            "[2020-05-08 05:01:32,924 INFO] Step 9350/50000; acc:  95.01; ppl:  1.17; xent: 0.16; lr: 1.00000; 22178/14517 tok/s;    244 sec\n",
            "[2020-05-08 05:01:34,077 INFO] Step 9400/50000; acc:  94.96; ppl:  1.17; xent: 0.16; lr: 1.00000; 21593/14099 tok/s;    245 sec\n",
            "[2020-05-08 05:01:35,248 INFO] Step 9450/50000; acc:  94.75; ppl:  1.18; xent: 0.16; lr: 1.00000; 22582/14763 tok/s;    246 sec\n",
            "[2020-05-08 05:01:36,411 INFO] Step 9500/50000; acc:  94.72; ppl:  1.17; xent: 0.16; lr: 1.00000; 21396/14121 tok/s;    247 sec\n",
            "[2020-05-08 05:01:37,475 INFO] Step 9550/50000; acc:  94.86; ppl:  1.16; xent: 0.15; lr: 1.00000; 22096/14691 tok/s;    248 sec\n",
            "[2020-05-08 05:01:38,840 INFO] Step 9600/50000; acc:  93.49; ppl:  1.23; xent: 0.20; lr: 1.00000; 19634/12543 tok/s;    250 sec\n",
            "[2020-05-08 05:01:39,926 INFO] Step 9650/50000; acc:  94.90; ppl:  1.17; xent: 0.15; lr: 1.00000; 22582/14367 tok/s;    251 sec\n",
            "[2020-05-08 05:01:41,079 INFO] Step 9700/50000; acc:  94.63; ppl:  1.18; xent: 0.17; lr: 1.00000; 22419/14539 tok/s;    252 sec\n",
            "[2020-05-08 05:01:42,300 INFO] Step 9750/50000; acc:  94.33; ppl:  1.18; xent: 0.17; lr: 1.00000; 22664/14483 tok/s;    253 sec\n",
            "[2020-05-08 05:01:43,647 INFO] Step 9800/50000; acc:  94.15; ppl:  1.20; xent: 0.18; lr: 1.00000; 20638/13224 tok/s;    255 sec\n",
            "[2020-05-08 05:01:44,842 INFO] Step 9850/50000; acc:  95.02; ppl:  1.17; xent: 0.15; lr: 1.00000; 21927/14088 tok/s;    256 sec\n",
            "[2020-05-08 05:01:46,050 INFO] Step 9900/50000; acc:  94.59; ppl:  1.19; xent: 0.17; lr: 1.00000; 22045/14573 tok/s;    257 sec\n",
            "[2020-05-08 05:01:47,233 INFO] Step 9950/50000; acc:  94.97; ppl:  1.16; xent: 0.15; lr: 1.00000; 22339/14658 tok/s;    258 sec\n",
            "[2020-05-08 05:01:48,389 INFO] Step 10000/50000; acc:  94.91; ppl:  1.17; xent: 0.16; lr: 1.00000; 21547/14153 tok/s;    259 sec\n",
            "[2020-05-08 05:01:48,392 INFO] Saving checkpoint demo-model_step_10000.pt\n",
            "[2020-05-08 05:01:49,645 INFO] Step 10050/50000; acc:  95.07; ppl:  1.16; xent: 0.15; lr: 1.00000; 21105/13662 tok/s;    261 sec\n",
            "[2020-05-08 05:01:50,770 INFO] Step 10100/50000; acc:  95.22; ppl:  1.16; xent: 0.15; lr: 1.00000; 21620/14167 tok/s;    262 sec\n",
            "[2020-05-08 05:01:51,886 INFO] Step 10150/50000; acc:  95.36; ppl:  1.16; xent: 0.15; lr: 1.00000; 20825/13884 tok/s;    263 sec\n",
            "[2020-05-08 05:01:53,156 INFO] Step 10200/50000; acc:  94.80; ppl:  1.20; xent: 0.18; lr: 1.00000; 17893/11945 tok/s;    264 sec\n",
            "[2020-05-08 05:01:54,351 INFO] Step 10250/50000; acc:  95.70; ppl:  1.14; xent: 0.13; lr: 1.00000; 19120/12854 tok/s;    265 sec\n",
            "[2020-05-08 05:01:55,585 INFO] Step 10300/50000; acc:  94.74; ppl:  1.18; xent: 0.16; lr: 1.00000; 21264/14263 tok/s;    266 sec\n",
            "[2020-05-08 05:01:56,748 INFO] Step 10350/50000; acc:  94.91; ppl:  1.18; xent: 0.16; lr: 1.00000; 21762/13946 tok/s;    268 sec\n",
            "[2020-05-08 05:01:57,918 INFO] Step 10400/50000; acc:  95.22; ppl:  1.16; xent: 0.15; lr: 1.00000; 22099/14331 tok/s;    269 sec\n",
            "[2020-05-08 05:01:59,155 INFO] Step 10450/50000; acc:  94.72; ppl:  1.17; xent: 0.16; lr: 1.00000; 22569/14344 tok/s;    270 sec\n",
            "[2020-05-08 05:02:00,411 INFO] Step 10500/50000; acc:  94.95; ppl:  1.17; xent: 0.15; lr: 1.00000; 21754/14163 tok/s;    271 sec\n",
            "[2020-05-08 05:02:01,527 INFO] Step 10550/50000; acc:  95.23; ppl:  1.16; xent: 0.14; lr: 1.00000; 21855/14400 tok/s;    272 sec\n",
            "[2020-05-08 05:02:02,862 INFO] Step 10600/50000; acc:  94.59; ppl:  1.18; xent: 0.17; lr: 1.00000; 19578/12986 tok/s;    274 sec\n",
            "[2020-05-08 05:02:04,079 INFO] Step 10650/50000; acc:  94.82; ppl:  1.17; xent: 0.15; lr: 1.00000; 21891/14166 tok/s;    275 sec\n",
            "[2020-05-08 05:02:05,272 INFO] Step 10700/50000; acc:  95.44; ppl:  1.15; xent: 0.14; lr: 1.00000; 21886/14162 tok/s;    276 sec\n",
            "[2020-05-08 05:02:06,547 INFO] Step 10750/50000; acc:  94.31; ppl:  1.19; xent: 0.17; lr: 1.00000; 20492/13068 tok/s;    277 sec\n",
            "[2020-05-08 05:02:07,756 INFO] Step 10800/50000; acc:  93.78; ppl:  1.22; xent: 0.20; lr: 1.00000; 22453/14430 tok/s;    279 sec\n",
            "[2020-05-08 05:02:08,957 INFO] Step 10850/50000; acc:  94.88; ppl:  1.17; xent: 0.16; lr: 1.00000; 22278/14134 tok/s;    280 sec\n",
            "[2020-05-08 05:02:10,063 INFO] Step 10900/50000; acc:  95.51; ppl:  1.16; xent: 0.14; lr: 1.00000; 20033/13471 tok/s;    281 sec\n",
            "[2020-05-08 05:02:11,396 INFO] Step 10950/50000; acc:  94.83; ppl:  1.17; xent: 0.16; lr: 1.00000; 20264/13181 tok/s;    282 sec\n",
            "[2020-05-08 05:02:12,537 INFO] Step 11000/50000; acc:  94.09; ppl:  1.20; xent: 0.19; lr: 1.00000; 20873/14017 tok/s;    283 sec\n",
            "[2020-05-08 05:02:13,749 INFO] Step 11050/50000; acc:  94.15; ppl:  1.19; xent: 0.18; lr: 1.00000; 24019/14834 tok/s;    285 sec\n",
            "[2020-05-08 05:02:14,894 INFO] Step 11100/50000; acc:  95.45; ppl:  1.15; xent: 0.14; lr: 1.00000; 21974/14369 tok/s;    286 sec\n",
            "[2020-05-08 05:02:15,978 INFO] Step 11150/50000; acc:  95.80; ppl:  1.14; xent: 0.13; lr: 1.00000; 21442/14472 tok/s;    287 sec\n",
            "[2020-05-08 05:02:17,285 INFO] Step 11200/50000; acc:  94.41; ppl:  1.19; xent: 0.18; lr: 1.00000; 20785/13500 tok/s;    288 sec\n",
            "[2020-05-08 05:02:18,634 INFO] Step 11250/50000; acc:  94.65; ppl:  1.22; xent: 0.20; lr: 1.00000; 19646/12742 tok/s;    290 sec\n",
            "[2020-05-08 05:02:19,749 INFO] Step 11300/50000; acc:  95.45; ppl:  1.15; xent: 0.14; lr: 1.00000; 20715/14026 tok/s;    291 sec\n",
            "[2020-05-08 05:02:20,856 INFO] Step 11350/50000; acc:  95.18; ppl:  1.16; xent: 0.15; lr: 1.00000; 21808/14428 tok/s;    292 sec\n",
            "[2020-05-08 05:02:21,995 INFO] Step 11400/50000; acc:  95.69; ppl:  1.15; xent: 0.14; lr: 1.00000; 20908/13939 tok/s;    293 sec\n",
            "[2020-05-08 05:02:23,211 INFO] Step 11450/50000; acc:  95.08; ppl:  1.16; xent: 0.15; lr: 1.00000; 22311/14681 tok/s;    294 sec\n",
            "[2020-05-08 05:02:24,506 INFO] Step 11500/50000; acc:  95.24; ppl:  1.16; xent: 0.15; lr: 1.00000; 20674/13390 tok/s;    295 sec\n",
            "[2020-05-08 05:02:25,752 INFO] Step 11550/50000; acc:  94.43; ppl:  1.19; xent: 0.17; lr: 1.00000; 21031/13621 tok/s;    297 sec\n",
            "[2020-05-08 05:02:26,968 INFO] Step 11600/50000; acc:  94.65; ppl:  1.17; xent: 0.16; lr: 1.00000; 22060/14531 tok/s;    298 sec\n",
            "[2020-05-08 05:02:28,123 INFO] Step 11650/50000; acc:  95.43; ppl:  1.15; xent: 0.14; lr: 1.00000; 20145/13510 tok/s;    299 sec\n",
            "[2020-05-08 05:02:29,445 INFO] Step 11700/50000; acc:  94.60; ppl:  1.17; xent: 0.16; lr: 1.00000; 20717/13461 tok/s;    300 sec\n",
            "[2020-05-08 05:02:30,650 INFO] Step 11750/50000; acc:  94.42; ppl:  1.19; xent: 0.17; lr: 1.00000; 21743/14448 tok/s;    302 sec\n",
            "[2020-05-08 05:02:31,879 INFO] Step 11800/50000; acc:  95.44; ppl:  1.15; xent: 0.14; lr: 1.00000; 21201/13783 tok/s;    303 sec\n",
            "[2020-05-08 05:02:33,091 INFO] Step 11850/50000; acc:  94.31; ppl:  1.19; xent: 0.17; lr: 1.00000; 22921/14762 tok/s;    304 sec\n",
            "[2020-05-08 05:02:34,150 INFO] Step 11900/50000; acc:  95.85; ppl:  1.14; xent: 0.13; lr: 1.00000; 20200/13547 tok/s;    305 sec\n",
            "[2020-05-08 05:02:35,385 INFO] Step 11950/50000; acc:  95.09; ppl:  1.17; xent: 0.16; lr: 1.00000; 20573/13577 tok/s;    306 sec\n",
            "[2020-05-08 05:02:36,730 INFO] Step 12000/50000; acc:  94.75; ppl:  1.18; xent: 0.16; lr: 1.00000; 22322/14112 tok/s;    308 sec\n",
            "[2020-05-08 05:02:36,730 INFO] Loading dataset from data/demo.valid.0.pt\n",
            "[2020-05-08 05:02:36,749 INFO] number of examples: 5000\n",
            "[2020-05-08 05:02:39,063 INFO] Validation perplexity: 1.13446\n",
            "[2020-05-08 05:02:39,063 INFO] Validation accuracy: 95.9172\n",
            "[2020-05-08 05:02:39,063 INFO] Model is improving ppl: 1.16354 --> 1.13446.\n",
            "[2020-05-08 05:02:39,063 INFO] Model is improving acc: 95.0285 --> 95.9172.\n",
            "[2020-05-08 05:02:40,260 INFO] Step 12050/50000; acc:  95.50; ppl:  1.15; xent: 0.14; lr: 1.00000; 7886/4995 tok/s;    311 sec\n",
            "[2020-05-08 05:02:41,463 INFO] Step 12100/50000; acc:  94.61; ppl:  1.18; xent: 0.17; lr: 1.00000; 23039/14473 tok/s;    312 sec\n",
            "[2020-05-08 05:02:42,539 INFO] Step 12150/50000; acc:  95.28; ppl:  1.16; xent: 0.14; lr: 1.00000; 21715/14160 tok/s;    313 sec\n",
            "[2020-05-08 05:02:43,739 INFO] Step 12200/50000; acc:  95.21; ppl:  1.16; xent: 0.15; lr: 1.00000; 22629/14490 tok/s;    315 sec\n",
            "[2020-05-08 05:02:44,994 INFO] Step 12250/50000; acc:  95.15; ppl:  1.16; xent: 0.15; lr: 1.00000; 22237/14230 tok/s;    316 sec\n",
            "[2020-05-08 05:02:46,200 INFO] Step 12300/50000; acc:  95.40; ppl:  1.14; xent: 0.13; lr: 1.00000; 21484/14111 tok/s;    317 sec\n",
            "[2020-05-08 05:02:47,321 INFO] Step 12350/50000; acc:  95.28; ppl:  1.15; xent: 0.14; lr: 1.00000; 21814/14391 tok/s;    318 sec\n",
            "[2020-05-08 05:02:48,564 INFO] Step 12400/50000; acc:  95.70; ppl:  1.14; xent: 0.13; lr: 1.00000; 20349/13343 tok/s;    319 sec\n",
            "[2020-05-08 05:02:49,681 INFO] Step 12450/50000; acc:  95.83; ppl:  1.13; xent: 0.13; lr: 1.00000; 21606/14442 tok/s;    321 sec\n",
            "[2020-05-08 05:02:50,845 INFO] Step 12500/50000; acc:  95.88; ppl:  1.13; xent: 0.12; lr: 1.00000; 21324/14014 tok/s;    322 sec\n",
            "[2020-05-08 05:02:52,035 INFO] Step 12550/50000; acc:  95.60; ppl:  1.15; xent: 0.14; lr: 1.00000; 22163/14373 tok/s;    323 sec\n",
            "[2020-05-08 05:02:53,198 INFO] Step 12600/50000; acc:  95.79; ppl:  1.14; xent: 0.13; lr: 1.00000; 21905/14695 tok/s;    324 sec\n",
            "[2020-05-08 05:02:54,460 INFO] Step 12650/50000; acc:  95.69; ppl:  1.15; xent: 0.14; lr: 1.00000; 19744/12875 tok/s;    325 sec\n",
            "[2020-05-08 05:02:55,614 INFO] Step 12700/50000; acc:  95.57; ppl:  1.15; xent: 0.14; lr: 1.00000; 22461/14585 tok/s;    327 sec\n",
            "[2020-05-08 05:02:56,852 INFO] Step 12750/50000; acc:  95.84; ppl:  1.14; xent: 0.13; lr: 1.00000; 19275/12828 tok/s;    328 sec\n",
            "[2020-05-08 05:02:58,049 INFO] Step 12800/50000; acc:  95.72; ppl:  1.14; xent: 0.13; lr: 1.00000; 21129/13854 tok/s;    329 sec\n",
            "[2020-05-08 05:02:59,309 INFO] Step 12850/50000; acc:  95.62; ppl:  1.14; xent: 0.13; lr: 1.00000; 19361/12654 tok/s;    330 sec\n",
            "[2020-05-08 05:03:00,568 INFO] Step 12900/50000; acc:  95.42; ppl:  1.15; xent: 0.14; lr: 1.00000; 22473/14390 tok/s;    331 sec\n",
            "[2020-05-08 05:03:01,756 INFO] Step 12950/50000; acc:  95.59; ppl:  1.14; xent: 0.13; lr: 1.00000; 21995/14294 tok/s;    333 sec\n",
            "[2020-05-08 05:03:03,032 INFO] Step 13000/50000; acc:  96.22; ppl:  1.13; xent: 0.12; lr: 1.00000; 17507/12040 tok/s;    334 sec\n",
            "[2020-05-08 05:03:04,174 INFO] Step 13050/50000; acc:  95.82; ppl:  1.14; xent: 0.13; lr: 1.00000; 21457/13726 tok/s;    335 sec\n",
            "[2020-05-08 05:03:05,298 INFO] Step 13100/50000; acc:  95.48; ppl:  1.15; xent: 0.14; lr: 1.00000; 22723/15023 tok/s;    336 sec\n",
            "[2020-05-08 05:03:06,490 INFO] Step 13150/50000; acc:  95.59; ppl:  1.14; xent: 0.13; lr: 1.00000; 21752/14018 tok/s;    337 sec\n",
            "[2020-05-08 05:03:07,639 INFO] Step 13200/50000; acc:  95.31; ppl:  1.15; xent: 0.14; lr: 1.00000; 22733/14271 tok/s;    339 sec\n",
            "[2020-05-08 05:03:08,875 INFO] Step 13250/50000; acc:  95.28; ppl:  1.15; xent: 0.14; lr: 1.00000; 22621/14315 tok/s;    340 sec\n",
            "[2020-05-08 05:03:10,075 INFO] Step 13300/50000; acc:  94.78; ppl:  1.17; xent: 0.16; lr: 1.00000; 22767/14457 tok/s;    341 sec\n",
            "[2020-05-08 05:03:11,199 INFO] Step 13350/50000; acc:  95.83; ppl:  1.14; xent: 0.13; lr: 1.00000; 22513/14630 tok/s;    342 sec\n",
            "[2020-05-08 05:03:12,326 INFO] Step 13400/50000; acc:  95.82; ppl:  1.15; xent: 0.14; lr: 1.00000; 23167/14716 tok/s;    343 sec\n",
            "[2020-05-08 05:03:13,488 INFO] Step 13450/50000; acc:  95.11; ppl:  1.18; xent: 0.16; lr: 1.00000; 21788/14413 tok/s;    344 sec\n",
            "[2020-05-08 05:03:14,814 INFO] Step 13500/50000; acc:  95.73; ppl:  1.14; xent: 0.13; lr: 1.00000; 19203/12496 tok/s;    346 sec\n",
            "[2020-05-08 05:03:15,951 INFO] Step 13550/50000; acc:  95.91; ppl:  1.13; xent: 0.12; lr: 1.00000; 21564/14526 tok/s;    347 sec\n",
            "[2020-05-08 05:03:17,199 INFO] Step 13600/50000; acc:  95.55; ppl:  1.15; xent: 0.14; lr: 1.00000; 19493/13081 tok/s;    348 sec\n",
            "[2020-05-08 05:03:18,668 INFO] Step 13650/50000; acc:  93.97; ppl:  1.21; xent: 0.19; lr: 1.00000; 21017/13281 tok/s;    350 sec\n",
            "[2020-05-08 05:03:19,932 INFO] Step 13700/50000; acc:  94.97; ppl:  1.16; xent: 0.15; lr: 1.00000; 22880/14384 tok/s;    351 sec\n",
            "[2020-05-08 05:03:21,154 INFO] Step 13750/50000; acc:  95.62; ppl:  1.15; xent: 0.14; lr: 1.00000; 19972/13221 tok/s;    352 sec\n",
            "[2020-05-08 05:03:22,426 INFO] Step 13800/50000; acc:  95.87; ppl:  1.13; xent: 0.12; lr: 1.00000; 19664/12755 tok/s;    353 sec\n",
            "[2020-05-08 05:03:23,700 INFO] Step 13850/50000; acc:  95.40; ppl:  1.15; xent: 0.14; lr: 1.00000; 21082/13717 tok/s;    355 sec\n",
            "[2020-05-08 05:03:24,997 INFO] Step 13900/50000; acc:  95.03; ppl:  1.17; xent: 0.15; lr: 1.00000; 22242/14102 tok/s;    356 sec\n",
            "[2020-05-08 05:03:26,214 INFO] Step 13950/50000; acc:  95.26; ppl:  1.16; xent: 0.15; lr: 1.00000; 23570/15108 tok/s;    357 sec\n",
            "[2020-05-08 05:03:27,448 INFO] Step 14000/50000; acc:  94.98; ppl:  1.16; xent: 0.14; lr: 1.00000; 20440/13851 tok/s;    358 sec\n",
            "[2020-05-08 05:03:28,610 INFO] Step 14050/50000; acc:  95.07; ppl:  1.16; xent: 0.15; lr: 1.00000; 22058/14393 tok/s;    360 sec\n",
            "[2020-05-08 05:03:29,645 INFO] Step 14100/50000; acc:  96.12; ppl:  1.13; xent: 0.12; lr: 1.00000; 22154/14666 tok/s;    361 sec\n",
            "[2020-05-08 05:03:30,817 INFO] Step 14150/50000; acc:  95.63; ppl:  1.14; xent: 0.13; lr: 1.00000; 22872/14768 tok/s;    362 sec\n",
            "[2020-05-08 05:03:31,960 INFO] Step 14200/50000; acc:  95.56; ppl:  1.14; xent: 0.13; lr: 1.00000; 22564/14557 tok/s;    363 sec\n",
            "[2020-05-08 05:03:33,072 INFO] Step 14250/50000; acc:  95.99; ppl:  1.13; xent: 0.12; lr: 1.00000; 21892/14460 tok/s;    364 sec\n",
            "[2020-05-08 05:03:34,241 INFO] Step 14300/50000; acc:  95.53; ppl:  1.16; xent: 0.15; lr: 1.00000; 21454/14363 tok/s;    365 sec\n",
            "[2020-05-08 05:03:35,343 INFO] Step 14350/50000; acc:  95.46; ppl:  1.14; xent: 0.13; lr: 1.00000; 21845/14583 tok/s;    366 sec\n",
            "[2020-05-08 05:03:36,518 INFO] Step 14400/50000; acc:  95.29; ppl:  1.15; xent: 0.14; lr: 1.00000; 22616/14605 tok/s;    367 sec\n",
            "[2020-05-08 05:03:37,664 INFO] Step 14450/50000; acc:  96.10; ppl:  1.13; xent: 0.12; lr: 1.00000; 21285/14282 tok/s;    369 sec\n",
            "[2020-05-08 05:03:38,961 INFO] Step 14500/50000; acc:  95.78; ppl:  1.14; xent: 0.13; lr: 1.00000; 18996/12187 tok/s;    370 sec\n",
            "[2020-05-08 05:03:40,116 INFO] Step 14550/50000; acc:  96.30; ppl:  1.13; xent: 0.12; lr: 1.00000; 21058/14196 tok/s;    371 sec\n",
            "[2020-05-08 05:03:41,494 INFO] Step 14600/50000; acc:  95.43; ppl:  1.15; xent: 0.14; lr: 1.00000; 18671/12166 tok/s;    372 sec\n",
            "[2020-05-08 05:03:42,680 INFO] Step 14650/50000; acc:  95.84; ppl:  1.14; xent: 0.13; lr: 1.00000; 22993/14360 tok/s;    374 sec\n",
            "[2020-05-08 05:03:43,841 INFO] Step 14700/50000; acc:  95.44; ppl:  1.16; xent: 0.15; lr: 1.00000; 21455/14003 tok/s;    375 sec\n",
            "[2020-05-08 05:03:45,066 INFO] Step 14750/50000; acc:  95.50; ppl:  1.15; xent: 0.14; lr: 1.00000; 21893/14108 tok/s;    376 sec\n",
            "[2020-05-08 05:03:46,312 INFO] Step 14800/50000; acc:  95.48; ppl:  1.15; xent: 0.14; lr: 1.00000; 20488/13233 tok/s;    377 sec\n",
            "[2020-05-08 05:03:47,496 INFO] Step 14850/50000; acc:  95.44; ppl:  1.15; xent: 0.14; lr: 1.00000; 22111/14218 tok/s;    378 sec\n",
            "[2020-05-08 05:03:48,653 INFO] Step 14900/50000; acc:  96.23; ppl:  1.13; xent: 0.12; lr: 1.00000; 19709/13342 tok/s;    380 sec\n",
            "[2020-05-08 05:03:49,815 INFO] Step 14950/50000; acc:  95.97; ppl:  1.13; xent: 0.12; lr: 1.00000; 22970/14983 tok/s;    381 sec\n",
            "[2020-05-08 05:03:51,101 INFO] Step 15000/50000; acc:  94.64; ppl:  1.18; xent: 0.17; lr: 1.00000; 22993/14756 tok/s;    382 sec\n",
            "[2020-05-08 05:03:51,101 INFO] Loading dataset from data/demo.valid.0.pt\n",
            "[2020-05-08 05:03:51,122 INFO] number of examples: 5000\n",
            "[2020-05-08 05:03:53,784 INFO] Validation perplexity: 1.12566\n",
            "[2020-05-08 05:03:53,784 INFO] Validation accuracy: 96.1261\n",
            "[2020-05-08 05:03:53,784 INFO] Model is improving ppl: 1.13446 --> 1.12566.\n",
            "[2020-05-08 05:03:53,784 INFO] Model is improving acc: 95.9172 --> 96.1261.\n",
            "[2020-05-08 05:03:53,787 INFO] Saving checkpoint demo-model_step_15000.pt\n",
            "[2020-05-08 05:03:55,156 INFO] Step 15050/50000; acc:  93.75; ppl:  1.25; xent: 0.22; lr: 1.00000; 6556/4213 tok/s;    386 sec\n",
            "[2020-05-08 05:03:56,345 INFO] Step 15100/50000; acc:  95.92; ppl:  1.14; xent: 0.13; lr: 1.00000; 21222/14004 tok/s;    387 sec\n",
            "[2020-05-08 05:03:57,474 INFO] Step 15150/50000; acc:  95.78; ppl:  1.15; xent: 0.14; lr: 1.00000; 23076/15025 tok/s;    388 sec\n",
            "[2020-05-08 05:03:58,678 INFO] Step 15200/50000; acc:  95.56; ppl:  1.14; xent: 0.13; lr: 1.00000; 21795/14018 tok/s;    390 sec\n",
            "[2020-05-08 05:03:59,852 INFO] Step 15250/50000; acc:  96.09; ppl:  1.13; xent: 0.12; lr: 1.00000; 21365/14171 tok/s;    391 sec\n",
            "[2020-05-08 05:04:01,073 INFO] Step 15300/50000; acc:  95.99; ppl:  1.13; xent: 0.13; lr: 1.00000; 19506/13004 tok/s;    392 sec\n",
            "[2020-05-08 05:04:02,233 INFO] Step 15350/50000; acc:  95.88; ppl:  1.13; xent: 0.12; lr: 1.00000; 20479/13400 tok/s;    393 sec\n",
            "[2020-05-08 05:04:03,432 INFO] Step 15400/50000; acc:  96.15; ppl:  1.13; xent: 0.12; lr: 1.00000; 20341/13187 tok/s;    394 sec\n",
            "[2020-05-08 05:04:04,790 INFO] Step 15450/50000; acc:  95.59; ppl:  1.14; xent: 0.13; lr: 1.00000; 21684/13296 tok/s;    396 sec\n",
            "[2020-05-08 05:04:05,920 INFO] Step 15500/50000; acc:  95.84; ppl:  1.15; xent: 0.14; lr: 1.00000; 21117/13984 tok/s;    397 sec\n",
            "[2020-05-08 05:04:07,051 INFO] Step 15550/50000; acc:  95.67; ppl:  1.14; xent: 0.13; lr: 1.00000; 22199/14548 tok/s;    398 sec\n",
            "[2020-05-08 05:04:08,319 INFO] Step 15600/50000; acc:  95.64; ppl:  1.14; xent: 0.13; lr: 1.00000; 21104/13634 tok/s;    399 sec\n",
            "[2020-05-08 05:04:09,039 INFO] Loading dataset from data/demo.train.1.pt\n",
            "[2020-05-08 05:04:14,589 INFO] number of examples: 530603\n",
            "[2020-05-08 05:04:18,043 INFO] Step 15650/50000; acc:  95.48; ppl:  1.15; xent: 0.14; lr: 1.00000; 2639/1737 tok/s;    409 sec\n",
            "[2020-05-08 05:04:19,221 INFO] Step 15700/50000; acc:  95.82; ppl:  1.13; xent: 0.12; lr: 1.00000; 21955/14455 tok/s;    410 sec\n",
            "[2020-05-08 05:04:20,499 INFO] Step 15750/50000; acc:  95.62; ppl:  1.14; xent: 0.13; lr: 1.00000; 20030/13112 tok/s;    411 sec\n",
            "[2020-05-08 05:04:21,597 INFO] Step 15800/50000; acc:  96.22; ppl:  1.12; xent: 0.12; lr: 1.00000; 22801/14807 tok/s;    412 sec\n",
            "[2020-05-08 05:04:22,731 INFO] Step 15850/50000; acc:  95.63; ppl:  1.14; xent: 0.13; lr: 1.00000; 23206/14688 tok/s;    414 sec\n",
            "[2020-05-08 05:04:23,799 INFO] Step 15900/50000; acc:  96.33; ppl:  1.12; xent: 0.11; lr: 1.00000; 22176/14624 tok/s;    415 sec\n",
            "[2020-05-08 05:04:25,083 INFO] Step 15950/50000; acc:  96.22; ppl:  1.12; xent: 0.12; lr: 1.00000; 19391/12704 tok/s;    416 sec\n",
            "[2020-05-08 05:04:26,257 INFO] Step 16000/50000; acc:  95.31; ppl:  1.16; xent: 0.15; lr: 1.00000; 21529/14462 tok/s;    417 sec\n",
            "[2020-05-08 05:04:27,427 INFO] Step 16050/50000; acc:  95.76; ppl:  1.14; xent: 0.13; lr: 1.00000; 22102/14249 tok/s;    418 sec\n",
            "[2020-05-08 05:04:28,606 INFO] Step 16100/50000; acc:  96.16; ppl:  1.12; xent: 0.12; lr: 1.00000; 21070/13685 tok/s;    420 sec\n",
            "[2020-05-08 05:04:29,899 INFO] Step 16150/50000; acc:  94.38; ppl:  1.23; xent: 0.21; lr: 1.00000; 20006/13472 tok/s;    421 sec\n",
            "[2020-05-08 05:04:31,122 INFO] Step 16200/50000; acc:  95.37; ppl:  1.15; xent: 0.14; lr: 1.00000; 20782/13303 tok/s;    422 sec\n",
            "[2020-05-08 05:04:32,332 INFO] Step 16250/50000; acc:  95.51; ppl:  1.15; xent: 0.14; lr: 1.00000; 23159/14646 tok/s;    423 sec\n",
            "[2020-05-08 05:04:33,525 INFO] Step 16300/50000; acc:  95.00; ppl:  1.17; xent: 0.16; lr: 1.00000; 23571/14711 tok/s;    424 sec\n",
            "[2020-05-08 05:04:34,671 INFO] Step 16350/50000; acc:  95.91; ppl:  1.13; xent: 0.12; lr: 1.00000; 21766/14176 tok/s;    426 sec\n",
            "[2020-05-08 05:04:35,805 INFO] Step 16400/50000; acc:  95.56; ppl:  1.16; xent: 0.14; lr: 1.00000; 20555/13793 tok/s;    427 sec\n",
            "[2020-05-08 05:04:36,957 INFO] Step 16450/50000; acc:  95.84; ppl:  1.14; xent: 0.13; lr: 1.00000; 21280/14034 tok/s;    428 sec\n",
            "[2020-05-08 05:04:38,101 INFO] Step 16500/50000; acc:  96.00; ppl:  1.14; xent: 0.13; lr: 1.00000; 21775/14330 tok/s;    429 sec\n",
            "[2020-05-08 05:04:39,192 INFO] Step 16550/50000; acc:  96.37; ppl:  1.12; xent: 0.12; lr: 1.00000; 22996/14716 tok/s;    430 sec\n",
            "[2020-05-08 05:04:40,450 INFO] Step 16600/50000; acc:  95.86; ppl:  1.14; xent: 0.13; lr: 1.00000; 20998/13158 tok/s;    431 sec\n",
            "[2020-05-08 05:04:41,546 INFO] Step 16650/50000; acc:  96.44; ppl:  1.11; xent: 0.11; lr: 1.00000; 22318/14187 tok/s;    432 sec\n",
            "[2020-05-08 05:04:42,757 INFO] Step 16700/50000; acc:  95.45; ppl:  1.16; xent: 0.15; lr: 1.00000; 23035/14811 tok/s;    434 sec\n",
            "[2020-05-08 05:04:43,943 INFO] Step 16750/50000; acc:  95.77; ppl:  1.14; xent: 0.13; lr: 1.00000; 22456/14805 tok/s;    435 sec\n",
            "[2020-05-08 05:04:45,271 INFO] Step 16800/50000; acc:  94.80; ppl:  1.17; xent: 0.16; lr: 1.00000; 22326/14064 tok/s;    436 sec\n",
            "[2020-05-08 05:04:46,407 INFO] Step 16850/50000; acc:  96.08; ppl:  1.13; xent: 0.12; lr: 1.00000; 22196/14591 tok/s;    437 sec\n",
            "[2020-05-08 05:04:47,585 INFO] Step 16900/50000; acc:  95.83; ppl:  1.14; xent: 0.13; lr: 1.00000; 22383/14823 tok/s;    438 sec\n",
            "[2020-05-08 05:04:48,719 INFO] Step 16950/50000; acc:  95.83; ppl:  1.13; xent: 0.12; lr: 1.00000; 22855/14729 tok/s;    440 sec\n",
            "[2020-05-08 05:04:49,855 INFO] Step 17000/50000; acc:  96.01; ppl:  1.13; xent: 0.12; lr: 1.00000; 22205/14597 tok/s;    441 sec\n",
            "[2020-05-08 05:04:51,019 INFO] Step 17050/50000; acc:  95.99; ppl:  1.13; xent: 0.12; lr: 1.00000; 20786/14261 tok/s;    442 sec\n",
            "[2020-05-08 05:04:52,251 INFO] Step 17100/50000; acc:  95.27; ppl:  1.15; xent: 0.14; lr: 1.00000; 23549/14952 tok/s;    443 sec\n",
            "[2020-05-08 05:04:53,579 INFO] Step 17150/50000; acc:  96.16; ppl:  1.13; xent: 0.12; lr: 1.00000; 20676/13013 tok/s;    444 sec\n",
            "[2020-05-08 05:04:54,734 INFO] Step 17200/50000; acc:  95.99; ppl:  1.13; xent: 0.12; lr: 1.00000; 22439/14460 tok/s;    446 sec\n",
            "[2020-05-08 05:04:55,967 INFO] Step 17250/50000; acc:  95.53; ppl:  1.15; xent: 0.14; lr: 1.00000; 22836/14287 tok/s;    447 sec\n",
            "[2020-05-08 05:04:57,085 INFO] Step 17300/50000; acc:  96.33; ppl:  1.12; xent: 0.11; lr: 1.00000; 21772/14209 tok/s;    448 sec\n",
            "[2020-05-08 05:04:58,259 INFO] Step 17350/50000; acc:  96.07; ppl:  1.13; xent: 0.12; lr: 1.00000; 22682/14994 tok/s;    449 sec\n",
            "[2020-05-08 05:04:59,476 INFO] Step 17400/50000; acc:  96.27; ppl:  1.12; xent: 0.11; lr: 1.00000; 22136/14159 tok/s;    450 sec\n",
            "[2020-05-08 05:05:00,696 INFO] Step 17450/50000; acc:  95.31; ppl:  1.16; xent: 0.15; lr: 1.00000; 22152/14102 tok/s;    452 sec\n",
            "[2020-05-08 05:05:01,884 INFO] Step 17500/50000; acc:  96.43; ppl:  1.12; xent: 0.11; lr: 1.00000; 21010/13792 tok/s;    453 sec\n",
            "[2020-05-08 05:05:03,063 INFO] Step 17550/50000; acc:  96.22; ppl:  1.13; xent: 0.12; lr: 1.00000; 22036/14310 tok/s;    454 sec\n",
            "[2020-05-08 05:05:04,367 INFO] Step 17600/50000; acc:  95.98; ppl:  1.13; xent: 0.12; lr: 1.00000; 21108/13389 tok/s;    455 sec\n",
            "[2020-05-08 05:05:05,523 INFO] Step 17650/50000; acc:  96.08; ppl:  1.13; xent: 0.12; lr: 1.00000; 21280/13903 tok/s;    456 sec\n",
            "[2020-05-08 05:05:06,646 INFO] Step 17700/50000; acc:  96.34; ppl:  1.11; xent: 0.10; lr: 1.00000; 21256/14108 tok/s;    458 sec\n",
            "[2020-05-08 05:05:07,828 INFO] Step 17750/50000; acc:  96.33; ppl:  1.12; xent: 0.12; lr: 1.00000; 21882/14191 tok/s;    459 sec\n",
            "[2020-05-08 05:05:08,969 INFO] Step 17800/50000; acc:  95.67; ppl:  1.14; xent: 0.13; lr: 1.00000; 22280/14765 tok/s;    460 sec\n",
            "[2020-05-08 05:05:10,185 INFO] Step 17850/50000; acc:  95.45; ppl:  1.16; xent: 0.15; lr: 1.00000; 21942/14194 tok/s;    461 sec\n",
            "[2020-05-08 05:05:11,437 INFO] Step 17900/50000; acc:  96.10; ppl:  1.13; xent: 0.12; lr: 1.00000; 22086/14272 tok/s;    462 sec\n",
            "[2020-05-08 05:05:12,650 INFO] Step 17950/50000; acc:  96.27; ppl:  1.11; xent: 0.11; lr: 1.00000; 22074/14206 tok/s;    464 sec\n",
            "[2020-05-08 05:05:13,858 INFO] Step 18000/50000; acc:  95.79; ppl:  1.15; xent: 0.14; lr: 1.00000; 22239/14479 tok/s;    465 sec\n",
            "[2020-05-08 05:05:13,859 INFO] Loading dataset from data/demo.valid.0.pt\n",
            "[2020-05-08 05:05:13,907 INFO] number of examples: 5000\n",
            "[2020-05-08 05:05:16,301 INFO] Validation perplexity: 1.10674\n",
            "[2020-05-08 05:05:16,301 INFO] Validation accuracy: 96.711\n",
            "[2020-05-08 05:05:16,301 INFO] Model is improving ppl: 1.12566 --> 1.10674.\n",
            "[2020-05-08 05:05:16,301 INFO] Model is improving acc: 96.1261 --> 96.711.\n",
            "[2020-05-08 05:05:17,478 INFO] Step 18050/50000; acc:  96.46; ppl:  1.12; xent: 0.11; lr: 1.00000; 6862/4500 tok/s;    468 sec\n",
            "[2020-05-08 05:05:18,627 INFO] Step 18100/50000; acc:  96.58; ppl:  1.11; xent: 0.11; lr: 1.00000; 23172/14594 tok/s;    470 sec\n",
            "[2020-05-08 05:05:19,892 INFO] Step 18150/50000; acc:  96.56; ppl:  1.11; xent: 0.11; lr: 1.00000; 18358/12348 tok/s;    471 sec\n",
            "[2020-05-08 05:05:21,058 INFO] Step 18200/50000; acc:  96.24; ppl:  1.13; xent: 0.12; lr: 1.00000; 21030/14167 tok/s;    472 sec\n",
            "[2020-05-08 05:05:22,269 INFO] Step 18250/50000; acc:  96.21; ppl:  1.13; xent: 0.12; lr: 1.00000; 21096/13958 tok/s;    473 sec\n",
            "[2020-05-08 05:05:23,602 INFO] Step 18300/50000; acc:  96.25; ppl:  1.12; xent: 0.12; lr: 1.00000; 20170/13012 tok/s;    474 sec\n",
            "[2020-05-08 05:05:24,824 INFO] Step 18350/50000; acc:  95.93; ppl:  1.12; xent: 0.12; lr: 1.00000; 20796/13619 tok/s;    476 sec\n",
            "[2020-05-08 05:05:26,011 INFO] Step 18400/50000; acc:  96.06; ppl:  1.12; xent: 0.12; lr: 1.00000; 22213/14557 tok/s;    477 sec\n",
            "[2020-05-08 05:05:27,207 INFO] Step 18450/50000; acc:  95.71; ppl:  1.14; xent: 0.13; lr: 1.00000; 22002/14454 tok/s;    478 sec\n",
            "[2020-05-08 05:05:28,390 INFO] Step 18500/50000; acc:  96.16; ppl:  1.13; xent: 0.12; lr: 1.00000; 21374/14020 tok/s;    479 sec\n",
            "[2020-05-08 05:05:29,542 INFO] Step 18550/50000; acc:  96.43; ppl:  1.12; xent: 0.11; lr: 1.00000; 22377/14381 tok/s;    480 sec\n",
            "[2020-05-08 05:05:30,672 INFO] Step 18600/50000; acc:  96.24; ppl:  1.12; xent: 0.11; lr: 1.00000; 23075/14868 tok/s;    482 sec\n",
            "[2020-05-08 05:05:31,865 INFO] Step 18650/50000; acc:  96.19; ppl:  1.13; xent: 0.12; lr: 1.00000; 22098/14321 tok/s;    483 sec\n",
            "[2020-05-08 05:05:33,102 INFO] Step 18700/50000; acc:  96.01; ppl:  1.13; xent: 0.12; lr: 1.00000; 23502/14764 tok/s;    484 sec\n",
            "[2020-05-08 05:05:34,239 INFO] Step 18750/50000; acc:  95.99; ppl:  1.13; xent: 0.13; lr: 1.00000; 22514/14465 tok/s;    485 sec\n",
            "[2020-05-08 05:05:35,377 INFO] Step 18800/50000; acc:  96.00; ppl:  1.14; xent: 0.13; lr: 1.00000; 22993/14834 tok/s;    486 sec\n",
            "[2020-05-08 05:05:36,582 INFO] Step 18850/50000; acc:  95.84; ppl:  1.15; xent: 0.14; lr: 1.00000; 20287/13250 tok/s;    487 sec\n",
            "[2020-05-08 05:05:37,727 INFO] Step 18900/50000; acc:  96.00; ppl:  1.13; xent: 0.12; lr: 1.00000; 21746/14423 tok/s;    489 sec\n",
            "[2020-05-08 05:05:38,815 INFO] Step 18950/50000; acc:  96.30; ppl:  1.12; xent: 0.11; lr: 1.00000; 22236/14648 tok/s;    490 sec\n",
            "[2020-05-08 05:05:39,965 INFO] Step 19000/50000; acc:  96.32; ppl:  1.12; xent: 0.11; lr: 1.00000; 22052/14145 tok/s;    491 sec\n",
            "[2020-05-08 05:05:41,334 INFO] Step 19050/50000; acc:  95.83; ppl:  1.13; xent: 0.12; lr: 1.00000; 22213/13687 tok/s;    492 sec\n",
            "[2020-05-08 05:05:42,644 INFO] Step 19100/50000; acc:  95.11; ppl:  1.18; xent: 0.17; lr: 1.00000; 21008/13541 tok/s;    494 sec\n",
            "[2020-05-08 05:05:43,876 INFO] Step 19150/50000; acc:  95.52; ppl:  1.16; xent: 0.15; lr: 1.00000; 22137/14275 tok/s;    495 sec\n",
            "[2020-05-08 05:05:45,196 INFO] Step 19200/50000; acc:  95.38; ppl:  1.15; xent: 0.14; lr: 1.00000; 20145/13008 tok/s;    496 sec\n",
            "[2020-05-08 05:05:46,363 INFO] Step 19250/50000; acc:  96.53; ppl:  1.12; xent: 0.11; lr: 1.00000; 21769/14092 tok/s;    497 sec\n",
            "[2020-05-08 05:05:47,709 INFO] Step 19300/50000; acc:  96.20; ppl:  1.12; xent: 0.11; lr: 1.00000; 19918/12930 tok/s;    499 sec\n",
            "[2020-05-08 05:05:48,815 INFO] Step 19350/50000; acc:  96.43; ppl:  1.12; xent: 0.11; lr: 1.00000; 21763/14296 tok/s;    500 sec\n",
            "[2020-05-08 05:05:49,969 INFO] Step 19400/50000; acc:  96.53; ppl:  1.11; xent: 0.11; lr: 1.00000; 20258/13431 tok/s;    501 sec\n",
            "[2020-05-08 05:05:51,259 INFO] Step 19450/50000; acc:  95.96; ppl:  1.13; xent: 0.12; lr: 1.00000; 21325/13688 tok/s;    502 sec\n",
            "[2020-05-08 05:05:52,459 INFO] Step 19500/50000; acc:  96.16; ppl:  1.13; xent: 0.12; lr: 1.00000; 20920/13715 tok/s;    503 sec\n",
            "[2020-05-08 05:05:53,575 INFO] Step 19550/50000; acc:  96.21; ppl:  1.12; xent: 0.11; lr: 1.00000; 21739/14627 tok/s;    504 sec\n",
            "[2020-05-08 05:05:54,691 INFO] Step 19600/50000; acc:  95.75; ppl:  1.13; xent: 0.13; lr: 1.00000; 23106/14858 tok/s;    506 sec\n",
            "[2020-05-08 05:05:55,804 INFO] Step 19650/50000; acc:  96.78; ppl:  1.11; xent: 0.10; lr: 1.00000; 22102/14619 tok/s;    507 sec\n",
            "[2020-05-08 05:05:56,911 INFO] Step 19700/50000; acc:  96.08; ppl:  1.13; xent: 0.12; lr: 1.00000; 22091/14516 tok/s;    508 sec\n",
            "[2020-05-08 05:05:58,139 INFO] Step 19750/50000; acc:  95.80; ppl:  1.15; xent: 0.14; lr: 1.00000; 20891/13866 tok/s;    509 sec\n",
            "[2020-05-08 05:05:59,365 INFO] Step 19800/50000; acc:  96.45; ppl:  1.12; xent: 0.11; lr: 1.00000; 21561/14044 tok/s;    510 sec\n",
            "[2020-05-08 05:06:00,515 INFO] Step 19850/50000; acc:  96.49; ppl:  1.12; xent: 0.11; lr: 1.00000; 21705/14312 tok/s;    511 sec\n",
            "[2020-05-08 05:06:01,658 INFO] Step 19900/50000; acc:  96.16; ppl:  1.12; xent: 0.11; lr: 1.00000; 22690/14738 tok/s;    513 sec\n",
            "[2020-05-08 05:06:02,810 INFO] Step 19950/50000; acc:  96.43; ppl:  1.12; xent: 0.11; lr: 1.00000; 21398/14280 tok/s;    514 sec\n",
            "[2020-05-08 05:06:03,969 INFO] Step 20000/50000; acc:  96.54; ppl:  1.11; xent: 0.11; lr: 1.00000; 22969/14824 tok/s;    515 sec\n",
            "[2020-05-08 05:06:03,972 INFO] Saving checkpoint demo-model_step_20000.pt\n",
            "[2020-05-08 05:06:05,177 INFO] Step 20050/50000; acc:  96.34; ppl:  1.12; xent: 0.12; lr: 1.00000; 21577/14049 tok/s;    516 sec\n",
            "[2020-05-08 05:06:06,400 INFO] Step 20100/50000; acc:  95.87; ppl:  1.13; xent: 0.13; lr: 1.00000; 22507/14416 tok/s;    517 sec\n",
            "[2020-05-08 05:06:07,483 INFO] Step 20150/50000; acc:  96.58; ppl:  1.12; xent: 0.11; lr: 1.00000; 21453/14302 tok/s;    518 sec\n",
            "[2020-05-08 05:06:08,792 INFO] Step 20200/50000; acc:  95.98; ppl:  1.13; xent: 0.12; lr: 1.00000; 19900/12876 tok/s;    520 sec\n",
            "[2020-05-08 05:06:09,913 INFO] Step 20250/50000; acc:  96.87; ppl:  1.10; xent: 0.10; lr: 1.00000; 21251/13825 tok/s;    521 sec\n",
            "[2020-05-08 05:06:11,111 INFO] Step 20300/50000; acc:  96.67; ppl:  1.12; xent: 0.11; lr: 1.00000; 20627/13676 tok/s;    522 sec\n",
            "[2020-05-08 05:06:12,407 INFO] Step 20350/50000; acc:  96.86; ppl:  1.10; xent: 0.09; lr: 1.00000; 19154/12786 tok/s;    523 sec\n",
            "[2020-05-08 05:06:13,626 INFO] Step 20400/50000; acc:  96.71; ppl:  1.12; xent: 0.11; lr: 1.00000; 18855/12762 tok/s;    525 sec\n",
            "[2020-05-08 05:06:14,898 INFO] Step 20450/50000; acc:  96.39; ppl:  1.11; xent: 0.11; lr: 1.00000; 20322/13129 tok/s;    526 sec\n",
            "[2020-05-08 05:06:16,079 INFO] Step 20500/50000; acc:  96.42; ppl:  1.11; xent: 0.11; lr: 1.00000; 21306/14042 tok/s;    527 sec\n",
            "[2020-05-08 05:06:17,213 INFO] Step 20550/50000; acc:  96.52; ppl:  1.11; xent: 0.11; lr: 1.00000; 21738/13863 tok/s;    528 sec\n",
            "[2020-05-08 05:06:18,384 INFO] Step 20600/50000; acc:  95.94; ppl:  1.13; xent: 0.12; lr: 1.00000; 22957/14594 tok/s;    529 sec\n",
            "[2020-05-08 05:06:19,559 INFO] Step 20650/50000; acc:  96.38; ppl:  1.12; xent: 0.11; lr: 1.00000; 23146/14813 tok/s;    530 sec\n",
            "[2020-05-08 05:06:20,717 INFO] Step 20700/50000; acc:  96.03; ppl:  1.13; xent: 0.12; lr: 1.00000; 22125/14378 tok/s;    532 sec\n",
            "[2020-05-08 05:06:21,841 INFO] Step 20750/50000; acc:  96.32; ppl:  1.13; xent: 0.12; lr: 1.00000; 21967/14244 tok/s;    533 sec\n",
            "[2020-05-08 05:06:23,068 INFO] Step 20800/50000; acc:  96.18; ppl:  1.12; xent: 0.12; lr: 1.00000; 22132/14685 tok/s;    534 sec\n",
            "[2020-05-08 05:06:24,255 INFO] Step 20850/50000; acc:  96.29; ppl:  1.12; xent: 0.11; lr: 1.00000; 21937/14374 tok/s;    535 sec\n",
            "[2020-05-08 05:06:25,476 INFO] Step 20900/50000; acc:  95.67; ppl:  1.14; xent: 0.13; lr: 1.00000; 22322/14564 tok/s;    536 sec\n",
            "[2020-05-08 05:06:26,848 INFO] Step 20950/50000; acc:  95.99; ppl:  1.13; xent: 0.12; lr: 1.00000; 19073/12405 tok/s;    538 sec\n",
            "[2020-05-08 05:06:27,994 INFO] Step 21000/50000; acc:  96.32; ppl:  1.12; xent: 0.12; lr: 1.00000; 22133/14308 tok/s;    539 sec\n",
            "[2020-05-08 05:06:27,994 INFO] Loading dataset from data/demo.valid.0.pt\n",
            "[2020-05-08 05:06:28,013 INFO] number of examples: 5000\n",
            "[2020-05-08 05:06:30,475 INFO] Validation perplexity: 1.09741\n",
            "[2020-05-08 05:06:30,475 INFO] Validation accuracy: 96.9996\n",
            "[2020-05-08 05:06:30,475 INFO] Model is improving ppl: 1.10674 --> 1.09741.\n",
            "[2020-05-08 05:06:30,475 INFO] Model is improving acc: 96.711 --> 96.9996.\n",
            "[2020-05-08 05:06:31,717 INFO] Step 21050/50000; acc:  96.65; ppl:  1.11; xent: 0.10; lr: 1.00000; 6928/4487 tok/s;    543 sec\n",
            "[2020-05-08 05:06:32,876 INFO] Step 21100/50000; acc:  96.17; ppl:  1.13; xent: 0.12; lr: 1.00000; 22863/15098 tok/s;    544 sec\n",
            "[2020-05-08 05:06:34,045 INFO] Step 21150/50000; acc:  96.61; ppl:  1.13; xent: 0.12; lr: 1.00000; 21179/14362 tok/s;    545 sec\n",
            "[2020-05-08 05:06:35,363 INFO] Step 21200/50000; acc:  95.22; ppl:  1.16; xent: 0.15; lr: 1.00000; 23109/14745 tok/s;    546 sec\n",
            "[2020-05-08 05:06:36,642 INFO] Step 21250/50000; acc:  96.65; ppl:  1.11; xent: 0.10; lr: 1.00000; 20331/13070 tok/s;    548 sec\n",
            "[2020-05-08 05:06:37,921 INFO] Step 21300/50000; acc:  95.91; ppl:  1.13; xent: 0.13; lr: 1.00000; 20570/13263 tok/s;    549 sec\n",
            "[2020-05-08 05:06:39,120 INFO] Step 21350/50000; acc:  95.74; ppl:  1.14; xent: 0.13; lr: 1.00000; 21727/14441 tok/s;    550 sec\n",
            "[2020-05-08 05:06:40,339 INFO] Step 21400/50000; acc:  96.06; ppl:  1.12; xent: 0.12; lr: 1.00000; 23042/14736 tok/s;    551 sec\n",
            "[2020-05-08 05:06:41,557 INFO] Step 21450/50000; acc:  95.64; ppl:  1.14; xent: 0.13; lr: 1.00000; 22657/14614 tok/s;    552 sec\n",
            "[2020-05-08 05:06:42,658 INFO] Step 21500/50000; acc:  96.21; ppl:  1.12; xent: 0.12; lr: 1.00000; 21286/14540 tok/s;    554 sec\n",
            "[2020-05-08 05:06:43,821 INFO] Step 21550/50000; acc:  96.03; ppl:  1.13; xent: 0.12; lr: 1.00000; 21574/14199 tok/s;    555 sec\n",
            "[2020-05-08 05:06:44,962 INFO] Step 21600/50000; acc:  96.08; ppl:  1.13; xent: 0.12; lr: 1.00000; 22314/14267 tok/s;    556 sec\n",
            "[2020-05-08 05:06:46,228 INFO] Step 21650/50000; acc:  95.84; ppl:  1.14; xent: 0.13; lr: 1.00000; 21147/13469 tok/s;    557 sec\n",
            "[2020-05-08 05:06:47,402 INFO] Step 21700/50000; acc:  96.75; ppl:  1.11; xent: 0.10; lr: 1.00000; 21685/14057 tok/s;    558 sec\n",
            "[2020-05-08 05:06:48,505 INFO] Step 21750/50000; acc:  95.99; ppl:  1.14; xent: 0.13; lr: 1.00000; 21861/14467 tok/s;    559 sec\n",
            "[2020-05-08 05:06:49,641 INFO] Step 21800/50000; acc:  96.12; ppl:  1.12; xent: 0.12; lr: 1.00000; 23570/14876 tok/s;    561 sec\n",
            "[2020-05-08 05:06:50,761 INFO] Step 21850/50000; acc:  96.53; ppl:  1.12; xent: 0.11; lr: 1.00000; 21416/14163 tok/s;    562 sec\n",
            "[2020-05-08 05:06:52,009 INFO] Step 21900/50000; acc:  96.55; ppl:  1.12; xent: 0.11; lr: 1.00000; 19145/12729 tok/s;    563 sec\n",
            "[2020-05-08 05:06:53,127 INFO] Step 21950/50000; acc:  96.17; ppl:  1.12; xent: 0.11; lr: 1.00000; 20949/14131 tok/s;    564 sec\n",
            "[2020-05-08 05:06:54,311 INFO] Step 22000/50000; acc:  96.66; ppl:  1.11; xent: 0.10; lr: 1.00000; 20333/13499 tok/s;    565 sec\n",
            "[2020-05-08 05:06:55,408 INFO] Step 22050/50000; acc:  96.58; ppl:  1.12; xent: 0.11; lr: 1.00000; 20823/14057 tok/s;    566 sec\n",
            "[2020-05-08 05:06:56,604 INFO] Step 22100/50000; acc:  96.69; ppl:  1.11; xent: 0.10; lr: 1.00000; 22316/14289 tok/s;    568 sec\n",
            "[2020-05-08 05:06:57,995 INFO] Step 22150/50000; acc:  95.93; ppl:  1.13; xent: 0.12; lr: 1.00000; 20164/13016 tok/s;    569 sec\n",
            "[2020-05-08 05:06:59,133 INFO] Step 22200/50000; acc:  96.69; ppl:  1.11; xent: 0.10; lr: 1.00000; 22938/15067 tok/s;    570 sec\n",
            "[2020-05-08 05:07:00,395 INFO] Step 22250/50000; acc:  96.24; ppl:  1.12; xent: 0.11; lr: 1.00000; 21202/13695 tok/s;    571 sec\n",
            "[2020-05-08 05:07:01,654 INFO] Step 22300/50000; acc:  96.23; ppl:  1.12; xent: 0.11; lr: 1.00000; 21810/14133 tok/s;    573 sec\n",
            "[2020-05-08 05:07:02,796 INFO] Step 22350/50000; acc:  96.10; ppl:  1.13; xent: 0.12; lr: 1.00000; 22036/14466 tok/s;    574 sec\n",
            "[2020-05-08 05:07:04,091 INFO] Step 22400/50000; acc:  95.69; ppl:  1.15; xent: 0.14; lr: 1.00000; 20661/13346 tok/s;    575 sec\n",
            "[2020-05-08 05:07:05,356 INFO] Step 22450/50000; acc:  96.54; ppl:  1.11; xent: 0.10; lr: 1.00000; 19836/13055 tok/s;    576 sec\n",
            "[2020-05-08 05:07:06,566 INFO] Step 22500/50000; acc:  96.43; ppl:  1.12; xent: 0.11; lr: 1.00000; 19888/13122 tok/s;    577 sec\n",
            "[2020-05-08 05:07:07,836 INFO] Step 22550/50000; acc:  96.88; ppl:  1.10; xent: 0.10; lr: 1.00000; 20523/12906 tok/s;    579 sec\n",
            "[2020-05-08 05:07:09,014 INFO] Step 22600/50000; acc:  96.74; ppl:  1.10; xent: 0.10; lr: 1.00000; 21248/13857 tok/s;    580 sec\n",
            "[2020-05-08 05:07:10,052 INFO] Step 22650/50000; acc:  97.25; ppl:  1.09; xent: 0.09; lr: 1.00000; 20530/14057 tok/s;    581 sec\n",
            "[2020-05-08 05:07:11,230 INFO] Step 22700/50000; acc:  96.05; ppl:  1.13; xent: 0.12; lr: 1.00000; 22648/14448 tok/s;    582 sec\n",
            "[2020-05-08 05:07:12,510 INFO] Step 22750/50000; acc:  96.67; ppl:  1.11; xent: 0.11; lr: 1.00000; 20315/13110 tok/s;    583 sec\n",
            "[2020-05-08 05:07:13,770 INFO] Step 22800/50000; acc:  95.79; ppl:  1.15; xent: 0.14; lr: 1.00000; 20819/13369 tok/s;    585 sec\n",
            "[2020-05-08 05:07:14,979 INFO] Step 22850/50000; acc:  96.25; ppl:  1.12; xent: 0.12; lr: 1.00000; 20720/13723 tok/s;    586 sec\n",
            "[2020-05-08 05:07:16,153 INFO] Step 22900/50000; acc:  96.65; ppl:  1.11; xent: 0.10; lr: 1.00000; 21853/14223 tok/s;    587 sec\n",
            "[2020-05-08 05:07:17,364 INFO] Step 22950/50000; acc:  96.33; ppl:  1.12; xent: 0.11; lr: 1.00000; 24157/15065 tok/s;    588 sec\n",
            "[2020-05-08 05:07:18,631 INFO] Step 23000/50000; acc:  96.53; ppl:  1.12; xent: 0.11; lr: 1.00000; 21013/13335 tok/s;    590 sec\n",
            "[2020-05-08 05:07:19,916 INFO] Step 23050/50000; acc:  95.29; ppl:  1.17; xent: 0.16; lr: 1.00000; 23059/14554 tok/s;    591 sec\n",
            "[2020-05-08 05:07:21,056 INFO] Step 23100/50000; acc:  96.91; ppl:  1.10; xent: 0.10; lr: 1.00000; 21567/14322 tok/s;    592 sec\n",
            "[2020-05-08 05:07:22,274 INFO] Step 23150/50000; acc:  96.51; ppl:  1.11; xent: 0.10; lr: 1.00000; 20663/13775 tok/s;    593 sec\n",
            "[2020-05-08 05:07:23,435 INFO] Step 23200/50000; acc:  96.69; ppl:  1.11; xent: 0.10; lr: 1.00000; 21994/14142 tok/s;    594 sec\n",
            "[2020-05-08 05:07:24,682 INFO] Step 23250/50000; acc:  96.05; ppl:  1.13; xent: 0.12; lr: 1.00000; 22577/14374 tok/s;    596 sec\n",
            "[2020-05-08 05:07:26,053 INFO] Step 23300/50000; acc:  96.36; ppl:  1.11; xent: 0.11; lr: 1.00000; 20411/13258 tok/s;    597 sec\n",
            "[2020-05-08 05:07:27,191 INFO] Step 23350/50000; acc:  95.54; ppl:  1.17; xent: 0.16; lr: 1.00000; 20964/14196 tok/s;    598 sec\n",
            "[2020-05-08 05:07:28,286 INFO] Step 23400/50000; acc:  96.96; ppl:  1.10; xent: 0.09; lr: 1.00000; 21629/14322 tok/s;    599 sec\n",
            "[2020-05-08 05:07:29,478 INFO] Step 23450/50000; acc:  96.84; ppl:  1.10; xent: 0.10; lr: 1.00000; 22990/14772 tok/s;    600 sec\n",
            "[2020-05-08 05:07:30,595 INFO] Step 23500/50000; acc:  96.71; ppl:  1.11; xent: 0.10; lr: 1.00000; 21204/14270 tok/s;    601 sec\n",
            "[2020-05-08 05:07:31,770 INFO] Step 23550/50000; acc:  96.37; ppl:  1.13; xent: 0.12; lr: 1.00000; 21785/14137 tok/s;    603 sec\n",
            "[2020-05-08 05:07:32,948 INFO] Step 23600/50000; acc:  96.45; ppl:  1.12; xent: 0.11; lr: 1.00000; 22555/14728 tok/s;    604 sec\n",
            "[2020-05-08 05:07:34,102 INFO] Step 23650/50000; acc:  96.48; ppl:  1.12; xent: 0.11; lr: 1.00000; 21456/14138 tok/s;    605 sec\n",
            "[2020-05-08 05:07:35,291 INFO] Step 23700/50000; acc:  96.27; ppl:  1.12; xent: 0.12; lr: 1.00000; 24021/15130 tok/s;    606 sec\n",
            "[2020-05-08 05:07:36,441 INFO] Step 23750/50000; acc:  96.97; ppl:  1.10; xent: 0.10; lr: 1.00000; 21092/14080 tok/s;    607 sec\n",
            "[2020-05-08 05:07:37,594 INFO] Step 23800/50000; acc:  96.88; ppl:  1.11; xent: 0.10; lr: 1.00000; 20870/13821 tok/s;    608 sec\n",
            "[2020-05-08 05:07:38,934 INFO] Step 23850/50000; acc:  96.19; ppl:  1.12; xent: 0.12; lr: 1.00000; 19832/12886 tok/s;    610 sec\n",
            "[2020-05-08 05:07:40,168 INFO] Step 23900/50000; acc:  96.52; ppl:  1.11; xent: 0.10; lr: 1.00000; 20725/13689 tok/s;    611 sec\n",
            "[2020-05-08 05:07:40,617 INFO] Loading dataset from data/demo.train.0.pt\n",
            "[2020-05-08 05:07:49,828 INFO] number of examples: 999979\n",
            "[2020-05-08 05:07:54,669 INFO] Step 23950/50000; acc:  96.78; ppl:  1.11; xent: 0.10; lr: 1.00000; 1648/1077 tok/s;    626 sec\n",
            "[2020-05-08 05:07:55,828 INFO] Step 24000/50000; acc:  95.55; ppl:  1.14; xent: 0.13; lr: 1.00000; 22556/14548 tok/s;    627 sec\n",
            "[2020-05-08 05:07:55,829 INFO] Loading dataset from data/demo.valid.0.pt\n",
            "[2020-05-08 05:07:55,862 INFO] number of examples: 5000\n",
            "[2020-05-08 05:07:58,194 INFO] Validation perplexity: 1.09463\n",
            "[2020-05-08 05:07:58,194 INFO] Validation accuracy: 97.0756\n",
            "[2020-05-08 05:07:58,194 INFO] Model is improving ppl: 1.09741 --> 1.09463.\n",
            "[2020-05-08 05:07:58,194 INFO] Model is improving acc: 96.9996 --> 97.0756.\n",
            "[2020-05-08 05:07:59,444 INFO] Step 24050/50000; acc:  96.26; ppl:  1.12; xent: 0.11; lr: 1.00000; 7735/4921 tok/s;    630 sec\n",
            "[2020-05-08 05:08:00,581 INFO] Step 24100/50000; acc:  96.51; ppl:  1.12; xent: 0.11; lr: 1.00000; 21123/13857 tok/s;    631 sec\n",
            "[2020-05-08 05:08:01,736 INFO] Step 24150/50000; acc:  96.88; ppl:  1.10; xent: 0.09; lr: 1.00000; 20885/13849 tok/s;    633 sec\n",
            "[2020-05-08 05:08:02,871 INFO] Step 24200/50000; acc:  96.98; ppl:  1.09; xent: 0.09; lr: 1.00000; 21161/13737 tok/s;    634 sec\n",
            "[2020-05-08 05:08:04,011 INFO] Step 24250/50000; acc:  96.60; ppl:  1.11; xent: 0.10; lr: 1.00000; 23355/15046 tok/s;    635 sec\n",
            "[2020-05-08 05:08:05,137 INFO] Step 24300/50000; acc:  96.66; ppl:  1.11; xent: 0.10; lr: 1.00000; 21378/14214 tok/s;    636 sec\n",
            "[2020-05-08 05:08:06,313 INFO] Step 24350/50000; acc:  96.47; ppl:  1.12; xent: 0.11; lr: 1.00000; 22553/14849 tok/s;    637 sec\n",
            "[2020-05-08 05:08:07,525 INFO] Step 24400/50000; acc:  96.27; ppl:  1.12; xent: 0.12; lr: 1.00000; 23389/14775 tok/s;    638 sec\n",
            "[2020-05-08 05:08:08,739 INFO] Step 24450/50000; acc:  96.14; ppl:  1.13; xent: 0.12; lr: 1.00000; 22458/14457 tok/s;    640 sec\n",
            "[2020-05-08 05:08:09,906 INFO] Step 24500/50000; acc:  96.27; ppl:  1.13; xent: 0.12; lr: 1.00000; 22365/14451 tok/s;    641 sec\n",
            "[2020-05-08 05:08:11,202 INFO] Step 24550/50000; acc:  96.62; ppl:  1.11; xent: 0.10; lr: 1.00000; 19799/12728 tok/s;    642 sec\n",
            "[2020-05-08 05:08:12,571 INFO] Step 24600/50000; acc:  96.63; ppl:  1.12; xent: 0.11; lr: 1.00000; 20528/12999 tok/s;    643 sec\n",
            "[2020-05-08 05:08:13,741 INFO] Step 24650/50000; acc:  95.78; ppl:  1.14; xent: 0.13; lr: 1.00000; 22993/14750 tok/s;    645 sec\n",
            "[2020-05-08 05:08:14,888 INFO] Step 24700/50000; acc:  96.63; ppl:  1.11; xent: 0.10; lr: 1.00000; 22476/14724 tok/s;    646 sec\n",
            "[2020-05-08 05:08:16,058 INFO] Step 24750/50000; acc:  96.46; ppl:  1.12; xent: 0.11; lr: 1.00000; 22884/15001 tok/s;    647 sec\n",
            "[2020-05-08 05:08:17,250 INFO] Step 24800/50000; acc:  95.92; ppl:  1.14; xent: 0.13; lr: 1.00000; 22438/14704 tok/s;    648 sec\n",
            "[2020-05-08 05:08:18,460 INFO] Step 24850/50000; acc:  96.74; ppl:  1.11; xent: 0.10; lr: 1.00000; 21535/14127 tok/s;    649 sec\n",
            "[2020-05-08 05:08:19,550 INFO] Step 24900/50000; acc:  96.76; ppl:  1.11; xent: 0.10; lr: 1.00000; 21014/14147 tok/s;    650 sec\n",
            "[2020-05-08 05:08:20,700 INFO] Step 24950/50000; acc:  96.92; ppl:  1.10; xent: 0.10; lr: 1.00000; 21765/14584 tok/s;    652 sec\n",
            "[2020-05-08 05:08:21,911 INFO] Step 25000/50000; acc:  96.68; ppl:  1.11; xent: 0.10; lr: 1.00000; 21941/14063 tok/s;    653 sec\n",
            "[2020-05-08 05:08:21,914 INFO] Saving checkpoint demo-model_step_25000.pt\n",
            "[2020-05-08 05:08:23,135 INFO] Step 25050/50000; acc:  96.89; ppl:  1.11; xent: 0.10; lr: 1.00000; 21924/13793 tok/s;    654 sec\n",
            "[2020-05-08 05:08:24,267 INFO] Step 25100/50000; acc:  96.83; ppl:  1.10; xent: 0.10; lr: 1.00000; 22434/14805 tok/s;    655 sec\n",
            "[2020-05-08 05:08:25,391 INFO] Step 25150/50000; acc:  96.41; ppl:  1.12; xent: 0.11; lr: 1.00000; 22625/14802 tok/s;    656 sec\n",
            "[2020-05-08 05:08:26,440 INFO] Step 25200/50000; acc:  96.45; ppl:  1.13; xent: 0.12; lr: 1.00000; 21524/14502 tok/s;    657 sec\n",
            "[2020-05-08 05:08:27,698 INFO] Step 25250/50000; acc:  96.98; ppl:  1.10; xent: 0.09; lr: 1.00000; 19950/13130 tok/s;    659 sec\n",
            "[2020-05-08 05:08:29,093 INFO] Step 25300/50000; acc:  96.76; ppl:  1.11; xent: 0.10; lr: 1.00000; 19502/12408 tok/s;    660 sec\n",
            "[2020-05-08 05:08:30,227 INFO] Step 25350/50000; acc:  96.67; ppl:  1.11; xent: 0.11; lr: 1.00000; 22301/14397 tok/s;    661 sec\n",
            "[2020-05-08 05:08:31,440 INFO] Step 25400/50000; acc:  96.83; ppl:  1.11; xent: 0.10; lr: 1.00000; 21042/13615 tok/s;    662 sec\n",
            "[2020-05-08 05:08:32,572 INFO] Step 25450/50000; acc:  96.50; ppl:  1.11; xent: 0.11; lr: 1.00000; 21259/14292 tok/s;    663 sec\n",
            "[2020-05-08 05:08:33,814 INFO] Step 25500/50000; acc:  96.80; ppl:  1.10; xent: 0.10; lr: 1.00000; 20302/13449 tok/s;    665 sec\n",
            "[2020-05-08 05:08:35,043 INFO] Step 25550/50000; acc:  95.91; ppl:  1.13; xent: 0.12; lr: 1.00000; 23962/14941 tok/s;    666 sec\n",
            "[2020-05-08 05:08:36,200 INFO] Step 25600/50000; acc:  96.66; ppl:  1.11; xent: 0.10; lr: 1.00000; 22405/14604 tok/s;    667 sec\n",
            "[2020-05-08 05:08:37,349 INFO] Step 25650/50000; acc:  96.52; ppl:  1.11; xent: 0.10; lr: 1.00000; 22614/14649 tok/s;    668 sec\n",
            "[2020-05-08 05:08:38,507 INFO] Step 25700/50000; acc:  96.65; ppl:  1.11; xent: 0.11; lr: 1.00000; 21009/14120 tok/s;    669 sec\n",
            "[2020-05-08 05:08:39,675 INFO] Step 25750/50000; acc:  96.53; ppl:  1.11; xent: 0.11; lr: 1.00000; 22025/13971 tok/s;    671 sec\n",
            "[2020-05-08 05:08:40,891 INFO] Step 25800/50000; acc:  96.78; ppl:  1.10; xent: 0.10; lr: 1.00000; 22902/14689 tok/s;    672 sec\n",
            "[2020-05-08 05:08:42,091 INFO] Step 25850/50000; acc:  96.77; ppl:  1.11; xent: 0.10; lr: 1.00000; 22881/14934 tok/s;    673 sec\n",
            "[2020-05-08 05:08:43,276 INFO] Step 25900/50000; acc:  96.69; ppl:  1.11; xent: 0.11; lr: 1.00000; 21396/13886 tok/s;    674 sec\n",
            "[2020-05-08 05:08:44,431 INFO] Step 25950/50000; acc:  96.72; ppl:  1.11; xent: 0.10; lr: 1.00000; 22715/14813 tok/s;    675 sec\n",
            "[2020-05-08 05:08:45,561 INFO] Step 26000/50000; acc:  96.92; ppl:  1.10; xent: 0.10; lr: 1.00000; 23689/15132 tok/s;    676 sec\n",
            "\n"
          ],
          "name": "stdout"
        }
      ]
    },
    {
      "cell_type": "markdown",
      "metadata": {
        "colab_type": "text",
        "id": "PmHgnfcwGcKg"
      },
      "source": [
        "# Testing it out\n",
        "\n",
        "Testing the text below, you can see the \"answer\" on Google translate [right here](https://translate.google.com/#view=home&op=translate&sl=am&tl=en&text=%E1%8A%A5%E1%8A%94%E1%88%9D%E1%8D%A5%20%E1%8B%88%E1%8A%95%E1%8B%B5%E1%88%9E%E1%89%BD%20%E1%88%86%E1%8B%AD%E1%8D%A5%20%E1%8B%A8%E1%88%A5%E1%8C%8B%20%E1%8A%A5%E1%8A%95%E1%8B%B0%20%E1%88%98%E1%88%86%E1%8A%93%E1%89%BD%E1%88%81%E1%8D%A5%0A%E1%89%A0%E1%8A%AD%E1%88%AD%E1%88%B5%E1%89%B6%E1%88%B5%E1%88%9D%20%E1%88%95%E1%8D%83%E1%8A%93%E1%89%B5%20%E1%8A%A5%E1%8A%95%E1%8B%B0%20%E1%88%98%E1%88%86%E1%8A%93%E1%89%BD%E1%88%81%20%E1%8A%A5%E1%8A%95%E1%8C%82%0A%E1%88%98%E1%8A%95%E1%8D%88%E1%88%B3%E1%8B%8D%E1%8B%AB%E1%8A%95%20%E1%8A%A5%E1%8A%95%E1%8B%B0%20%E1%88%98%E1%88%86%E1%8A%93%E1%89%BD%E1%88%81%20%E1%88%8D%E1%8A%93%E1%8C%88%E1%88%AB%E1%89%BD%E1%88%81%0A%E1%8A%A0%E1%88%8D%E1%89%BB%E1%88%8D%E1%88%81%E1%88%9D%E1%8D%A2)."
      ]
    },
    {
      "cell_type": "code",
      "metadata": {
        "colab_type": "code",
        "id": "UvvFipU_1CEq",
        "outputId": "adea9f46-6817-4b03-8184-d2df83ed4ec9",
        "colab": {
          "base_uri": "https://localhost:8080/",
          "height": 34
        }
      },
      "source": [
        "!head -n 1 original.txt"
      ],
      "execution_count": 0,
      "outputs": [
        {
          "output_type": "stream",
          "text": [
            "ቀዝቃዛ ውኃ የዛለችን ነፍስ እንደሚያረካ ሁሉከሩቅ አገር የመጣ መልካም ወሬም እንዲሁ ነው።\n"
          ],
          "name": "stdout"
        }
      ]
    },
    {
      "cell_type": "code",
      "metadata": {
        "colab_type": "code",
        "id": "0gWSsH8R1FbT",
        "outputId": "ed2d83de-b24d-489e-f401-4268acaf4669",
        "colab": {
          "base_uri": "https://localhost:8080/",
          "height": 34
        }
      },
      "source": [
        "!head -n 1 transliterated.txt"
      ],
      "execution_count": 0,
      "outputs": [
        {
          "output_type": "stream",
          "text": [
            "kazeqaza weha yazalatchene nefsi inidamiyaraka hulukeruqe agar jameta melekam werem inedihu new.\n"
          ],
          "name": "stdout"
        }
      ]
    },
    {
      "cell_type": "code",
      "metadata": {
        "id": "LBlLlNWXnDGG",
        "colab_type": "code",
        "colab": {}
      },
      "source": [
        "import subprocess\n",
        "\n",
        "# Pull the first 10 originals and transliterateds\n",
        "originals = subprocess.run(\"head -n 500 original.txt\",\n",
        "                            shell=True,\n",
        "                            stdout=subprocess.PIPE).stdout.decode(\"utf-8\").strip()\n",
        "transliterated = subprocess.run(\"head -n 500 transliterated.txt\",\n",
        "                            shell=True,\n",
        "                            stdout=subprocess.PIPE).stdout.decode(\"utf-8\").strip()\n",
        "\n",
        "# You can also use other stuff\n",
        "originals = open(\"sera_am.txt\").read()\n",
        "transliterated = open(\"sera_rom.txt\").read()"
      ],
      "execution_count": 0,
      "outputs": []
    },
    {
      "cell_type": "code",
      "metadata": {
        "id": "u2IUHqEKxMGj",
        "colab_type": "code",
        "colab": {
          "base_uri": "https://localhost:8080/",
          "height": 34
        },
        "outputId": "25cb9f05-e6fc-48ed-f9c6-cb7c94b7d2a1"
      },
      "source": [
        "!pip install unidecode"
      ],
      "execution_count": 180,
      "outputs": [
        {
          "output_type": "stream",
          "text": [
            "Requirement already satisfied: unidecode in /usr/local/lib/python3.6/dist-packages (1.1.1)\n"
          ],
          "name": "stdout"
        }
      ]
    },
    {
      "cell_type": "code",
      "metadata": {
        "id": "gZi_t8FLqMjV",
        "colab_type": "code",
        "colab": {}
      },
      "source": [
        "import unidecode\n",
        "\n",
        "def clean(lat_word):\n",
        "  return unidecode.unidecode(lat_word).lower()\n",
        "\n",
        "def add_spaces(word):\n",
        "  return ' '.join(word)\n",
        "\n",
        "orig_test = []\n",
        "trans_test = []\n",
        "\n",
        "# Go through each line, making sure they\n",
        "# have the same number of words before you\n",
        "# add them to the list\n",
        "for o, t in zip(originals.splitlines(), transliterated.splitlines()):\n",
        "  o_words = [add_spaces(w) for w in re.split(r\"\\s+\", o) if w]\n",
        "  # - is sometimes transliterated as a space\n",
        "  t_words = [add_spaces(w) for w in re.split(r\"\\s+\", clean(t)) if w]\n",
        "  if(len(o_words) == len(t_words)):\n",
        "    orig_test.extend(o_words)\n",
        "    trans_test.extend(t_words)\n",
        "  else:\n",
        "    print(\"Not a matched pair:\", o, t)"
      ],
      "execution_count": 0,
      "outputs": []
    },
    {
      "cell_type": "code",
      "metadata": {
        "colab_type": "code",
        "id": "6wYh0Zi5GcKh",
        "colab": {}
      },
      "source": [
        "# import re\n",
        "\n",
        "# orig_test = [' '.join(word) for word in re.split('\\s+', originals)]\n",
        "# trans_test = [' '.join(word) for word in re.split('\\s+', transliterated)]\n",
        "with open(\"data/test.txt\", 'w') as f:\n",
        "    f.write('\\n'.join(trans_test))"
      ],
      "execution_count": 0,
      "outputs": []
    },
    {
      "cell_type": "code",
      "metadata": {
        "id": "CvY_F7AnukLR",
        "colab_type": "code",
        "colab": {
          "base_uri": "https://localhost:8080/",
          "height": 102
        },
        "outputId": "f9c82751-cd16-4f9c-f314-8c7a679efc76"
      },
      "source": [
        "!head -n 5 data/test.txt"
      ],
      "execution_count": 183,
      "outputs": [
        {
          "output_type": "stream",
          "text": [
            "y e z e m e m e n i\n",
            "l i t a k ' e n a\n",
            "l i t i f a l e m i\n",
            "k e d e m e n a\n",
            "t e l i k o\n"
          ],
          "name": "stdout"
        }
      ]
    },
    {
      "cell_type": "code",
      "metadata": {
        "id": "CVpJmHhJilhk",
        "colab_type": "code",
        "colab": {
          "base_uri": "https://localhost:8080/",
          "height": 51
        },
        "outputId": "6b4efd1b-fbf2-461b-a7fd-f509796d90f4"
      },
      "source": [
        "print(len(trans_test), trans_test[:5])\n",
        "print(len(orig_test), orig_test[:5])"
      ],
      "execution_count": 184,
      "outputs": [
        {
          "output_type": "stream",
          "text": [
            "371 ['y e z e m e m e n i', \"l i t a k ' e n a\", 'l i t i f a l e m i', 'k e d e m e n a', 't e l i k o']\n",
            "371 ['የ ዘ መ መ ን', 'ል ታ ቀ ና', 'ል ት ፋ ለ ም', 'ከ ደ መ ና', 'ተ ል ኮ']\n"
          ],
          "name": "stdout"
        }
      ]
    },
    {
      "cell_type": "markdown",
      "metadata": {
        "colab_type": "text",
        "id": "kL7FyKlBGcKk"
      },
      "source": [
        "**You'll need to change the model name in `onmt_translate` below.** It's probably the most recently changed model file, so at the top of this list: "
      ]
    },
    {
      "cell_type": "code",
      "metadata": {
        "colab_type": "code",
        "id": "EkD1GQUeGcKk",
        "outputId": "8fd63cb4-0b0a-4596-cabc-2d76f7e59193",
        "colab": {
          "base_uri": "https://localhost:8080/",
          "height": 34
        }
      },
      "source": [
        "model_name = subprocess.run(\"ls -t *model* | head -n 1\",\n",
        "                            shell=True,\n",
        "                            stdout=subprocess.PIPE).stdout.decode(\"utf-8\").strip()\n",
        "print(\"Using model\", model_name)"
      ],
      "execution_count": 185,
      "outputs": [
        {
          "output_type": "stream",
          "text": [
            "Using model demo-model_step_25000.pt\n"
          ],
          "name": "stdout"
        }
      ]
    },
    {
      "cell_type": "code",
      "metadata": {
        "colab_type": "code",
        "id": "FFRDPiz6GcKn",
        "outputId": "574d93ce-d61f-4fd6-8811-67cb34d6dc42",
        "colab": {
          "base_uri": "https://localhost:8080/",
          "height": 88
        }
      },
      "source": [
        "!onmt_translate \\\n",
        "    -model {model_name} \\\n",
        "    -src data/test.txt \\\n",
        "    -output data/pred.txt -replace_unk\n"
      ],
      "execution_count": 186,
      "outputs": [
        {
          "output_type": "stream",
          "text": [
            "[2020-05-08 05:34:13,188 INFO] Translating shard 0.\n",
            "/pytorch/aten/src/ATen/native/BinaryOps.cpp:66: UserWarning: Integer division of tensors using div or / is deprecated, and in a future release div will perform true division as in Python 3. Use true_divide or floor_divide (// in Python) instead.\n",
            "PRED AVG SCORE: -0.0986, PRED PPL: 1.1037\n"
          ],
          "name": "stdout"
        }
      ]
    },
    {
      "cell_type": "code",
      "metadata": {
        "colab_type": "code",
        "id": "2Aw_FJI7GcKu",
        "outputId": "188159bc-b3ff-4434-901a-1983480ddd97",
        "colab": {
          "base_uri": "https://localhost:8080/",
          "height": 470
        }
      },
      "source": [
        "results = open(\"data/pred.txt\").read().splitlines()\n",
        "test_results = pd.DataFrame({\n",
        "    'result': results,\n",
        "    'original': orig_test,\n",
        "    'transliterated': trans_test\n",
        "})\n",
        "print((test_results.result == test_results.original).value_counts(normalize=True))\n",
        "test_results"
      ],
      "execution_count": 187,
      "outputs": [
        {
          "output_type": "stream",
          "text": [
            "False    0.606469\n",
            "True     0.393531\n",
            "dtype: float64\n"
          ],
          "name": "stdout"
        },
        {
          "output_type": "execute_result",
          "data": {
            "text/html": [
              "<div>\n",
              "<style scoped>\n",
              "    .dataframe tbody tr th:only-of-type {\n",
              "        vertical-align: middle;\n",
              "    }\n",
              "\n",
              "    .dataframe tbody tr th {\n",
              "        vertical-align: top;\n",
              "    }\n",
              "\n",
              "    .dataframe thead th {\n",
              "        text-align: right;\n",
              "    }\n",
              "</style>\n",
              "<table border=\"1\" class=\"dataframe\">\n",
              "  <thead>\n",
              "    <tr style=\"text-align: right;\">\n",
              "      <th></th>\n",
              "      <th>result</th>\n",
              "      <th>original</th>\n",
              "      <th>transliterated</th>\n",
              "    </tr>\n",
              "  </thead>\n",
              "  <tbody>\n",
              "    <tr>\n",
              "      <th>0</th>\n",
              "      <td>የ ዘ መ መ ን</td>\n",
              "      <td>የ ዘ መ መ ን</td>\n",
              "      <td>y e z e m e m e n i</td>\n",
              "    </tr>\n",
              "    <tr>\n",
              "      <th>1</th>\n",
              "      <td>ሊ ጠ ክ እ ና</td>\n",
              "      <td>ል ታ ቀ ና</td>\n",
              "      <td>l i t a k ' e n a</td>\n",
              "    </tr>\n",
              "    <tr>\n",
              "      <th>2</th>\n",
              "      <td>ሊ ጥ ፋ ል ም</td>\n",
              "      <td>ል ት ፋ ለ ም</td>\n",
              "      <td>l i t i f a l e m i</td>\n",
              "    </tr>\n",
              "    <tr>\n",
              "      <th>3</th>\n",
              "      <td>ከ ደ መ ና</td>\n",
              "      <td>ከ ደ መ ና</td>\n",
              "      <td>k e d e m e n a</td>\n",
              "    </tr>\n",
              "    <tr>\n",
              "      <th>4</th>\n",
              "      <td>ጠ ል ቆ</td>\n",
              "      <td>ተ ል ኮ</td>\n",
              "      <td>t e l i k o</td>\n",
              "    </tr>\n",
              "    <tr>\n",
              "      <th>...</th>\n",
              "      <td>...</td>\n",
              "      <td>...</td>\n",
              "      <td>...</td>\n",
              "    </tr>\n",
              "    <tr>\n",
              "      <th>366</th>\n",
              "      <td>ሥ ራ</td>\n",
              "      <td>ስ ራ</td>\n",
              "      <td>s i r a</td>\n",
              "    </tr>\n",
              "    <tr>\n",
              "      <th>367</th>\n",
              "      <td>ሥ ራ</td>\n",
              "      <td>ስ ራ</td>\n",
              "      <td>s i r a</td>\n",
              "    </tr>\n",
              "    <tr>\n",
              "      <th>368</th>\n",
              "      <td>ሥ ራ</td>\n",
              "      <td>ስ ራ</td>\n",
              "      <td>s i r a</td>\n",
              "    </tr>\n",
              "    <tr>\n",
              "      <th>369</th>\n",
              "      <td>ሥ ራ</td>\n",
              "      <td>ስ ራ</td>\n",
              "      <td>s i r a</td>\n",
              "    </tr>\n",
              "    <tr>\n",
              "      <th>370</th>\n",
              "      <td>ሥ ራ</td>\n",
              "      <td>ስ ራ</td>\n",
              "      <td>s i r a</td>\n",
              "    </tr>\n",
              "  </tbody>\n",
              "</table>\n",
              "<p>371 rows × 3 columns</p>\n",
              "</div>"
            ],
            "text/plain": [
              "        result   original       transliterated\n",
              "0    የ ዘ መ መ ን  የ ዘ መ መ ን  y e z e m e m e n i\n",
              "1    ሊ ጠ ክ እ ና    ል ታ ቀ ና    l i t a k ' e n a\n",
              "2    ሊ ጥ ፋ ል ም  ል ት ፋ ለ ም  l i t i f a l e m i\n",
              "3      ከ ደ መ ና    ከ ደ መ ና      k e d e m e n a\n",
              "4        ጠ ል ቆ      ተ ል ኮ          t e l i k o\n",
              "..         ...        ...                  ...\n",
              "366        ሥ ራ        ስ ራ              s i r a\n",
              "367        ሥ ራ        ስ ራ              s i r a\n",
              "368        ሥ ራ        ስ ራ              s i r a\n",
              "369        ሥ ራ        ስ ራ              s i r a\n",
              "370        ሥ ራ        ስ ራ              s i r a\n",
              "\n",
              "[371 rows x 3 columns]"
            ]
          },
          "metadata": {
            "tags": []
          },
          "execution_count": 187
        }
      ]
    },
    {
      "cell_type": "code",
      "metadata": {
        "colab_type": "code",
        "id": "Uf0XpcnoGcKx",
        "colab": {}
      },
      "source": [
        ""
      ],
      "execution_count": 0,
      "outputs": []
    }
  ]
}