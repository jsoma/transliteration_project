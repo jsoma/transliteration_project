{
 "cells": [
  {
   "cell_type": "markdown",
   "metadata": {},
   "source": [
    "## Pull in the datasets"
   ]
  },
  {
   "cell_type": "code",
   "execution_count": 32,
   "metadata": {
    "colab": {
     "base_uri": "https://localhost:8080/",
     "height": 360
    },
    "colab_type": "code",
    "id": "dzQ6nKsqGcJf",
    "outputId": "7f3ec789-dd82-42b0-9669-6b40e9b43647"
   },
   "outputs": [
    {
     "name": "stdout",
     "output_type": "stream",
     "text": [
      "--2020-04-30 19:41:35--  https://github.com/jsoma/transliteration_project/raw/master/raw/datasets.zip\n",
      "Resolving github.com (github.com)... 140.82.118.3\n",
      "Connecting to github.com (github.com)|140.82.118.3|:443... connected.\n",
      "HTTP request sent, awaiting response... 302 Found\n",
      "Location: https://raw.githubusercontent.com/jsoma/transliteration_project/master/raw/datasets.zip [following]\n",
      "--2020-04-30 19:41:36--  https://raw.githubusercontent.com/jsoma/transliteration_project/master/raw/datasets.zip\n",
      "Resolving raw.githubusercontent.com (raw.githubusercontent.com)... 151.101.0.133, 151.101.64.133, 151.101.128.133, ...\n",
      "Connecting to raw.githubusercontent.com (raw.githubusercontent.com)|151.101.0.133|:443... connected.\n",
      "HTTP request sent, awaiting response... 200 OK\n",
      "Length: 9609299 (9.2M) [application/zip]\n",
      "Saving to: ‘datasets.zip’\n",
      "\n",
      "\r",
      "datasets.zip          0%[                    ]       0  --.-KB/s               \r",
      "datasets.zip         53%[=========>          ]   4.89M  24.4MB/s               \r",
      "datasets.zip        100%[===================>]   9.16M  31.5MB/s    in 0.3s    \n",
      "\n",
      "2020-04-30 19:41:37 (31.5 MB/s) - ‘datasets.zip’ saved [9609299/9609299]\n",
      "\n",
      "Archive:  datasets.zip\n",
      "  inflating: raw/transliterated.txt  \n",
      "  inflating: raw/original.txt        \n"
     ]
    }
   ],
   "source": [
    "!rm datasets.zip\n",
    "!rm -rf raw\n",
    "!wget https://github.com/jsoma/transliteration_project/raw/master/raw/datasets.zip\n",
    "!unzip -o datasets.zip"
   ]
  },
  {
   "cell_type": "markdown",
   "metadata": {},
   "source": [
    "## Read in the data from `new-am.txt`\n",
    "\n",
    "Hopefully this is all of the text we have."
   ]
  },
  {
   "cell_type": "code",
   "execution_count": 0,
   "metadata": {
    "colab": {},
    "colab_type": "code",
    "id": "ORy8sSAawbp-"
   },
   "outputs": [],
   "source": [
    "import tensorflow as tf\n",
    "\n",
    "import numpy as np\n",
    "import os\n",
    "import time\n"
   ]
  },
  {
   "cell_type": "code",
   "execution_count": 1,
   "metadata": {
    "colab": {
     "base_uri": "https://localhost:8080/",
     "height": 34
    },
    "colab_type": "code",
    "id": "sl1sC6N0wb6K",
    "outputId": "f245a49f-86f6-47a7-bd46-3d8dc13aa5a2"
   },
   "outputs": [
    {
     "name": "stdout",
     "output_type": "stream",
     "text": [
      "Length of text: 4431040 characters\n"
     ]
    }
   ],
   "source": [
    "# Read, then decode for py2 compat.\n",
    "text = open('raw/new-am.txt', 'rb').read().decode(encoding='utf-8')\n",
    "# length of text is the number of characters in it\n",
    "print ('Length of text: {} characters'.format(len(text)))\n"
   ]
  },
  {
   "cell_type": "code",
   "execution_count": 2,
   "metadata": {
    "colab": {
     "base_uri": "https://localhost:8080/",
     "height": 71
    },
    "colab_type": "code",
    "id": "OHjH5-pLwb4g",
    "outputId": "5f753290-685b-44c2-cc9a-c9bf72a07c17"
   },
   "outputs": [
    {
     "name": "stdout",
     "output_type": "stream",
     "text": [
      "ጠ/ሚ መለስ ዜናዊ \"ጦርነት ኳስ ጨዋታ አይደለም!\" አሉ\n",
      "ሰሞኑን በሕወሓት/ኢሕአዴግ ግምገማ ውስጥ ዋነኛው የግምገማ በትር ያረፈው በጠ/ሚ መለስ ዜናዊ ላይ መሆኑ ተደጋግሞ እየተሰማ ነው።\n",
      "ከዚሁ ጋር ተያይዞ የጠ/ሚንስትሩ ጋርዶች በሌሎች መቀየራቸው፣  ከአቶ መለስ ዜናዊ ጋር የሚያገናኙ የቤተ መንግሥት የስልክ ግንኙነቶች መቋረጣቸው በሰፊው እየተነገረ ሲሆን፣ማንኛውንም የወቅቱን ጉዳይ አስመልክቶ መ\n"
     ]
    }
   ],
   "source": [
    "print(text[:250])\n"
   ]
  },
  {
   "cell_type": "code",
   "execution_count": 3,
   "metadata": {
    "colab": {
     "base_uri": "https://localhost:8080/",
     "height": 34
    },
    "colab_type": "code",
    "id": "-KxQb6acwb0e",
    "outputId": "1bd2a40f-fc4b-4721-b404-6c7c1e53b48e"
   },
   "outputs": [
    {
     "name": "stdout",
     "output_type": "stream",
     "text": [
      "445 unique characters\n"
     ]
    }
   ],
   "source": [
    "vocab = sorted(set(text))\n",
    "print ('{} unique characters'.format(len(vocab)))\n"
   ]
  },
  {
   "cell_type": "code",
   "execution_count": 0,
   "metadata": {
    "colab": {},
    "colab_type": "code",
    "id": "mh6d5-GPww9R"
   },
   "outputs": [],
   "source": [
    "# Store \n",
    "char2idx = {u:i for i, u in enumerate(vocab)}\n",
    "idx2char = np.array(vocab)\n",
    "\n",
    "text_as_int = np.array([char2idx[c] for c in text])\n"
   ]
  },
  {
   "cell_type": "code",
   "execution_count": 0,
   "metadata": {
    "colab": {},
    "colab_type": "code",
    "id": "f_CqDe3Z1VO_"
   },
   "outputs": [],
   "source": [
    "import json\n",
    "\n",
    "with open('char2idx.json', 'w') as f:\n",
    "  json.dump(char2idx, f)\n",
    "\n",
    "with open('idx2char.json', 'w') as f:\n",
    "  json.dump(list(idx2char), f)"
   ]
  },
  {
   "cell_type": "code",
   "execution_count": 0,
   "metadata": {
    "colab": {},
    "colab_type": "code",
    "id": "F-Domfmp1u5j"
   },
   "outputs": [],
   "source": [
    "from google.colab import files\n",
    "\n",
    "files.download('char2idx.json')\n",
    "files.download('idx2char.json')"
   ]
  },
  {
   "cell_type": "code",
   "execution_count": 41,
   "metadata": {
    "colab": {
     "base_uri": "https://localhost:8080/",
     "height": 408
    },
    "colab_type": "code",
    "id": "xZ2keHTmwxB1",
    "outputId": "dda0dfa2-f72a-42f2-d741-1de71541cfba"
   },
   "outputs": [
    {
     "name": "stdout",
     "output_type": "stream",
     "text": [
      "{\n",
      "  '\\n':   0,\n",
      "  ' ' :   1,\n",
      "  '!' :   2,\n",
      "  '\"' :   3,\n",
      "  '#' :   4,\n",
      "  '$' :   5,\n",
      "  '%' :   6,\n",
      "  '&' :   7,\n",
      "  \"'\" :   8,\n",
      "  '(' :   9,\n",
      "  ')' :  10,\n",
      "  '*' :  11,\n",
      "  '+' :  12,\n",
      "  ',' :  13,\n",
      "  '-' :  14,\n",
      "  '.' :  15,\n",
      "  '/' :  16,\n",
      "  '0' :  17,\n",
      "  '1' :  18,\n",
      "  '2' :  19,\n",
      "  ...\n",
      "}\n"
     ]
    }
   ],
   "source": [
    "print('{')\n",
    "for char,_ in zip(char2idx, range(20)):\n",
    "    print('  {:4s}: {:3d},'.format(repr(char), char2idx[char]))\n",
    "print('  ...\\n}')\n"
   ]
  },
  {
   "cell_type": "code",
   "execution_count": 42,
   "metadata": {
    "colab": {
     "base_uri": "https://localhost:8080/",
     "height": 54
    },
    "colab_type": "code",
    "id": "HtqHFldvwxFf",
    "outputId": "2cb7e8a7-c2d6-4312-a815-712c23d1c109"
   },
   "outputs": [
    {
     "name": "stdout",
     "output_type": "stream",
     "text": [
      "'“የዳታ ፕሮሰሲንግ አ' ---- characters mapped to int ---- > [426 311 321 222   1 396 175 177 179 247 340   1 258]\n"
     ]
    }
   ],
   "source": [
    "print ('{} ---- characters mapped to int ---- > {}'.format(repr(text[:13]), text_as_int[:13]))\n"
   ]
  },
  {
   "cell_type": "code",
   "execution_count": 43,
   "metadata": {
    "colab": {
     "base_uri": "https://localhost:8080/",
     "height": 102
    },
    "colab_type": "code",
    "id": "Abik3oKRw1pg",
    "outputId": "374f9399-33fd-43b4-fb7d-377e2343ad95"
   },
   "outputs": [
    {
     "name": "stdout",
     "output_type": "stream",
     "text": [
      "“\n",
      "የ\n",
      "ዳ\n",
      "ታ\n",
      " \n"
     ]
    }
   ],
   "source": [
    "# The maximum length sentence we want for a single input in characters\n",
    "seq_length = 100\n",
    "examples_per_epoch = len(text)//(seq_length+1)\n",
    "\n",
    "# Create training examples / targets\n",
    "char_dataset = tf.data.Dataset.from_tensor_slices(text_as_int)\n",
    "\n",
    "for i in char_dataset.take(5):\n",
    "  print(idx2char[i.numpy()])\n"
   ]
  },
  {
   "cell_type": "code",
   "execution_count": 44,
   "metadata": {
    "colab": {
     "base_uri": "https://localhost:8080/",
     "height": 122
    },
    "colab_type": "code",
    "id": "ns06WfR8w1yI",
    "outputId": "21975e4d-221e-44f7-d39d-01d6dc861ab2"
   },
   "outputs": [
    {
     "name": "stdout",
     "output_type": "stream",
     "text": [
      "'“የዳታ ፕሮሰሲንግ አገልግሎት” ማለት በኮምፒዩተር ሥርዓት አማካኝነት ዳታን የመቀበል ፣ የማከማቸት ፣ የመተንተን ፣ የማሰራጨት ፣ የማጓጓዝ ወይም የማስተላለፍ '\n",
      "'አገልግሎት ሲሆን የኔትዎርክ አገልግሎችንም\\n“የዳታ ፕሮሰሲንግ አገልግሎት” ማለት በኮምፒዩተር ሥርዓት አማካኝነት ዳታን የመቀበል ፣ የማከማቸት ፣ የመተንተን ፣ '\n",
      "'የማሰራጨት ፣ የማጓጓዝ ወይም የማስተላለፍ አገልግሎት ሲሆን የኔትዎርክ አገልግሎችንም\\nየኤጀንሲው ዓላማ\\nየኤጀንሲው ዓላማ\\nእንዲህ አለው፦ “ዮፍታሔ እንዲህ ይላል፦'\n",
      "' ‘እስራኤል የሞዓባውያንን ምድርና የአሞናውያንን ምድር አልወሰደም ፤\\nእንዲህ አለው፦ “ዮፍታሔ እንዲህ ይላል፦ ‘እስራኤል የሞዓባውያንን ምድርና የአሞናውያንን ም'\n",
      "'ድር አልወሰደም ፤\\nሆኖም ትርፏና የምትቀበለው ክፍያ ለይሖዋ የተቀደሰ ይሆናል ። አይከማችም ወይም አይጠራቀምም ፤ ምክንያቱም በይሖዋ ፊት የሚኖሩ ሰዎች እስኪጠግ'\n"
     ]
    }
   ],
   "source": [
    "sequences = char_dataset.batch(seq_length+1, drop_remainder=True)\n",
    "\n",
    "for item in sequences.take(5):\n",
    "  print(repr(''.join(idx2char[item.numpy()])))\n"
   ]
  },
  {
   "cell_type": "code",
   "execution_count": 0,
   "metadata": {
    "colab": {},
    "colab_type": "code",
    "id": "0f8Qm_sCw2Bt"
   },
   "outputs": [],
   "source": [
    "def split_input_target(chunk):\n",
    "    input_text = chunk[:-1]\n",
    "    target_text = chunk[1:]\n",
    "    return input_text, target_text\n",
    "\n",
    "dataset = sequences.map(split_input_target)\n"
   ]
  },
  {
   "cell_type": "code",
   "execution_count": 46,
   "metadata": {
    "colab": {
     "base_uri": "https://localhost:8080/",
     "height": 71
    },
    "colab_type": "code",
    "id": "jsdXnUXmw19w",
    "outputId": "3cf4b0a0-0c38-4d36-a4c3-bddb4bebcee9"
   },
   "outputs": [
    {
     "name": "stdout",
     "output_type": "stream",
     "text": [
      "Input data:  '“የዳታ ፕሮሰሲንግ አገልግሎት” ማለት በኮምፒዩተር ሥርዓት አማካኝነት ዳታን የመቀበል ፣ የማከማቸት ፣ የመተንተን ፣ የማሰራጨት ፣ የማጓጓዝ ወይም የማስተላለፍ'\n",
      "Target data: 'የዳታ ፕሮሰሲንግ አገልግሎት” ማለት በኮምፒዩተር ሥርዓት አማካኝነት ዳታን የመቀበል ፣ የማከማቸት ፣ የመተንተን ፣ የማሰራጨት ፣ የማጓጓዝ ወይም የማስተላለፍ '\n"
     ]
    }
   ],
   "source": [
    "for input_example, target_example in  dataset.take(1):\n",
    "  print ('Input data: ', repr(''.join(idx2char[input_example.numpy()])))\n",
    "  print ('Target data:', repr(''.join(idx2char[target_example.numpy()])))\n"
   ]
  },
  {
   "cell_type": "code",
   "execution_count": 47,
   "metadata": {
    "colab": {
     "base_uri": "https://localhost:8080/",
     "height": 272
    },
    "colab_type": "code",
    "id": "1J3DnJxIwxUS",
    "outputId": "9f199260-3183-415f-cf08-6e27e30c8d8d"
   },
   "outputs": [
    {
     "name": "stdout",
     "output_type": "stream",
     "text": [
      "Step    0\n",
      "  input: 426 ('“')\n",
      "  expected output: 311 ('የ')\n",
      "Step    1\n",
      "  input: 311 ('የ')\n",
      "  expected output: 321 ('ዳ')\n",
      "Step    2\n",
      "  input: 321 ('ዳ')\n",
      "  expected output: 222 ('ታ')\n",
      "Step    3\n",
      "  input: 222 ('ታ')\n",
      "  expected output: 1 (' ')\n",
      "Step    4\n",
      "  input: 1 (' ')\n",
      "  expected output: 396 ('ፕ')\n"
     ]
    }
   ],
   "source": [
    "for i, (input_idx, target_idx) in enumerate(zip(input_example[:5], target_example[:5])):\n",
    "    print(\"Step {:4d}\".format(i))\n",
    "    print(\"  input: {} ({:s})\".format(input_idx, repr(idx2char[input_idx])))\n",
    "    print(\"  expected output: {} ({:s})\".format(target_idx, repr(idx2char[target_idx])))\n"
   ]
  },
  {
   "cell_type": "code",
   "execution_count": 48,
   "metadata": {
    "colab": {
     "base_uri": "https://localhost:8080/",
     "height": 34
    },
    "colab_type": "code",
    "id": "7dNUK-_7wxd5",
    "outputId": "8069d4d3-627b-4ca5-9b1a-cafec895438e"
   },
   "outputs": [
    {
     "data": {
      "text/plain": [
       "<BatchDataset shapes: ((64, 100), (64, 100)), types: (tf.int64, tf.int64)>"
      ]
     },
     "execution_count": 48,
     "metadata": {
      "tags": []
     },
     "output_type": "execute_result"
    }
   ],
   "source": [
    "# Batch size\n",
    "BATCH_SIZE = 64\n",
    "\n",
    "# Buffer size to shuffle the dataset\n",
    "# (TF data is designed to work with possibly infinite sequences,\n",
    "# so it doesn't attempt to shuffle the entire sequence in memory. Instead,\n",
    "# it maintains a buffer in which it shuffles elements).\n",
    "BUFFER_SIZE = 10000\n",
    "\n",
    "dataset = dataset.shuffle(BUFFER_SIZE).batch(BATCH_SIZE, drop_remainder=True)\n",
    "\n",
    "dataset\n"
   ]
  },
  {
   "cell_type": "code",
   "execution_count": 0,
   "metadata": {
    "colab": {},
    "colab_type": "code",
    "id": "2VdXVyrcwxS7"
   },
   "outputs": [],
   "source": [
    "# Length of the vocabulary in chars\n",
    "vocab_size = len(vocab)\n",
    "\n",
    "# The embedding dimension\n",
    "embedding_dim = 256\n",
    "\n",
    "# Number of RNN units\n",
    "rnn_units = 1024\n"
   ]
  },
  {
   "cell_type": "code",
   "execution_count": 0,
   "metadata": {
    "colab": {},
    "colab_type": "code",
    "id": "K6ciummQxKvK"
   },
   "outputs": [],
   "source": [
    "def build_model(vocab_size, embedding_dim, rnn_units, batch_size):\n",
    "  model = tf.keras.Sequential([\n",
    "    tf.keras.layers.Embedding(vocab_size, embedding_dim,\n",
    "                              batch_input_shape=[batch_size, None]),\n",
    "    tf.keras.layers.GRU(rnn_units,\n",
    "                        return_sequences=True,\n",
    "                        stateful=True,\n",
    "                        recurrent_initializer='glorot_uniform'),\n",
    "    tf.keras.layers.Dense(vocab_size)\n",
    "  ])\n",
    "  return model\n"
   ]
  },
  {
   "cell_type": "code",
   "execution_count": 0,
   "metadata": {
    "colab": {},
    "colab_type": "code",
    "id": "ys1ANFzoxK-i"
   },
   "outputs": [],
   "source": [
    "model = build_model(\n",
    "  vocab_size = len(vocab),\n",
    "  embedding_dim=embedding_dim,\n",
    "  rnn_units=rnn_units,\n",
    "  batch_size=BATCH_SIZE)\n"
   ]
  },
  {
   "cell_type": "code",
   "execution_count": 52,
   "metadata": {
    "colab": {
     "base_uri": "https://localhost:8080/",
     "height": 34
    },
    "colab_type": "code",
    "id": "VX8Y0qXXxLCn",
    "outputId": "614698b9-0978-4eec-874c-5633bbea519e"
   },
   "outputs": [
    {
     "name": "stdout",
     "output_type": "stream",
     "text": [
      "(64, 100, 445) # (batch_size, sequence_length, vocab_size)\n"
     ]
    }
   ],
   "source": [
    "for input_example_batch, target_example_batch in dataset.take(1):\n",
    "  example_batch_predictions = model(input_example_batch)\n",
    "  print(example_batch_predictions.shape, \"# (batch_size, sequence_length, vocab_size)\")\n"
   ]
  },
  {
   "cell_type": "code",
   "execution_count": 53,
   "metadata": {
    "colab": {
     "base_uri": "https://localhost:8080/",
     "height": 255
    },
    "colab_type": "code",
    "id": "QEIzSIYCxK7W",
    "outputId": "9c51a703-a20f-47c3-de56-b3fd491b3eed"
   },
   "outputs": [
    {
     "name": "stdout",
     "output_type": "stream",
     "text": [
      "Model: \"sequential_2\"\n",
      "_________________________________________________________________\n",
      "Layer (type)                 Output Shape              Param #   \n",
      "=================================================================\n",
      "embedding_2 (Embedding)      (64, None, 256)           113920    \n",
      "_________________________________________________________________\n",
      "gru_2 (GRU)                  (64, None, 1024)          3938304   \n",
      "_________________________________________________________________\n",
      "dense_2 (Dense)              (64, None, 445)           456125    \n",
      "=================================================================\n",
      "Total params: 4,508,349\n",
      "Trainable params: 4,508,349\n",
      "Non-trainable params: 0\n",
      "_________________________________________________________________\n"
     ]
    }
   ],
   "source": [
    "model.summary()\n"
   ]
  },
  {
   "cell_type": "code",
   "execution_count": 0,
   "metadata": {
    "colab": {},
    "colab_type": "code",
    "id": "dJQTI9YFxYF2"
   },
   "outputs": [],
   "source": [
    "# print(\"Input: \\n\", repr(\"\".join(idx2char[input_example_batch[0]])))\n",
    "# print()\n",
    "# print(\"Next Char Predictions: \\n\", repr(\"\".join(idx2char[sampled_indices ])))\n"
   ]
  },
  {
   "cell_type": "code",
   "execution_count": 54,
   "metadata": {
    "colab": {
     "base_uri": "https://localhost:8080/",
     "height": 51
    },
    "colab_type": "code",
    "id": "KHb02BG_xYEN",
    "outputId": "444f6821-03be-40c6-a173-d10b0019afd1"
   },
   "outputs": [
    {
     "name": "stdout",
     "output_type": "stream",
     "text": [
      "Prediction shape:  (64, 100, 445)  # (batch_size, sequence_length, vocab_size)\n",
      "scalar_loss:       6.099281\n"
     ]
    }
   ],
   "source": [
    "def loss(labels, logits):\n",
    "  return tf.keras.losses.sparse_categorical_crossentropy(labels, logits, from_logits=True)\n",
    "\n",
    "example_batch_loss  = loss(target_example_batch, example_batch_predictions)\n",
    "print(\"Prediction shape: \", example_batch_predictions.shape, \" # (batch_size, sequence_length, vocab_size)\")\n",
    "print(\"scalar_loss:      \", example_batch_loss.numpy().mean())\n"
   ]
  },
  {
   "cell_type": "code",
   "execution_count": 0,
   "metadata": {
    "colab": {},
    "colab_type": "code",
    "id": "E-Siidb6xYCf"
   },
   "outputs": [],
   "source": [
    "model.compile(optimizer='adam', loss=loss)\n"
   ]
  },
  {
   "cell_type": "code",
   "execution_count": 0,
   "metadata": {
    "colab": {},
    "colab_type": "code",
    "id": "D0pK9n9SxYBE"
   },
   "outputs": [],
   "source": [
    "# Directory where the checkpoints will be saved\n",
    "checkpoint_dir = './training_checkpoints'\n",
    "# Name of the checkpoint files\n",
    "checkpoint_prefix = os.path.join(checkpoint_dir, \"ckpt_{epoch}\")\n",
    "\n",
    "checkpoint_callback=tf.keras.callbacks.ModelCheckpoint(\n",
    "    filepath=checkpoint_prefix,\n",
    "    save_weights_only=True)\n"
   ]
  },
  {
   "cell_type": "code",
   "execution_count": 0,
   "metadata": {
    "colab": {},
    "colab_type": "code",
    "id": "ngS_u_X5xK0w"
   },
   "outputs": [],
   "source": [
    "EPOCHS=100\n"
   ]
  },
  {
   "cell_type": "code",
   "execution_count": 0,
   "metadata": {
    "colab": {
     "base_uri": "https://localhost:8080/",
     "height": 1000
    },
    "colab_type": "code",
    "id": "gOZHdX-axp1s",
    "outputId": "6193ca28-9a31-4101-a36f-b89832d4eb9e"
   },
   "outputs": [
    {
     "name": "stdout",
     "output_type": "stream",
     "text": [
      "Epoch 1/100\n",
      "1286/1286 [==============================] - 68s 53ms/step - loss: 2.5197\n",
      "Epoch 2/100\n",
      "1286/1286 [==============================] - 68s 53ms/step - loss: 1.8592\n",
      "Epoch 3/100\n",
      "1286/1286 [==============================] - 68s 53ms/step - loss: 1.6989\n",
      "Epoch 4/100\n",
      "1286/1286 [==============================] - 67s 52ms/step - loss: 1.6049\n",
      "Epoch 5/100\n",
      "1286/1286 [==============================] - 68s 53ms/step - loss: 1.5400\n",
      "Epoch 6/100\n",
      "1286/1286 [==============================] - 67s 52ms/step - loss: 1.4933\n",
      "Epoch 7/100\n",
      "1286/1286 [==============================] - 67s 52ms/step - loss: 1.4603\n",
      "Epoch 8/100\n",
      "1286/1286 [==============================] - 67s 52ms/step - loss: 1.4371\n",
      "Epoch 9/100\n",
      "1286/1286 [==============================] - 67s 52ms/step - loss: 1.4203\n",
      "Epoch 10/100\n",
      "1286/1286 [==============================] - 68s 53ms/step - loss: 1.4100\n",
      "Epoch 11/100\n",
      "1286/1286 [==============================] - 67s 52ms/step - loss: 1.4029\n",
      "Epoch 12/100\n",
      "1286/1286 [==============================] - 67s 52ms/step - loss: 1.3986\n",
      "Epoch 13/100\n",
      "1286/1286 [==============================] - 67s 52ms/step - loss: 1.3982\n",
      "Epoch 14/100\n",
      "1286/1286 [==============================] - 67s 52ms/step - loss: 1.3969\n",
      "Epoch 15/100\n",
      "1286/1286 [==============================] - 67s 52ms/step - loss: 1.3983\n",
      "Epoch 16/100\n",
      "1286/1286 [==============================] - 67s 52ms/step - loss: 1.4028\n",
      "Epoch 17/100\n",
      "1286/1286 [==============================] - 67s 52ms/step - loss: 1.4121\n",
      "Epoch 18/100\n",
      "1286/1286 [==============================] - 67s 52ms/step - loss: 1.4129\n",
      "Epoch 19/100\n",
      "1286/1286 [==============================] - 67s 52ms/step - loss: 1.4177\n",
      "Epoch 20/100\n",
      "1286/1286 [==============================] - 67s 52ms/step - loss: 1.4250\n",
      "Epoch 21/100\n",
      "1286/1286 [==============================] - 66s 52ms/step - loss: 1.4363\n",
      "Epoch 22/100\n",
      "1286/1286 [==============================] - 67s 52ms/step - loss: 1.4616\n",
      "Epoch 23/100\n",
      "1286/1286 [==============================] - 67s 52ms/step - loss: 1.4843\n",
      "Epoch 24/100\n",
      "1286/1286 [==============================] - 68s 53ms/step - loss: 1.4908\n",
      "Epoch 25/100\n",
      "1286/1286 [==============================] - 68s 53ms/step - loss: 1.4907\n",
      "Epoch 26/100\n",
      "1286/1286 [==============================] - 67s 52ms/step - loss: 1.5006\n",
      "Epoch 27/100\n",
      "1286/1286 [==============================] - 66s 51ms/step - loss: 1.5221\n",
      "Epoch 28/100\n",
      "1286/1286 [==============================] - 67s 52ms/step - loss: 1.5362\n",
      "Epoch 29/100\n",
      "1286/1286 [==============================] - 67s 52ms/step - loss: 1.5806\n",
      "Epoch 30/100\n",
      "1286/1286 [==============================] - 67s 52ms/step - loss: 1.7482\n",
      "Epoch 31/100\n",
      "1286/1286 [==============================] - 67s 52ms/step - loss: 1.8220\n",
      "Epoch 32/100\n",
      "1286/1286 [==============================] - 67s 52ms/step - loss: 1.8229\n",
      "Epoch 33/100\n",
      "1286/1286 [==============================] - 67s 52ms/step - loss: 1.8848\n",
      "Epoch 34/100\n",
      "1286/1286 [==============================] - 67s 52ms/step - loss: 1.8854\n",
      "Epoch 35/100\n",
      "1286/1286 [==============================] - 67s 52ms/step - loss: 2.6301\n",
      "Epoch 36/100\n",
      "1286/1286 [==============================] - 67s 52ms/step - loss: 2.5165\n",
      "Epoch 37/100\n",
      "1286/1286 [==============================] - 67s 52ms/step - loss: 2.4995\n",
      "Epoch 38/100\n",
      "1286/1286 [==============================] - 67s 52ms/step - loss: 2.4712\n",
      "Epoch 39/100\n",
      "1286/1286 [==============================] - 67s 52ms/step - loss: 2.4710\n",
      "Epoch 40/100\n",
      "1286/1286 [==============================] - 67s 52ms/step - loss: 2.4426\n",
      "Epoch 41/100\n",
      "1286/1286 [==============================] - 67s 52ms/step - loss: 2.3995\n",
      "Epoch 42/100\n",
      "1286/1286 [==============================] - 67s 52ms/step - loss: 2.3461\n",
      "Epoch 43/100\n",
      "1286/1286 [==============================] - 67s 52ms/step - loss: 2.2792\n",
      "Epoch 44/100\n",
      " 736/1286 [================>.............] - ETA: 29s - loss: 2.2253"
     ]
    }
   ],
   "source": [
    "history = model.fit(dataset, epochs=EPOCHS, callbacks=[checkpoint_callback])"
   ]
  },
  {
   "cell_type": "code",
   "execution_count": 0,
   "metadata": {
    "colab": {},
    "colab_type": "code",
    "id": "fQqxn7kPEMMY"
   },
   "outputs": [],
   "source": [
    "tf.train.latest_checkpoint(checkpoint_dir)\n",
    "#!rm -rf training_checkpoints"
   ]
  },
  {
   "cell_type": "code",
   "execution_count": 0,
   "metadata": {
    "colab": {},
    "colab_type": "code",
    "id": "iLFflmtLEMd_"
   },
   "outputs": [],
   "source": [
    "model = build_model(vocab_size, embedding_dim, rnn_units, batch_size=1)\n",
    "\n",
    "model.load_weights(tf.train.latest_checkpoint(checkpoint_dir))\n",
    "\n",
    "model.build(tf.TensorShape([1, None]))\n"
   ]
  },
  {
   "cell_type": "code",
   "execution_count": 0,
   "metadata": {
    "colab": {},
    "colab_type": "code",
    "id": "Kkhyom9yxp7t"
   },
   "outputs": [],
   "source": [
    "# def generate_text(model, start_string, num_generate):\n",
    "#   # Evaluation step (generating text using the learned model)\n",
    "\n",
    "#   # Converting our start string to numbers (vectorizing)\n",
    "#   input_eval = [char2idx[s] for s in start_string]\n",
    "#   input_eval = tf.expand_dims(input_eval, 0)\n",
    "\n",
    "#   # Empty string to store our results\n",
    "#   text_generated = []\n",
    "\n",
    "#   # Low temperatures results in more predictable text.\n",
    "#   # Higher temperatures results in more surprising text.\n",
    "#   # Experiment to find the best setting.\n",
    "#   temperature = 1.0\n",
    "\n",
    "#   # Here batch size == 1\n",
    "#   model.reset_states()\n",
    "#   for i in range(num_generate):\n",
    "#       predictions = model(input_eval)\n",
    "#       # remove the batch dimension\n",
    "#       predictions = tf.squeeze(predictions, 0)\n",
    "\n",
    "#       # using a categorical distribution to predict the character returned by the model\n",
    "#       predictions = predictions / temperature\n",
    "#       predicted_id = tf.random.categorical(predictions, num_samples=1)[-1,0].numpy()\n",
    "\n",
    "#       # We pass the predicted character as the next input to the model\n",
    "#       # along with the previous hidden state\n",
    "#       input_eval = tf.expand_dims([predicted_id], 0)\n",
    "\n",
    "#       text_generated.append(idx2char[predicted_id])\n",
    "\n",
    "#   return (start_string + ''.join(text_generated))\n",
    "\n",
    "# print(generate_text(x, start_string=u\"በ\", num_generate=4))\n"
   ]
  },
  {
   "cell_type": "markdown",
   "metadata": {
    "colab_type": "text",
    "id": "Si84xyZeltNU"
   },
   "source": []
  },
  {
   "cell_type": "code",
   "execution_count": 0,
   "metadata": {
    "colab": {},
    "colab_type": "code",
    "id": "sEzOOfTHmSbB"
   },
   "outputs": [],
   "source": [
    "!rm -rf char_model\n",
    "model.save(\"char_model\")\n",
    "!tar -zcvf char_model.tar.gz char_model\n",
    "\n",
    "from google.colab import files\n",
    "files.download('char_model.tar.gz')"
   ]
  },
  {
   "cell_type": "code",
   "execution_count": 111,
   "metadata": {
    "colab": {
     "base_uri": "https://localhost:8080/",
     "height": 136
    },
    "colab_type": "code",
    "id": "aPcUh6JLmclF",
    "outputId": "d6c8f366-7678-4660-a168-9fd4cab8445b"
   },
   "outputs": [
    {
     "name": "stdout",
     "output_type": "stream",
     "text": [
      "model/\n",
      "model/assets/\n",
      "model/saved_model.pb\n",
      "model/variables/\n",
      "model/variables/variables.data-00001-of-00002\n",
      "model/variables/variables.index\n",
      "model/variables/variables.data-00000-of-00002\n"
     ]
    }
   ],
   "source": []
  },
  {
   "cell_type": "code",
   "execution_count": 109,
   "metadata": {
    "colab": {
     "base_uri": "https://localhost:8080/",
     "height": 34
    },
    "colab_type": "code",
    "id": "JJgr99oXiY7g",
    "outputId": "9d28f654-cade-4233-89e0-c24a4fadc702"
   },
   "outputs": [
    {
     "name": "stdout",
     "output_type": "stream",
     "text": [
      "ቃቁኋ\n"
     ]
    }
   ],
   "source": [
    "start_string = \"በ\"\n",
    "temperature = 1.0\n",
    "num_generate = 1\n",
    "input_eval = [char2idx[s] for s in start_string]\n",
    "input_eval = tf.expand_dims(input_eval, 0)\n",
    "\n",
    "model.reset_states()\n",
    "predictions = model(input_eval)\n",
    "predictions = tf.squeeze(predictions, 0)\n",
    "predictions = predictions / temperature\n",
    "\n",
    "predicted_id = np.argsort(predictions)[0, -3:]\n",
    "predicted_id\n",
    "print(\"\".join(idx2char[predicted_id]))"
   ]
  },
  {
   "cell_type": "code",
   "execution_count": 83,
   "metadata": {
    "colab": {
     "base_uri": "https://localhost:8080/",
     "height": 54
    },
    "colab_type": "code",
    "id": "5Tdq0wQ7iZJc",
    "outputId": "19accde4-a42b-423c-fd54-73e806e92c0a"
   },
   "outputs": [
    {
     "data": {
      "text/plain": [
       "'ዎ \\n”\\xa0‘»)ናቭ!\"’ቌሼ፦′ኗንGב/ኑኧ-ኄkሖዬ\\uf035̈ኻנh́_&ፏፎ̧j¬ፉ\\uf038\\uf020ነጪጇኚ\\uf034ኝ+ሻu￼ኼፒጬዜ@Ñsሑኳምח\\uf031ሴ—ች\\uf037*ኖזፍዋኜ]\\uf033ሒz÷ጅጂዉ¾ኒዤፑጙX\\uf032\\u2060דעêህVዒNmJሃ\\uf039ፋØ\\'\\x9d#ኹዱጹጄאኆÓኙ\\uf036ቊዊጁptR‹ዷጱጿጲnሽኸק…=qoZ:DጶቫዽቩyኽቐŸ̃ሟ`ጯA¡Tዲፂ0Fዮªዔሷ፸ያጆቪr}\\x81ቮO;lዶÏኦቼቨሤድeMጼÁቺיኰ>וፕBצ፯ሞKሔዪÍלשቢዖ“Hi›፩ƒዣሱIዐጩኾS¨ኛዥEስዠሢvደጧ፥\\ufeffLQቿY(ፃa8ጋጳሎኡኺ$ይጐዴቸጻዌልጭ^ኁቻጾጢbሾתከጸሳ፫w%ዝቾ×ክ[፶ጨሓውፌWf፬ፄጮgርዢሄኪ5<ሂPሸጵሿ©ጉኅዑቹበ፪፷ኘ፻U,3ፈኔ፳ሊሹዳሐx?ካጓጽፐሉ9ኬቲሮጴሡለሁቬየcd፮ጤሶጰጌዩፅ፴ጠሲCፁሪሀፓሜ7ኮኤፔቦኞፀ፱ዕ6፲ጎግማጡሠ4ጃዟ፡ዡ«ታገወሆጫ፰ጊሏ2ጥቶኟሦሥቆ፹ፆሣኩሙጺቱቅ፣ዘዞሬሺፊጦባፖብ፭ላኀቤቷጀዦአ፵ሕሌእቴቀ1ቄኣዓጣቂራረዙቡ።፤ተቧሩሯኃዛ.ኢሰ፺ቋሚመትዚቃቁኋ'"
      ]
     },
     "execution_count": 83,
     "metadata": {
      "tags": []
     },
     "output_type": "execute_result"
    }
   ],
   "source": [
    " model.reset_states()\n",
    "predictions = model(input_eval)\n",
    "predictions = tf.squeeze(predictions, 0)\n",
    "predictions\n",
    "#tf.random.categorical(predictions, num_samples=1)[-1,0].numpy()\n",
    "pred_ids = tf.argsort(predictions).numpy()\n",
    "\"\".join(idx2char[pred_ids[0]])"
   ]
  },
  {
   "cell_type": "code",
   "execution_count": 82,
   "metadata": {
    "colab": {
     "base_uri": "https://localhost:8080/",
     "height": 1000
    },
    "colab_type": "code",
    "id": "PjJZ162yiZHZ",
    "outputId": "85d59bb8-ee21-41db-ef59-12be8ec1d5ce"
   },
   "outputs": [
    {
     "data": {
      "text/plain": [
       "array([-4.43266106e+00, -4.45042610e+00, -2.47942710e+00, -2.41254807e+00,\n",
       "       -7.67365634e-01,  6.74478114e-02,  2.08724096e-01, -1.31721056e+00,\n",
       "       -7.77756095e-01,  1.17902607e-02, -2.92985010e+00, -9.77099717e-01,\n",
       "       -1.16710937e+00,  4.13990587e-01, -1.62699938e+00,  2.19381833e+00,\n",
       "       -1.66038346e+00, -4.08759475e-01,  1.65054584e+00,  1.01426339e+00,\n",
       "        4.15807396e-01,  8.95875454e-01,  3.13411653e-01,  8.16473126e-01,\n",
       "        7.47952998e-01,  3.06870155e-02,  5.12327909e-01, -5.37239552e-01,\n",
       "       -3.50599825e-01,  3.14085543e-01, -5.48883498e-01, -2.49892622e-01,\n",
       "        4.90262806e-01, -1.08195901e+00, -4.29478854e-01, -2.43841708e-01,\n",
       "        6.81038558e-01, -5.17008364e-01, -7.08252490e-02, -4.04450148e-01,\n",
       "       -1.69954181e+00, -1.70376465e-01, -1.34267777e-01, -7.97093570e-01,\n",
       "       -2.21413478e-01, -1.68119892e-02, -2.90579498e-01, -8.33392680e-01,\n",
       "       -3.59685093e-01,  3.20138514e-01, -1.53631568e-02, -6.47049069e-01,\n",
       "       -9.03016031e-02, -4.18945372e-01,  4.10858035e-01, -8.37457597e-01,\n",
       "        2.56916165e-01, -8.79440486e-01,  1.14941895e-02, -5.37878335e-01,\n",
       "        2.40820512e-01, -9.34009135e-01,  1.19042017e-01, -1.33162081e+00,\n",
       "       -4.37918574e-01,  2.03950182e-02,  1.50233358e-01,  5.94358504e-01,\n",
       "        5.95186412e-01, -2.94671535e-01,  2.62618989e-01,  2.90558517e-01,\n",
       "       -1.38535714e+00, -1.52789086e-01, -1.29288161e+00, -1.57444501e+00,\n",
       "       -3.43531579e-01, -8.19094062e-01, -5.78381419e-01, -5.38990855e-01,\n",
       "       -6.60967708e-01, -5.44355989e-01, -3.73472869e-01, -1.07584465e+00,\n",
       "       -6.53680444e-01, -1.14855599e+00, -5.19424416e-02,  1.79082930e-01,\n",
       "        4.83542740e-01, -4.59508896e-01, -9.18107450e-01, -3.72676134e-01,\n",
       "       -3.62889230e-01, -7.69580007e-01, -3.24135733e+00, -4.28065270e-01,\n",
       "       -8.93147141e-02,  3.54623377e-01, -3.99268478e-01,  9.26824093e-01,\n",
       "       -1.28930581e+00, -3.13346577e+00, -8.98709953e-01, -2.85533458e-01,\n",
       "       -1.96162909e-01, -3.41768116e-01, -1.07792747e+00, -7.39906311e-01,\n",
       "        2.18822524e-01, -7.77937531e-01, -8.48389804e-01, -9.11213338e-01,\n",
       "       -4.49481785e-01, -1.44350573e-01, -1.34635806e+00, -4.45323378e-01,\n",
       "       -1.40633500e+00, -1.31019843e+00, -7.44631052e-01, -1.69688523e+00,\n",
       "       -8.56701136e-01, -2.47085497e-01, -9.74613965e-01, -1.05215120e+00,\n",
       "       -2.61038274e-01, -1.94747567e-01, -1.38646305e+00, -8.56164813e-01,\n",
       "       -2.42584422e-01, -5.68954706e-01, -1.93093568e-01,  1.61239475e-01,\n",
       "        6.97201550e-01,  5.71760118e-01,  3.18852067e-01, -7.96702564e-01,\n",
       "        3.02345127e-01, -8.42007458e-01,  9.35048640e-01,  5.55057645e-01,\n",
       "        5.02793670e-01,  4.38155800e-01,  1.36737275e+00,  1.62056613e+00,\n",
       "        1.17047206e-01,  3.56820934e-02,  1.00041354e+00,  4.61643696e-01,\n",
       "       -1.06940162e+00, -9.19055760e-01,  2.52544701e-01, -2.18963906e-01,\n",
       "        1.61483371e+00, -1.57222831e+00,  2.38043189e+00,  1.13700557e+00,\n",
       "        2.37844849e+00,  8.74031723e-01,  7.45916188e-01, -1.06054854e+00,\n",
       "       -2.31058821e-01, -4.42532986e-01,  8.95170093e-01,  5.41663229e-01,\n",
       "       -5.22457212e-02,  1.12126136e+00, -3.26445669e-01,  1.05206013e+00,\n",
       "        1.04703403e+00,  1.79786050e+00,  2.04222918e+00,  6.96465790e-01,\n",
       "        1.79632568e+00,  1.23244023e+00,  2.94566631e-01,  5.35766363e-01,\n",
       "        2.06127977e+00,  2.23496389e+00, -1.39083371e-01,  6.80615187e-01,\n",
       "        1.68244645e-01, -1.03644121e+00, -5.99809475e-02,  6.21064901e-01,\n",
       "       -3.91968369e-01,  3.23056549e-01,  4.54658568e-01,  1.24640870e+00,\n",
       "       -1.16590571e+00, -2.19489384e+00, -5.76916754e-01,  1.58594087e-01,\n",
       "        3.48513067e-01,  1.64946759e+00,  3.43904972e+00,  1.79177094e+00,\n",
       "        3.11541533e+00,  1.70283699e+00,  1.15419102e+00,  1.05865335e+00,\n",
       "       -7.07499325e-01,  2.32725191e+00, -2.23375034e+00, -4.58593249e-01,\n",
       "        3.90587389e-01,  1.81544673e+00, -1.83325052e-01,  1.30883634e+00,\n",
       "        1.43470824e+00,  1.36242723e+00,  7.99465656e-01,  1.99136436e+00,\n",
       "       -3.26594412e-01, -4.66977954e-01, -3.75151217e-01, -5.04167736e-01,\n",
       "        5.88506162e-01, -2.53684258e+00, -3.61499369e-01,  1.99059319e+00,\n",
       "        1.13780689e+00,  5.25522351e-01,  9.28037226e-01,  1.63531947e+00,\n",
       "        2.52956176e+00,  1.03248298e+00,  1.43896067e+00,  8.82739648e-02,\n",
       "        3.82604450e-01, -2.75247633e-01,  1.27856046e-01, -3.37689996e-01,\n",
       "       -1.00346720e+00,  2.15799630e-01, -3.36188078e-03,  1.43018591e+00,\n",
       "        1.26790494e-01,  2.15858936e+00, -1.58261073e+00,  3.68530363e-01,\n",
       "       -7.41967618e-01,  3.83641768e+00, -1.23822141e+00, -1.63231921e+00,\n",
       "       -8.95724833e-01, -2.68603325e+00,  4.24098521e-01, -1.75529230e+00,\n",
       "       -9.76691544e-01, -1.89637697e+00,  4.02295500e-01, -7.24922121e-01,\n",
       "       -1.20944440e+00, -8.55738223e-02, -9.36021745e-01, -1.17201495e+00,\n",
       "        8.00902963e-01,  1.03415871e+00,  1.53173769e+00,  4.23921272e-02,\n",
       "        2.22234917e+00,  1.71001637e+00,  7.62841046e-01,  1.62800491e+00,\n",
       "       -3.39904755e-01, -1.62846112e+00,  1.64317369e-01,  1.13600123e+00,\n",
       "        3.03578317e-01,  4.91688848e-01,  5.18813789e-01,  2.28439018e-01,\n",
       "        7.49429882e-01, -2.54312307e-01, -1.06092882e+00, -5.74115813e-01,\n",
       "       -7.67101407e-01,  6.43928424e-02, -1.39841020e+00, -1.10864556e+00,\n",
       "       -4.59111780e-01, -9.72626358e-02,  9.34068263e-01, -9.00178313e-01,\n",
       "       -6.82887554e-01, -9.57896888e-01,  1.15628026e-01,  2.54575461e-01,\n",
       "       -4.71399498e+00, -1.16154425e-01,  3.78338486e-01, -8.34419549e-01,\n",
       "        1.71214783e+00, -3.94277990e-01,  8.15701246e-01, -1.81519330e-01,\n",
       "        1.22009909e+00,  1.81131685e+00,  2.90149689e+00,  2.18609476e+00,\n",
       "       -1.09025097e+00,  2.09564164e-01,  1.23206031e+00,  9.08325315e-01,\n",
       "       -5.46098799e-02,  9.26507473e-01,  3.00635606e-01, -1.43215328e-01,\n",
       "       -8.88068616e-01, -7.66711384e-02,  1.51698625e+00,  5.91665924e-01,\n",
       "        6.33471787e-01, -1.99134484e-01, -3.85732949e-01, -1.52052069e+00,\n",
       "        7.17962086e-02, -3.99673849e-01, -3.84085476e-02, -7.62521565e-01,\n",
       "       -4.09635603e-01,  4.59811181e-01,  8.67892206e-02, -3.08631063e-01,\n",
       "       -3.41888547e-01, -6.12824738e-01, -4.82504219e-01,  1.44165242e+00,\n",
       "       -6.64223075e-01, -9.08230662e-01,  9.04244184e-01, -7.47248352e-01,\n",
       "       -9.09501076e-01, -3.84178340e-01, -1.22032440e+00,  9.29614186e-01,\n",
       "        3.58936071e-01,  9.87373888e-01,  3.31607424e-02,  6.31675184e-01,\n",
       "        8.73790622e-01,  8.67725432e-01,  7.77654946e-02,  4.93844718e-01,\n",
       "       -8.84485185e-01,  6.74911261e-01,  8.87255847e-01,  1.39298916e-01,\n",
       "        1.73778701e+00,  6.17341697e-01,  1.02170551e+00,  1.29374373e+00,\n",
       "       -3.32766771e-02,  2.46312588e-01, -1.01092130e-01, -1.23195338e+00,\n",
       "        9.64543879e-01, -1.09495676e+00,  1.18351057e-01,  2.69676864e-01,\n",
       "       -4.30355400e-01,  6.22416675e-01, -6.08039081e-01, -5.99501491e-01,\n",
       "        3.41894701e-02,  5.36653101e-01,  3.40805709e-01, -5.05768061e-01,\n",
       "        1.67143673e-01, -7.48179674e-01,  1.13726592e+00,  1.03589498e-01,\n",
       "       -2.88047880e-01,  4.94080186e-01,  1.38724804e-01, -6.02868557e-01,\n",
       "        8.04967582e-01,  6.92205131e-01, -4.09592390e-01,  1.97491944e-02,\n",
       "        2.65053302e-01,  6.58914983e-01,  1.06152725e+00,  4.23543006e-01,\n",
       "       -1.28851771e+00,  1.29118192e+00, -7.80008852e-01,  2.54653603e-01,\n",
       "       -9.61998343e-01, -1.31181502e+00, -1.31558764e+00,  5.00824273e-01,\n",
       "       -8.87483120e-01, -1.09949136e+00,  7.13451505e-01,  7.82589138e-01,\n",
       "       -2.44643778e-01,  1.33455348e+00,  9.13496137e-01,  1.91469455e+00,\n",
       "        1.19447160e+00,  1.91950274e+00, -2.80471668e-02, -2.05542660e+00,\n",
       "       -1.44406438e-01,  3.92346144e-01,  1.72666460e-01,  2.64902592e-01,\n",
       "        1.36288023e+00,  6.09170914e-01, -2.35375270e-01,  9.83041346e-01,\n",
       "        8.10762107e-01,  8.24832737e-01,  4.26399887e-01,  6.63731933e-01,\n",
       "        1.56489491e+00,  2.44995132e-01,  4.00918961e-01, -3.89636636e-01,\n",
       "        1.06111860e+00,  2.31827497e+00,  4.09278840e-01, -1.01213729e+00,\n",
       "       -3.23412251e+00, -2.32609057e+00, -1.70650661e-01, -3.84817529e+00,\n",
       "       -5.65756500e-01, -1.98392427e+00, -6.36310518e-01, -1.51976079e-01,\n",
       "       -8.67518902e-01, -1.24665344e+00, -1.04498601e+00, -8.68274152e-01,\n",
       "       -9.22419667e-01, -1.19942510e+00, -1.46139336e+00, -7.18557596e-01,\n",
       "       -9.93817627e-01, -1.28845215e+00, -7.91440964e-01, -2.79987417e-02,\n",
       "       -1.11309397e+00], dtype=float32)"
      ]
     },
     "execution_count": 82,
     "metadata": {
      "tags": []
     },
     "output_type": "execute_result"
    }
   ],
   "source": [
    "pred_ids[0]"
   ]
  },
  {
   "cell_type": "code",
   "execution_count": 0,
   "metadata": {
    "colab": {},
    "colab_type": "code",
    "id": "72KCBS5iE-o7"
   },
   "outputs": [],
   "source": [
    "from google.colab import files\n",
    "\n",
    "files.download('example.txt')"
   ]
  },
  {
   "cell_type": "code",
   "execution_count": 41,
   "metadata": {
    "colab": {
     "base_uri": "https://localhost:8080/",
     "height": 1000
    },
    "colab_type": "code",
    "id": "WkT8fi9QFOQD",
    "outputId": "00ba99e9-a36f-48d4-a0f8-224654eac797"
   },
   "outputs": [
    {
     "name": "stdout",
     "output_type": "stream",
     "text": [
      "  adding: training_checkpoints/checkpoint.gz (stored 0%)\n",
      "  adding: training_checkpoints/ckpt_10.data-00000-of-00002.gz (deflated 0%)\n",
      "  adding: training_checkpoints/ckpt_10.data-00001-of-00002.gz (deflated 0%)\n",
      "  adding: training_checkpoints/ckpt_10.index.gz (stored 0%)\n",
      "  adding: training_checkpoints/ckpt_11.data-00000-of-00002.gz (deflated 0%)\n",
      "  adding: training_checkpoints/ckpt_11.data-00001-of-00002 (deflated 8%)\n",
      "  adding: training_checkpoints/ckpt_11.index (deflated 62%)\n",
      "  adding: training_checkpoints/ckpt_12.data-00000-of-00002 (deflated 7%)\n",
      "  adding: training_checkpoints/ckpt_12.data-00001-of-00002 (deflated 8%)\n",
      "  adding: training_checkpoints/ckpt_12.index (deflated 62%)\n",
      "  adding: training_checkpoints/ckpt_13.data-00000-of-00002 (deflated 8%)\n",
      "  adding: training_checkpoints/ckpt_13.data-00001-of-00002 (deflated 8%)\n",
      "  adding: training_checkpoints/ckpt_13.index (deflated 62%)\n",
      "  adding: training_checkpoints/ckpt_14.data-00000-of-00002 (deflated 8%)\n",
      "  adding: training_checkpoints/ckpt_14.data-00001-of-00002 (deflated 8%)\n",
      "  adding: training_checkpoints/ckpt_14.index (deflated 62%)\n",
      "  adding: training_checkpoints/ckpt_15.data-00000-of-00002 (deflated 8%)\n",
      "  adding: training_checkpoints/ckpt_15.data-00001-of-00002 (deflated 8%)\n",
      "  adding: training_checkpoints/ckpt_15.index (deflated 62%)\n",
      "  adding: training_checkpoints/ckpt_16.data-00000-of-00002 (deflated 8%)\n",
      "  adding: training_checkpoints/ckpt_16.data-00001-of-00002 (deflated 8%)\n",
      "  adding: training_checkpoints/ckpt_16.index (deflated 62%)\n",
      "  adding: training_checkpoints/ckpt_17.data-00000-of-00002 (deflated 8%)\n",
      "  adding: training_checkpoints/ckpt_17.data-00001-of-00002 (deflated 8%)\n",
      "  adding: training_checkpoints/ckpt_17.index (deflated 62%)\n",
      "  adding: training_checkpoints/ckpt_18.data-00000-of-00002 (deflated 8%)\n",
      "  adding: training_checkpoints/ckpt_18.data-00001-of-00002 (deflated 8%)\n",
      "  adding: training_checkpoints/ckpt_18.index (deflated 62%)\n",
      "  adding: training_checkpoints/ckpt_19.data-00000-of-00002 (deflated 8%)\n",
      "  adding: training_checkpoints/ckpt_19.data-00001-of-00002 (deflated 8%)\n",
      "  adding: training_checkpoints/ckpt_19.index (deflated 62%)\n",
      "  adding: training_checkpoints/ckpt_1.data-00000-of-00002 (deflated 7%)\n",
      "  adding: training_checkpoints/ckpt_1.data-00001-of-00002 (deflated 8%)\n",
      "  adding: training_checkpoints/ckpt_1.index (deflated 62%)\n",
      "  adding: training_checkpoints/ckpt_20.data-00000-of-00002 (deflated 8%)\n",
      "  adding: training_checkpoints/ckpt_20.data-00001-of-00002 (deflated 8%)\n",
      "  adding: training_checkpoints/ckpt_20.index (deflated 62%)\n",
      "  adding: training_checkpoints/ckpt_21.data-00000-of-00002 (deflated 8%)\n",
      "  adding: training_checkpoints/ckpt_21.data-00001-of-00002 (deflated 8%)\n",
      "  adding: training_checkpoints/ckpt_21.index (deflated 62%)\n",
      "  adding: training_checkpoints/ckpt_22.data-00000-of-00002 (deflated 8%)\n",
      "  adding: training_checkpoints/ckpt_22.data-00001-of-00002 (deflated 8%)\n",
      "  adding: training_checkpoints/ckpt_22.index (deflated 62%)\n",
      "  adding: training_checkpoints/ckpt_23.data-00000-of-00002 (deflated 8%)\n",
      "  adding: training_checkpoints/ckpt_23.data-00001-of-00002 (deflated 8%)\n",
      "  adding: training_checkpoints/ckpt_23.index (deflated 62%)\n",
      "  adding: training_checkpoints/ckpt_24.data-00000-of-00002 (deflated 8%)\n",
      "  adding: training_checkpoints/ckpt_24.data-00001-of-00002 (deflated 8%)\n",
      "  adding: training_checkpoints/ckpt_24.index (deflated 62%)\n",
      "  adding: training_checkpoints/ckpt_25.data-00000-of-00002 (deflated 8%)\n",
      "  adding: training_checkpoints/ckpt_25.data-00001-of-00002 (deflated 8%)\n",
      "  adding: training_checkpoints/ckpt_25.index (deflated 62%)\n",
      "  adding: training_checkpoints/ckpt_26.data-00000-of-00002 (deflated 7%)\n",
      "  adding: training_checkpoints/ckpt_26.data-00001-of-00002 (deflated 8%)\n",
      "  adding: training_checkpoints/ckpt_26.index (deflated 62%)\n",
      "  adding: training_checkpoints/ckpt_27.data-00000-of-00002 (deflated 8%)\n",
      "  adding: training_checkpoints/ckpt_27.data-00001-of-00002 (deflated 8%)\n",
      "  adding: training_checkpoints/ckpt_27.index (deflated 62%)\n",
      "  adding: training_checkpoints/ckpt_28.data-00000-of-00002 (deflated 8%)\n",
      "  adding: training_checkpoints/ckpt_28.data-00001-of-00002 (deflated 8%)\n",
      "  adding: training_checkpoints/ckpt_28.index (deflated 62%)\n",
      "  adding: training_checkpoints/ckpt_29.data-00000-of-00002 (deflated 8%)\n",
      "  adding: training_checkpoints/ckpt_29.data-00001-of-00002 (deflated 8%)\n",
      "  adding: training_checkpoints/ckpt_29.index (deflated 62%)\n",
      "  adding: training_checkpoints/ckpt_2.data-00000-of-00002 (deflated 8%)\n",
      "  adding: training_checkpoints/ckpt_2.data-00001-of-00002 (deflated 8%)\n",
      "  adding: training_checkpoints/ckpt_2.index (deflated 62%)\n",
      "  adding: training_checkpoints/ckpt_30.data-00000-of-00002 (deflated 8%)\n",
      "  adding: training_checkpoints/ckpt_30.data-00001-of-00002 (deflated 8%)\n",
      "  adding: training_checkpoints/ckpt_30.index (deflated 62%)\n",
      "  adding: training_checkpoints/ckpt_3.data-00000-of-00002 (deflated 7%)\n",
      "  adding: training_checkpoints/ckpt_3.data-00001-of-00002 (deflated 8%)\n",
      "  adding: training_checkpoints/ckpt_3.index (deflated 62%)\n",
      "  adding: training_checkpoints/ckpt_4.data-00000-of-00002 (deflated 8%)\n",
      "  adding: training_checkpoints/ckpt_4.data-00001-of-00002 (deflated 8%)\n",
      "  adding: training_checkpoints/ckpt_4.index (deflated 62%)\n",
      "  adding: training_checkpoints/ckpt_5.data-00000-of-00002 (deflated 8%)\n",
      "  adding: training_checkpoints/ckpt_5.data-00001-of-00002 (deflated 8%)\n",
      "  adding: training_checkpoints/ckpt_5.index (deflated 62%)\n",
      "  adding: training_checkpoints/ckpt_6.data-00000-of-00002 (deflated 8%)\n",
      "  adding: training_checkpoints/ckpt_6.data-00001-of-00002 (deflated 8%)\n",
      "  adding: training_checkpoints/ckpt_6.index (deflated 62%)\n",
      "  adding: training_checkpoints/ckpt_7.data-00000-of-00002 (deflated 8%)\n",
      "  adding: training_checkpoints/ckpt_7.data-00001-of-00002 (deflated 8%)\n",
      "  adding: training_checkpoints/ckpt_7.index (deflated 62%)\n",
      "  adding: training_checkpoints/ckpt_8.data-00000-of-00002 (deflated 8%)\n",
      "  adding: training_checkpoints/ckpt_8.data-00001-of-00002 (deflated 8%)\n",
      "  adding: training_checkpoints/ckpt_8.index (deflated 62%)\n",
      "  adding: training_checkpoints/ckpt_9.data-00000-of-00002 (deflated 8%)\n",
      "  adding: training_checkpoints/ckpt_9.data-00001-of-00002 (deflated 8%)\n",
      "  adding: training_checkpoints/ckpt_9.index (deflated 62%)\n"
     ]
    }
   ],
   "source": [
    "!zip training_checkpoints.zip training_checkpoints/*"
   ]
  },
  {
   "cell_type": "code",
   "execution_count": 43,
   "metadata": {
    "colab": {
     "base_uri": "https://localhost:8080/",
     "height": 442
    },
    "colab_type": "code",
    "id": "kAdg_XTBFVPJ",
    "outputId": "749d734f-9544-4385-afba-89a4c5347818"
   },
   "outputs": [
    {
     "name": "stderr",
     "output_type": "stream",
     "text": [
      "----------------------------------------\n",
      "Exception happened during processing of request from ('::ffff:127.0.0.1', 37034, 0, 0)\n",
      "Traceback (most recent call last):\n",
      "  File \"/usr/lib/python3.6/socketserver.py\", line 320, in _handle_request_noblock\n",
      "    self.process_request(request, client_address)\n",
      "  File \"/usr/lib/python3.6/socketserver.py\", line 351, in process_request\n",
      "    self.finish_request(request, client_address)\n",
      "  File \"/usr/lib/python3.6/socketserver.py\", line 364, in finish_request\n",
      "    self.RequestHandlerClass(request, client_address, self)\n",
      "  File \"/usr/lib/python3.6/socketserver.py\", line 724, in __init__\n",
      "    self.handle()\n",
      "  File \"/usr/lib/python3.6/http/server.py\", line 418, in handle\n",
      "    self.handle_one_request()\n",
      "  File \"/usr/lib/python3.6/http/server.py\", line 406, in handle_one_request\n",
      "    method()\n",
      "  File \"/usr/lib/python3.6/http/server.py\", line 639, in do_GET\n",
      "    self.copyfile(f, self.wfile)\n",
      "  File \"/usr/lib/python3.6/http/server.py\", line 800, in copyfile\n",
      "    shutil.copyfileobj(source, outputfile)\n",
      "  File \"/usr/lib/python3.6/shutil.py\", line 82, in copyfileobj\n",
      "    fdst.write(buf)\n",
      "  File \"/usr/lib/python3.6/socketserver.py\", line 803, in write\n",
      "    self._sock.sendall(b)\n",
      "ConnectionResetError: [Errno 104] Connection reset by peer\n",
      "----------------------------------------\n"
     ]
    }
   ],
   "source": [
    "from google.colab import files\n",
    "\n",
    "files.download('training_checkpoints.zip')"
   ]
  },
  {
   "cell_type": "code",
   "execution_count": 39,
   "metadata": {
    "colab": {
     "base_uri": "https://localhost:8080/",
     "height": 198
    },
    "colab_type": "code",
    "id": "KqFecA1ZwxPu",
    "outputId": "87c390e4-1791-4f4a-87a7-dbb4f5a1efd1"
   },
   "outputs": [
    {
     "ename": "NameError",
     "evalue": "ignored",
     "output_type": "error",
     "traceback": [
      "\u001b[0;31m---------------------------------------------------------------------------\u001b[0m",
      "\u001b[0;31mNameError\u001b[0m                                 Traceback (most recent call last)",
      "\u001b[0;32m<ipython-input-39-e8435aab4ae4>\u001b[0m in \u001b[0;36m<module>\u001b[0;34m()\u001b[0m\n\u001b[1;32m      1\u001b[0m \u001b[0;32mimport\u001b[0m \u001b[0mglob\u001b[0m\u001b[0;34m\u001b[0m\u001b[0;34m\u001b[0m\u001b[0m\n\u001b[1;32m      2\u001b[0m \u001b[0;32mfor\u001b[0m \u001b[0mfile\u001b[0m \u001b[0;32min\u001b[0m \u001b[0mglob\u001b[0m\u001b[0;34m.\u001b[0m\u001b[0mglob\u001b[0m\u001b[0;34m(\u001b[0m\u001b[0;34m\"training_checkpoints/*\"\u001b[0m\u001b[0;34m)\u001b[0m\u001b[0;34m:\u001b[0m\u001b[0;34m\u001b[0m\u001b[0;34m\u001b[0m\u001b[0m\n\u001b[0;32m----> 3\u001b[0;31m   \u001b[0mfiles\u001b[0m\u001b[0;34m.\u001b[0m\u001b[0mdownload\u001b[0m\u001b[0;34m(\u001b[0m\u001b[0mfile\u001b[0m\u001b[0;34m)\u001b[0m\u001b[0;34m\u001b[0m\u001b[0;34m\u001b[0m\u001b[0m\n\u001b[0m",
      "\u001b[0;31mNameError\u001b[0m: name 'files' is not defined"
     ]
    }
   ],
   "source": [
    "from google.colab import files\n",
    "import glob\n",
    "\n",
    "for file in glob.glob(\"training_checkpoints/*\"):\n",
    "  files.download(file)"
   ]
  },
  {
   "cell_type": "code",
   "execution_count": 0,
   "metadata": {
    "colab": {
     "base_uri": "https://localhost:8080/",
     "height": 204
    },
    "colab_type": "code",
    "id": "8ZrK5seWGcJ0",
    "outputId": "97361006-25a0-4c4e-adc4-9d8e917845a5"
   },
   "outputs": [
    {
     "data": {
      "text/html": [
       "<div>\n",
       "<style scoped>\n",
       "    .dataframe tbody tr th:only-of-type {\n",
       "        vertical-align: middle;\n",
       "    }\n",
       "\n",
       "    .dataframe tbody tr th {\n",
       "        vertical-align: top;\n",
       "    }\n",
       "\n",
       "    .dataframe thead th {\n",
       "        text-align: right;\n",
       "    }\n",
       "</style>\n",
       "<table border=\"1\" class=\"dataframe\">\n",
       "  <thead>\n",
       "    <tr style=\"text-align: right;\">\n",
       "      <th></th>\n",
       "      <th>orig</th>\n",
       "      <th>trans</th>\n",
       "    </tr>\n",
       "  </thead>\n",
       "  <tbody>\n",
       "    <tr>\n",
       "      <th>0</th>\n",
       "      <td>እንዲህ ሲል ። ሁለት ሰዎች ሊጸልዩ ወደ መቅደስ ወጡ ፥ አንዱ ፈሪሳዊ ሁ...</td>\n",
       "      <td>inidihi sil . hulat sewo liseliyu wade meqdese...</td>\n",
       "    </tr>\n",
       "    <tr>\n",
       "      <th>1</th>\n",
       "      <td>እንዲህ ሲል ። ሁለት ሰዎች ሊጸልዩ ወደ መቅደስ ወጡ ፥ አንዱ ፈሪሳዊ ሁ...</td>\n",
       "      <td>'endihe sil . hulet sawotche liseliju wede maq...</td>\n",
       "    </tr>\n",
       "    <tr>\n",
       "      <th>2</th>\n",
       "      <td>እንዲህ ሲል ። ሁለት ሰዎች ሊጸልዩ ወደ መቅደስ ወጡ ፥ አንዱ ፈሪሳዊ ሁ...</td>\n",
       "      <td>`enedihe sil . huleti sawoc liseleju wada meki...</td>\n",
       "    </tr>\n",
       "    <tr>\n",
       "      <th>3</th>\n",
       "      <td>እንዲህ ሲል ። ሁለት ሰዎች ሊጸልዩ ወደ መቅደስ ወጡ ፥ አንዱ ፈሪሳዊ ሁ...</td>\n",
       "      <td>inidih sili . hulat sawoci liseleyu weda meqed...</td>\n",
       "    </tr>\n",
       "    <tr>\n",
       "      <th>4</th>\n",
       "      <td>እንዲህ ሲል ። ሁለት ሰዎች ሊጸልዩ ወደ መቅደስ ወጡ ፥ አንዱ ፈሪሳዊ ሁ...</td>\n",
       "      <td>`enidih sile . hulat sawokhi litsalju wada maq...</td>\n",
       "    </tr>\n",
       "  </tbody>\n",
       "</table>\n",
       "</div>"
      ],
      "text/plain": [
       "                                                orig                                              trans\n",
       "0  እንዲህ ሲል ። ሁለት ሰዎች ሊጸልዩ ወደ መቅደስ ወጡ ፥ አንዱ ፈሪሳዊ ሁ...  inidihi sil . hulat sewo liseliyu wade meqdese...\n",
       "1  እንዲህ ሲል ። ሁለት ሰዎች ሊጸልዩ ወደ መቅደስ ወጡ ፥ አንዱ ፈሪሳዊ ሁ...  'endihe sil . hulet sawotche liseliju wede maq...\n",
       "2  እንዲህ ሲል ። ሁለት ሰዎች ሊጸልዩ ወደ መቅደስ ወጡ ፥ አንዱ ፈሪሳዊ ሁ...  `enedihe sil . huleti sawoc liseleju wada meki...\n",
       "3  እንዲህ ሲል ። ሁለት ሰዎች ሊጸልዩ ወደ መቅደስ ወጡ ፥ አንዱ ፈሪሳዊ ሁ...  inidih sili . hulat sawoci liseleyu weda meqed...\n",
       "4  እንዲህ ሲል ። ሁለት ሰዎች ሊጸልዩ ወደ መቅደስ ወጡ ፥ አንዱ ፈሪሳዊ ሁ...  `enidih sile . hulat sawokhi litsalju wada maq..."
      ]
     },
     "execution_count": 1,
     "metadata": {
      "tags": []
     },
     "output_type": "execute_result"
    }
   ],
   "source": [
    "import pandas as pd\n",
    "\n",
    "original = open(\"raw/original.txt\").readlines()\n",
    "transliterated = open(\"raw/transliterated.txt\").readlines()\n",
    "\n",
    "sentences = pd.DataFrame({\n",
    "    'orig': original,\n",
    "    'trans': transliterated\n",
    "})\n",
    "sentences.head()"
   ]
  },
  {
   "cell_type": "code",
   "execution_count": 0,
   "metadata": {
    "colab": {
     "base_uri": "https://localhost:8080/",
     "height": 51
    },
    "colab_type": "code",
    "id": "eviPJFoCGcJ6",
    "outputId": "69eb38d0-1ca1-4f58-d3d4-a3710707815d"
   },
   "outputs": [
    {
     "name": "stdout",
     "output_type": "stream",
     "text": [
      "Training on (303760, 2)\n",
      "Testing on (5000, 2)\n"
     ]
    }
   ],
   "source": [
    "from sklearn.model_selection import train_test_split\n",
    "\n",
    "train, test = train_test_split(sentences, test_size=5000)\n",
    "\n",
    "print(\"Training on\", train.shape)\n",
    "print(\"Testing on\", test.shape)\n",
    "\n",
    "!mkdir -p data\n",
    "\n",
    "# Save as training\n",
    "train.trans.to_csv(\"data/src-train.txt\", header=False, index=False)\n",
    "train.orig.to_csv(\"data/tgt-train.txt\", header=False, index=False)\n",
    "\n",
    "# Save as testing\n",
    "test.trans.to_csv(\"data/src-val.txt\", header=False, index=False)\n",
    "test.orig.to_csv(\"data/tgt-val.txt\", header=False, index=False)"
   ]
  },
  {
   "cell_type": "code",
   "execution_count": 0,
   "metadata": {
    "colab": {
     "base_uri": "https://localhost:8080/",
     "height": 255
    },
    "colab_type": "code",
    "id": "SQVlDeyoGcJ-",
    "outputId": "e793e8da-b267-4133-df6a-438dd5c4d684"
   },
   "outputs": [
    {
     "data": {
      "text/html": [
       "<div>\n",
       "<style scoped>\n",
       "    .dataframe tbody tr th:only-of-type {\n",
       "        vertical-align: middle;\n",
       "    }\n",
       "\n",
       "    .dataframe tbody tr th {\n",
       "        vertical-align: top;\n",
       "    }\n",
       "\n",
       "    .dataframe thead th {\n",
       "        text-align: right;\n",
       "    }\n",
       "</style>\n",
       "<table border=\"1\" class=\"dataframe\">\n",
       "  <thead>\n",
       "    <tr style=\"text-align: right;\">\n",
       "      <th></th>\n",
       "      <th>orig</th>\n",
       "      <th>trans</th>\n",
       "    </tr>\n",
       "  </thead>\n",
       "  <tbody>\n",
       "    <tr>\n",
       "      <th>251677</th>\n",
       "      <td>ኢየሱስም ። እውነት እውነት እላችኋለሁ ፥ አብርሃም ሳይወለድ እኔ አለሁ ...</td>\n",
       "      <td>`ijasusme . 'eweneti iwnat `elacehualehu : 'ab...</td>\n",
       "    </tr>\n",
       "    <tr>\n",
       "      <th>230550</th>\n",
       "      <td>አባቱን ወይም እናቱን አያከብርም ትላላችሁ ፤ ስለ ወጋችሁም የእግዚአብሔር...</td>\n",
       "      <td>abatune wejeme ina'tun ajakebirm tlalacihu ; s...</td>\n",
       "    </tr>\n",
       "    <tr>\n",
       "      <th>217602</th>\n",
       "      <td>በምን ዓይነትም ሞት ይሞት ዘንድ እንዳለው ሲያመለክታቸው ይህን ተናገረ ።\\n</td>\n",
       "      <td>bamine 'ajenetim mote ymoti zendi `enidalawe s...</td>\n",
       "    </tr>\n",
       "    <tr>\n",
       "      <th>245314</th>\n",
       "      <td>ሌሎች ። እርሱ ነው አሉ ፤ ሌሎች ። አይደለም እርሱን ይመስላል እንጂ አ...</td>\n",
       "      <td>lelwoci . `eresu newe alu ; leloce . ajedalem ...</td>\n",
       "    </tr>\n",
       "    <tr>\n",
       "      <th>132727</th>\n",
       "      <td>ከኤፊቆሮስ ወገንና ኢስጦኢኮችም ከተባሉት ፈላስፎች አንዳንዶቹ ከእርሱ ጋር...</td>\n",
       "      <td>ceefikoros wegenena isto'ikwochime katabalut f...</td>\n",
       "    </tr>\n",
       "  </tbody>\n",
       "</table>\n",
       "</div>"
      ],
      "text/plain": [
       "                                                     orig                                              trans\n",
       "251677  ኢየሱስም ። እውነት እውነት እላችኋለሁ ፥ አብርሃም ሳይወለድ እኔ አለሁ ...  `ijasusme . 'eweneti iwnat `elacehualehu : 'ab...\n",
       "230550  አባቱን ወይም እናቱን አያከብርም ትላላችሁ ፤ ስለ ወጋችሁም የእግዚአብሔር...  abatune wejeme ina'tun ajakebirm tlalacihu ; s...\n",
       "217602   በምን ዓይነትም ሞት ይሞት ዘንድ እንዳለው ሲያመለክታቸው ይህን ተናገረ ።\\n  bamine 'ajenetim mote ymoti zendi `enidalawe s...\n",
       "245314  ሌሎች ። እርሱ ነው አሉ ፤ ሌሎች ። አይደለም እርሱን ይመስላል እንጂ አ...  lelwoci . `eresu newe alu ; leloce . ajedalem ...\n",
       "132727  ከኤፊቆሮስ ወገንና ኢስጦኢኮችም ከተባሉት ፈላስፎች አንዳንዶቹ ከእርሱ ጋር...  ceefikoros wegenena isto'ikwochime katabalut f..."
      ]
     },
     "execution_count": 3,
     "metadata": {
      "tags": []
     },
     "output_type": "execute_result"
    }
   ],
   "source": [
    "train.head()"
   ]
  },
  {
   "cell_type": "markdown",
   "metadata": {
    "colab_type": "text",
    "id": "vddS6dk1GcKP"
   },
   "source": [
    "# Data setup\n",
    "\n",
    "Following quickstart instructions from https://github.com/OpenNMT/OpenNMT-py#quickstart."
   ]
  },
  {
   "cell_type": "markdown",
   "metadata": {
    "colab_type": "text",
    "id": "bNr6kIaNGcKQ"
   },
   "source": [
    "## Training\n",
    "\n",
    "I'm just using the terminal commands because the Python bindings were just Too Much Work."
   ]
  },
  {
   "cell_type": "code",
   "execution_count": 0,
   "metadata": {
    "colab": {
     "base_uri": "https://localhost:8080/",
     "height": 1000
    },
    "colab_type": "code",
    "id": "cd9tQuMjGcKR",
    "outputId": "de797c45-86ba-404b-c101-6b8aa2c9e725"
   },
   "outputs": [
    {
     "name": "stdout",
     "output_type": "stream",
     "text": [
      "Collecting OpenNMT-py\n",
      "\u001b[?25l  Downloading https://files.pythonhosted.org/packages/7e/c7/b3d9bf9a6a681b10c00aa897650f79d4e7ad8a80317c5cddb6a3ef43540c/OpenNMT_py-1.1.1-py3-none-any.whl (189kB)\n",
      "\u001b[K     |████████████████████████████████| 194kB 2.8MB/s \n",
      "\u001b[?25hRequirement already satisfied: six in /usr/local/lib/python3.6/dist-packages (from OpenNMT-py) (1.12.0)\n",
      "Collecting tqdm~=4.30.0\n",
      "\u001b[?25l  Downloading https://files.pythonhosted.org/packages/76/4c/103a4d3415dafc1ddfe6a6624333971756e2d3dd8c6dc0f520152855f040/tqdm-4.30.0-py2.py3-none-any.whl (47kB)\n",
      "\u001b[K     |████████████████████████████████| 51kB 5.8MB/s \n",
      "\u001b[?25hRequirement already satisfied: pyyaml in /usr/local/lib/python3.6/dist-packages (from OpenNMT-py) (3.13)\n",
      "Requirement already satisfied: torch>=1.4.0 in /usr/local/lib/python3.6/dist-packages (from OpenNMT-py) (1.4.0)\n",
      "Requirement already satisfied: flask in /usr/local/lib/python3.6/dist-packages (from OpenNMT-py) (1.1.2)\n",
      "Requirement already satisfied: tensorboard>=1.14 in /usr/local/lib/python3.6/dist-packages (from OpenNMT-py) (2.2.1)\n",
      "Collecting waitress\n",
      "\u001b[?25l  Downloading https://files.pythonhosted.org/packages/a8/ca/ede3ed29723ca944f6e77bd1d7b38c271dd801c7d6a11ab6037597e4fd5b/waitress-1.4.3-py2.py3-none-any.whl (148kB)\n",
      "\u001b[K     |████████████████████████████████| 153kB 43.7MB/s \n",
      "\u001b[?25hCollecting configargparse\n",
      "\u001b[?25l  Downloading https://files.pythonhosted.org/packages/bb/79/3045743bb26ca2e44a1d317c37395462bfed82dbbd38e69a3280b63696ce/ConfigArgParse-1.2.3.tar.gz (42kB)\n",
      "\u001b[K     |████████████████████████████████| 51kB 6.7MB/s \n",
      "\u001b[?25hCollecting torchtext==0.4.0\n",
      "\u001b[?25l  Downloading https://files.pythonhosted.org/packages/43/94/929d6bd236a4fb5c435982a7eb9730b78dcd8659acf328fd2ef9de85f483/torchtext-0.4.0-py3-none-any.whl (53kB)\n",
      "\u001b[K     |████████████████████████████████| 61kB 7.6MB/s \n",
      "\u001b[?25hCollecting pyonmttok==1.*; platform_system == \"Linux\"\n",
      "\u001b[?25l  Downloading https://files.pythonhosted.org/packages/08/20/3c57198ffe690b580fbf23d33d5000eb411862e60e4bb6853b61dc989187/pyonmttok-1.18.3-cp36-cp36m-manylinux1_x86_64.whl (2.2MB)\n",
      "\u001b[K     |████████████████████████████████| 2.2MB 38.3MB/s \n",
      "\u001b[?25hRequirement already satisfied: future in /usr/local/lib/python3.6/dist-packages (from OpenNMT-py) (0.16.0)\n",
      "Requirement already satisfied: Werkzeug>=0.15 in /usr/local/lib/python3.6/dist-packages (from flask->OpenNMT-py) (1.0.1)\n",
      "Requirement already satisfied: itsdangerous>=0.24 in /usr/local/lib/python3.6/dist-packages (from flask->OpenNMT-py) (1.1.0)\n",
      "Requirement already satisfied: click>=5.1 in /usr/local/lib/python3.6/dist-packages (from flask->OpenNMT-py) (7.1.1)\n",
      "Requirement already satisfied: Jinja2>=2.10.1 in /usr/local/lib/python3.6/dist-packages (from flask->OpenNMT-py) (2.11.2)\n",
      "Requirement already satisfied: wheel>=0.26; python_version >= \"3\" in /usr/local/lib/python3.6/dist-packages (from tensorboard>=1.14->OpenNMT-py) (0.34.2)\n",
      "Requirement already satisfied: grpcio>=1.24.3 in /usr/local/lib/python3.6/dist-packages (from tensorboard>=1.14->OpenNMT-py) (1.28.1)\n",
      "Requirement already satisfied: requests<3,>=2.21.0 in /usr/local/lib/python3.6/dist-packages (from tensorboard>=1.14->OpenNMT-py) (2.21.0)\n",
      "Requirement already satisfied: tensorboard-plugin-wit>=1.6.0 in /usr/local/lib/python3.6/dist-packages (from tensorboard>=1.14->OpenNMT-py) (1.6.0.post3)\n",
      "Requirement already satisfied: numpy>=1.12.0 in /usr/local/lib/python3.6/dist-packages (from tensorboard>=1.14->OpenNMT-py) (1.18.3)\n",
      "Requirement already satisfied: absl-py>=0.4 in /usr/local/lib/python3.6/dist-packages (from tensorboard>=1.14->OpenNMT-py) (0.9.0)\n",
      "Requirement already satisfied: markdown>=2.6.8 in /usr/local/lib/python3.6/dist-packages (from tensorboard>=1.14->OpenNMT-py) (3.2.1)\n",
      "Requirement already satisfied: protobuf>=3.6.0 in /usr/local/lib/python3.6/dist-packages (from tensorboard>=1.14->OpenNMT-py) (3.10.0)\n",
      "Requirement already satisfied: google-auth<2,>=1.6.3 in /usr/local/lib/python3.6/dist-packages (from tensorboard>=1.14->OpenNMT-py) (1.7.2)\n",
      "Requirement already satisfied: setuptools>=41.0.0 in /usr/local/lib/python3.6/dist-packages (from tensorboard>=1.14->OpenNMT-py) (46.1.3)\n",
      "Requirement already satisfied: google-auth-oauthlib<0.5,>=0.4.1 in /usr/local/lib/python3.6/dist-packages (from tensorboard>=1.14->OpenNMT-py) (0.4.1)\n",
      "Requirement already satisfied: MarkupSafe>=0.23 in /usr/local/lib/python3.6/dist-packages (from Jinja2>=2.10.1->flask->OpenNMT-py) (1.1.1)\n",
      "Requirement already satisfied: chardet<3.1.0,>=3.0.2 in /usr/local/lib/python3.6/dist-packages (from requests<3,>=2.21.0->tensorboard>=1.14->OpenNMT-py) (3.0.4)\n",
      "Requirement already satisfied: certifi>=2017.4.17 in /usr/local/lib/python3.6/dist-packages (from requests<3,>=2.21.0->tensorboard>=1.14->OpenNMT-py) (2020.4.5.1)\n",
      "Requirement already satisfied: idna<2.9,>=2.5 in /usr/local/lib/python3.6/dist-packages (from requests<3,>=2.21.0->tensorboard>=1.14->OpenNMT-py) (2.8)\n",
      "Requirement already satisfied: urllib3<1.25,>=1.21.1 in /usr/local/lib/python3.6/dist-packages (from requests<3,>=2.21.0->tensorboard>=1.14->OpenNMT-py) (1.24.3)\n",
      "Requirement already satisfied: pyasn1-modules>=0.2.1 in /usr/local/lib/python3.6/dist-packages (from google-auth<2,>=1.6.3->tensorboard>=1.14->OpenNMT-py) (0.2.8)\n",
      "Requirement already satisfied: rsa<4.1,>=3.1.4 in /usr/local/lib/python3.6/dist-packages (from google-auth<2,>=1.6.3->tensorboard>=1.14->OpenNMT-py) (4.0)\n",
      "Requirement already satisfied: cachetools<3.2,>=2.0.0 in /usr/local/lib/python3.6/dist-packages (from google-auth<2,>=1.6.3->tensorboard>=1.14->OpenNMT-py) (3.1.1)\n",
      "Requirement already satisfied: requests-oauthlib>=0.7.0 in /usr/local/lib/python3.6/dist-packages (from google-auth-oauthlib<0.5,>=0.4.1->tensorboard>=1.14->OpenNMT-py) (1.3.0)\n",
      "Requirement already satisfied: pyasn1<0.5.0,>=0.4.6 in /usr/local/lib/python3.6/dist-packages (from pyasn1-modules>=0.2.1->google-auth<2,>=1.6.3->tensorboard>=1.14->OpenNMT-py) (0.4.8)\n",
      "Requirement already satisfied: oauthlib>=3.0.0 in /usr/local/lib/python3.6/dist-packages (from requests-oauthlib>=0.7.0->google-auth-oauthlib<0.5,>=0.4.1->tensorboard>=1.14->OpenNMT-py) (3.1.0)\n",
      "Building wheels for collected packages: configargparse\n",
      "  Building wheel for configargparse (setup.py) ... \u001b[?25l\u001b[?25hdone\n",
      "  Created wheel for configargparse: filename=ConfigArgParse-1.2.3-cp36-none-any.whl size=19328 sha256=605bad888fe0b078141b03e082f1a2603ffc21b2cd8e3c378585f15c826352c1\n",
      "  Stored in directory: /root/.cache/pip/wheels/bd/d6/53/034032da9498bda2385cd50a51a289e88090b5da2d592b1fdf\n",
      "Successfully built configargparse\n",
      "\u001b[31mERROR: spacy 2.2.4 has requirement tqdm<5.0.0,>=4.38.0, but you'll have tqdm 4.30.0 which is incompatible.\u001b[0m\n",
      "Installing collected packages: tqdm, waitress, configargparse, torchtext, pyonmttok, OpenNMT-py\n",
      "  Found existing installation: tqdm 4.38.0\n",
      "    Uninstalling tqdm-4.38.0:\n",
      "      Successfully uninstalled tqdm-4.38.0\n",
      "  Found existing installation: torchtext 0.3.1\n",
      "    Uninstalling torchtext-0.3.1:\n",
      "      Successfully uninstalled torchtext-0.3.1\n",
      "Successfully installed OpenNMT-py-1.1.1 configargparse-1.2.3 pyonmttok-1.18.3 torchtext-0.4.0 tqdm-4.30.0 waitress-1.4.3\n"
     ]
    },
    {
     "data": {
      "application/vnd.colab-display-data+json": {
       "pip_warning": {
        "packages": [
         "tqdm"
        ]
       }
      }
     },
     "metadata": {
      "tags": []
     },
     "output_type": "display_data"
    }
   ],
   "source": [
    "!pip install OpenNMT-py"
   ]
  },
  {
   "cell_type": "markdown",
   "metadata": {
    "colab_type": "text",
    "id": "xhRO3mvhGcKV"
   },
   "source": [
    "## Preprocess"
   ]
  },
  {
   "cell_type": "code",
   "execution_count": 0,
   "metadata": {
    "colab": {
     "base_uri": "https://localhost:8080/",
     "height": 309
    },
    "colab_type": "code",
    "id": "8mgNJrB8GcKW",
    "outputId": "e5f36d4c-58a7-4109-81fb-cc66b0cdfab9"
   },
   "outputs": [
    {
     "name": "stdout",
     "output_type": "stream",
     "text": [
      "[2020-04-27 15:57:36,018 INFO] Extracting features...\n",
      "[2020-04-27 15:57:36,018 INFO]  * number of source features: 0.\n",
      "[2020-04-27 15:57:36,018 INFO]  * number of target features: 0.\n",
      "[2020-04-27 15:57:36,018 INFO] Building `Fields` object...\n",
      "[2020-04-27 15:57:36,018 INFO] Building & saving training data...\n",
      "[2020-04-27 15:57:36,019 WARNING] Shards for corpus train already exist, will be overwritten because `-overwrite` option is set.\n",
      "[2020-04-27 15:57:36,026 WARNING] Overwrite shards for corpus None\n",
      "[2020-04-27 15:57:37,026 INFO] Building shard 0.\n",
      "[2020-04-27 15:58:02,642 INFO]  * saving 0th train data shard to data/demo.train.0.pt.\n",
      "[2020-04-27 15:58:19,563 INFO]  * tgt vocab size: 26568.\n",
      "[2020-04-27 15:58:21,235 INFO]  * src vocab size: 50002.\n",
      "[2020-04-27 15:58:22,683 INFO] Building & saving validation data...\n",
      "[2020-04-27 15:58:22,684 WARNING] Shards for corpus valid already exist, will be overwritten because `-overwrite` option is set.\n",
      "[2020-04-27 15:58:22,693 WARNING] Overwrite shards for corpus None\n",
      "[2020-04-27 15:58:23,864 INFO] Building shard 0.\n",
      "[2020-04-27 15:58:24,108 INFO]  * saving 0th valid data shard to data/demo.valid.0.pt.\n"
     ]
    }
   ],
   "source": [
    "!onmt_preprocess \\\n",
    "    -train_src data/src-train.txt \\\n",
    "    -train_tgt data/tgt-train.txt \\\n",
    "    -valid_src data/src-val.txt \\\n",
    "    -valid_tgt data/tgt-val.txt \\\n",
    "    -save_data data/demo \\\n",
    "    -overwrite"
   ]
  },
  {
   "cell_type": "markdown",
   "metadata": {
    "colab_type": "text",
    "id": "l8iBgYnFGcKb"
   },
   "source": [
    "## Train"
   ]
  },
  {
   "cell_type": "code",
   "execution_count": 0,
   "metadata": {
    "colab": {
     "base_uri": "https://localhost:8080/",
     "height": 1000
    },
    "colab_type": "code",
    "id": "g1fZV5euGcKc",
    "outputId": "aa4cf569-6b36-41da-c83e-7e714a29d2b4"
   },
   "outputs": [
    {
     "name": "stdout",
     "output_type": "stream",
     "text": [
      "[2020-04-27 17:02:26,357 INFO]  * src vocab size = 50002\n",
      "[2020-04-27 17:02:26,375 INFO]  * tgt vocab size = 26568\n",
      "[2020-04-27 17:02:26,376 INFO] Building model...\n",
      "[2020-04-27 17:02:29,548 INFO] NMTModel(\n",
      "  (encoder): RNNEncoder(\n",
      "    (embeddings): Embeddings(\n",
      "      (make_embedding): Sequential(\n",
      "        (emb_luts): Elementwise(\n",
      "          (0): Embedding(50002, 500, padding_idx=1)\n",
      "        )\n",
      "      )\n",
      "    )\n",
      "    (rnn): LSTM(500, 500, num_layers=2, dropout=0.3)\n",
      "  )\n",
      "  (decoder): InputFeedRNNDecoder(\n",
      "    (embeddings): Embeddings(\n",
      "      (make_embedding): Sequential(\n",
      "        (emb_luts): Elementwise(\n",
      "          (0): Embedding(26568, 500, padding_idx=1)\n",
      "        )\n",
      "      )\n",
      "    )\n",
      "    (dropout): Dropout(p=0.3, inplace=False)\n",
      "    (rnn): StackedLSTM(\n",
      "      (dropout): Dropout(p=0.3, inplace=False)\n",
      "      (layers): ModuleList(\n",
      "        (0): LSTMCell(1000, 500)\n",
      "        (1): LSTMCell(500, 500)\n",
      "      )\n",
      "    )\n",
      "    (attn): GlobalAttention(\n",
      "      (linear_in): Linear(in_features=500, out_features=500, bias=False)\n",
      "      (linear_out): Linear(in_features=1000, out_features=500, bias=False)\n",
      "    )\n",
      "  )\n",
      "  (generator): Sequential(\n",
      "    (0): Linear(in_features=500, out_features=26568, bias=True)\n",
      "    (1): Cast()\n",
      "    (2): LogSoftmax()\n",
      "  )\n",
      ")\n",
      "[2020-04-27 17:02:29,549 INFO] encoder: 29009000\n",
      "[2020-04-27 17:02:29,549 INFO] decoder: 32352568\n",
      "[2020-04-27 17:02:29,549 INFO] * number of parameters: 61361568\n",
      "[2020-04-27 17:02:29,550 INFO] Starting training on GPU: [0]\n",
      "[2020-04-27 17:02:29,550 INFO] Start training loop and validate every 1000 steps...\n",
      "[2020-04-27 17:02:29,551 INFO] Loading dataset from data/demo.train.0.pt\n",
      "[2020-04-27 17:02:36,102 INFO] number of examples: 606693\n",
      "[2020-04-27 17:02:44,548 INFO] Step 50/20000; acc:  11.41; ppl: 2921462.43; xent: 14.89; lr: 1.00000; 1886/2149 tok/s;     15 sec\n",
      "[2020-04-27 17:02:50,893 INFO] Step 100/20000; acc:  11.61; ppl: 113669.18; xent: 11.64; lr: 1.00000; 5053/5568 tok/s;     21 sec\n",
      "[2020-04-27 17:02:56,951 INFO] Step 150/20000; acc:  14.20; ppl: 9392.93; xent: 9.15; lr: 1.00000; 4934/5494 tok/s;     27 sec\n",
      "[2020-04-27 17:03:03,022 INFO] Step 200/20000; acc:  16.10; ppl: 3481.68; xent: 8.16; lr: 1.00000; 4965/5503 tok/s;     33 sec\n",
      "[2020-04-27 17:03:08,248 INFO] Step 250/20000; acc:  22.05; ppl: 1240.59; xent: 7.12; lr: 1.00000; 4728/5389 tok/s;     39 sec\n",
      "[2020-04-27 17:03:13,701 INFO] Step 300/20000; acc:  21.18; ppl: 1305.10; xent: 7.17; lr: 1.00000; 4836/5458 tok/s;     44 sec\n",
      "[2020-04-27 17:03:18,776 INFO] Step 350/20000; acc:  23.11; ppl: 914.92; xent: 6.82; lr: 1.00000; 4603/5297 tok/s;     49 sec\n",
      "[2020-04-27 17:03:24,487 INFO] Step 400/20000; acc:  20.47; ppl: 1008.30; xent: 6.92; lr: 1.00000; 4884/5462 tok/s;     55 sec\n",
      "[2020-04-27 17:03:29,759 INFO] Step 450/20000; acc:  23.18; ppl: 761.69; xent: 6.64; lr: 1.00000; 4685/5329 tok/s;     60 sec\n",
      "[2020-04-27 17:03:34,618 INFO] Step 500/20000; acc:  25.65; ppl: 581.02; xent: 6.36; lr: 1.00000; 4558/5230 tok/s;     65 sec\n",
      "[2020-04-27 17:03:39,882 INFO] Step 550/20000; acc:  22.87; ppl: 831.11; xent: 6.72; lr: 1.00000; 4499/5350 tok/s;     70 sec\n",
      "[2020-04-27 17:03:45,675 INFO] Step 600/20000; acc:  21.41; ppl: 798.77; xent: 6.68; lr: 1.00000; 4983/5557 tok/s;     76 sec\n",
      "[2020-04-27 17:03:51,314 INFO] Step 650/20000; acc:  22.06; ppl: 782.23; xent: 6.66; lr: 1.00000; 4767/5387 tok/s;     82 sec\n",
      "[2020-04-27 17:03:56,770 INFO] Step 700/20000; acc:  22.99; ppl: 634.97; xent: 6.45; lr: 1.00000; 4726/5324 tok/s;     87 sec\n",
      "[2020-04-27 17:04:01,818 INFO] Step 750/20000; acc:  24.99; ppl: 545.62; xent: 6.30; lr: 1.00000; 4570/5313 tok/s;     92 sec\n",
      "[2020-04-27 17:04:07,911 INFO] Step 800/20000; acc:  20.42; ppl: 787.57; xent: 6.67; lr: 1.00000; 4990/5552 tok/s;     98 sec\n",
      "[2020-04-27 17:04:13,380 INFO] Step 850/20000; acc:  23.14; ppl: 592.18; xent: 6.38; lr: 1.00000; 4868/5488 tok/s;    104 sec\n",
      "[2020-04-27 17:04:19,046 INFO] Step 900/20000; acc:  22.59; ppl: 594.85; xent: 6.39; lr: 1.00000; 4813/5433 tok/s;    109 sec\n",
      "[2020-04-27 17:04:24,945 INFO] Step 950/20000; acc:  21.83; ppl: 627.25; xent: 6.44; lr: 1.00000; 4992/5567 tok/s;    115 sec\n",
      "[2020-04-27 17:04:30,128 INFO] Step 1000/20000; acc:  25.06; ppl: 481.48; xent: 6.18; lr: 1.00000; 4655/5368 tok/s;    121 sec\n",
      "[2020-04-27 17:04:30,128 INFO] Loading dataset from data/demo.valid.0.pt\n",
      "[2020-04-27 17:04:30,208 INFO] number of examples: 10000\n",
      "[2020-04-27 17:04:51,935 INFO] Validation perplexity: 431.494\n",
      "[2020-04-27 17:04:51,935 INFO] Validation accuracy: 25.8084\n",
      "[2020-04-27 17:04:51,935 INFO] Model is improving ppl: inf --> 431.494.\n",
      "[2020-04-27 17:04:51,935 INFO] Model is improving acc: -inf --> 25.8084.\n",
      "[2020-04-27 17:04:57,318 INFO] Step 1050/20000; acc:  24.29; ppl: 463.31; xent: 6.14; lr: 1.00000; 942/1066 tok/s;    148 sec\n",
      "[2020-04-27 17:05:02,578 INFO] Step 1100/20000; acc:  25.62; ppl: 431.60; xent: 6.07; lr: 1.00000; 4709/5378 tok/s;    153 sec\n",
      "[2020-04-27 17:05:08,443 INFO] Step 1150/20000; acc:  22.89; ppl: 552.72; xent: 6.31; lr: 1.00000; 4856/5499 tok/s;    159 sec\n",
      "[2020-04-27 17:05:14,893 INFO] Step 1200/20000; acc:  20.64; ppl: 572.91; xent: 6.35; lr: 1.00000; 5169/5745 tok/s;    165 sec\n",
      "[2020-04-27 17:05:20,441 INFO] Step 1250/20000; acc:  24.92; ppl: 446.03; xent: 6.10; lr: 1.00000; 4776/5411 tok/s;    171 sec\n",
      "[2020-04-27 17:05:27,134 INFO] Step 1300/20000; acc:  20.92; ppl: 606.94; xent: 6.41; lr: 1.00000; 5164/5700 tok/s;    178 sec\n",
      "[2020-04-27 17:05:32,786 INFO] Step 1350/20000; acc:  24.47; ppl: 405.78; xent: 6.01; lr: 1.00000; 4869/5486 tok/s;    183 sec\n",
      "[2020-04-27 17:05:38,136 INFO] Step 1400/20000; acc:  26.43; ppl: 435.60; xent: 6.08; lr: 1.00000; 4535/5308 tok/s;    189 sec\n",
      "[2020-04-27 17:05:42,781 INFO] Step 1450/20000; acc:  31.95; ppl: 223.95; xent: 5.41; lr: 1.00000; 4381/5103 tok/s;    193 sec\n",
      "[2020-04-27 17:05:47,967 INFO] Step 1500/20000; acc:  27.86; ppl: 313.96; xent: 5.75; lr: 1.00000; 4641/5286 tok/s;    198 sec\n",
      "[2020-04-27 17:05:54,022 INFO] Step 1550/20000; acc:  24.31; ppl: 408.58; xent: 6.01; lr: 1.00000; 4940/5554 tok/s;    204 sec\n",
      "[2020-04-27 17:05:59,584 INFO] Step 1600/20000; acc:  26.31; ppl: 357.88; xent: 5.88; lr: 1.00000; 4774/5386 tok/s;    210 sec\n",
      "[2020-04-27 17:06:05,492 INFO] Step 1650/20000; acc:  25.45; ppl: 364.26; xent: 5.90; lr: 1.00000; 4735/5362 tok/s;    216 sec\n",
      "[2020-04-27 17:06:10,334 INFO] Step 1700/20000; acc:  30.64; ppl: 242.34; xent: 5.49; lr: 1.00000; 4573/5234 tok/s;    221 sec\n",
      "[2020-04-27 17:06:15,759 INFO] Step 1750/20000; acc:  26.99; ppl: 303.54; xent: 5.72; lr: 1.00000; 4778/5396 tok/s;    226 sec\n",
      "[2020-04-27 17:06:21,328 INFO] Step 1800/20000; acc:  26.89; ppl: 294.22; xent: 5.68; lr: 1.00000; 4759/5377 tok/s;    232 sec\n",
      "[2020-04-27 17:06:27,020 INFO] Step 1850/20000; acc:  26.17; ppl: 343.89; xent: 5.84; lr: 1.00000; 4745/5428 tok/s;    237 sec\n",
      "[2020-04-27 17:06:33,159 INFO] Step 1900/20000; acc:  25.49; ppl: 334.11; xent: 5.81; lr: 1.00000; 4983/5514 tok/s;    244 sec\n",
      "[2020-04-27 17:06:37,273 INFO] Step 1950/20000; acc:  36.67; ppl: 137.41; xent: 4.92; lr: 1.00000; 4108/4933 tok/s;    248 sec\n",
      "[2020-04-27 17:06:43,864 INFO] Step 2000/20000; acc:  23.50; ppl: 354.53; xent: 5.87; lr: 1.00000; 4955/5598 tok/s;    254 sec\n",
      "[2020-04-27 17:06:43,864 INFO] Loading dataset from data/demo.valid.0.pt\n",
      "[2020-04-27 17:06:45,348 INFO] number of examples: 10000\n",
      "[2020-04-27 17:07:07,165 INFO] Validation perplexity: 242.522\n",
      "[2020-04-27 17:07:07,165 INFO] Validation accuracy: 28.8285\n",
      "[2020-04-27 17:07:07,165 INFO] Model is improving ppl: 431.494 --> 242.522.\n",
      "[2020-04-27 17:07:07,165 INFO] Model is improving acc: 25.8084 --> 28.8285.\n",
      "[2020-04-27 17:07:12,704 INFO] Step 2050/20000; acc:  27.73; ppl: 273.34; xent: 5.61; lr: 1.00000; 939/1056 tok/s;    283 sec\n",
      "[2020-04-27 17:07:17,340 INFO] Step 2100/20000; acc:  33.01; ppl: 171.06; xent: 5.14; lr: 1.00000; 4377/5095 tok/s;    288 sec\n",
      "[2020-04-27 17:07:23,303 INFO] Step 2150/20000; acc:  26.98; ppl: 290.46; xent: 5.67; lr: 1.00000; 4958/5495 tok/s;    294 sec\n",
      "[2020-04-27 17:07:28,601 INFO] Step 2200/20000; acc:  29.54; ppl: 213.52; xent: 5.36; lr: 1.00000; 4748/5376 tok/s;    299 sec\n",
      "[2020-04-27 17:07:34,206 INFO] Step 2250/20000; acc:  28.16; ppl: 229.93; xent: 5.44; lr: 1.00000; 4796/5409 tok/s;    305 sec\n",
      "[2020-04-27 17:07:39,118 INFO] Step 2300/20000; acc:  31.71; ppl: 179.89; xent: 5.19; lr: 1.00000; 4508/5199 tok/s;    310 sec\n",
      "[2020-04-27 17:07:45,300 INFO] Step 2350/20000; acc:  26.71; ppl: 248.34; xent: 5.51; lr: 1.00000; 4763/5385 tok/s;    316 sec\n",
      "[2020-04-27 17:07:50,288 INFO] Step 2400/20000; acc:  31.51; ppl: 174.37; xent: 5.16; lr: 1.00000; 4581/5272 tok/s;    321 sec\n",
      "[2020-04-27 17:07:55,758 INFO] Step 2450/20000; acc:  29.25; ppl: 211.23; xent: 5.35; lr: 1.00000; 4715/5372 tok/s;    326 sec\n",
      "[2020-04-27 17:08:02,193 INFO] Step 2500/20000; acc:  26.72; ppl: 246.64; xent: 5.51; lr: 1.00000; 5093/5609 tok/s;    333 sec\n",
      "[2020-04-27 17:08:08,020 INFO] Step 2550/20000; acc:  29.20; ppl: 216.47; xent: 5.38; lr: 1.00000; 4866/5426 tok/s;    338 sec\n",
      "[2020-04-27 17:08:13,912 INFO] Step 2600/20000; acc:  28.44; ppl: 240.38; xent: 5.48; lr: 1.00000; 4834/5440 tok/s;    344 sec\n",
      "[2020-04-27 17:08:20,330 INFO] Step 2650/20000; acc:  27.48; ppl: 242.58; xent: 5.49; lr: 1.00000; 5081/5609 tok/s;    351 sec\n",
      "[2020-04-27 17:08:26,867 INFO] Step 2700/20000; acc:  27.98; ppl: 232.50; xent: 5.45; lr: 1.00000; 5189/5713 tok/s;    357 sec\n",
      "[2020-04-27 17:08:33,958 INFO] Step 2750/20000; acc:  27.49; ppl: 239.37; xent: 5.48; lr: 1.00000; 4818/5508 tok/s;    364 sec\n",
      "[2020-04-27 17:08:39,010 INFO] Step 2800/20000; acc:  34.27; ppl: 125.51; xent: 4.83; lr: 1.00000; 4586/5232 tok/s;    369 sec\n",
      "[2020-04-27 17:08:44,260 INFO] Step 2850/20000; acc:  33.73; ppl: 146.44; xent: 4.99; lr: 1.00000; 4624/5307 tok/s;    375 sec\n",
      "[2020-04-27 17:08:49,993 INFO] Step 2900/20000; acc:  32.68; ppl: 146.28; xent: 4.99; lr: 1.00000; 4890/5470 tok/s;    380 sec\n",
      "[2020-04-27 17:08:55,128 INFO] Step 2950/20000; acc:  36.00; ppl: 112.12; xent: 4.72; lr: 1.00000; 4599/5247 tok/s;    386 sec\n",
      "[2020-04-27 17:08:59,525 INFO] Step 3000/20000; acc:  41.04; ppl: 73.57; xent: 4.30; lr: 1.00000; 4192/4920 tok/s;    390 sec\n",
      "[2020-04-27 17:08:59,525 INFO] Loading dataset from data/demo.valid.0.pt\n",
      "[2020-04-27 17:08:59,583 INFO] number of examples: 10000\n",
      "[2020-04-27 17:09:21,375 INFO] Validation perplexity: 103.412\n",
      "[2020-04-27 17:09:21,375 INFO] Validation accuracy: 36.4919\n",
      "[2020-04-27 17:09:21,376 INFO] Model is improving ppl: 242.522 --> 103.412.\n",
      "[2020-04-27 17:09:21,376 INFO] Model is improving acc: 28.8285 --> 36.4919.\n",
      "[2020-04-27 17:09:26,122 INFO] Step 3050/20000; acc:  39.62; ppl: 75.46; xent: 4.32; lr: 1.00000; 792/914 tok/s;    417 sec\n",
      "[2020-04-27 17:09:30,854 INFO] Step 3100/20000; acc:  38.99; ppl: 93.70; xent: 4.54; lr: 1.00000; 4386/5100 tok/s;    421 sec\n",
      "[2020-04-27 17:09:37,276 INFO] Step 3150/20000; acc:  33.68; ppl: 120.20; xent: 4.79; lr: 1.00000; 5023/5591 tok/s;    428 sec\n",
      "[2020-04-27 17:09:43,388 INFO] Step 3200/20000; acc:  34.53; ppl: 120.03; xent: 4.79; lr: 1.00000; 4861/5503 tok/s;    434 sec\n",
      "[2020-04-27 17:09:49,134 INFO] Step 3250/20000; acc:  37.03; ppl: 108.97; xent: 4.69; lr: 1.00000; 4656/5347 tok/s;    440 sec\n",
      "[2020-04-27 17:09:54,945 INFO] Step 3300/20000; acc:  37.01; ppl: 88.91; xent: 4.49; lr: 1.00000; 4759/5353 tok/s;    445 sec\n",
      "[2020-04-27 17:10:00,223 INFO] Step 3350/20000; acc:  38.95; ppl: 75.57; xent: 4.33; lr: 1.00000; 4620/5275 tok/s;    451 sec\n",
      "[2020-04-27 17:10:05,642 INFO] Step 3400/20000; acc:  39.54; ppl: 63.11; xent: 4.14; lr: 1.00000; 4630/5270 tok/s;    456 sec\n",
      "[2020-04-27 17:10:11,335 INFO] Step 3450/20000; acc:  37.23; ppl: 90.90; xent: 4.51; lr: 1.00000; 4879/5453 tok/s;    462 sec\n",
      "[2020-04-27 17:10:17,439 INFO] Step 3500/20000; acc:  37.91; ppl: 84.26; xent: 4.43; lr: 1.00000; 4792/5405 tok/s;    468 sec\n",
      "[2020-04-27 17:10:24,138 INFO] Step 3550/20000; acc:  36.77; ppl: 89.58; xent: 4.50; lr: 1.00000; 5162/5705 tok/s;    475 sec\n",
      "[2020-04-27 17:10:29,747 INFO] Step 3600/20000; acc:  40.41; ppl: 59.37; xent: 4.08; lr: 1.00000; 4815/5482 tok/s;    480 sec\n",
      "[2020-04-27 17:10:34,471 INFO] Step 3650/20000; acc:  46.09; ppl: 36.09; xent: 3.59; lr: 1.00000; 4322/5058 tok/s;    485 sec\n",
      "[2020-04-27 17:10:39,679 INFO] Step 3700/20000; acc:  43.02; ppl: 48.94; xent: 3.89; lr: 1.00000; 4719/5345 tok/s;    490 sec\n",
      "[2020-04-27 17:10:44,636 INFO] Step 3750/20000; acc:  43.39; ppl: 53.61; xent: 3.98; lr: 1.00000; 4545/5216 tok/s;    495 sec\n",
      "[2020-04-27 17:10:50,843 INFO] Step 3800/20000; acc:  40.00; ppl: 62.41; xent: 4.13; lr: 1.00000; 4970/5580 tok/s;    501 sec\n",
      "[2020-04-27 17:10:55,684 INFO] Step 3850/20000; acc:  46.93; ppl: 29.23; xent: 3.38; lr: 1.00000; 4442/5156 tok/s;    506 sec\n",
      "[2020-04-27 17:11:01,556 INFO] Step 3900/20000; acc:  41.58; ppl: 51.52; xent: 3.94; lr: 1.00000; 4872/5433 tok/s;    512 sec\n",
      "[2020-04-27 17:11:07,390 INFO] Step 3950/20000; acc:  41.34; ppl: 57.51; xent: 4.05; lr: 1.00000; 4827/5409 tok/s;    518 sec\n",
      "[2020-04-27 17:11:13,254 INFO] Step 4000/20000; acc:  43.35; ppl: 40.78; xent: 3.71; lr: 1.00000; 4868/5435 tok/s;    524 sec\n",
      "[2020-04-27 17:11:13,254 INFO] Loading dataset from data/demo.valid.0.pt\n",
      "[2020-04-27 17:11:13,319 INFO] number of examples: 10000\n",
      "[2020-04-27 17:11:35,080 INFO] Validation perplexity: 32.5556\n",
      "[2020-04-27 17:11:35,081 INFO] Validation accuracy: 46.9357\n",
      "[2020-04-27 17:11:35,081 INFO] Model is improving ppl: 103.412 --> 32.5556.\n",
      "[2020-04-27 17:11:35,081 INFO] Model is improving acc: 36.4919 --> 46.9357.\n",
      "[2020-04-27 17:11:40,788 INFO] Step 4050/20000; acc:  44.40; ppl: 38.22; xent: 3.64; lr: 1.00000; 997/1125 tok/s;    551 sec\n",
      "[2020-04-27 17:11:45,958 INFO] Step 4100/20000; acc:  46.17; ppl: 37.11; xent: 3.61; lr: 1.00000; 4629/5248 tok/s;    556 sec\n",
      "[2020-04-27 17:11:50,854 INFO] Step 4150/20000; acc:  49.09; ppl: 24.35; xent: 3.19; lr: 1.00000; 4458/5143 tok/s;    561 sec\n",
      "[2020-04-27 17:11:55,793 INFO] Step 4200/20000; acc:  48.69; ppl: 26.62; xent: 3.28; lr: 1.00000; 4445/5119 tok/s;    566 sec\n",
      "[2020-04-27 17:11:59,916 INFO] Step 4250/20000; acc:  53.17; ppl: 21.47; xent: 3.07; lr: 1.00000; 4036/4830 tok/s;    570 sec\n",
      "[2020-04-27 17:12:06,524 INFO] Step 4300/20000; acc:  43.57; ppl: 41.37; xent: 3.72; lr: 1.00000; 5095/5598 tok/s;    577 sec\n",
      "[2020-04-27 17:12:12,430 INFO] Step 4350/20000; acc:  47.86; ppl: 26.50; xent: 3.28; lr: 1.00000; 4888/5477 tok/s;    583 sec\n",
      "[2020-04-27 17:12:17,781 INFO] Step 4400/20000; acc:  49.14; ppl: 26.76; xent: 3.29; lr: 1.00000; 4541/5243 tok/s;    588 sec\n",
      "[2020-04-27 17:12:23,834 INFO] Step 4450/20000; acc:  46.15; ppl: 30.96; xent: 3.43; lr: 1.00000; 4885/5467 tok/s;    594 sec\n",
      "[2020-04-27 17:12:28,601 INFO] Step 4500/20000; acc:  49.37; ppl: 32.80; xent: 3.49; lr: 1.00000; 4377/5143 tok/s;    599 sec\n",
      "[2020-04-27 17:12:33,752 INFO] Step 4550/20000; acc:  50.30; ppl: 23.46; xent: 3.16; lr: 1.00000; 4610/5243 tok/s;    604 sec\n",
      "[2020-04-27 17:12:39,206 INFO] Step 4600/20000; acc:  50.17; ppl: 23.02; xent: 3.14; lr: 1.00000; 4706/5305 tok/s;    610 sec\n",
      "[2020-04-27 17:12:44,804 INFO] Step 4650/20000; acc:  48.60; ppl: 25.55; xent: 3.24; lr: 1.00000; 4779/5385 tok/s;    615 sec\n",
      "[2020-04-27 17:12:51,360 INFO] Step 4700/20000; acc:  46.18; ppl: 35.58; xent: 3.57; lr: 1.00000; 5027/5548 tok/s;    622 sec\n",
      "[2020-04-27 17:12:56,234 INFO] Step 4750/20000; acc:  53.89; ppl: 14.76; xent: 2.69; lr: 1.00000; 4359/5050 tok/s;    627 sec\n",
      "[2020-04-27 17:13:02,468 INFO] Step 4800/20000; acc:  49.98; ppl: 18.24; xent: 2.90; lr: 1.00000; 5031/5545 tok/s;    633 sec\n",
      "[2020-04-27 17:13:08,681 INFO] Step 4850/20000; acc:  50.17; ppl: 24.77; xent: 3.21; lr: 1.00000; 4765/5414 tok/s;    639 sec\n",
      "[2020-04-27 17:13:14,228 INFO] Step 4900/20000; acc:  52.44; ppl: 17.09; xent: 2.84; lr: 1.00000; 4788/5399 tok/s;    645 sec\n",
      "[2020-04-27 17:13:19,544 INFO] Step 4950/20000; acc:  53.92; ppl: 15.35; xent: 2.73; lr: 1.00000; 4732/5370 tok/s;    650 sec\n",
      "[2020-04-27 17:13:25,414 INFO] Step 5000/20000; acc:  53.47; ppl: 16.15; xent: 2.78; lr: 1.00000; 4760/5403 tok/s;    656 sec\n",
      "[2020-04-27 17:13:25,414 INFO] Loading dataset from data/demo.valid.0.pt\n",
      "[2020-04-27 17:13:25,475 INFO] number of examples: 10000\n",
      "[2020-04-27 17:13:47,344 INFO] Validation perplexity: 11.9682\n",
      "[2020-04-27 17:13:47,344 INFO] Validation accuracy: 57.821\n",
      "[2020-04-27 17:13:47,344 INFO] Model is improving ppl: 32.5556 --> 11.9682.\n",
      "[2020-04-27 17:13:47,344 INFO] Model is improving acc: 46.9357 --> 57.821.\n",
      "[2020-04-27 17:13:50,784 INFO] Saving checkpoint demo-model_step_5000.pt\n",
      "[2020-04-27 17:13:58,906 INFO] Step 5050/20000; acc:  51.53; ppl: 19.94; xent: 2.99; lr: 1.00000; 896/1004 tok/s;    689 sec\n",
      "[2020-04-27 17:14:04,486 INFO] Step 5100/20000; acc:  53.59; ppl: 18.14; xent: 2.90; lr: 1.00000; 4611/5327 tok/s;    695 sec\n",
      "[2020-04-27 17:14:09,963 INFO] Step 5150/20000; acc:  55.21; ppl: 12.86; xent: 2.55; lr: 1.00000; 4686/5293 tok/s;    700 sec\n",
      "[2020-04-27 17:14:15,070 INFO] Step 5200/20000; acc:  58.26; ppl:  9.71; xent: 2.27; lr: 1.00000; 4561/5213 tok/s;    706 sec\n",
      "[2020-04-27 17:14:20,039 INFO] Step 5250/20000; acc:  58.19; ppl: 10.17; xent: 2.32; lr: 1.00000; 4457/5127 tok/s;    710 sec\n",
      "[2020-04-27 17:14:25,075 INFO] Step 5300/20000; acc:  58.16; ppl: 11.67; xent: 2.46; lr: 1.00000; 4321/5056 tok/s;    716 sec\n",
      "[2020-04-27 17:14:30,526 INFO] Step 5350/20000; acc:  57.63; ppl: 10.98; xent: 2.40; lr: 1.00000; 4532/5209 tok/s;    721 sec\n",
      "[2020-04-27 17:14:36,236 INFO] Step 5400/20000; acc:  57.64; ppl: 10.12; xent: 2.31; lr: 1.00000; 4876/5459 tok/s;    727 sec\n",
      "[2020-04-27 17:14:41,724 INFO] Step 5450/20000; acc:  57.10; ppl: 12.11; xent: 2.49; lr: 1.00000; 4770/5355 tok/s;    732 sec\n",
      "[2020-04-27 17:14:47,046 INFO] Step 5500/20000; acc:  57.20; ppl: 13.53; xent: 2.60; lr: 1.00000; 4617/5295 tok/s;    737 sec\n",
      "[2020-04-27 17:14:52,762 INFO] Step 5550/20000; acc:  55.60; ppl: 13.77; xent: 2.62; lr: 1.00000; 4712/5308 tok/s;    743 sec\n",
      "[2020-04-27 17:14:58,542 INFO] Step 5600/20000; acc:  59.45; ppl:  9.61; xent: 2.26; lr: 1.00000; 4861/5463 tok/s;    749 sec\n",
      "[2020-04-27 17:15:03,886 INFO] Step 5650/20000; acc:  61.27; ppl:  8.11; xent: 2.09; lr: 1.00000; 4623/5258 tok/s;    754 sec\n",
      "[2020-04-27 17:15:09,132 INFO] Step 5700/20000; acc:  62.16; ppl:  7.44; xent: 2.01; lr: 1.00000; 4538/5197 tok/s;    760 sec\n",
      "[2020-04-27 17:15:15,037 INFO] Step 5750/20000; acc:  58.01; ppl: 10.69; xent: 2.37; lr: 1.00000; 4888/5484 tok/s;    765 sec\n",
      "[2020-04-27 17:15:20,804 INFO] Step 5800/20000; acc:  58.58; ppl: 12.70; xent: 2.54; lr: 1.00000; 4595/5326 tok/s;    771 sec\n",
      "[2020-04-27 17:15:25,960 INFO] Step 5850/20000; acc:  65.96; ppl:  6.23; xent: 1.83; lr: 1.00000; 4526/5201 tok/s;    776 sec\n",
      "[2020-04-27 17:15:30,938 INFO] Step 5900/20000; acc:  64.78; ppl:  6.17; xent: 1.82; lr: 1.00000; 4487/5155 tok/s;    781 sec\n",
      "[2020-04-27 17:15:35,843 INFO] Step 5950/20000; acc:  65.74; ppl:  5.90; xent: 1.77; lr: 1.00000; 4411/5116 tok/s;    786 sec\n",
      "[2020-04-27 17:15:40,592 INFO] Step 6000/20000; acc:  64.15; ppl:  8.04; xent: 2.08; lr: 1.00000; 4420/5129 tok/s;    791 sec\n",
      "[2020-04-27 17:15:40,592 INFO] Loading dataset from data/demo.valid.0.pt\n",
      "[2020-04-27 17:15:40,648 INFO] number of examples: 10000\n",
      "[2020-04-27 17:16:02,568 INFO] Validation perplexity: 6.6256\n",
      "[2020-04-27 17:16:02,568 INFO] Validation accuracy: 66.8779\n",
      "[2020-04-27 17:16:02,568 INFO] Model is improving ppl: 11.9682 --> 6.6256.\n",
      "[2020-04-27 17:16:02,568 INFO] Model is improving acc: 57.821 --> 66.8779.\n",
      "[2020-04-27 17:16:08,432 INFO] Step 6050/20000; acc:  57.68; ppl: 15.96; xent: 2.77; lr: 1.00000; 986/1125 tok/s;    819 sec\n",
      "[2020-04-27 17:16:13,957 INFO] Step 6100/20000; acc:  64.26; ppl:  7.19; xent: 1.97; lr: 1.00000; 4657/5318 tok/s;    824 sec\n",
      "[2020-04-27 17:16:18,676 INFO] Step 6150/20000; acc:  64.66; ppl:  7.69; xent: 2.04; lr: 1.00000; 4126/4998 tok/s;    829 sec\n",
      "[2020-04-27 17:16:23,508 INFO] Step 6200/20000; acc:  64.36; ppl:  7.23; xent: 1.98; lr: 1.00000; 4437/5153 tok/s;    834 sec\n",
      "[2020-04-27 17:16:29,507 INFO] Step 6250/20000; acc:  62.72; ppl:  7.74; xent: 2.05; lr: 1.00000; 4993/5558 tok/s;    840 sec\n",
      "[2020-04-27 17:16:34,273 INFO] Step 6300/20000; acc:  67.64; ppl:  6.02; xent: 1.79; lr: 1.00000; 4405/5103 tok/s;    845 sec\n",
      "[2020-04-27 17:16:39,695 INFO] Step 6350/20000; acc:  64.37; ppl:  7.14; xent: 1.97; lr: 1.00000; 4623/5295 tok/s;    850 sec\n",
      "[2020-04-27 17:16:45,868 INFO] Step 6400/20000; acc:  61.47; ppl:  9.01; xent: 2.20; lr: 1.00000; 4939/5522 tok/s;    856 sec\n",
      "[2020-04-27 17:16:50,317 INFO] Step 6450/20000; acc:  70.26; ppl:  4.58; xent: 1.52; lr: 1.00000; 4144/4892 tok/s;    861 sec\n",
      "[2020-04-27 17:16:54,965 INFO] Step 6500/20000; acc:  70.21; ppl:  4.87; xent: 1.58; lr: 1.00000; 4282/5039 tok/s;    865 sec\n",
      "[2020-04-27 17:17:00,225 INFO] Step 6550/20000; acc:  67.41; ppl:  5.27; xent: 1.66; lr: 1.00000; 4600/5269 tok/s;    871 sec\n",
      "[2020-04-27 17:17:06,009 INFO] Step 6600/20000; acc:  62.63; ppl:  9.68; xent: 2.27; lr: 1.00000; 4654/5277 tok/s;    876 sec\n",
      "[2020-04-27 17:17:10,859 INFO] Step 6650/20000; acc:  67.90; ppl:  5.69; xent: 1.74; lr: 1.00000; 4289/5055 tok/s;    881 sec\n",
      "[2020-04-27 17:17:17,092 INFO] Step 6700/20000; acc:  62.75; ppl:  8.88; xent: 2.18; lr: 1.00000; 4949/5514 tok/s;    888 sec\n",
      "[2020-04-27 17:17:22,377 INFO] Step 6750/20000; acc:  61.88; ppl: 12.74; xent: 2.54; lr: 1.00000; 4381/5064 tok/s;    893 sec\n",
      "[2020-04-27 17:17:27,214 INFO] Step 6800/20000; acc:  70.23; ppl:  4.80; xent: 1.57; lr: 1.00000; 4473/5161 tok/s;    898 sec\n",
      "[2020-04-27 17:17:33,134 INFO] Step 6850/20000; acc:  62.33; ppl:  9.85; xent: 2.29; lr: 1.00000; 4714/5431 tok/s;    904 sec\n",
      "[2020-04-27 17:17:38,470 INFO] Step 6900/20000; acc:  66.23; ppl:  6.82; xent: 1.92; lr: 1.00000; 4558/5281 tok/s;    909 sec\n",
      "[2020-04-27 17:17:42,562 INFO] Step 6950/20000; acc:  76.12; ppl:  3.22; xent: 1.17; lr: 1.00000; 3847/4629 tok/s;    913 sec\n",
      "[2020-04-27 17:17:49,143 INFO] Step 7000/20000; acc:  66.50; ppl:  6.18; xent: 1.82; lr: 1.00000; 5052/5601 tok/s;    920 sec\n",
      "[2020-04-27 17:17:49,144 INFO] Loading dataset from data/demo.valid.0.pt\n",
      "[2020-04-27 17:17:49,211 INFO] number of examples: 10000\n",
      "[2020-04-27 17:18:11,018 INFO] Validation perplexity: 4.08935\n",
      "[2020-04-27 17:18:11,018 INFO] Validation accuracy: 74.4323\n",
      "[2020-04-27 17:18:11,018 INFO] Model is improving ppl: 6.6256 --> 4.08935.\n",
      "[2020-04-27 17:18:11,018 INFO] Model is improving acc: 66.8779 --> 74.4323.\n",
      "[2020-04-27 17:18:16,636 INFO] Step 7050/20000; acc:  68.57; ppl:  5.13; xent: 1.64; lr: 1.00000; 959/1085 tok/s;    947 sec\n",
      "[2020-04-27 17:18:22,353 INFO] Step 7100/20000; acc:  70.55; ppl:  4.42; xent: 1.49; lr: 1.00000; 4836/5419 tok/s;    953 sec\n",
      "[2020-04-27 17:18:27,547 INFO] Step 7150/20000; acc:  66.88; ppl:  6.23; xent: 1.83; lr: 1.00000; 4584/5246 tok/s;    958 sec\n",
      "[2020-04-27 17:18:33,012 INFO] Step 7200/20000; acc:  68.32; ppl:  6.19; xent: 1.82; lr: 1.00000; 4602/5305 tok/s;    963 sec\n",
      "[2020-04-27 17:18:38,324 INFO] Step 7250/20000; acc:  72.96; ppl:  3.66; xent: 1.30; lr: 1.00000; 4723/5337 tok/s;    969 sec\n",
      "[2020-04-27 17:18:43,160 INFO] Step 7300/20000; acc:  71.79; ppl:  5.95; xent: 1.78; lr: 1.00000; 4264/5019 tok/s;    974 sec\n",
      "[2020-04-27 17:18:48,746 INFO] Step 7350/20000; acc:  70.98; ppl:  4.75; xent: 1.56; lr: 1.00000; 4767/5351 tok/s;    979 sec\n",
      "[2020-04-27 17:18:54,412 INFO] Step 7400/20000; acc:  67.81; ppl:  6.96; xent: 1.94; lr: 1.00000; 4619/5319 tok/s;    985 sec\n",
      "[2020-04-27 17:18:59,924 INFO] Step 7450/20000; acc:  72.47; ppl:  4.31; xent: 1.46; lr: 1.00000; 4714/5318 tok/s;    990 sec\n",
      "[2020-04-27 17:19:04,921 INFO] Step 7500/20000; acc:  73.86; ppl:  3.96; xent: 1.38; lr: 1.00000; 4405/5199 tok/s;    995 sec\n",
      "[2020-04-27 17:19:10,201 INFO] Step 7550/20000; acc:  72.44; ppl:  5.10; xent: 1.63; lr: 1.00000; 4355/5157 tok/s;   1001 sec\n",
      "[2020-04-27 17:19:15,198 INFO] Step 7600/20000; acc:  73.91; ppl:  3.68; xent: 1.30; lr: 1.00000; 4522/5213 tok/s;   1006 sec\n",
      "[2020-04-27 17:19:20,147 INFO] Step 7650/20000; acc:  74.12; ppl:  4.26; xent: 1.45; lr: 1.00000; 4436/5131 tok/s;   1011 sec\n",
      "[2020-04-27 17:19:25,083 INFO] Step 7700/20000; acc:  73.43; ppl:  3.83; xent: 1.34; lr: 1.00000; 4447/5122 tok/s;   1016 sec\n",
      "[2020-04-27 17:19:30,310 INFO] Step 7750/20000; acc:  70.16; ppl:  5.42; xent: 1.69; lr: 1.00000; 4580/5253 tok/s;   1021 sec\n",
      "[2020-04-27 17:19:36,068 INFO] Step 7800/20000; acc:  74.11; ppl:  4.21; xent: 1.44; lr: 1.00000; 4780/5446 tok/s;   1027 sec\n",
      "[2020-04-27 17:19:41,333 INFO] Step 7850/20000; acc:  73.82; ppl:  3.68; xent: 1.30; lr: 1.00000; 4595/5241 tok/s;   1032 sec\n",
      "[2020-04-27 17:19:46,602 INFO] Step 7900/20000; acc:  73.88; ppl:  3.73; xent: 1.32; lr: 1.00000; 4700/5356 tok/s;   1037 sec\n",
      "[2020-04-27 17:19:52,219 INFO] Step 7950/20000; acc:  74.80; ppl:  3.67; xent: 1.30; lr: 1.00000; 4775/5382 tok/s;   1043 sec\n",
      "[2020-04-27 17:19:56,871 INFO] Step 8000/20000; acc:  76.78; ppl:  3.05; xent: 1.11; lr: 1.00000; 4389/5104 tok/s;   1047 sec\n",
      "[2020-04-27 17:19:56,872 INFO] Loading dataset from data/demo.valid.0.pt\n",
      "[2020-04-27 17:19:56,927 INFO] number of examples: 10000\n",
      "[2020-04-27 17:20:18,898 INFO] Validation perplexity: 2.98106\n",
      "[2020-04-27 17:20:18,898 INFO] Validation accuracy: 80.5209\n",
      "[2020-04-27 17:20:18,898 INFO] Model is improving ppl: 4.08935 --> 2.98106.\n",
      "[2020-04-27 17:20:18,898 INFO] Model is improving acc: 74.4323 --> 80.5209.\n",
      "[2020-04-27 17:20:24,480 INFO] Step 8050/20000; acc:  68.65; ppl:  6.79; xent: 1.92; lr: 1.00000; 932/1084 tok/s;   1075 sec\n",
      "[2020-04-27 17:20:29,431 INFO] Step 8100/20000; acc:  77.86; ppl:  3.04; xent: 1.11; lr: 1.00000; 4446/5144 tok/s;   1080 sec\n",
      "[2020-04-27 17:20:35,429 INFO] Step 8150/20000; acc:  75.25; ppl:  3.44; xent: 1.24; lr: 1.00000; 4887/5485 tok/s;   1086 sec\n",
      "[2020-04-27 17:20:41,659 INFO] Step 8200/20000; acc:  72.10; ppl:  4.26; xent: 1.45; lr: 1.00000; 4695/5243 tok/s;   1092 sec\n",
      "[2020-04-27 17:20:47,033 INFO] Step 8250/20000; acc:  76.38; ppl:  3.07; xent: 1.12; lr: 1.00000; 4705/5312 tok/s;   1097 sec\n",
      "[2020-04-27 17:20:51,855 INFO] Step 8300/20000; acc:  79.96; ppl:  2.59; xent: 0.95; lr: 1.00000; 4433/5097 tok/s;   1102 sec\n",
      "[2020-04-27 17:20:57,801 INFO] Step 8350/20000; acc:  77.10; ppl:  3.03; xent: 1.11; lr: 1.00000; 4935/5498 tok/s;   1108 sec\n",
      "[2020-04-27 17:21:02,543 INFO] Step 8400/20000; acc:  78.85; ppl:  3.05; xent: 1.12; lr: 1.00000; 4284/5031 tok/s;   1113 sec\n",
      "[2020-04-27 17:21:08,161 INFO] Step 8450/20000; acc:  79.82; ppl:  2.60; xent: 0.95; lr: 1.00000; 4742/5350 tok/s;   1119 sec\n",
      "[2020-04-27 17:21:15,349 INFO] Step 8500/20000; acc:  72.98; ppl:  4.39; xent: 1.48; lr: 1.00000; 5037/5554 tok/s;   1126 sec\n",
      "[2020-04-27 17:21:20,896 INFO] Step 8550/20000; acc:  74.87; ppl:  4.15; xent: 1.42; lr: 1.00000; 4717/5332 tok/s;   1131 sec\n",
      "[2020-04-27 17:21:26,677 INFO] Step 8600/20000; acc:  72.84; ppl:  4.40; xent: 1.48; lr: 1.00000; 4797/5389 tok/s;   1137 sec\n",
      "[2020-04-27 17:21:31,989 INFO] Step 8650/20000; acc:  79.68; ppl:  2.62; xent: 0.96; lr: 1.00000; 4634/5280 tok/s;   1142 sec\n",
      "[2020-04-27 17:21:38,657 INFO] Step 8700/20000; acc:  73.70; ppl:  4.63; xent: 1.53; lr: 1.00000; 4883/5412 tok/s;   1149 sec\n",
      "[2020-04-27 17:21:43,656 INFO] Step 8750/20000; acc:  81.65; ppl:  2.43; xent: 0.89; lr: 1.00000; 4477/5135 tok/s;   1154 sec\n",
      "[2020-04-27 17:21:49,509 INFO] Step 8800/20000; acc:  78.06; ppl:  3.00; xent: 1.10; lr: 1.00000; 4604/5249 tok/s;   1160 sec\n",
      "[2020-04-27 17:21:54,924 INFO] Step 8850/20000; acc:  76.43; ppl:  4.35; xent: 1.47; lr: 1.00000; 4457/5169 tok/s;   1165 sec\n",
      "[2020-04-27 17:22:00,229 INFO] Step 8900/20000; acc:  78.88; ppl:  2.73; xent: 1.01; lr: 1.00000; 4584/5237 tok/s;   1171 sec\n",
      "[2020-04-27 17:22:06,562 INFO] Step 8950/20000; acc:  80.27; ppl:  2.72; xent: 1.00; lr: 1.00000; 4897/5464 tok/s;   1177 sec\n",
      "[2020-04-27 17:22:12,180 INFO] Step 9000/20000; acc:  80.04; ppl:  2.77; xent: 1.02; lr: 1.00000; 4677/5341 tok/s;   1183 sec\n",
      "[2020-04-27 17:22:12,181 INFO] Loading dataset from data/demo.valid.0.pt\n",
      "[2020-04-27 17:22:12,250 INFO] number of examples: 10000\n",
      "[2020-04-27 17:22:33,942 INFO] Validation perplexity: 2.29992\n",
      "[2020-04-27 17:22:33,942 INFO] Validation accuracy: 84.8081\n",
      "[2020-04-27 17:22:33,942 INFO] Model is improving ppl: 2.98106 --> 2.29992.\n",
      "[2020-04-27 17:22:33,942 INFO] Model is improving acc: 80.5209 --> 84.8081.\n",
      "[2020-04-27 17:22:39,436 INFO] Step 9050/20000; acc:  78.85; ppl:  2.96; xent: 1.08; lr: 1.00000; 901/1025 tok/s;   1210 sec\n",
      "[2020-04-27 17:22:44,199 INFO] Step 9100/20000; acc:  77.29; ppl:  3.17; xent: 1.15; lr: 1.00000; 4244/5011 tok/s;   1215 sec\n",
      "[2020-04-27 17:22:49,853 INFO] Step 9150/20000; acc:  78.47; ppl:  3.12; xent: 1.14; lr: 1.00000; 4410/5084 tok/s;   1220 sec\n",
      "[2020-04-27 17:22:55,531 INFO] Step 9200/20000; acc:  77.81; ppl:  2.95; xent: 1.08; lr: 1.00000; 4835/5429 tok/s;   1226 sec\n",
      "[2020-04-27 17:23:01,325 INFO] Step 9250/20000; acc:  78.12; ppl:  3.29; xent: 1.19; lr: 1.00000; 4642/5309 tok/s;   1232 sec\n",
      "[2020-04-27 17:23:06,614 INFO] Step 9300/20000; acc:  79.14; ppl:  3.04; xent: 1.11; lr: 1.00000; 4560/5212 tok/s;   1237 sec\n",
      "[2020-04-27 17:23:11,782 INFO] Step 9350/20000; acc:  78.54; ppl:  3.39; xent: 1.22; lr: 1.00000; 4155/4853 tok/s;   1242 sec\n",
      "[2020-04-27 17:23:17,141 INFO] Step 9400/20000; acc:  80.45; ppl:  2.55; xent: 0.94; lr: 1.00000; 4742/5351 tok/s;   1248 sec\n",
      "[2020-04-27 17:23:22,199 INFO] Step 9450/20000; acc:  79.95; ppl:  3.01; xent: 1.10; lr: 1.00000; 4495/5161 tok/s;   1253 sec\n",
      "[2020-04-27 17:23:25,180 INFO] Loading dataset from data/demo.train.0.pt\n",
      "[2020-04-27 17:23:33,581 INFO] number of examples: 606693\n",
      "[2020-04-27 17:23:39,563 INFO] Step 9500/20000; acc:  76.75; ppl:  3.62; xent: 1.29; lr: 1.00000; 1599/1797 tok/s;   1270 sec\n",
      "[2020-04-27 17:23:45,447 INFO] Step 9550/20000; acc:  76.31; ppl:  4.02; xent: 1.39; lr: 1.00000; 4819/5474 tok/s;   1276 sec\n",
      "[2020-04-27 17:23:51,666 INFO] Step 9600/20000; acc:  79.97; ppl:  2.69; xent: 0.99; lr: 1.00000; 5012/5547 tok/s;   1282 sec\n",
      "[2020-04-27 17:23:57,694 INFO] Step 9650/20000; acc:  82.56; ppl:  2.21; xent: 0.79; lr: 1.00000; 4969/5510 tok/s;   1288 sec\n",
      "[2020-04-27 17:24:03,499 INFO] Step 9700/20000; acc:  81.12; ppl:  2.41; xent: 0.88; lr: 1.00000; 4917/5502 tok/s;   1294 sec\n",
      "[2020-04-27 17:24:08,590 INFO] Step 9750/20000; acc:  83.77; ppl:  2.13; xent: 0.75; lr: 1.00000; 4651/5318 tok/s;   1299 sec\n",
      "[2020-04-27 17:24:13,834 INFO] Step 9800/20000; acc:  84.91; ppl:  1.97; xent: 0.68; lr: 1.00000; 4675/5322 tok/s;   1304 sec\n",
      "[2020-04-27 17:24:19,154 INFO] Step 9850/20000; acc:  83.59; ppl:  2.18; xent: 0.78; lr: 1.00000; 4617/5273 tok/s;   1310 sec\n",
      "[2020-04-27 17:24:24,745 INFO] Step 9900/20000; acc:  83.96; ppl:  2.12; xent: 0.75; lr: 1.00000; 4819/5426 tok/s;   1315 sec\n",
      "[2020-04-27 17:24:29,465 INFO] Step 9950/20000; acc:  86.98; ppl:  1.79; xent: 0.58; lr: 1.00000; 4421/5113 tok/s;   1320 sec\n",
      "[2020-04-27 17:24:35,031 INFO] Step 10000/20000; acc:  84.68; ppl:  2.00; xent: 0.69; lr: 1.00000; 4783/5381 tok/s;   1325 sec\n",
      "[2020-04-27 17:24:35,033 INFO] Loading dataset from data/demo.valid.0.pt\n",
      "[2020-04-27 17:24:35,111 INFO] number of examples: 10000\n",
      "[2020-04-27 17:24:56,920 INFO] Validation perplexity: 2.00128\n",
      "[2020-04-27 17:24:56,921 INFO] Validation accuracy: 87.8249\n",
      "[2020-04-27 17:24:56,921 INFO] Model is improving ppl: 2.29992 --> 2.00128.\n",
      "[2020-04-27 17:24:56,921 INFO] Model is improving acc: 84.8081 --> 87.8249.\n",
      "[2020-04-27 17:25:01,068 INFO] Saving checkpoint demo-model_step_10000.pt\n",
      "[2020-04-27 17:25:08,611 INFO] Step 10050/20000; acc:  82.40; ppl:  2.87; xent: 1.05; lr: 1.00000; 757/890 tok/s;   1359 sec\n",
      "[2020-04-27 17:25:14,266 INFO] Step 10100/20000; acc:  83.75; ppl:  2.12; xent: 0.75; lr: 1.00000; 4866/5455 tok/s;   1365 sec\n",
      "[2020-04-27 17:25:20,037 INFO] Step 10150/20000; acc:  76.56; ppl:  3.89; xent: 1.36; lr: 1.00000; 4844/5439 tok/s;   1370 sec\n",
      "[2020-04-27 17:25:25,018 INFO] Step 10200/20000; acc:  84.64; ppl:  2.02; xent: 0.71; lr: 1.00000; 4574/5242 tok/s;   1375 sec\n",
      "[2020-04-27 17:25:30,911 INFO] Step 10250/20000; acc:  80.54; ppl:  3.09; xent: 1.13; lr: 1.00000; 4773/5413 tok/s;   1381 sec\n",
      "[2020-04-27 17:25:36,521 INFO] Step 10300/20000; acc:  83.60; ppl:  2.20; xent: 0.79; lr: 1.00000; 4758/5366 tok/s;   1387 sec\n",
      "[2020-04-27 17:25:42,387 INFO] Step 10350/20000; acc:  81.90; ppl:  2.50; xent: 0.92; lr: 1.00000; 4824/5431 tok/s;   1393 sec\n",
      "[2020-04-27 17:25:47,973 INFO] Step 10400/20000; acc:  84.96; ppl:  1.98; xent: 0.68; lr: 1.00000; 4823/5432 tok/s;   1398 sec\n",
      "[2020-04-27 17:25:53,604 INFO] Step 10450/20000; acc:  82.94; ppl:  2.43; xent: 0.89; lr: 1.00000; 4752/5355 tok/s;   1404 sec\n",
      "[2020-04-27 17:25:59,214 INFO] Step 10500/20000; acc:  82.54; ppl:  2.75; xent: 1.01; lr: 1.00000; 4815/5451 tok/s;   1410 sec\n",
      "[2020-04-27 17:26:04,426 INFO] Step 10550/20000; acc:  86.33; ppl:  1.91; xent: 0.65; lr: 1.00000; 4592/5267 tok/s;   1415 sec\n",
      "[2020-04-27 17:26:09,915 INFO] Step 10600/20000; acc:  83.78; ppl:  2.10; xent: 0.74; lr: 1.00000; 4781/5399 tok/s;   1420 sec\n",
      "[2020-04-27 17:26:16,371 INFO] Step 10650/20000; acc:  82.50; ppl:  2.40; xent: 0.88; lr: 1.00000; 5016/5630 tok/s;   1427 sec\n",
      "[2020-04-27 17:26:22,137 INFO] Step 10700/20000; acc:  82.44; ppl:  2.41; xent: 0.88; lr: 1.00000; 4851/5494 tok/s;   1433 sec\n",
      "[2020-04-27 17:26:27,906 INFO] Step 10750/20000; acc:  82.90; ppl:  2.25; xent: 0.81; lr: 1.00000; 4793/5392 tok/s;   1438 sec\n",
      "[2020-04-27 17:26:33,972 INFO] Step 10800/20000; acc:  77.08; ppl:  4.13; xent: 1.42; lr: 1.00000; 4926/5497 tok/s;   1444 sec\n",
      "[2020-04-27 17:26:40,205 INFO] Step 10850/20000; acc:  83.95; ppl:  2.23; xent: 0.80; lr: 1.00000; 4908/5469 tok/s;   1451 sec\n",
      "[2020-04-27 17:26:45,425 INFO] Step 10900/20000; acc:  82.37; ppl:  3.02; xent: 1.11; lr: 1.00000; 4415/5223 tok/s;   1456 sec\n",
      "[2020-04-27 17:26:50,259 INFO] Step 10950/20000; acc:  85.46; ppl:  1.97; xent: 0.68; lr: 1.00000; 4476/5168 tok/s;   1461 sec\n",
      "[2020-04-27 17:26:55,926 INFO] Step 11000/20000; acc:  85.87; ppl:  1.90; xent: 0.64; lr: 1.00000; 4857/5444 tok/s;   1466 sec\n",
      "[2020-04-27 17:26:55,926 INFO] Loading dataset from data/demo.valid.0.pt\n",
      "[2020-04-27 17:26:55,984 INFO] number of examples: 10000\n",
      "[2020-04-27 17:27:17,813 INFO] Validation perplexity: 1.77133\n",
      "[2020-04-27 17:27:17,813 INFO] Validation accuracy: 90.1261\n",
      "[2020-04-27 17:27:17,813 INFO] Model is improving ppl: 2.00128 --> 1.77133.\n",
      "[2020-04-27 17:27:17,813 INFO] Model is improving acc: 87.8249 --> 90.1261.\n",
      "[2020-04-27 17:27:23,892 INFO] Step 11050/20000; acc:  82.23; ppl:  2.40; xent: 0.88; lr: 1.00000; 1067/1200 tok/s;   1494 sec\n",
      "[2020-04-27 17:27:28,885 INFO] Step 11100/20000; acc:  85.65; ppl:  2.22; xent: 0.80; lr: 1.00000; 4446/5147 tok/s;   1499 sec\n",
      "[2020-04-27 17:27:34,853 INFO] Step 11150/20000; acc:  83.01; ppl:  2.37; xent: 0.86; lr: 1.00000; 4709/5302 tok/s;   1505 sec\n",
      "[2020-04-27 17:27:40,044 INFO] Step 11200/20000; acc:  88.67; ppl:  1.66; xent: 0.51; lr: 1.00000; 4575/5218 tok/s;   1510 sec\n",
      "[2020-04-27 17:27:45,487 INFO] Step 11250/20000; acc:  83.89; ppl:  2.44; xent: 0.89; lr: 1.00000; 4716/5322 tok/s;   1516 sec\n",
      "[2020-04-27 17:27:51,448 INFO] Step 11300/20000; acc:  84.50; ppl:  2.32; xent: 0.84; lr: 1.00000; 4832/5405 tok/s;   1522 sec\n",
      "[2020-04-27 17:27:56,988 INFO] Step 11350/20000; acc:  82.64; ppl:  2.91; xent: 1.07; lr: 1.00000; 4621/5312 tok/s;   1527 sec\n",
      "[2020-04-27 17:28:02,185 INFO] Step 11400/20000; acc:  86.18; ppl:  1.88; xent: 0.63; lr: 1.00000; 4630/5258 tok/s;   1533 sec\n",
      "[2020-04-27 17:28:07,598 INFO] Step 11450/20000; acc:  87.07; ppl:  1.88; xent: 0.63; lr: 1.00000; 4636/5381 tok/s;   1538 sec\n",
      "[2020-04-27 17:28:13,891 INFO] Step 11500/20000; acc:  81.95; ppl:  2.99; xent: 1.10; lr: 1.00000; 4935/5516 tok/s;   1544 sec\n",
      "[2020-04-27 17:28:19,097 INFO] Step 11550/20000; acc:  85.33; ppl:  1.95; xent: 0.67; lr: 1.00000; 4672/5311 tok/s;   1550 sec\n",
      "[2020-04-27 17:28:24,470 INFO] Step 11600/20000; acc:  84.44; ppl:  2.62; xent: 0.96; lr: 1.00000; 4729/5349 tok/s;   1555 sec\n",
      "[2020-04-27 17:28:29,827 INFO] Step 11650/20000; acc:  88.47; ppl:  1.69; xent: 0.53; lr: 1.00000; 4767/5376 tok/s;   1560 sec\n",
      "[2020-04-27 17:28:35,632 INFO] Step 11700/20000; acc:  85.89; ppl:  1.95; xent: 0.67; lr: 1.00000; 4829/5422 tok/s;   1566 sec\n",
      "[2020-04-27 17:28:40,457 INFO] Step 11750/20000; acc:  90.58; ppl:  1.52; xent: 0.42; lr: 1.00000; 4430/5120 tok/s;   1571 sec\n",
      "[2020-04-27 17:28:46,177 INFO] Step 11800/20000; acc:  84.72; ppl:  2.16; xent: 0.77; lr: 1.00000; 4789/5413 tok/s;   1577 sec\n",
      "[2020-04-27 17:28:52,276 INFO] Step 11850/20000; acc:  82.37; ppl:  2.89; xent: 1.06; lr: 1.00000; 4712/5343 tok/s;   1583 sec\n",
      "[2020-04-27 17:28:57,314 INFO] Step 11900/20000; acc:  85.90; ppl:  1.92; xent: 0.65; lr: 1.00000; 4650/5311 tok/s;   1588 sec\n",
      "[2020-04-27 17:29:03,260 INFO] Step 11950/20000; acc:  82.94; ppl:  2.53; xent: 0.93; lr: 1.00000; 4887/5482 tok/s;   1594 sec\n",
      "[2020-04-27 17:29:09,274 INFO] Step 12000/20000; acc:  83.44; ppl:  2.35; xent: 0.85; lr: 1.00000; 4906/5448 tok/s;   1600 sec\n",
      "[2020-04-27 17:29:09,274 INFO] Loading dataset from data/demo.valid.0.pt\n",
      "[2020-04-27 17:29:09,329 INFO] number of examples: 10000\n",
      "[2020-04-27 17:29:31,107 INFO] Validation perplexity: 1.65018\n",
      "[2020-04-27 17:29:31,107 INFO] Validation accuracy: 91.3846\n",
      "[2020-04-27 17:29:31,107 INFO] Model is improving ppl: 1.77133 --> 1.65018.\n",
      "[2020-04-27 17:29:31,107 INFO] Model is improving acc: 90.1261 --> 91.3846.\n",
      "[2020-04-27 17:29:37,009 INFO] Step 12050/20000; acc:  81.68; ppl:  2.46; xent: 0.90; lr: 1.00000; 1041/1164 tok/s;   1627 sec\n",
      "[2020-04-27 17:29:43,297 INFO] Step 12100/20000; acc:  80.49; ppl:  3.22; xent: 1.17; lr: 1.00000; 4967/5520 tok/s;   1634 sec\n",
      "[2020-04-27 17:29:49,520 INFO] Step 12150/20000; acc:  81.73; ppl:  2.91; xent: 1.07; lr: 1.00000; 5003/5564 tok/s;   1640 sec\n",
      "[2020-04-27 17:29:56,529 INFO] Step 12200/20000; acc:  80.34; ppl:  3.10; xent: 1.13; lr: 1.00000; 4975/5637 tok/s;   1647 sec\n",
      "[2020-04-27 17:30:02,811 INFO] Step 12250/20000; acc:  88.26; ppl:  1.76; xent: 0.56; lr: 1.00000; 4768/5327 tok/s;   1653 sec\n",
      "[2020-04-27 17:30:07,664 INFO] Step 12300/20000; acc:  88.36; ppl:  1.67; xent: 0.52; lr: 1.00000; 4444/5157 tok/s;   1658 sec\n",
      "[2020-04-27 17:30:12,932 INFO] Step 12350/20000; acc:  83.00; ppl:  2.68; xent: 0.99; lr: 1.00000; 4645/5289 tok/s;   1663 sec\n",
      "[2020-04-27 17:30:18,553 INFO] Step 12400/20000; acc:  89.36; ppl:  1.60; xent: 0.47; lr: 1.00000; 4816/5420 tok/s;   1669 sec\n",
      "[2020-04-27 17:30:23,816 INFO] Step 12450/20000; acc:  88.80; ppl:  1.67; xent: 0.51; lr: 1.00000; 4633/5254 tok/s;   1674 sec\n",
      "[2020-04-27 17:30:28,319 INFO] Step 12500/20000; acc:  90.80; ppl:  1.50; xent: 0.40; lr: 1.00000; 4278/5003 tok/s;   1679 sec\n",
      "[2020-04-27 17:30:32,578 INFO] Step 12550/20000; acc:  92.16; ppl:  1.42; xent: 0.35; lr: 1.00000; 4087/4839 tok/s;   1683 sec\n",
      "[2020-04-27 17:30:37,896 INFO] Step 12600/20000; acc:  85.43; ppl:  2.22; xent: 0.80; lr: 1.00000; 4624/5295 tok/s;   1688 sec\n",
      "[2020-04-27 17:30:44,482 INFO] Step 12650/20000; acc:  86.04; ppl:  2.07; xent: 0.73; lr: 1.00000; 5082/5617 tok/s;   1695 sec\n",
      "[2020-04-27 17:30:50,296 INFO] Step 12700/20000; acc:  85.69; ppl:  2.17; xent: 0.77; lr: 1.00000; 4758/5443 tok/s;   1701 sec\n",
      "[2020-04-27 17:30:56,584 INFO] Step 12750/20000; acc:  84.95; ppl:  2.31; xent: 0.84; lr: 1.00000; 4835/5456 tok/s;   1707 sec\n",
      "[2020-04-27 17:31:02,032 INFO] Step 12800/20000; acc:  86.96; ppl:  1.81; xent: 0.59; lr: 1.00000; 4676/5310 tok/s;   1712 sec\n",
      "[2020-04-27 17:31:07,443 INFO] Step 12850/20000; acc:  90.15; ppl:  1.56; xent: 0.44; lr: 1.00000; 4696/5347 tok/s;   1718 sec\n",
      "[2020-04-27 17:31:12,929 INFO] Step 12900/20000; acc:  85.08; ppl:  2.18; xent: 0.78; lr: 1.00000; 4643/5252 tok/s;   1723 sec\n",
      "[2020-04-27 17:31:18,845 INFO] Step 12950/20000; acc:  86.46; ppl:  2.04; xent: 0.71; lr: 1.00000; 4803/5414 tok/s;   1729 sec\n",
      "[2020-04-27 17:31:24,706 INFO] Step 13000/20000; acc:  86.85; ppl:  1.81; xent: 0.60; lr: 1.00000; 4871/5471 tok/s;   1735 sec\n",
      "[2020-04-27 17:31:24,706 INFO] Loading dataset from data/demo.valid.0.pt\n",
      "[2020-04-27 17:31:24,763 INFO] number of examples: 10000\n",
      "[2020-04-27 17:31:46,515 INFO] Validation perplexity: 1.53139\n",
      "[2020-04-27 17:31:46,516 INFO] Validation accuracy: 92.7349\n",
      "[2020-04-27 17:31:46,516 INFO] Model is improving ppl: 1.65018 --> 1.53139.\n",
      "[2020-04-27 17:31:46,516 INFO] Model is improving acc: 91.3846 --> 92.7349.\n",
      "[2020-04-27 17:31:53,091 INFO] Step 13050/20000; acc:  86.52; ppl:  2.10; xent: 0.74; lr: 1.00000; 1175/1311 tok/s;   1764 sec\n",
      "[2020-04-27 17:31:58,271 INFO] Step 13100/20000; acc:  91.37; ppl:  1.47; xent: 0.38; lr: 1.00000; 4609/5264 tok/s;   1769 sec\n",
      "[2020-04-27 17:32:02,976 INFO] Step 13150/20000; acc:  89.52; ppl:  1.58; xent: 0.46; lr: 1.00000; 4325/5064 tok/s;   1773 sec\n",
      "[2020-04-27 17:32:08,347 INFO] Step 13200/20000; acc:  90.31; ppl:  1.55; xent: 0.44; lr: 1.00000; 4755/5375 tok/s;   1779 sec\n",
      "[2020-04-27 17:32:13,536 INFO] Step 13250/20000; acc:  84.31; ppl:  2.36; xent: 0.86; lr: 1.00000; 4576/5281 tok/s;   1784 sec\n",
      "[2020-04-27 17:32:19,539 INFO] Step 13300/20000; acc:  88.54; ppl:  1.68; xent: 0.52; lr: 1.00000; 4958/5534 tok/s;   1790 sec\n",
      "[2020-04-27 17:32:24,780 INFO] Step 13350/20000; acc:  90.72; ppl:  1.51; xent: 0.41; lr: 1.00000; 4652/5299 tok/s;   1795 sec\n",
      "[2020-04-27 17:32:30,563 INFO] Step 13400/20000; acc:  82.72; ppl:  2.56; xent: 0.94; lr: 1.00000; 4771/5351 tok/s;   1801 sec\n",
      "[2020-04-27 17:32:36,619 INFO] Step 13450/20000; acc:  85.28; ppl:  2.12; xent: 0.75; lr: 1.00000; 4925/5474 tok/s;   1807 sec\n",
      "[2020-04-27 17:32:42,243 INFO] Step 13500/20000; acc:  89.12; ppl:  1.63; xent: 0.49; lr: 1.00000; 4848/5474 tok/s;   1813 sec\n",
      "[2020-04-27 17:32:47,424 INFO] Step 13550/20000; acc:  90.25; ppl:  1.54; xent: 0.43; lr: 1.00000; 4570/5213 tok/s;   1818 sec\n",
      "[2020-04-27 17:32:53,096 INFO] Step 13600/20000; acc:  86.58; ppl:  1.86; xent: 0.62; lr: 1.00000; 4852/5444 tok/s;   1824 sec\n",
      "[2020-04-27 17:32:57,996 INFO] Step 13650/20000; acc:  91.98; ppl:  1.41; xent: 0.34; lr: 1.00000; 4428/5107 tok/s;   1828 sec\n",
      "[2020-04-27 17:33:02,763 INFO] Step 13700/20000; acc:  89.65; ppl:  1.58; xent: 0.46; lr: 1.00000; 4498/5169 tok/s;   1833 sec\n",
      "[2020-04-27 17:33:07,185 INFO] Step 13750/20000; acc:  88.36; ppl:  1.73; xent: 0.55; lr: 1.00000; 4226/4981 tok/s;   1838 sec\n",
      "[2020-04-27 17:33:13,819 INFO] Step 13800/20000; acc:  86.80; ppl:  1.98; xent: 0.68; lr: 1.00000; 5094/5596 tok/s;   1844 sec\n",
      "[2020-04-27 17:33:19,435 INFO] Step 13850/20000; acc:  88.70; ppl:  1.81; xent: 0.59; lr: 1.00000; 4787/5426 tok/s;   1850 sec\n",
      "[2020-04-27 17:33:25,049 INFO] Step 13900/20000; acc:  88.11; ppl:  1.84; xent: 0.61; lr: 1.00000; 4580/5253 tok/s;   1855 sec\n",
      "[2020-04-27 17:33:30,951 INFO] Step 13950/20000; acc:  83.38; ppl:  2.29; xent: 0.83; lr: 1.00000; 4848/5477 tok/s;   1861 sec\n",
      "[2020-04-27 17:33:35,419 INFO] Step 14000/20000; acc:  89.58; ppl:  1.61; xent: 0.47; lr: 1.00000; 4311/5041 tok/s;   1866 sec\n",
      "[2020-04-27 17:33:35,420 INFO] Loading dataset from data/demo.valid.0.pt\n",
      "[2020-04-27 17:33:38,626 INFO] number of examples: 10000\n",
      "[2020-04-27 17:34:00,619 INFO] Validation perplexity: 1.49278\n",
      "[2020-04-27 17:34:00,619 INFO] Validation accuracy: 93.24\n",
      "[2020-04-27 17:34:00,620 INFO] Model is improving ppl: 1.53139 --> 1.49278.\n",
      "[2020-04-27 17:34:00,620 INFO] Model is improving acc: 92.7349 --> 93.24.\n",
      "[2020-04-27 17:34:06,324 INFO] Step 14050/20000; acc:  88.18; ppl:  1.75; xent: 0.56; lr: 1.00000; 884/992 tok/s;   1897 sec\n",
      "[2020-04-27 17:34:11,691 INFO] Step 14100/20000; acc:  84.56; ppl:  2.24; xent: 0.80; lr: 1.00000; 4615/5235 tok/s;   1902 sec\n",
      "[2020-04-27 17:34:18,004 INFO] Step 14150/20000; acc:  85.43; ppl:  2.19; xent: 0.78; lr: 1.00000; 5008/5539 tok/s;   1908 sec\n",
      "[2020-04-27 17:34:23,294 INFO] Step 14200/20000; acc:  85.56; ppl:  2.40; xent: 0.87; lr: 1.00000; 4586/5215 tok/s;   1914 sec\n",
      "[2020-04-27 17:34:28,840 INFO] Step 14250/20000; acc:  89.73; ppl:  1.59; xent: 0.47; lr: 1.00000; 4766/5373 tok/s;   1919 sec\n",
      "[2020-04-27 17:34:34,838 INFO] Step 14300/20000; acc:  89.76; ppl:  1.57; xent: 0.45; lr: 1.00000; 4940/5506 tok/s;   1925 sec\n",
      "[2020-04-27 17:34:40,908 INFO] Step 14350/20000; acc:  83.78; ppl:  2.40; xent: 0.88; lr: 1.00000; 4804/5457 tok/s;   1931 sec\n",
      "[2020-04-27 17:34:46,250 INFO] Step 14400/20000; acc:  90.14; ppl:  1.55; xent: 0.44; lr: 1.00000; 4732/5343 tok/s;   1937 sec\n",
      "[2020-04-27 17:34:52,013 INFO] Step 14450/20000; acc:  89.09; ppl:  1.81; xent: 0.59; lr: 1.00000; 4715/5392 tok/s;   1942 sec\n",
      "[2020-04-27 17:34:58,001 INFO] Step 14500/20000; acc:  88.97; ppl:  1.68; xent: 0.52; lr: 1.00000; 4949/5542 tok/s;   1948 sec\n",
      "[2020-04-27 17:35:03,637 INFO] Step 14550/20000; acc:  86.31; ppl:  1.92; xent: 0.65; lr: 1.00000; 4815/5405 tok/s;   1954 sec\n",
      "[2020-04-27 17:35:09,021 INFO] Step 14600/20000; acc:  87.29; ppl:  2.06; xent: 0.72; lr: 1.00000; 4529/5271 tok/s;   1959 sec\n",
      "[2020-04-27 17:35:14,525 INFO] Step 14650/20000; acc:  91.05; ppl:  1.48; xent: 0.39; lr: 1.00000; 4744/5348 tok/s;   1965 sec\n",
      "[2020-04-27 17:35:19,773 INFO] Step 14700/20000; acc:  91.19; ppl:  1.49; xent: 0.40; lr: 1.00000; 4671/5317 tok/s;   1970 sec\n",
      "[2020-04-27 17:35:24,572 INFO] Step 14750/20000; acc:  92.13; ppl:  1.40; xent: 0.34; lr: 1.00000; 4455/5156 tok/s;   1975 sec\n",
      "[2020-04-27 17:35:29,653 INFO] Step 14800/20000; acc:  90.31; ppl:  1.72; xent: 0.54; lr: 1.00000; 4434/5153 tok/s;   1980 sec\n",
      "[2020-04-27 17:35:35,155 INFO] Step 14850/20000; acc:  89.25; ppl:  1.74; xent: 0.56; lr: 1.00000; 4560/5232 tok/s;   1986 sec\n",
      "[2020-04-27 17:35:40,582 INFO] Step 14900/20000; acc:  91.05; ppl:  1.50; xent: 0.40; lr: 1.00000; 4765/5366 tok/s;   1991 sec\n",
      "[2020-04-27 17:35:45,948 INFO] Step 14950/20000; acc:  87.92; ppl:  1.79; xent: 0.58; lr: 1.00000; 4687/5297 tok/s;   1996 sec\n",
      "[2020-04-27 17:35:51,543 INFO] Step 15000/20000; acc:  88.54; ppl:  1.70; xent: 0.53; lr: 1.00000; 4702/5358 tok/s;   2002 sec\n",
      "[2020-04-27 17:35:51,543 INFO] Loading dataset from data/demo.valid.0.pt\n",
      "[2020-04-27 17:35:51,598 INFO] number of examples: 10000\n",
      "[2020-04-27 17:36:13,479 INFO] Validation perplexity: 1.42168\n",
      "[2020-04-27 17:36:13,479 INFO] Validation accuracy: 94.2136\n",
      "[2020-04-27 17:36:13,480 INFO] Model is improving ppl: 1.49278 --> 1.42168.\n",
      "[2020-04-27 17:36:13,480 INFO] Model is improving acc: 93.24 --> 94.2136.\n",
      "[2020-04-27 17:36:17,480 INFO] Saving checkpoint demo-model_step_15000.pt\n",
      "[2020-04-27 17:36:25,284 INFO] Step 15050/20000; acc:  84.74; ppl:  2.16; xent: 0.77; lr: 1.00000; 846/949 tok/s;   2036 sec\n",
      "[2020-04-27 17:36:30,981 INFO] Step 15100/20000; acc:  92.40; ppl:  1.39; xent: 0.33; lr: 1.00000; 4853/5437 tok/s;   2041 sec\n",
      "[2020-04-27 17:36:36,310 INFO] Step 15150/20000; acc:  91.24; ppl:  1.45; xent: 0.37; lr: 1.00000; 4660/5296 tok/s;   2047 sec\n",
      "[2020-04-27 17:36:41,764 INFO] Step 15200/20000; acc:  91.10; ppl:  1.48; xent: 0.39; lr: 1.00000; 4718/5351 tok/s;   2052 sec\n",
      "[2020-04-27 17:36:48,054 INFO] Step 15250/20000; acc:  84.73; ppl:  2.44; xent: 0.89; lr: 1.00000; 4884/5584 tok/s;   2059 sec\n",
      "[2020-04-27 17:36:53,223 INFO] Step 15300/20000; acc:  92.53; ppl:  1.46; xent: 0.38; lr: 1.00000; 4478/5152 tok/s;   2064 sec\n",
      "[2020-04-27 17:36:57,757 INFO] Step 15350/20000; acc:  93.65; ppl:  1.31; xent: 0.27; lr: 1.00000; 4262/4996 tok/s;   2068 sec\n",
      "[2020-04-27 17:37:02,773 INFO] Step 15400/20000; acc:  92.89; ppl:  1.36; xent: 0.31; lr: 1.00000; 4505/5168 tok/s;   2073 sec\n",
      "[2020-04-27 17:37:07,874 INFO] Step 15450/20000; acc:  91.98; ppl:  1.44; xent: 0.36; lr: 1.00000; 4617/5294 tok/s;   2078 sec\n",
      "[2020-04-27 17:37:12,384 INFO] Step 15500/20000; acc:  89.30; ppl:  1.77; xent: 0.57; lr: 1.00000; 4300/5047 tok/s;   2083 sec\n",
      "[2020-04-27 17:37:18,363 INFO] Step 15550/20000; acc:  83.69; ppl:  2.92; xent: 1.07; lr: 1.00000; 4882/5551 tok/s;   2089 sec\n",
      "[2020-04-27 17:37:23,902 INFO] Step 15600/20000; acc:  88.69; ppl:  2.15; xent: 0.77; lr: 1.00000; 4566/5330 tok/s;   2094 sec\n",
      "[2020-04-27 17:37:28,661 INFO] Step 15650/20000; acc:  91.70; ppl:  1.43; xent: 0.36; lr: 1.00000; 4357/5086 tok/s;   2099 sec\n",
      "[2020-04-27 17:37:34,031 INFO] Step 15700/20000; acc:  87.38; ppl:  1.87; xent: 0.62; lr: 1.00000; 4696/5327 tok/s;   2104 sec\n",
      "[2020-04-27 17:37:39,107 INFO] Step 15750/20000; acc:  92.17; ppl:  1.40; xent: 0.34; lr: 1.00000; 4577/5245 tok/s;   2110 sec\n",
      "[2020-04-27 17:37:44,759 INFO] Step 15800/20000; acc:  86.86; ppl:  1.89; xent: 0.64; lr: 1.00000; 4797/5408 tok/s;   2115 sec\n",
      "[2020-04-27 17:37:49,922 INFO] Step 15850/20000; acc:  92.68; ppl:  1.39; xent: 0.33; lr: 1.00000; 4598/5268 tok/s;   2120 sec\n",
      "[2020-04-27 17:37:55,312 INFO] Step 15900/20000; acc:  86.61; ppl:  1.91; xent: 0.65; lr: 1.00000; 4695/5364 tok/s;   2126 sec\n",
      "[2020-04-27 17:38:00,011 INFO] Step 15950/20000; acc:  91.20; ppl:  1.49; xent: 0.40; lr: 1.00000; 4358/5107 tok/s;   2130 sec\n",
      "[2020-04-27 17:38:04,559 INFO] Step 16000/20000; acc:  92.83; ppl:  1.38; xent: 0.32; lr: 1.00000; 4208/4939 tok/s;   2135 sec\n",
      "[2020-04-27 17:38:04,559 INFO] Loading dataset from data/demo.valid.0.pt\n",
      "[2020-04-27 17:38:04,610 INFO] number of examples: 10000\n",
      "[2020-04-27 17:38:26,398 INFO] Validation perplexity: 1.43298\n",
      "[2020-04-27 17:38:26,399 INFO] Validation accuracy: 93.9416\n",
      "[2020-04-27 17:38:26,399 INFO] Decreasing patience: 2/3\n",
      "[2020-04-27 17:38:32,449 INFO] Step 16050/20000; acc:  86.64; ppl:  1.95; xent: 0.67; lr: 1.00000; 1076/1202 tok/s;   2163 sec\n",
      "[2020-04-27 17:38:37,434 INFO] Step 16100/20000; acc:  90.43; ppl:  1.67; xent: 0.51; lr: 1.00000; 4271/5058 tok/s;   2168 sec\n",
      "[2020-04-27 17:38:43,202 INFO] Step 16150/20000; acc:  89.32; ppl:  1.61; xent: 0.47; lr: 1.00000; 4805/5426 tok/s;   2174 sec\n",
      "[2020-04-27 17:38:48,788 INFO] Step 16200/20000; acc:  76.90; ppl:  5.24; xent: 1.66; lr: 1.00000; 4534/5192 tok/s;   2179 sec\n",
      "[2020-04-27 17:38:53,849 INFO] Step 16250/20000; acc:  91.41; ppl:  1.48; xent: 0.39; lr: 1.00000; 4565/5223 tok/s;   2184 sec\n",
      "[2020-04-27 17:38:58,609 INFO] Step 16300/20000; acc:  91.87; ppl:  1.44; xent: 0.36; lr: 1.00000; 4397/5083 tok/s;   2189 sec\n",
      "[2020-04-27 17:39:04,549 INFO] Step 16350/20000; acc:  85.77; ppl:  2.11; xent: 0.74; lr: 1.00000; 4752/5509 tok/s;   2195 sec\n",
      "[2020-04-27 17:39:09,488 INFO] Step 16400/20000; acc:  89.66; ppl:  1.63; xent: 0.49; lr: 1.00000; 4354/5083 tok/s;   2200 sec\n",
      "[2020-04-27 17:39:14,320 INFO] Step 16450/20000; acc:  89.34; ppl:  1.79; xent: 0.58; lr: 1.00000; 4457/5125 tok/s;   2205 sec\n",
      "[2020-04-27 17:39:20,891 INFO] Step 16500/20000; acc:  89.25; ppl:  1.63; xent: 0.49; lr: 1.00000; 5016/5601 tok/s;   2211 sec\n",
      "[2020-04-27 17:39:25,911 INFO] Step 16550/20000; acc:  90.62; ppl:  1.52; xent: 0.42; lr: 1.00000; 4436/5099 tok/s;   2216 sec\n",
      "[2020-04-27 17:39:31,761 INFO] Step 16600/20000; acc:  91.02; ppl:  1.48; xent: 0.39; lr: 1.00000; 4935/5482 tok/s;   2222 sec\n",
      "[2020-04-27 17:39:36,891 INFO] Step 16650/20000; acc:  83.61; ppl:  2.33; xent: 0.85; lr: 1.00000; 4553/5248 tok/s;   2227 sec\n",
      "[2020-04-27 17:39:42,557 INFO] Step 16700/20000; acc:  90.17; ppl:  1.59; xent: 0.46; lr: 1.00000; 4756/5411 tok/s;   2233 sec\n",
      "[2020-04-27 17:39:47,327 INFO] Step 16750/20000; acc:  93.50; ppl:  1.36; xent: 0.31; lr: 1.00000; 4387/5112 tok/s;   2238 sec\n",
      "[2020-04-27 17:39:53,096 INFO] Step 16800/20000; acc:  84.63; ppl:  2.54; xent: 0.93; lr: 1.00000; 4773/5383 tok/s;   2244 sec\n",
      "[2020-04-27 17:39:58,181 INFO] Step 16850/20000; acc:  89.94; ppl:  1.61; xent: 0.48; lr: 1.00000; 4452/5194 tok/s;   2249 sec\n",
      "[2020-04-27 17:40:03,718 INFO] Step 16900/20000; acc:  89.56; ppl:  1.83; xent: 0.61; lr: 1.00000; 4741/5354 tok/s;   2254 sec\n",
      "[2020-04-27 17:40:09,231 INFO] Step 16950/20000; acc:  88.38; ppl:  1.79; xent: 0.58; lr: 1.00000; 4771/5410 tok/s;   2260 sec\n",
      "[2020-04-27 17:40:14,095 INFO] Step 17000/20000; acc:  90.74; ppl:  1.63; xent: 0.49; lr: 1.00000; 4355/5158 tok/s;   2265 sec\n",
      "[2020-04-27 17:40:14,096 INFO] Loading dataset from data/demo.valid.0.pt\n",
      "[2020-04-27 17:40:14,152 INFO] number of examples: 10000\n",
      "[2020-04-27 17:40:35,911 INFO] Validation perplexity: 1.40952\n",
      "[2020-04-27 17:40:35,911 INFO] Validation accuracy: 94.2816\n",
      "[2020-04-27 17:40:35,911 INFO] Model is improving ppl: 1.42168 --> 1.40952.\n",
      "[2020-04-27 17:40:35,911 INFO] Model is improving acc: 94.2136 --> 94.2816.\n",
      "[2020-04-27 17:40:41,293 INFO] Step 17050/20000; acc:  88.72; ppl:  1.91; xent: 0.65; lr: 1.00000; 892/1043 tok/s;   2292 sec\n",
      "[2020-04-27 17:40:46,124 INFO] Step 17100/20000; acc:  88.58; ppl:  1.75; xent: 0.56; lr: 1.00000; 4412/5154 tok/s;   2297 sec\n",
      "[2020-04-27 17:40:50,900 INFO] Step 17150/20000; acc:  91.68; ppl:  1.46; xent: 0.38; lr: 1.00000; 4355/5049 tok/s;   2301 sec\n",
      "[2020-04-27 17:40:56,229 INFO] Step 17200/20000; acc:  89.46; ppl:  1.61; xent: 0.48; lr: 1.00000; 4659/5296 tok/s;   2307 sec\n",
      "[2020-04-27 17:41:00,998 INFO] Step 17250/20000; acc:  89.23; ppl:  1.70; xent: 0.53; lr: 1.00000; 4389/5180 tok/s;   2311 sec\n",
      "[2020-04-27 17:41:07,088 INFO] Step 17300/20000; acc:  88.90; ppl:  1.72; xent: 0.54; lr: 1.00000; 4940/5540 tok/s;   2318 sec\n",
      "[2020-04-27 17:41:12,089 INFO] Step 17350/20000; acc:  91.87; ppl:  1.44; xent: 0.36; lr: 1.00000; 4595/5273 tok/s;   2323 sec\n",
      "[2020-04-27 17:41:17,548 INFO] Step 17400/20000; acc:  91.57; ppl:  1.44; xent: 0.36; lr: 1.00000; 4760/5370 tok/s;   2328 sec\n",
      "[2020-04-27 17:41:22,489 INFO] Step 17450/20000; acc:  90.48; ppl:  1.52; xent: 0.42; lr: 1.00000; 4572/5275 tok/s;   2333 sec\n",
      "[2020-04-27 17:41:28,335 INFO] Step 17500/20000; acc:  85.81; ppl:  2.23; xent: 0.80; lr: 1.00000; 4829/5387 tok/s;   2339 sec\n",
      "[2020-04-27 17:41:32,976 INFO] Step 17550/20000; acc:  89.71; ppl:  1.86; xent: 0.62; lr: 1.00000; 4192/5093 tok/s;   2343 sec\n",
      "[2020-04-27 17:41:38,781 INFO] Step 17600/20000; acc:  89.91; ppl:  1.58; xent: 0.46; lr: 1.00000; 4786/5393 tok/s;   2349 sec\n",
      "[2020-04-27 17:41:44,159 INFO] Step 17650/20000; acc:  90.59; ppl:  1.51; xent: 0.41; lr: 1.00000; 4653/5332 tok/s;   2355 sec\n",
      "[2020-04-27 17:41:50,185 INFO] Step 17700/20000; acc:  88.85; ppl:  1.67; xent: 0.51; lr: 1.00000; 4662/5208 tok/s;   2361 sec\n",
      "[2020-04-27 17:41:55,803 INFO] Step 17750/20000; acc:  91.69; ppl:  1.42; xent: 0.35; lr: 1.00000; 4864/5445 tok/s;   2366 sec\n",
      "[2020-04-27 17:42:00,794 INFO] Step 17800/20000; acc:  92.62; ppl:  1.38; xent: 0.32; lr: 1.00000; 4578/5232 tok/s;   2371 sec\n",
      "[2020-04-27 17:42:06,242 INFO] Step 17850/20000; acc:  91.03; ppl:  1.49; xent: 0.40; lr: 1.00000; 4752/5367 tok/s;   2377 sec\n",
      "[2020-04-27 17:42:11,699 INFO] Step 17900/20000; acc:  90.24; ppl:  1.65; xent: 0.50; lr: 1.00000; 4582/5244 tok/s;   2382 sec\n",
      "[2020-04-27 17:42:17,424 INFO] Step 17950/20000; acc:  92.39; ppl:  1.39; xent: 0.33; lr: 1.00000; 4740/5329 tok/s;   2388 sec\n",
      "[2020-04-27 17:42:24,334 INFO] Step 18000/20000; acc:  86.43; ppl:  2.02; xent: 0.70; lr: 1.00000; 4945/5481 tok/s;   2395 sec\n",
      "[2020-04-27 17:42:24,334 INFO] Loading dataset from data/demo.valid.0.pt\n",
      "[2020-04-27 17:42:24,395 INFO] number of examples: 10000\n",
      "[2020-04-27 17:42:46,278 INFO] Validation perplexity: 1.40739\n",
      "[2020-04-27 17:42:46,278 INFO] Validation accuracy: 94.4273\n",
      "[2020-04-27 17:42:46,278 INFO] Model is improving ppl: 1.40952 --> 1.40739.\n",
      "[2020-04-27 17:42:46,278 INFO] Model is improving acc: 94.2816 --> 94.4273.\n",
      "[2020-04-27 17:42:51,573 INFO] Step 18050/20000; acc:  85.61; ppl:  2.08; xent: 0.73; lr: 1.00000; 906/1030 tok/s;   2422 sec\n",
      "[2020-04-27 17:42:57,459 INFO] Step 18100/20000; acc:  88.38; ppl:  1.75; xent: 0.56; lr: 1.00000; 4843/5449 tok/s;   2428 sec\n",
      "[2020-04-27 17:43:02,954 INFO] Step 18150/20000; acc:  91.07; ppl:  1.48; xent: 0.39; lr: 1.00000; 4606/5223 tok/s;   2433 sec\n",
      "[2020-04-27 17:43:09,142 INFO] Step 18200/20000; acc:  87.29; ppl:  1.97; xent: 0.68; lr: 1.00000; 4891/5439 tok/s;   2440 sec\n",
      "[2020-04-27 17:43:14,482 INFO] Step 18250/20000; acc:  91.85; ppl:  1.45; xent: 0.37; lr: 1.00000; 4542/5225 tok/s;   2445 sec\n",
      "[2020-04-27 17:43:19,993 INFO] Step 18300/20000; acc:  90.74; ppl:  1.59; xent: 0.46; lr: 1.00000; 4607/5251 tok/s;   2450 sec\n",
      "[2020-04-27 17:43:25,681 INFO] Step 18350/20000; acc:  86.93; ppl:  2.11; xent: 0.75; lr: 1.00000; 4513/5191 tok/s;   2456 sec\n",
      "[2020-04-27 17:43:30,797 INFO] Step 18400/20000; acc:  91.27; ppl:  1.47; xent: 0.39; lr: 1.00000; 4579/5245 tok/s;   2461 sec\n",
      "[2020-04-27 17:43:37,290 INFO] Step 18450/20000; acc:  91.67; ppl:  1.47; xent: 0.39; lr: 1.00000; 4943/5495 tok/s;   2468 sec\n",
      "[2020-04-27 17:43:42,813 INFO] Step 18500/20000; acc:  89.99; ppl:  1.64; xent: 0.50; lr: 1.00000; 4394/5078 tok/s;   2473 sec\n",
      "[2020-04-27 17:43:47,913 INFO] Step 18550/20000; acc:  89.46; ppl:  1.64; xent: 0.49; lr: 1.00000; 4539/5209 tok/s;   2478 sec\n",
      "[2020-04-27 17:43:52,996 INFO] Step 18600/20000; acc:  90.35; ppl:  1.56; xent: 0.44; lr: 1.00000; 4282/4991 tok/s;   2483 sec\n",
      "[2020-04-27 17:43:58,929 INFO] Step 18650/20000; acc:  90.05; ppl:  1.57; xent: 0.45; lr: 1.00000; 4602/5250 tok/s;   2489 sec\n",
      "[2020-04-27 17:44:04,750 INFO] Step 18700/20000; acc:  89.75; ppl:  1.60; xent: 0.47; lr: 1.00000; 4841/5432 tok/s;   2495 sec\n",
      "[2020-04-27 17:44:10,291 INFO] Step 18750/20000; acc:  87.65; ppl:  1.92; xent: 0.65; lr: 1.00000; 4448/5145 tok/s;   2501 sec\n",
      "[2020-04-27 17:44:15,087 INFO] Step 18800/20000; acc:  89.58; ppl:  1.80; xent: 0.59; lr: 1.00000; 4218/4941 tok/s;   2506 sec\n",
      "[2020-04-27 17:44:20,474 INFO] Step 18850/20000; acc:  87.00; ppl:  1.97; xent: 0.68; lr: 1.00000; 4527/5169 tok/s;   2511 sec\n",
      "[2020-04-27 17:44:25,687 INFO] Step 18900/20000; acc:  93.22; ppl:  1.34; xent: 0.29; lr: 1.00000; 4690/5316 tok/s;   2516 sec\n",
      "[2020-04-27 17:44:30,427 INFO] Step 18950/20000; acc:  88.18; ppl:  1.96; xent: 0.67; lr: 1.00000; 4283/4991 tok/s;   2521 sec\n",
      "[2020-04-27 17:44:31,923 INFO] Loading dataset from data/demo.train.0.pt\n",
      "[2020-04-27 17:44:48,647 INFO] number of examples: 606693\n",
      "[2020-04-27 17:44:57,161 INFO] Step 19000/20000; acc:  85.53; ppl:  2.09; xent: 0.73; lr: 1.00000; 1166/1295 tok/s;   2548 sec\n",
      "[2020-04-27 17:44:57,161 INFO] Loading dataset from data/demo.valid.0.pt\n",
      "[2020-04-27 17:44:57,225 INFO] number of examples: 10000\n",
      "[2020-04-27 17:45:18,924 INFO] Validation perplexity: 1.40217\n",
      "[2020-04-27 17:45:18,925 INFO] Validation accuracy: 94.4046\n",
      "[2020-04-27 17:45:18,925 INFO] Stalled patience: 2/3\n",
      "[2020-04-27 17:45:25,579 INFO] Step 19050/20000; acc:  84.64; ppl:  2.31; xent: 0.84; lr: 1.00000; 1185/1318 tok/s;   2576 sec\n",
      "[2020-04-27 17:45:30,968 INFO] Step 19100/20000; acc:  91.42; ppl:  1.48; xent: 0.39; lr: 1.00000; 4656/5285 tok/s;   2581 sec\n",
      "[2020-04-27 17:45:37,497 INFO] Step 19150/20000; acc:  89.51; ppl:  1.60; xent: 0.47; lr: 1.00000; 5137/5636 tok/s;   2588 sec\n",
      "[2020-04-27 17:45:42,930 INFO] Step 19200/20000; acc:  91.11; ppl:  1.48; xent: 0.39; lr: 1.00000; 4794/5419 tok/s;   2593 sec\n",
      "[2020-04-27 17:45:48,455 INFO] Step 19250/20000; acc:  92.30; ppl:  1.39; xent: 0.33; lr: 1.00000; 4750/5375 tok/s;   2599 sec\n",
      "[2020-04-27 17:45:53,071 INFO] Step 19300/20000; acc:  93.39; ppl:  1.32; xent: 0.28; lr: 1.00000; 4395/5103 tok/s;   2604 sec\n",
      "[2020-04-27 17:45:59,321 INFO] Step 19350/20000; acc:  91.26; ppl:  1.47; xent: 0.39; lr: 1.00000; 5016/5585 tok/s;   2610 sec\n",
      "[2020-04-27 17:46:04,020 INFO] Step 19400/20000; acc:  92.17; ppl:  1.44; xent: 0.36; lr: 1.00000; 4345/5067 tok/s;   2614 sec\n",
      "[2020-04-27 17:46:09,199 INFO] Step 19450/20000; acc:  93.40; ppl:  1.32; xent: 0.28; lr: 1.00000; 4659/5289 tok/s;   2620 sec\n",
      "[2020-04-27 17:46:14,982 INFO] Step 19500/20000; acc:  87.94; ppl:  1.93; xent: 0.66; lr: 1.00000; 4693/5467 tok/s;   2625 sec\n",
      "[2020-04-27 17:46:20,194 INFO] Step 19550/20000; acc:  92.09; ppl:  1.40; xent: 0.34; lr: 1.00000; 4691/5317 tok/s;   2631 sec\n",
      "[2020-04-27 17:46:26,089 INFO] Step 19600/20000; acc:  86.29; ppl:  2.05; xent: 0.72; lr: 1.00000; 4853/5446 tok/s;   2637 sec\n",
      "[2020-04-27 17:46:31,686 INFO] Step 19650/20000; acc:  87.23; ppl:  1.95; xent: 0.67; lr: 1.00000; 4789/5384 tok/s;   2642 sec\n",
      "[2020-04-27 17:46:36,624 INFO] Step 19700/20000; acc:  91.72; ppl:  1.55; xent: 0.44; lr: 1.00000; 4375/5135 tok/s;   2647 sec\n",
      "[2020-04-27 17:46:42,631 INFO] Step 19750/20000; acc:  88.19; ppl:  1.78; xent: 0.58; lr: 1.00000; 4911/5457 tok/s;   2653 sec\n",
      "[2020-04-27 17:46:48,419 INFO] Step 19800/20000; acc:  88.85; ppl:  1.68; xent: 0.52; lr: 1.00000; 4866/5478 tok/s;   2659 sec\n",
      "[2020-04-27 17:46:53,928 INFO] Step 19850/20000; acc:  90.02; ppl:  1.60; xent: 0.47; lr: 1.00000; 4672/5296 tok/s;   2664 sec\n",
      "[2020-04-27 17:46:59,939 INFO] Step 19900/20000; acc:  88.39; ppl:  1.71; xent: 0.54; lr: 1.00000; 4941/5517 tok/s;   2670 sec\n",
      "[2020-04-27 17:47:05,706 INFO] Step 19950/20000; acc:  90.10; ppl:  1.62; xent: 0.48; lr: 1.00000; 4794/5435 tok/s;   2676 sec\n",
      "[2020-04-27 17:47:10,793 INFO] Step 20000/20000; acc:  90.32; ppl:  1.64; xent: 0.49; lr: 1.00000; 4480/5147 tok/s;   2681 sec\n",
      "[2020-04-27 17:47:10,793 INFO] Loading dataset from data/demo.valid.0.pt\n",
      "[2020-04-27 17:47:10,851 INFO] number of examples: 10000\n",
      "[2020-04-27 17:47:32,599 INFO] Validation perplexity: 1.42615\n",
      "[2020-04-27 17:47:32,599 INFO] Validation accuracy: 94.1143\n",
      "[2020-04-27 17:47:32,599 INFO] Decreasing patience: 2/3\n",
      "[2020-04-27 17:47:36,492 INFO] Saving checkpoint demo-model_step_20000.pt\n"
     ]
    }
   ],
   "source": [
    "# Change to false to get GPU power on Colab\n",
    "if False:\n",
    "    !onmt_train \\\n",
    "        -data data/demo \\\n",
    "        -save_model demo-model \\\n",
    "        --valid_steps 50 \\\n",
    "        --train_steps 2 \\\n",
    "        --early_stopping 5\n",
    "else:\n",
    "    !CUDA_VISIBLE_DEVICES=0 \\\n",
    "        onmt_train \\\n",
    "        -world_size 1 \\\n",
    "        -gpu_ranks 0 \\\n",
    "        -data data/demo \\\n",
    "        -save_model demo-model \\\n",
    "        --valid_steps 1000 \\\n",
    "        --train_steps 20000 \\\n",
    "        --early_stopping 3"
   ]
  },
  {
   "cell_type": "markdown",
   "metadata": {
    "colab_type": "text",
    "id": "PmHgnfcwGcKg"
   },
   "source": [
    "# Testing it out\n",
    "\n",
    "Testing the text below, you can see the \"answer\" on Google translate [right here](https://translate.google.com/#view=home&op=translate&sl=am&tl=en&text=%E1%8A%A5%E1%8A%94%E1%88%9D%E1%8D%A5%20%E1%8B%88%E1%8A%95%E1%8B%B5%E1%88%9E%E1%89%BD%20%E1%88%86%E1%8B%AD%E1%8D%A5%20%E1%8B%A8%E1%88%A5%E1%8C%8B%20%E1%8A%A5%E1%8A%95%E1%8B%B0%20%E1%88%98%E1%88%86%E1%8A%93%E1%89%BD%E1%88%81%E1%8D%A5%0A%E1%89%A0%E1%8A%AD%E1%88%AD%E1%88%B5%E1%89%B6%E1%88%B5%E1%88%9D%20%E1%88%95%E1%8D%83%E1%8A%93%E1%89%B5%20%E1%8A%A5%E1%8A%95%E1%8B%B0%20%E1%88%98%E1%88%86%E1%8A%93%E1%89%BD%E1%88%81%20%E1%8A%A5%E1%8A%95%E1%8C%82%0A%E1%88%98%E1%8A%95%E1%8D%88%E1%88%B3%E1%8B%8D%E1%8B%AB%E1%8A%95%20%E1%8A%A5%E1%8A%95%E1%8B%B0%20%E1%88%98%E1%88%86%E1%8A%93%E1%89%BD%E1%88%81%20%E1%88%8D%E1%8A%93%E1%8C%88%E1%88%AB%E1%89%BD%E1%88%81%0A%E1%8A%A0%E1%88%8D%E1%89%BB%E1%88%8D%E1%88%81%E1%88%9D%E1%8D%A2)."
   ]
  },
  {
   "cell_type": "code",
   "execution_count": 0,
   "metadata": {
    "colab": {
     "base_uri": "https://localhost:8080/",
     "height": 34
    },
    "colab_type": "code",
    "id": "UvvFipU_1CEq",
    "outputId": "62e6e55c-6db4-4d78-9fe2-6fabde1ecdb0"
   },
   "outputs": [
    {
     "name": "stdout",
     "output_type": "stream",
     "text": [
      "እንዲህ ሲል ። ሁለት ሰዎች ሊጸልዩ ወደ መቅደስ ወጡ ፥ አንዱ ፈሪሳዊ ሁለተኛውም ቀራጭ ።\n"
     ]
    }
   ],
   "source": [
    "!head -n 1 raw/original.txt"
   ]
  },
  {
   "cell_type": "code",
   "execution_count": 0,
   "metadata": {
    "colab": {
     "base_uri": "https://localhost:8080/",
     "height": 34
    },
    "colab_type": "code",
    "id": "0gWSsH8R1FbT",
    "outputId": "d75a4d37-27fe-4ee4-933a-89b765fb94b7"
   },
   "outputs": [
    {
     "name": "stdout",
     "output_type": "stream",
     "text": [
      "inidihi sil . hulat sewo liseliyu wade meqdese watu : andu ferisawi huletenawm qera .\n"
     ]
    }
   ],
   "source": [
    "!head -n 1 raw/transliterated.txt"
   ]
  },
  {
   "cell_type": "code",
   "execution_count": 0,
   "metadata": {
    "colab": {},
    "colab_type": "code",
    "id": "6wYh0Zi5GcKh"
   },
   "outputs": [],
   "source": [
    "original = \"\"\"ሁለት ሰዎች ሊጸልዩ ወደ መቅደስ ወጡ ፥ አንዱ ፈሪሳዊ\"\"\"\n",
    "transliterated = \"\"\"hulat sewo liseliyu wade meqdese watu : andu ferisawi\"\"\"\n",
    "\n",
    "orig_oneline = original.replace(\"\\n\", \" \").strip().replace(\"  \", \" \")\n",
    "trans_oneline = transliterated.replace(\"\\n\", \" \").strip().replace(\"  \", \" \")\n",
    "with open(\"data/test.txt\", 'w') as f:\n",
    "    f.write(trans_oneline)"
   ]
  },
  {
   "cell_type": "markdown",
   "metadata": {
    "colab_type": "text",
    "id": "kL7FyKlBGcKk"
   },
   "source": [
    "**You'll need to change the model name in `onmt_translate` below.** It's probably the most recently changed model file, so at the top of this list: "
   ]
  },
  {
   "cell_type": "code",
   "execution_count": 0,
   "metadata": {
    "colab": {
     "base_uri": "https://localhost:8080/",
     "height": 34
    },
    "colab_type": "code",
    "id": "EkD1GQUeGcKk",
    "outputId": "b774873d-0c3b-4b1b-ec38-607d1cd00ce0"
   },
   "outputs": [
    {
     "name": "stdout",
     "output_type": "stream",
     "text": [
      "Using model demo-model_step_20000.pt\n"
     ]
    }
   ],
   "source": [
    "import subprocess\n",
    "model_name = subprocess.run(\"ls -t *model* | head -n 1\",\n",
    "                            shell=True,\n",
    "                            stdout=subprocess.PIPE).stdout.decode(\"utf-8\").strip()\n",
    "print(\"Using model\", model_name)"
   ]
  },
  {
   "cell_type": "code",
   "execution_count": 0,
   "metadata": {
    "colab": {
     "base_uri": "https://localhost:8080/",
     "height": 119
    },
    "colab_type": "code",
    "id": "FFRDPiz6GcKn",
    "outputId": "744310ab-ac64-43d0-bb89-42a57a8bff85"
   },
   "outputs": [
    {
     "name": "stdout",
     "output_type": "stream",
     "text": [
      "[2020-04-27 18:10:49,724 INFO] Translating shard 0.\n",
      "\n",
      "SENT 1: ['hulat', 'sewo', 'liseliyu', 'wade', 'meqdese', 'watu', ':', 'andu', 'ferisawi']\n",
      "PRED 1: \"ደግሞም ሁሉን በየስፍራው ወደ መቅደስ ሲወጣ ፥ ደስ በለው ፥\n",
      "PRED SCORE: -3.1997\n",
      "PRED AVG SCORE: -0.3200, PRED PPL: 1.3771\n"
     ]
    }
   ],
   "source": [
    "!onmt_translate \\\n",
    "    -model {model_name} \\\n",
    "    -src data/test.txt \\\n",
    "    -output data/pred.txt -replace_unk -verbose\n"
   ]
  },
  {
   "cell_type": "code",
   "execution_count": 0,
   "metadata": {
    "colab": {
     "base_uri": "https://localhost:8080/",
     "height": 85
    },
    "colab_type": "code",
    "id": "2Aw_FJI7GcKu",
    "outputId": "acbb2c2e-b3f6-48b6-ddbc-b37f235136f8"
   },
   "outputs": [
    {
     "name": "stdout",
     "output_type": "stream",
     "text": [
      "Output:  \"ደግሞም ሁሉን በየስፍራው ወደ መቅደስ ሲወጣ ፥ ደስ በለው ፥\n",
      "\n",
      "Input:  hulat sewo liseliyu wade meqdese watu : andu ferisawi\n",
      "Actual:  ሁለት ሰዎች ሊጸልዩ ወደ መቅደስ ወጡ ፥ አንዱ ፈሪሳዊ\n"
     ]
    }
   ],
   "source": [
    "print(\"Output: \", open(\"data/pred.txt\").read())\n",
    "print(\"Input: \", open(\"data/test.txt\").read())\n",
    "print(\"Actual: \", orig_oneline)"
   ]
  },
  {
   "cell_type": "code",
   "execution_count": 0,
   "metadata": {
    "colab": {},
    "colab_type": "code",
    "id": "Uf0XpcnoGcKx"
   },
   "outputs": [],
   "source": []
  }
 ],
 "metadata": {
  "accelerator": "GPU",
  "colab": {
   "name": "02-OpenNMT training by full sentences.ipynb",
   "provenance": [],
   "toc_visible": true
  },
  "kernelspec": {
   "display_name": "Python 3",
   "language": "python",
   "name": "python3"
  },
  "language_info": {
   "codemirror_mode": {
    "name": "ipython",
    "version": 3
   },
   "file_extension": ".py",
   "mimetype": "text/x-python",
   "name": "python",
   "nbconvert_exporter": "python",
   "pygments_lexer": "ipython3",
   "version": "3.6.8"
  },
  "toc": {
   "base_numbering": 1,
   "nav_menu": {},
   "number_sections": true,
   "sideBar": true,
   "skip_h1_title": false,
   "title_cell": "Table of Contents",
   "title_sidebar": "Contents",
   "toc_cell": false,
   "toc_position": {},
   "toc_section_display": true,
   "toc_window_display": false
  }
 },
 "nbformat": 4,
 "nbformat_minor": 1
}
