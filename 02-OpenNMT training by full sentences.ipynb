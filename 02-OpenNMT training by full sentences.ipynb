{
 "cells": [
  {
   "cell_type": "markdown",
   "metadata": {},
   "source": [
    "# Data setup\n",
    "\n",
    "Following quickstart instructions from https://github.com/OpenNMT/OpenNMT-py#quickstart."
   ]
  },
  {
   "cell_type": "markdown",
   "metadata": {},
   "source": [
    "## Training\n",
    "\n",
    "I'm just using the terminal commands because the Python bindings were just Too Much Work."
   ]
  },
  {
   "cell_type": "code",
   "execution_count": 6,
   "metadata": {},
   "outputs": [],
   "source": [
    "#!pip install OpenNMT-py"
   ]
  },
  {
   "cell_type": "markdown",
   "metadata": {},
   "source": [
    "## Preprocess"
   ]
  },
  {
   "cell_type": "code",
   "execution_count": 7,
   "metadata": {},
   "outputs": [
    {
     "name": "stdout",
     "output_type": "stream",
     "text": [
      "[2020-04-23 19:19:30,143 INFO] Extracting features...\n",
      "[2020-04-23 19:19:30,144 INFO]  * number of source features: 0.\n",
      "[2020-04-23 19:19:30,144 INFO]  * number of target features: 0.\n",
      "[2020-04-23 19:19:30,144 INFO] Building `Fields` object...\n",
      "[2020-04-23 19:19:30,144 INFO] Building & saving training data...\n",
      "[2020-04-23 19:19:30,145 WARNING] Shards for corpus train already exist, will be overwritten because `-overwrite` option is set.\n",
      "[2020-04-23 19:19:30,156 WARNING] Overwrite shards for corpus None\n",
      "[2020-04-23 19:19:30,160 INFO] Building shard 0.\n",
      "[2020-04-23 19:19:30,183 INFO]  * saving 0th train data shard to data/demo.train.0.pt.\n",
      "[2020-04-23 19:19:30,374 INFO]  * tgt vocab size: 1116.\n",
      "[2020-04-23 19:19:30,376 INFO]  * src vocab size: 1114.\n",
      "[2020-04-23 19:19:30,399 INFO] Building & saving validation data...\n",
      "[2020-04-23 19:19:30,401 WARNING] Shards for corpus valid already exist, will be overwritten because `-overwrite` option is set.\n",
      "[2020-04-23 19:19:30,410 WARNING] Overwrite shards for corpus None\n",
      "[2020-04-23 19:19:30,544 INFO] Building shard 0.\n",
      "[2020-04-23 19:19:30,550 INFO]  * saving 0th valid data shard to data/demo.valid.0.pt.\n"
     ]
    }
   ],
   "source": [
    "!onmt_preprocess \\\n",
    "    -train_src data/src-train.txt \\\n",
    "    -train_tgt data/tgt-train.txt \\\n",
    "    -valid_src data/src-val.txt \\\n",
    "    -valid_tgt data/tgt-val.txt \\\n",
    "    -save_data data/demo \\\n",
    "    -overwrite"
   ]
  },
  {
   "cell_type": "markdown",
   "metadata": {},
   "source": [
    "## Train"
   ]
  },
  {
   "cell_type": "code",
   "execution_count": 45,
   "metadata": {},
   "outputs": [
    {
     "name": "stdout",
     "output_type": "stream",
     "text": [
      "[2020-04-23 19:33:21,702 INFO]  * src vocab size = 1114\n",
      "[2020-04-23 19:33:21,703 INFO]  * tgt vocab size = 1116\n",
      "[2020-04-23 19:33:21,703 INFO] Building model...\n",
      "[2020-04-23 19:33:22,020 INFO] NMTModel(\n",
      "  (encoder): RNNEncoder(\n",
      "    (embeddings): Embeddings(\n",
      "      (make_embedding): Sequential(\n",
      "        (emb_luts): Elementwise(\n",
      "          (0): Embedding(1114, 500, padding_idx=1)\n",
      "        )\n",
      "      )\n",
      "    )\n",
      "    (rnn): LSTM(500, 500, num_layers=2, dropout=0.3)\n",
      "  )\n",
      "  (decoder): InputFeedRNNDecoder(\n",
      "    (embeddings): Embeddings(\n",
      "      (make_embedding): Sequential(\n",
      "        (emb_luts): Elementwise(\n",
      "          (0): Embedding(1116, 500, padding_idx=1)\n",
      "        )\n",
      "      )\n",
      "    )\n",
      "    (dropout): Dropout(p=0.3, inplace=False)\n",
      "    (rnn): StackedLSTM(\n",
      "      (dropout): Dropout(p=0.3, inplace=False)\n",
      "      (layers): ModuleList(\n",
      "        (0): LSTMCell(1000, 500)\n",
      "        (1): LSTMCell(500, 500)\n",
      "      )\n",
      "    )\n",
      "    (attn): GlobalAttention(\n",
      "      (linear_in): Linear(in_features=500, out_features=500, bias=False)\n",
      "      (linear_out): Linear(in_features=1000, out_features=500, bias=False)\n",
      "    )\n",
      "  )\n",
      "  (generator): Sequential(\n",
      "    (0): Linear(in_features=500, out_features=1116, bias=True)\n",
      "    (1): Cast()\n",
      "    (2): LogSoftmax()\n",
      "  )\n",
      ")\n",
      "[2020-04-23 19:33:22,021 INFO] encoder: 4565000\n",
      "[2020-04-23 19:33:22,021 INFO] decoder: 6875116\n",
      "[2020-04-23 19:33:22,021 INFO] * number of parameters: 11440116\n",
      "[2020-04-23 19:33:22,023 INFO] Starting training on CPU, could be very slow\n",
      "[2020-04-23 19:33:22,023 INFO] Start training loop and validate every 50 steps...\n",
      "[2020-04-23 19:33:22,025 INFO] Loading dataset from data/demo.train.0.pt\n",
      "[2020-04-23 19:33:22,031 INFO] number of examples: 304\n",
      "[2020-04-23 19:33:24,286 INFO] Saving checkpoint demo-model_step_2.pt\n"
     ]
    }
   ],
   "source": [
    "if True:\n",
    "    !onmt_train \\\n",
    "        -data data/demo \\\n",
    "        -save_model demo-model \\\n",
    "        --valid_steps 50 \\\n",
    "        --train_steps 2 \\\n",
    "        --early_stopping 5\n",
    "else:\n",
    "    !CUDA_VISIBLE_DEVICES=0 \\\n",
    "        onmt_train \\\n",
    "        -world_size 1 \\\n",
    "        -gpu_ranks 0 \\\n",
    "        -data data/demo \\\n",
    "        -save_model demo-model \\\n",
    "        --valid_steps 50 \\\n",
    "        --train_steps 2000 \\\n",
    "        --early_stopping 10"
   ]
  },
  {
   "cell_type": "markdown",
   "metadata": {},
   "source": [
    "# Testing it out\n",
    "\n",
    "Testing the text below, you can see the \"answer\" on Google translate [right here](https://translate.google.com/#view=home&op=translate&sl=am&tl=en&text=%E1%8A%A5%E1%8A%94%E1%88%9D%E1%8D%A5%20%E1%8B%88%E1%8A%95%E1%8B%B5%E1%88%9E%E1%89%BD%20%E1%88%86%E1%8B%AD%E1%8D%A5%20%E1%8B%A8%E1%88%A5%E1%8C%8B%20%E1%8A%A5%E1%8A%95%E1%8B%B0%20%E1%88%98%E1%88%86%E1%8A%93%E1%89%BD%E1%88%81%E1%8D%A5%0A%E1%89%A0%E1%8A%AD%E1%88%AD%E1%88%B5%E1%89%B6%E1%88%B5%E1%88%9D%20%E1%88%95%E1%8D%83%E1%8A%93%E1%89%B5%20%E1%8A%A5%E1%8A%95%E1%8B%B0%20%E1%88%98%E1%88%86%E1%8A%93%E1%89%BD%E1%88%81%20%E1%8A%A5%E1%8A%95%E1%8C%82%0A%E1%88%98%E1%8A%95%E1%8D%88%E1%88%B3%E1%8B%8D%E1%8B%AB%E1%8A%95%20%E1%8A%A5%E1%8A%95%E1%8B%B0%20%E1%88%98%E1%88%86%E1%8A%93%E1%89%BD%E1%88%81%20%E1%88%8D%E1%8A%93%E1%8C%88%E1%88%AB%E1%89%BD%E1%88%81%0A%E1%8A%A0%E1%88%8D%E1%89%BB%E1%88%8D%E1%88%81%E1%88%9D%E1%8D%A2)."
   ]
  },
  {
   "cell_type": "code",
   "execution_count": 46,
   "metadata": {},
   "outputs": [],
   "source": [
    "original = \"\"\"\n",
    "እኔም፥ ወንድሞች ሆይ፥ የሥጋ እንደ መሆናችሁ፥\n",
    "በክርስቶስም ሕፃናት እንደ መሆናችሁ እንጂ\n",
    "መንፈሳውያን እንደ መሆናችሁ ልናገራችሁ\n",
    "አልቻልሁም።\n",
    "\"\"\"\n",
    "transliterated = \"\"\"\n",
    "inēmi፥ wenidimochi hoyi፥ yešiga inide mehonachihu፥ \n",
    "bekirisitosimi ḥit͟s’anati inide mehonachihu inijī \n",
    "menifesawiyani inide mehonachihu linagerachihu\n",
    "ālichalihumi።\"\"\"\n",
    "\n",
    "orig_oneline = original.replace(\"\\n\", \" \").strip().replace(\"  \", \" \")\n",
    "trans_oneline = transliterated.replace(\"\\n\", \" \").strip().replace(\"  \", \" \")\n",
    "with open(\"data/test.txt\", 'w') as f:\n",
    "    f.write(trans_oneline)"
   ]
  },
  {
   "cell_type": "markdown",
   "metadata": {},
   "source": [
    "**You'll need to change the model name in `onmt_translate` below.** It's probably the most recently changed model file, so at the top of this list: "
   ]
  },
  {
   "cell_type": "code",
   "execution_count": 47,
   "metadata": {},
   "outputs": [
    {
     "name": "stdout",
     "output_type": "stream",
     "text": [
      "Using model demo-model_step_2.pt\n"
     ]
    }
   ],
   "source": [
    "#r = exec(\"ls -t *model* | head -n 1\")\n",
    "import subprocess\n",
    "model_name = subprocess.run(\"ls -t *model* | head -n 1\",\n",
    "                            shell=True,\n",
    "                            stdout=subprocess.PIPE).stdout.decode(\"utf-8\").strip()\n",
    "print(\"Using model\", model_name)"
   ]
  },
  {
   "cell_type": "code",
   "execution_count": 48,
   "metadata": {},
   "outputs": [
    {
     "name": "stdout",
     "output_type": "stream",
     "text": [
      "[2020-04-23 19:33:54,951 INFO] Translating shard 0.\n",
      "\n",
      "SENT 1: ['inēmi፥', 'wenidimochi', 'hoyi፥', 'yešiga', 'inide', 'mehonachihu፥', 'bekirisitosimi', 'ḥit͟s’anati', 'inide', 'mehonachihu', 'inijī', 'menifesawiyani', 'inide', 'mehonachihu', 'linagerachihu', 'ālichalihumi።']\n",
      "PRED 1: \n",
      "PRED SCORE: -0.0074\n",
      "PRED No words predicted\n"
     ]
    }
   ],
   "source": [
    "!onmt_translate \\\n",
    "    -model {model_name} \\\n",
    "    -src data/test.txt \\\n",
    "    -output data/pred.txt -replace_unk -verbose\n"
   ]
  },
  {
   "cell_type": "code",
   "execution_count": 50,
   "metadata": {},
   "outputs": [
    {
     "name": "stdout",
     "output_type": "stream",
     "text": [
      "Output:  \n",
      "\n",
      "Input:  inēmi፥ wenidimochi hoyi፥ yešiga inide mehonachihu፥ bekirisitosimi ḥit͟s’anati inide mehonachihu inijī menifesawiyani inide mehonachihu linagerachihu ālichalihumi።\n",
      "Actual:  እኔም፥ ወንድሞች ሆይ፥ የሥጋ እንደ መሆናችሁ፥ በክርስቶስም ሕፃናት እንደ መሆናችሁ እንጂ መንፈሳውያን እንደ መሆናችሁ ልናገራችሁ አልቻልሁም።\n"
     ]
    }
   ],
   "source": [
    "print(\"Output: \", open(\"data/pred.txt\").read())\n",
    "print(\"Input: \", open(\"data/test.txt\").read())\n",
    "print(\"Actual: \", orig_oneline)"
   ]
  },
  {
   "cell_type": "code",
   "execution_count": null,
   "metadata": {},
   "outputs": [],
   "source": []
  }
 ],
 "metadata": {
  "kernelspec": {
   "display_name": "Python 3",
   "language": "python",
   "name": "python3"
  },
  "language_info": {
   "codemirror_mode": {
    "name": "ipython",
    "version": 3
   },
   "file_extension": ".py",
   "mimetype": "text/x-python",
   "name": "python",
   "nbconvert_exporter": "python",
   "pygments_lexer": "ipython3",
   "version": "3.6.8"
  },
  "toc": {
   "base_numbering": 1,
   "nav_menu": {},
   "number_sections": true,
   "sideBar": true,
   "skip_h1_title": false,
   "title_cell": "Table of Contents",
   "title_sidebar": "Contents",
   "toc_cell": false,
   "toc_position": {},
   "toc_section_display": true,
   "toc_window_display": false
  }
 },
 "nbformat": 4,
 "nbformat_minor": 2
}
